{
 "cells": [
  {
   "cell_type": "code",
   "execution_count": 42,
   "id": "da5769df",
   "metadata": {},
   "outputs": [],
   "source": [
    "import pandas as pd\n",
    "import numpy as np\n",
    "import joblib\n",
    "import os\n",
    "from glob import glob\n",
    "from sklearn.preprocessing import LabelEncoder\n",
    "from sklearn.model_selection import train_test_split, GridSearchCV, StratifiedShuffleSplit\n",
    "from xgboost import XGBClassifier\n",
    "from imblearn.over_sampling import SMOTE\n",
    "from collections import Counter\n",
    "from sklearn.metrics import roc_auc_score\n",
    "from itertools import product\n",
    "import random\n"
   ]
  },
  {
   "cell_type": "markdown",
   "id": "62f45f57",
   "metadata": {},
   "source": [
    "# 讀取並合併 TSFEL 資料"
   ]
  },
  {
   "cell_type": "code",
   "execution_count": null,
   "id": "f283a920",
   "metadata": {},
   "outputs": [
    {
     "name": "stdout",
     "output_type": "stream",
     "text": [
      "📁 成功合併 10 個檔案，共 52588 筆資料\n",
      "📁 合併完成，共 10 個檔案，總筆數：38014\n"
     ]
    }
   ],
   "source": [
    "# 讀取所有 train 資料夾底下的 CSV 檔案\n",
    "csv_files = glob(os.path.join('TSFEL/train', '*.csv'))\n",
    "# 合併所有 CSV 成為一份完整資料\n",
    "train_df = pd.concat([pd.read_csv(f) for f in csv_files], ignore_index=True)\n",
    "print(f\"📁 成功合併 {len(csv_files)} 個檔案，共 {len(train_df)} 筆資料\")\n",
    "\n",
    "# === 1. 合併 test/test/ 下的所有 CSV ===\n",
    "test_files = glob(os.path.join('TSFEL', 'test', '*.csv'))\n",
    "test_df = pd.concat([pd.read_csv(f) for f in test_files], ignore_index=True)\n",
    "print(f\"📁 合併完成，共 {len(test_files)} 個檔案，總筆數：{len(test_df)}\")"
   ]
  },
  {
   "cell_type": "code",
   "execution_count": 44,
   "id": "4e19a405",
   "metadata": {},
   "outputs": [
    {
     "data": {
      "text/plain": [
       "['player_id', 'gender', 'hold racket handed', 'play years', 'level']"
      ]
     },
     "execution_count": 44,
     "metadata": {},
     "output_type": "execute_result"
    }
   ],
   "source": [
    "a = [i for i in train_df.columns if i not in test_df.columns]\n",
    "a"
   ]
  },
  {
   "cell_type": "code",
   "execution_count": 45,
   "id": "6369f55f",
   "metadata": {},
   "outputs": [],
   "source": [
    "# ==== 1. 定義設定 ====\n",
    "drop_cols = [\n",
    "    'cut_point_start', 'cut_point_end', 'unique_id', 'player_id',\n",
    "    'gender', 'hold racket handed', 'play years', 'level',\n",
    "    'Gx_Kurtosis', 'Gx_Skewness', 'Gz_Kurtosis', 'Gz_Skewness'\n",
    "]\n",
    "mode_encoder_path = 'mode_encoder.pkl'"
   ]
  },
  {
   "cell_type": "code",
   "execution_count": null,
   "id": "c80f60e3",
   "metadata": {},
   "outputs": [],
   "source": [
    "# 若您已分割好 train_df, test_df，直接使用也可\n",
    "train_df['gender_binary'] = train_df['gender'].map({1: 0, 2: 1})\n",
    "train_df['hold_racket_binary'] = train_df['hold racket handed'].map({1: 0, 2: 1})\n",
    "\n",
    "# 儲存 unique_id 供預測時使用\n",
    "unique_ids = test_df['unique_id']\n"
   ]
  },
  {
   "cell_type": "code",
   "execution_count": 47,
   "id": "4635cdb7",
   "metadata": {},
   "outputs": [
    {
     "data": {
      "text/plain": [
       "['mode_encoder.pkl']"
      ]
     },
     "execution_count": 47,
     "metadata": {},
     "output_type": "execute_result"
    }
   ],
   "source": [
    "# ==== 3. 類別欄位編碼（mode）====\n",
    "le_mode = LabelEncoder()\n",
    "train_df['mode'] = le_mode.fit_transform(train_df['mode'])\n",
    "test_df['mode'] = le_mode.transform(test_df['mode'])\n",
    "# ==== 類別欄位處理：改用 category dtype ====\n",
    "train_df['mode'] = train_df['mode'].astype('category')\n",
    "test_df['mode'] = test_df['mode'].astype('category')\n",
    "\n",
    "joblib.dump(le_mode, mode_encoder_path)"
   ]
  },
  {
   "cell_type": "markdown",
   "id": "fe80ebcb",
   "metadata": {},
   "source": [
    "# 定義各種使用到的函式\n",
    "- 切分訓練、驗證資料\n",
    "- 隨機搜索方法\n",
    "- SMOTE 方法\n",
    "- 訓練 XGBoost 並預測測試資料"
   ]
  },
  {
   "cell_type": "code",
   "execution_count": 52,
   "id": "a027606a",
   "metadata": {},
   "outputs": [],
   "source": [
    "from sklearn.metrics import roc_auc_score\n",
    "from xgboost import XGBClassifier\n",
    "from imblearn.over_sampling import SMOTE\n",
    "from itertools import product\n",
    "from collections import Counter\n",
    "import pandas as pd\n",
    "import numpy as np\n",
    "\n",
    "def stratified_player_split(df, y, test_size=0.2, random_state=42):\n",
    "    player_groups = df.groupby('player_id')\n",
    "    player_ids = list(player_groups.groups.keys())\n",
    "\n",
    "    y_per_player = []\n",
    "    for pid in player_ids:\n",
    "        labels = y[df['player_id'] == pid]\n",
    "        label = Counter(labels).most_common(1)[0][0]\n",
    "        y_per_player.append(label)\n",
    "\n",
    "    y_array = np.array(y_per_player)\n",
    "    sss = StratifiedShuffleSplit(n_splits=1, test_size=test_size, random_state=random_state)\n",
    "    train_idx, valid_idx = next(sss.split(np.zeros(len(player_ids)), y_array))\n",
    "\n",
    "    train_players = [player_ids[i] for i in train_idx]\n",
    "    valid_players = [player_ids[i] for i in valid_idx]\n",
    "\n",
    "    train_mask = df['player_id'].isin(train_players)\n",
    "    valid_mask = df['player_id'].isin(valid_players)\n",
    "\n",
    "    print(\"\\n📊 每個類別在訓練與驗證集的 player 數：\")\n",
    "    def show_distribution(pids, title):\n",
    "        dist = Counter([Counter(y[df['player_id'] == pid]).most_common(1)[0][0] for pid in pids])\n",
    "        print(f\"🔹 {title}：{dict(dist)}\")\n",
    "    show_distribution(train_players, \"訓練集\")\n",
    "    show_distribution(valid_players, \"驗證集\")\n",
    "\n",
    "    print(f\"👤 驗證集 player_id：{valid_players}\")  # 👈 加在這裡\n",
    "\n",
    "    return train_mask, valid_mask\n",
    "\n",
    "def manual_random_search(X_all, y_all, param_grid, num_classes, n_iter=20, seed=42, fold_count=3, verbose=True):\n",
    "    from xgboost import XGBClassifier\n",
    "    from sklearn.metrics import roc_auc_score\n",
    "\n",
    "    all_combos = list(product(*param_grid.values()))\n",
    "    random.seed(seed)\n",
    "    sampled_combos = random.sample(all_combos, min(n_iter, len(all_combos)))\n",
    "\n",
    "    best_score = -1\n",
    "    best_model = None\n",
    "    best_params = None\n",
    "\n",
    "    print(f\"\\n🔍 開始搜尋共 {len(sampled_combos)} 組參數，每組做 {fold_count}-Fold 驗證\\n\" + \"-\"*60)\n",
    "\n",
    "    for i, combo in enumerate(sampled_combos):\n",
    "        params = dict(zip(param_grid.keys(), combo))\n",
    "        scores = []\n",
    "\n",
    "        print(f\"\\n🧪 測試第 {i+1}/{len(sampled_combos)} 組參數：{params}\")\n",
    "\n",
    "        for fold in range(fold_count):\n",
    "            train_mask, valid_mask = stratified_player_split(train_df, y_all, random_state=seed + fold)\n",
    "            X_train, y_train = X_all[train_mask], y_all[train_mask]\n",
    "            X_valid, y_valid = X_all[valid_mask], y_all[valid_mask]\n",
    "\n",
    "            model = XGBClassifier(\n",
    "                tree_method='hist',\n",
    "                enable_categorical=True,\n",
    "                eval_metric='logloss',\n",
    "                random_state=42,\n",
    "                **params\n",
    "            )\n",
    "            model.fit(X_train, y_train)\n",
    "            y_pred_proba = model.predict_proba(X_valid)\n",
    "\n",
    "            if num_classes == 2:\n",
    "                score = roc_auc_score(y_valid, y_pred_proba[:, 1])\n",
    "            else:\n",
    "                score = roc_auc_score(y_valid, y_pred_proba, multi_class='ovr', average='macro')\n",
    "\n",
    "            scores.append(score)\n",
    "            if verbose:\n",
    "                print(f\"  ➤ Fold {fold+1} ROC AUC: {score:.4f}\")\n",
    "\n",
    "        avg_score = np.mean(scores)\n",
    "        print(f\"✅ 平均 ROC AUC: {avg_score:.4f}\")\n",
    "\n",
    "        if avg_score > best_score:\n",
    "            best_score = avg_score\n",
    "            best_model = model\n",
    "            best_params = params\n",
    "            print(f\"🎯 新最佳模型！已更新\\n{'='*60}\")\n",
    "\n",
    "    print(f\"\\n🏁 最佳 ROC AUC: {best_score:.4f} 對應參數：{best_params}\")\n",
    "    return best_model, best_params, best_score\n",
    "\n",
    "def apply_smote(X, y, smote_ratio):\n",
    "    counter = Counter(y)\n",
    "    max_count = max(counter.values())\n",
    "    strategy = {\n",
    "        cls: int(max_count * smote_ratio)\n",
    "        for cls, count in counter.items()\n",
    "        if int(max_count * smote_ratio) > count\n",
    "    }\n",
    "    if strategy:\n",
    "        print(f\"🧪 SMOTE: {strategy}\")\n",
    "        smote = SMOTE(sampling_strategy=strategy, random_state=42)\n",
    "        return smote.fit_resample(X, y)\n",
    "    return X, y\n",
    "\n",
    "def train_and_predict_xgb(\n",
    "    y_name,\n",
    "    return_model=False,\n",
    "    smote_ratio=None,\n",
    "    cv_mode='single',     # 'single' 或 'manual_kfold'\n",
    "    fold_count=3,\n",
    "    n_iter=20\n",
    "):\n",
    "    print(f\"\\n🚀 開始訓練任務：{y_name}（cv_mode={cv_mode}）\")\n",
    "\n",
    "    # === y 處理 ===\n",
    "    if y_name == 'gender':\n",
    "        y_all = train_df['gender'].map({1: 0, 2: 1})\n",
    "        num_classes = 2\n",
    "    elif y_name == 'hold racket handed':\n",
    "        y_all = train_df['hold racket handed'].map({1: 0, 2: 1})\n",
    "        num_classes = 2\n",
    "    elif y_name == 'level':\n",
    "        y_all = train_df['level'].map({2: 0, 3: 1, 4: 2, 5: 3})\n",
    "        num_classes = 4\n",
    "    else:\n",
    "        y_all = train_df[y_name]\n",
    "        num_classes = len(set(y_all))\n",
    "\n",
    "    # === 特徵處理 ===\n",
    "    drop_y = {'gender', 'hold racket handed', 'play years', 'level'} - {y_name}\n",
    "    drop_all = set(drop_cols).union(drop_y)\n",
    "    common_cols = [c for c in train_df.columns if c not in drop_all and c in test_df.columns]\n",
    "    X_all = train_df[common_cols]\n",
    "    X_test = test_df[common_cols]\n",
    "\n",
    "    # ✅ 類別欄位需為 category dtype，並保留 enable_categorical\n",
    "    assert str(X_all.dtypes[X_all.select_dtypes(include='category').columns[0]]) == \"category\"\n",
    "\n",
    "    param_grid = {\n",
    "        'n_estimators': [100, 200, 300, 500],\n",
    "        'max_depth': [3, 5, 7, 9],\n",
    "        'learning_rate': [0.01, 0.05, 0.1, 0.2],\n",
    "        'subsample': [0.6, 0.8, 1.0],\n",
    "        'colsample_bytree': [0.6, 0.8, 1.0],\n",
    "        'gamma': [0, 1, 5],\n",
    "        'scale_pos_weight': [1, 5, 10, 20] if num_classes == 2 else [1]\n",
    "    }\n",
    "\n",
    "    # ✅ 找出最佳參數與模型\n",
    "    model, best_params, best_score = manual_random_search(\n",
    "        X_all, y_all,\n",
    "        param_grid=param_grid,\n",
    "        num_classes=num_classes,\n",
    "        n_iter=n_iter,\n",
    "        seed=42,\n",
    "        fold_count=fold_count\n",
    "    )\n",
    "\n",
    "    print(f\"\\n🏆 最佳 ROC AUC: {best_score:.4f}\")\n",
    "    print(f\"🎯 使用最佳參數重新訓練完整模型並預測測試集\\n{'='*60}\")\n",
    "\n",
    "    # ✅ 使用最佳參數重新訓練完整模型（不分訓練/驗證集）\n",
    "    model = XGBClassifier(\n",
    "        tree_method='hist',\n",
    "        enable_categorical=True,\n",
    "        eval_metric='logloss',\n",
    "        random_state=42,\n",
    "        **best_params\n",
    "    )\n",
    "    model.fit(X_all, y_all)\n",
    "\n",
    "    # ✅ 預測測試集\n",
    "    y_proba = model.predict_proba(X_test)\n",
    "    if num_classes == 2:\n",
    "        df_pred = pd.DataFrame({y_name: y_proba[:, 0]})\n",
    "    else:\n",
    "        df_pred = pd.DataFrame(y_proba, columns=[f\"{y_name}_{i}\" for i in range(num_classes)])\n",
    "\n",
    "    return (df_pred, model, common_cols) if return_model else df_pred\n"
   ]
  },
  {
   "cell_type": "markdown",
   "id": "0a9d6b36",
   "metadata": {},
   "source": [
    "# 對於四個目標預測測試資料"
   ]
  },
  {
   "cell_type": "code",
   "execution_count": 53,
   "id": "7cba3132",
   "metadata": {},
   "outputs": [
    {
     "name": "stdout",
     "output_type": "stream",
     "text": [
      "\n",
      "🚀 開始訓練任務：gender（cv_mode=manual_kfold）\n",
      "\n",
      "🔍 開始搜尋共 30 組參數，每組做 5-Fold 驗證\n",
      "------------------------------------------------------------\n",
      "\n",
      "🧪 測試第 1/30 組參數：{'n_estimators': 500, 'max_depth': 3, 'learning_rate': 0.01, 'subsample': 0.8, 'colsample_bytree': 0.8, 'gamma': 1, 'scale_pos_weight': 10}\n",
      "\n",
      "📊 每個類別在訓練與驗證集的 player 數：\n",
      "🔹 訓練集：{0: 27, 1: 6}\n",
      "🔹 驗證集：{0: 7, 1: 2}\n",
      "👤 驗證集 player_id：[42, 7, 37, 11, 15, 27, 8, 25, 21]\n",
      "  ➤ Fold 1 ROC AUC: 0.8672\n",
      "\n",
      "📊 每個類別在訓練與驗證集的 player 數：\n",
      "🔹 訓練集：{0: 27, 1: 6}\n",
      "🔹 驗證集：{1: 2, 0: 7}\n",
      "👤 驗證集 player_id：[25, 34, 22, 17, 5, 18, 1, 40, 26]\n",
      "  ➤ Fold 2 ROC AUC: 0.8588\n",
      "\n",
      "📊 每個類別在訓練與驗證集的 player 數：\n",
      "🔹 訓練集：{0: 27, 1: 6}\n",
      "🔹 驗證集：{1: 2, 0: 7}\n",
      "👤 驗證集 player_id：[29, 41, 36, 11, 1, 21, 42, 16, 4]\n",
      "  ➤ Fold 3 ROC AUC: 0.5171\n",
      "\n",
      "📊 每個類別在訓練與驗證集的 player 數：\n",
      "🔹 訓練集：{0: 27, 1: 6}\n",
      "🔹 驗證集：{0: 7, 1: 2}\n",
      "👤 驗證集 player_id：[12, 40, 1, 28, 22, 39, 4, 26, 37]\n",
      "  ➤ Fold 4 ROC AUC: 0.7794\n",
      "\n",
      "📊 每個類別在訓練與驗證集的 player 數：\n",
      "🔹 訓練集：{0: 27, 1: 6}\n",
      "🔹 驗證集：{0: 7, 1: 2}\n",
      "👤 驗證集 player_id：[37, 29, 35, 24, 12, 19, 38, 6, 20]\n",
      "  ➤ Fold 5 ROC AUC: 0.6875\n",
      "✅ 平均 ROC AUC: 0.7420\n",
      "🎯 新最佳模型！已更新\n",
      "============================================================\n",
      "\n",
      "🧪 測試第 2/30 組參數：{'n_estimators': 100, 'max_depth': 7, 'learning_rate': 0.01, 'subsample': 0.8, 'colsample_bytree': 0.8, 'gamma': 0, 'scale_pos_weight': 1}\n",
      "\n",
      "📊 每個類別在訓練與驗證集的 player 數：\n",
      "🔹 訓練集：{0: 27, 1: 6}\n",
      "🔹 驗證集：{0: 7, 1: 2}\n",
      "👤 驗證集 player_id：[42, 7, 37, 11, 15, 27, 8, 25, 21]\n",
      "  ➤ Fold 1 ROC AUC: 0.8816\n",
      "\n",
      "📊 每個類別在訓練與驗證集的 player 數：\n",
      "🔹 訓練集：{0: 27, 1: 6}\n",
      "🔹 驗證集：{1: 2, 0: 7}\n",
      "👤 驗證集 player_id：[25, 34, 22, 17, 5, 18, 1, 40, 26]\n",
      "  ➤ Fold 2 ROC AUC: 0.8279\n",
      "\n",
      "📊 每個類別在訓練與驗證集的 player 數：\n",
      "🔹 訓練集：{0: 27, 1: 6}\n",
      "🔹 驗證集：{1: 2, 0: 7}\n",
      "👤 驗證集 player_id：[29, 41, 36, 11, 1, 21, 42, 16, 4]\n",
      "  ➤ Fold 3 ROC AUC: 0.5127\n",
      "\n",
      "📊 每個類別在訓練與驗證集的 player 數：\n",
      "🔹 訓練集：{0: 27, 1: 6}\n",
      "🔹 驗證集：{0: 7, 1: 2}\n",
      "👤 驗證集 player_id：[12, 40, 1, 28, 22, 39, 4, 26, 37]\n",
      "  ➤ Fold 4 ROC AUC: 0.8343\n",
      "\n",
      "📊 每個類別在訓練與驗證集的 player 數：\n",
      "🔹 訓練集：{0: 27, 1: 6}\n",
      "🔹 驗證集：{0: 7, 1: 2}\n",
      "👤 驗證集 player_id：[37, 29, 35, 24, 12, 19, 38, 6, 20]\n",
      "  ➤ Fold 5 ROC AUC: 0.7507\n",
      "✅ 平均 ROC AUC: 0.7615\n",
      "🎯 新最佳模型！已更新\n",
      "============================================================\n",
      "\n",
      "🧪 測試第 3/30 組參數：{'n_estimators': 100, 'max_depth': 3, 'learning_rate': 0.05, 'subsample': 1.0, 'colsample_bytree': 1.0, 'gamma': 0, 'scale_pos_weight': 1}\n",
      "\n",
      "📊 每個類別在訓練與驗證集的 player 數：\n",
      "🔹 訓練集：{0: 27, 1: 6}\n",
      "🔹 驗證集：{0: 7, 1: 2}\n",
      "👤 驗證集 player_id：[42, 7, 37, 11, 15, 27, 8, 25, 21]\n",
      "  ➤ Fold 1 ROC AUC: 0.8801\n",
      "\n",
      "📊 每個類別在訓練與驗證集的 player 數：\n",
      "🔹 訓練集：{0: 27, 1: 6}\n",
      "🔹 驗證集：{1: 2, 0: 7}\n",
      "👤 驗證集 player_id：[25, 34, 22, 17, 5, 18, 1, 40, 26]\n",
      "  ➤ Fold 2 ROC AUC: 0.9020\n",
      "\n",
      "📊 每個類別在訓練與驗證集的 player 數：\n",
      "🔹 訓練集：{0: 27, 1: 6}\n",
      "🔹 驗證集：{1: 2, 0: 7}\n",
      "👤 驗證集 player_id：[29, 41, 36, 11, 1, 21, 42, 16, 4]\n",
      "  ➤ Fold 3 ROC AUC: 0.5107\n",
      "\n",
      "📊 每個類別在訓練與驗證集的 player 數：\n",
      "🔹 訓練集：{0: 27, 1: 6}\n",
      "🔹 驗證集：{0: 7, 1: 2}\n",
      "👤 驗證集 player_id：[12, 40, 1, 28, 22, 39, 4, 26, 37]\n",
      "  ➤ Fold 4 ROC AUC: 0.8545\n",
      "\n",
      "📊 每個類別在訓練與驗證集的 player 數：\n",
      "🔹 訓練集：{0: 27, 1: 6}\n",
      "🔹 驗證集：{0: 7, 1: 2}\n",
      "👤 驗證集 player_id：[37, 29, 35, 24, 12, 19, 38, 6, 20]\n",
      "  ➤ Fold 5 ROC AUC: 0.6710\n",
      "✅ 平均 ROC AUC: 0.7637\n",
      "🎯 新最佳模型！已更新\n",
      "============================================================\n",
      "\n",
      "🧪 測試第 4/30 組參數：{'n_estimators': 500, 'max_depth': 7, 'learning_rate': 0.01, 'subsample': 0.6, 'colsample_bytree': 1.0, 'gamma': 0, 'scale_pos_weight': 10}\n",
      "\n",
      "📊 每個類別在訓練與驗證集的 player 數：\n",
      "🔹 訓練集：{0: 27, 1: 6}\n",
      "🔹 驗證集：{0: 7, 1: 2}\n",
      "👤 驗證集 player_id：[42, 7, 37, 11, 15, 27, 8, 25, 21]\n",
      "  ➤ Fold 1 ROC AUC: 0.8620\n",
      "\n",
      "📊 每個類別在訓練與驗證集的 player 數：\n",
      "🔹 訓練集：{0: 27, 1: 6}\n",
      "🔹 驗證集：{1: 2, 0: 7}\n",
      "👤 驗證集 player_id：[25, 34, 22, 17, 5, 18, 1, 40, 26]\n",
      "  ➤ Fold 2 ROC AUC: 0.8498\n",
      "\n",
      "📊 每個類別在訓練與驗證集的 player 數：\n",
      "🔹 訓練集：{0: 27, 1: 6}\n",
      "🔹 驗證集：{1: 2, 0: 7}\n",
      "👤 驗證集 player_id：[29, 41, 36, 11, 1, 21, 42, 16, 4]\n",
      "  ➤ Fold 3 ROC AUC: 0.5132\n",
      "\n",
      "📊 每個類別在訓練與驗證集的 player 數：\n",
      "🔹 訓練集：{0: 27, 1: 6}\n",
      "🔹 驗證集：{0: 7, 1: 2}\n",
      "👤 驗證集 player_id：[12, 40, 1, 28, 22, 39, 4, 26, 37]\n",
      "  ➤ Fold 4 ROC AUC: 0.7574\n",
      "\n",
      "📊 每個類別在訓練與驗證集的 player 數：\n",
      "🔹 訓練集：{0: 27, 1: 6}\n",
      "🔹 驗證集：{0: 7, 1: 2}\n",
      "👤 驗證集 player_id：[37, 29, 35, 24, 12, 19, 38, 6, 20]\n",
      "  ➤ Fold 5 ROC AUC: 0.8083\n",
      "✅ 平均 ROC AUC: 0.7581\n",
      "\n",
      "🧪 測試第 5/30 組參數：{'n_estimators': 200, 'max_depth': 5, 'learning_rate': 0.01, 'subsample': 1.0, 'colsample_bytree': 0.8, 'gamma': 5, 'scale_pos_weight': 5}\n",
      "\n",
      "📊 每個類別在訓練與驗證集的 player 數：\n",
      "🔹 訓練集：{0: 27, 1: 6}\n",
      "🔹 驗證集：{0: 7, 1: 2}\n",
      "👤 驗證集 player_id：[42, 7, 37, 11, 15, 27, 8, 25, 21]\n",
      "  ➤ Fold 1 ROC AUC: 0.8674\n",
      "\n",
      "📊 每個類別在訓練與驗證集的 player 數：\n",
      "🔹 訓練集：{0: 27, 1: 6}\n",
      "🔹 驗證集：{1: 2, 0: 7}\n",
      "👤 驗證集 player_id：[25, 34, 22, 17, 5, 18, 1, 40, 26]\n",
      "  ➤ Fold 2 ROC AUC: 0.8099\n",
      "\n",
      "📊 每個類別在訓練與驗證集的 player 數：\n",
      "🔹 訓練集：{0: 27, 1: 6}\n",
      "🔹 驗證集：{1: 2, 0: 7}\n",
      "👤 驗證集 player_id：[29, 41, 36, 11, 1, 21, 42, 16, 4]\n",
      "  ➤ Fold 3 ROC AUC: 0.5225\n",
      "\n",
      "📊 每個類別在訓練與驗證集的 player 數：\n",
      "🔹 訓練集：{0: 27, 1: 6}\n",
      "🔹 驗證集：{0: 7, 1: 2}\n",
      "👤 驗證集 player_id：[12, 40, 1, 28, 22, 39, 4, 26, 37]\n",
      "  ➤ Fold 4 ROC AUC: 0.7561\n",
      "\n",
      "📊 每個類別在訓練與驗證集的 player 數：\n",
      "🔹 訓練集：{0: 27, 1: 6}\n",
      "🔹 驗證集：{0: 7, 1: 2}\n",
      "👤 驗證集 player_id：[37, 29, 35, 24, 12, 19, 38, 6, 20]\n",
      "  ➤ Fold 5 ROC AUC: 0.7301\n",
      "✅ 平均 ROC AUC: 0.7372\n",
      "\n",
      "🧪 測試第 6/30 組參數：{'n_estimators': 200, 'max_depth': 3, 'learning_rate': 0.1, 'subsample': 0.8, 'colsample_bytree': 1.0, 'gamma': 0, 'scale_pos_weight': 10}\n",
      "\n",
      "📊 每個類別在訓練與驗證集的 player 數：\n",
      "🔹 訓練集：{0: 27, 1: 6}\n",
      "🔹 驗證集：{0: 7, 1: 2}\n",
      "👤 驗證集 player_id：[42, 7, 37, 11, 15, 27, 8, 25, 21]\n",
      "  ➤ Fold 1 ROC AUC: 0.8441\n",
      "\n",
      "📊 每個類別在訓練與驗證集的 player 數：\n",
      "🔹 訓練集：{0: 27, 1: 6}\n",
      "🔹 驗證集：{1: 2, 0: 7}\n",
      "👤 驗證集 player_id：[25, 34, 22, 17, 5, 18, 1, 40, 26]\n",
      "  ➤ Fold 2 ROC AUC: 0.8798\n",
      "\n",
      "📊 每個類別在訓練與驗證集的 player 數：\n",
      "🔹 訓練集：{0: 27, 1: 6}\n",
      "🔹 驗證集：{1: 2, 0: 7}\n",
      "👤 驗證集 player_id：[29, 41, 36, 11, 1, 21, 42, 16, 4]\n",
      "  ➤ Fold 3 ROC AUC: 0.5370\n",
      "\n",
      "📊 每個類別在訓練與驗證集的 player 數：\n",
      "🔹 訓練集：{0: 27, 1: 6}\n",
      "🔹 驗證集：{0: 7, 1: 2}\n",
      "👤 驗證集 player_id：[12, 40, 1, 28, 22, 39, 4, 26, 37]\n",
      "  ➤ Fold 4 ROC AUC: 0.8375\n",
      "\n",
      "📊 每個類別在訓練與驗證集的 player 數：\n",
      "🔹 訓練集：{0: 27, 1: 6}\n",
      "🔹 驗證集：{0: 7, 1: 2}\n",
      "👤 驗證集 player_id：[37, 29, 35, 24, 12, 19, 38, 6, 20]\n",
      "  ➤ Fold 5 ROC AUC: 0.7831\n",
      "✅ 平均 ROC AUC: 0.7763\n",
      "🎯 新最佳模型！已更新\n",
      "============================================================\n",
      "\n",
      "🧪 測試第 7/30 組參數：{'n_estimators': 200, 'max_depth': 3, 'learning_rate': 0.01, 'subsample': 1.0, 'colsample_bytree': 1.0, 'gamma': 1, 'scale_pos_weight': 1}\n",
      "\n",
      "📊 每個類別在訓練與驗證集的 player 數：\n",
      "🔹 訓練集：{0: 27, 1: 6}\n",
      "🔹 驗證集：{0: 7, 1: 2}\n",
      "👤 驗證集 player_id：[42, 7, 37, 11, 15, 27, 8, 25, 21]\n",
      "  ➤ Fold 1 ROC AUC: 0.8892\n",
      "\n",
      "📊 每個類別在訓練與驗證集的 player 數：\n",
      "🔹 訓練集：{0: 27, 1: 6}\n",
      "🔹 驗證集：{1: 2, 0: 7}\n",
      "👤 驗證集 player_id：[25, 34, 22, 17, 5, 18, 1, 40, 26]\n",
      "  ➤ Fold 2 ROC AUC: 0.8872\n",
      "\n",
      "📊 每個類別在訓練與驗證集的 player 數：\n",
      "🔹 訓練集：{0: 27, 1: 6}\n",
      "🔹 驗證集：{1: 2, 0: 7}\n",
      "👤 驗證集 player_id：[29, 41, 36, 11, 1, 21, 42, 16, 4]\n",
      "  ➤ Fold 3 ROC AUC: 0.5176\n",
      "\n",
      "📊 每個類別在訓練與驗證集的 player 數：\n",
      "🔹 訓練集：{0: 27, 1: 6}\n",
      "🔹 驗證集：{0: 7, 1: 2}\n",
      "👤 驗證集 player_id：[12, 40, 1, 28, 22, 39, 4, 26, 37]\n",
      "  ➤ Fold 4 ROC AUC: 0.8637\n",
      "\n",
      "📊 每個類別在訓練與驗證集的 player 數：\n",
      "🔹 訓練集：{0: 27, 1: 6}\n",
      "🔹 驗證集：{0: 7, 1: 2}\n",
      "👤 驗證集 player_id：[37, 29, 35, 24, 12, 19, 38, 6, 20]\n",
      "  ➤ Fold 5 ROC AUC: 0.6766\n",
      "✅ 平均 ROC AUC: 0.7669\n",
      "\n",
      "🧪 測試第 8/30 組參數：{'n_estimators': 100, 'max_depth': 7, 'learning_rate': 0.1, 'subsample': 0.8, 'colsample_bytree': 1.0, 'gamma': 0, 'scale_pos_weight': 20}\n",
      "\n",
      "📊 每個類別在訓練與驗證集的 player 數：\n",
      "🔹 訓練集：{0: 27, 1: 6}\n",
      "🔹 驗證集：{0: 7, 1: 2}\n",
      "👤 驗證集 player_id：[42, 7, 37, 11, 15, 27, 8, 25, 21]\n",
      "  ➤ Fold 1 ROC AUC: 0.8630\n",
      "\n",
      "📊 每個類別在訓練與驗證集的 player 數：\n",
      "🔹 訓練集：{0: 27, 1: 6}\n",
      "🔹 驗證集：{1: 2, 0: 7}\n",
      "👤 驗證集 player_id：[25, 34, 22, 17, 5, 18, 1, 40, 26]\n",
      "  ➤ Fold 2 ROC AUC: 0.8589\n",
      "\n",
      "📊 每個類別在訓練與驗證集的 player 數：\n",
      "🔹 訓練集：{0: 27, 1: 6}\n",
      "🔹 驗證集：{1: 2, 0: 7}\n",
      "👤 驗證集 player_id：[29, 41, 36, 11, 1, 21, 42, 16, 4]\n",
      "  ➤ Fold 3 ROC AUC: 0.5514\n",
      "\n",
      "📊 每個類別在訓練與驗證集的 player 數：\n",
      "🔹 訓練集：{0: 27, 1: 6}\n",
      "🔹 驗證集：{0: 7, 1: 2}\n",
      "👤 驗證集 player_id：[12, 40, 1, 28, 22, 39, 4, 26, 37]\n",
      "  ➤ Fold 4 ROC AUC: 0.8129\n",
      "\n",
      "📊 每個類別在訓練與驗證集的 player 數：\n",
      "🔹 訓練集：{0: 27, 1: 6}\n",
      "🔹 驗證集：{0: 7, 1: 2}\n",
      "👤 驗證集 player_id：[37, 29, 35, 24, 12, 19, 38, 6, 20]\n",
      "  ➤ Fold 5 ROC AUC: 0.8122\n",
      "✅ 平均 ROC AUC: 0.7797\n",
      "🎯 新最佳模型！已更新\n",
      "============================================================\n",
      "\n",
      "🧪 測試第 9/30 組參數：{'n_estimators': 500, 'max_depth': 5, 'learning_rate': 0.2, 'subsample': 1.0, 'colsample_bytree': 0.8, 'gamma': 5, 'scale_pos_weight': 5}\n",
      "\n",
      "📊 每個類別在訓練與驗證集的 player 數：\n",
      "🔹 訓練集：{0: 27, 1: 6}\n",
      "🔹 驗證集：{0: 7, 1: 2}\n",
      "👤 驗證集 player_id：[42, 7, 37, 11, 15, 27, 8, 25, 21]\n",
      "  ➤ Fold 1 ROC AUC: 0.8396\n",
      "\n",
      "📊 每個類別在訓練與驗證集的 player 數：\n",
      "🔹 訓練集：{0: 27, 1: 6}\n",
      "🔹 驗證集：{1: 2, 0: 7}\n",
      "👤 驗證集 player_id：[25, 34, 22, 17, 5, 18, 1, 40, 26]\n",
      "  ➤ Fold 2 ROC AUC: 0.8762\n",
      "\n",
      "📊 每個類別在訓練與驗證集的 player 數：\n",
      "🔹 訓練集：{0: 27, 1: 6}\n",
      "🔹 驗證集：{1: 2, 0: 7}\n",
      "👤 驗證集 player_id：[29, 41, 36, 11, 1, 21, 42, 16, 4]\n",
      "  ➤ Fold 3 ROC AUC: 0.5640\n",
      "\n",
      "📊 每個類別在訓練與驗證集的 player 數：\n",
      "🔹 訓練集：{0: 27, 1: 6}\n",
      "🔹 驗證集：{0: 7, 1: 2}\n",
      "👤 驗證集 player_id：[12, 40, 1, 28, 22, 39, 4, 26, 37]\n",
      "  ➤ Fold 4 ROC AUC: 0.8140\n",
      "\n",
      "📊 每個類別在訓練與驗證集的 player 數：\n",
      "🔹 訓練集：{0: 27, 1: 6}\n",
      "🔹 驗證集：{0: 7, 1: 2}\n",
      "👤 驗證集 player_id：[37, 29, 35, 24, 12, 19, 38, 6, 20]\n",
      "  ➤ Fold 5 ROC AUC: 0.7946\n",
      "✅ 平均 ROC AUC: 0.7777\n",
      "\n",
      "🧪 測試第 10/30 組參數：{'n_estimators': 100, 'max_depth': 5, 'learning_rate': 0.2, 'subsample': 1.0, 'colsample_bytree': 0.6, 'gamma': 5, 'scale_pos_weight': 20}\n",
      "\n",
      "📊 每個類別在訓練與驗證集的 player 數：\n",
      "🔹 訓練集：{0: 27, 1: 6}\n",
      "🔹 驗證集：{0: 7, 1: 2}\n",
      "👤 驗證集 player_id：[42, 7, 37, 11, 15, 27, 8, 25, 21]\n",
      "  ➤ Fold 1 ROC AUC: 0.8322\n",
      "\n",
      "📊 每個類別在訓練與驗證集的 player 數：\n",
      "🔹 訓練集：{0: 27, 1: 6}\n",
      "🔹 驗證集：{1: 2, 0: 7}\n",
      "👤 驗證集 player_id：[25, 34, 22, 17, 5, 18, 1, 40, 26]\n",
      "  ➤ Fold 2 ROC AUC: 0.8549\n",
      "\n",
      "📊 每個類別在訓練與驗證集的 player 數：\n",
      "🔹 訓練集：{0: 27, 1: 6}\n",
      "🔹 驗證集：{1: 2, 0: 7}\n",
      "👤 驗證集 player_id：[29, 41, 36, 11, 1, 21, 42, 16, 4]\n",
      "  ➤ Fold 3 ROC AUC: 0.5769\n",
      "\n",
      "📊 每個類別在訓練與驗證集的 player 數：\n",
      "🔹 訓練集：{0: 27, 1: 6}\n",
      "🔹 驗證集：{0: 7, 1: 2}\n",
      "👤 驗證集 player_id：[12, 40, 1, 28, 22, 39, 4, 26, 37]\n",
      "  ➤ Fold 4 ROC AUC: 0.8513\n",
      "\n",
      "📊 每個類別在訓練與驗證集的 player 數：\n",
      "🔹 訓練集：{0: 27, 1: 6}\n",
      "🔹 驗證集：{0: 7, 1: 2}\n",
      "👤 驗證集 player_id：[37, 29, 35, 24, 12, 19, 38, 6, 20]\n",
      "  ➤ Fold 5 ROC AUC: 0.8088\n",
      "✅ 平均 ROC AUC: 0.7848\n",
      "🎯 新最佳模型！已更新\n",
      "============================================================\n",
      "\n",
      "🧪 測試第 11/30 組參數：{'n_estimators': 500, 'max_depth': 3, 'learning_rate': 0.2, 'subsample': 0.6, 'colsample_bytree': 1.0, 'gamma': 5, 'scale_pos_weight': 20}\n",
      "\n",
      "📊 每個類別在訓練與驗證集的 player 數：\n",
      "🔹 訓練集：{0: 27, 1: 6}\n",
      "🔹 驗證集：{0: 7, 1: 2}\n",
      "👤 驗證集 player_id：[42, 7, 37, 11, 15, 27, 8, 25, 21]\n",
      "  ➤ Fold 1 ROC AUC: 0.8432\n",
      "\n",
      "📊 每個類別在訓練與驗證集的 player 數：\n",
      "🔹 訓練集：{0: 27, 1: 6}\n",
      "🔹 驗證集：{1: 2, 0: 7}\n",
      "👤 驗證集 player_id：[25, 34, 22, 17, 5, 18, 1, 40, 26]\n",
      "  ➤ Fold 2 ROC AUC: 0.8653\n",
      "\n",
      "📊 每個類別在訓練與驗證集的 player 數：\n",
      "🔹 訓練集：{0: 27, 1: 6}\n",
      "🔹 驗證集：{1: 2, 0: 7}\n",
      "👤 驗證集 player_id：[29, 41, 36, 11, 1, 21, 42, 16, 4]\n",
      "  ➤ Fold 3 ROC AUC: 0.5599\n",
      "\n",
      "📊 每個類別在訓練與驗證集的 player 數：\n",
      "🔹 訓練集：{0: 27, 1: 6}\n",
      "🔹 驗證集：{0: 7, 1: 2}\n",
      "👤 驗證集 player_id：[12, 40, 1, 28, 22, 39, 4, 26, 37]\n",
      "  ➤ Fold 4 ROC AUC: 0.8615\n",
      "\n",
      "📊 每個類別在訓練與驗證集的 player 數：\n",
      "🔹 訓練集：{0: 27, 1: 6}\n",
      "🔹 驗證集：{0: 7, 1: 2}\n",
      "👤 驗證集 player_id：[37, 29, 35, 24, 12, 19, 38, 6, 20]\n",
      "  ➤ Fold 5 ROC AUC: 0.8060\n",
      "✅ 平均 ROC AUC: 0.7872\n",
      "🎯 新最佳模型！已更新\n",
      "============================================================\n",
      "\n",
      "🧪 測試第 12/30 組參數：{'n_estimators': 500, 'max_depth': 7, 'learning_rate': 0.01, 'subsample': 0.6, 'colsample_bytree': 0.8, 'gamma': 1, 'scale_pos_weight': 20}\n",
      "\n",
      "📊 每個類別在訓練與驗證集的 player 數：\n",
      "🔹 訓練集：{0: 27, 1: 6}\n",
      "🔹 驗證集：{0: 7, 1: 2}\n",
      "👤 驗證集 player_id：[42, 7, 37, 11, 15, 27, 8, 25, 21]\n",
      "  ➤ Fold 1 ROC AUC: 0.8650\n",
      "\n",
      "📊 每個類別在訓練與驗證集的 player 數：\n",
      "🔹 訓練集：{0: 27, 1: 6}\n",
      "🔹 驗證集：{1: 2, 0: 7}\n",
      "👤 驗證集 player_id：[25, 34, 22, 17, 5, 18, 1, 40, 26]\n",
      "  ➤ Fold 2 ROC AUC: 0.8243\n",
      "\n",
      "📊 每個類別在訓練與驗證集的 player 數：\n",
      "🔹 訓練集：{0: 27, 1: 6}\n",
      "🔹 驗證集：{1: 2, 0: 7}\n",
      "👤 驗證集 player_id：[29, 41, 36, 11, 1, 21, 42, 16, 4]\n",
      "  ➤ Fold 3 ROC AUC: 0.5258\n",
      "\n",
      "📊 每個類別在訓練與驗證集的 player 數：\n",
      "🔹 訓練集：{0: 27, 1: 6}\n",
      "🔹 驗證集：{0: 7, 1: 2}\n",
      "👤 驗證集 player_id：[12, 40, 1, 28, 22, 39, 4, 26, 37]\n",
      "  ➤ Fold 4 ROC AUC: 0.7505\n",
      "\n",
      "📊 每個類別在訓練與驗證集的 player 數：\n",
      "🔹 訓練集：{0: 27, 1: 6}\n",
      "🔹 驗證集：{0: 7, 1: 2}\n",
      "👤 驗證集 player_id：[37, 29, 35, 24, 12, 19, 38, 6, 20]\n",
      "  ➤ Fold 5 ROC AUC: 0.8202\n",
      "✅ 平均 ROC AUC: 0.7572\n",
      "\n",
      "🧪 測試第 13/30 組參數：{'n_estimators': 300, 'max_depth': 7, 'learning_rate': 0.05, 'subsample': 0.8, 'colsample_bytree': 0.6, 'gamma': 0, 'scale_pos_weight': 20}\n",
      "\n",
      "📊 每個類別在訓練與驗證集的 player 數：\n",
      "🔹 訓練集：{0: 27, 1: 6}\n",
      "🔹 驗證集：{0: 7, 1: 2}\n",
      "👤 驗證集 player_id：[42, 7, 37, 11, 15, 27, 8, 25, 21]\n",
      "  ➤ Fold 1 ROC AUC: 0.8707\n",
      "\n",
      "📊 每個類別在訓練與驗證集的 player 數：\n",
      "🔹 訓練集：{0: 27, 1: 6}\n",
      "🔹 驗證集：{1: 2, 0: 7}\n",
      "👤 驗證集 player_id：[25, 34, 22, 17, 5, 18, 1, 40, 26]\n",
      "  ➤ Fold 2 ROC AUC: 0.9005\n",
      "\n",
      "📊 每個類別在訓練與驗證集的 player 數：\n",
      "🔹 訓練集：{0: 27, 1: 6}\n",
      "🔹 驗證集：{1: 2, 0: 7}\n",
      "👤 驗證集 player_id：[29, 41, 36, 11, 1, 21, 42, 16, 4]\n",
      "  ➤ Fold 3 ROC AUC: 0.5787\n",
      "\n",
      "📊 每個類別在訓練與驗證集的 player 數：\n",
      "🔹 訓練集：{0: 27, 1: 6}\n",
      "🔹 驗證集：{0: 7, 1: 2}\n",
      "👤 驗證集 player_id：[12, 40, 1, 28, 22, 39, 4, 26, 37]\n",
      "  ➤ Fold 4 ROC AUC: 0.8474\n",
      "\n",
      "📊 每個類別在訓練與驗證集的 player 數：\n",
      "🔹 訓練集：{0: 27, 1: 6}\n",
      "🔹 驗證集：{0: 7, 1: 2}\n",
      "👤 驗證集 player_id：[37, 29, 35, 24, 12, 19, 38, 6, 20]\n",
      "  ➤ Fold 5 ROC AUC: 0.8161\n",
      "✅ 平均 ROC AUC: 0.8027\n",
      "🎯 新最佳模型！已更新\n",
      "============================================================\n",
      "\n",
      "🧪 測試第 14/30 組參數：{'n_estimators': 100, 'max_depth': 5, 'learning_rate': 0.1, 'subsample': 0.8, 'colsample_bytree': 1.0, 'gamma': 1, 'scale_pos_weight': 1}\n",
      "\n",
      "📊 每個類別在訓練與驗證集的 player 數：\n",
      "🔹 訓練集：{0: 27, 1: 6}\n",
      "🔹 驗證集：{0: 7, 1: 2}\n",
      "👤 驗證集 player_id：[42, 7, 37, 11, 15, 27, 8, 25, 21]\n",
      "  ➤ Fold 1 ROC AUC: 0.8444\n",
      "\n",
      "📊 每個類別在訓練與驗證集的 player 數：\n",
      "🔹 訓練集：{0: 27, 1: 6}\n",
      "🔹 驗證集：{1: 2, 0: 7}\n",
      "👤 驗證集 player_id：[25, 34, 22, 17, 5, 18, 1, 40, 26]\n",
      "  ➤ Fold 2 ROC AUC: 0.9023\n",
      "\n",
      "📊 每個類別在訓練與驗證集的 player 數：\n",
      "🔹 訓練集：{0: 27, 1: 6}\n",
      "🔹 驗證集：{1: 2, 0: 7}\n",
      "👤 驗證集 player_id：[29, 41, 36, 11, 1, 21, 42, 16, 4]\n",
      "  ➤ Fold 3 ROC AUC: 0.5434\n",
      "\n",
      "📊 每個類別在訓練與驗證集的 player 數：\n",
      "🔹 訓練集：{0: 27, 1: 6}\n",
      "🔹 驗證集：{0: 7, 1: 2}\n",
      "👤 驗證集 player_id：[12, 40, 1, 28, 22, 39, 4, 26, 37]\n",
      "  ➤ Fold 4 ROC AUC: 0.8663\n",
      "\n",
      "📊 每個類別在訓練與驗證集的 player 數：\n",
      "🔹 訓練集：{0: 27, 1: 6}\n",
      "🔹 驗證集：{0: 7, 1: 2}\n",
      "👤 驗證集 player_id：[37, 29, 35, 24, 12, 19, 38, 6, 20]\n",
      "  ➤ Fold 5 ROC AUC: 0.7750\n",
      "✅ 平均 ROC AUC: 0.7863\n",
      "\n",
      "🧪 測試第 15/30 組參數：{'n_estimators': 300, 'max_depth': 9, 'learning_rate': 0.01, 'subsample': 1.0, 'colsample_bytree': 0.8, 'gamma': 0, 'scale_pos_weight': 5}\n",
      "\n",
      "📊 每個類別在訓練與驗證集的 player 數：\n",
      "🔹 訓練集：{0: 27, 1: 6}\n",
      "🔹 驗證集：{0: 7, 1: 2}\n",
      "👤 驗證集 player_id：[42, 7, 37, 11, 15, 27, 8, 25, 21]\n",
      "  ➤ Fold 1 ROC AUC: 0.8768\n",
      "\n",
      "📊 每個類別在訓練與驗證集的 player 數：\n",
      "🔹 訓練集：{0: 27, 1: 6}\n",
      "🔹 驗證集：{1: 2, 0: 7}\n",
      "👤 驗證集 player_id：[25, 34, 22, 17, 5, 18, 1, 40, 26]\n",
      "  ➤ Fold 2 ROC AUC: 0.8094\n",
      "\n",
      "📊 每個類別在訓練與驗證集的 player 數：\n",
      "🔹 訓練集：{0: 27, 1: 6}\n",
      "🔹 驗證集：{1: 2, 0: 7}\n",
      "👤 驗證集 player_id：[29, 41, 36, 11, 1, 21, 42, 16, 4]\n",
      "  ➤ Fold 3 ROC AUC: 0.5299\n",
      "\n",
      "📊 每個類別在訓練與驗證集的 player 數：\n",
      "🔹 訓練集：{0: 27, 1: 6}\n",
      "🔹 驗證集：{0: 7, 1: 2}\n",
      "👤 驗證集 player_id：[12, 40, 1, 28, 22, 39, 4, 26, 37]\n",
      "  ➤ Fold 4 ROC AUC: 0.7938\n",
      "\n",
      "📊 每個類別在訓練與驗證集的 player 數：\n",
      "🔹 訓練集：{0: 27, 1: 6}\n",
      "🔹 驗證集：{0: 7, 1: 2}\n",
      "👤 驗證集 player_id：[37, 29, 35, 24, 12, 19, 38, 6, 20]\n",
      "  ➤ Fold 5 ROC AUC: 0.8244\n",
      "✅ 平均 ROC AUC: 0.7669\n",
      "\n",
      "🧪 測試第 16/30 組參數：{'n_estimators': 300, 'max_depth': 3, 'learning_rate': 0.01, 'subsample': 0.6, 'colsample_bytree': 0.6, 'gamma': 0, 'scale_pos_weight': 1}\n",
      "\n",
      "📊 每個類別在訓練與驗證集的 player 數：\n",
      "🔹 訓練集：{0: 27, 1: 6}\n",
      "🔹 驗證集：{0: 7, 1: 2}\n",
      "👤 驗證集 player_id：[42, 7, 37, 11, 15, 27, 8, 25, 21]\n",
      "  ➤ Fold 1 ROC AUC: 0.8924\n",
      "\n",
      "📊 每個類別在訓練與驗證集的 player 數：\n",
      "🔹 訓練集：{0: 27, 1: 6}\n",
      "🔹 驗證集：{1: 2, 0: 7}\n",
      "👤 驗證集 player_id：[25, 34, 22, 17, 5, 18, 1, 40, 26]\n",
      "  ➤ Fold 2 ROC AUC: 0.8925\n",
      "\n",
      "📊 每個類別在訓練與驗證集的 player 數：\n",
      "🔹 訓練集：{0: 27, 1: 6}\n",
      "🔹 驗證集：{1: 2, 0: 7}\n",
      "👤 驗證集 player_id：[29, 41, 36, 11, 1, 21, 42, 16, 4]\n",
      "  ➤ Fold 3 ROC AUC: 0.4975\n",
      "\n",
      "📊 每個類別在訓練與驗證集的 player 數：\n",
      "🔹 訓練集：{0: 27, 1: 6}\n",
      "🔹 驗證集：{0: 7, 1: 2}\n",
      "👤 驗證集 player_id：[12, 40, 1, 28, 22, 39, 4, 26, 37]\n",
      "  ➤ Fold 4 ROC AUC: 0.8618\n",
      "\n",
      "📊 每個類別在訓練與驗證集的 player 數：\n",
      "🔹 訓練集：{0: 27, 1: 6}\n",
      "🔹 驗證集：{0: 7, 1: 2}\n",
      "👤 驗證集 player_id：[37, 29, 35, 24, 12, 19, 38, 6, 20]\n",
      "  ➤ Fold 5 ROC AUC: 0.6438\n",
      "✅ 平均 ROC AUC: 0.7576\n",
      "\n",
      "🧪 測試第 17/30 組參數：{'n_estimators': 100, 'max_depth': 3, 'learning_rate': 0.1, 'subsample': 0.8, 'colsample_bytree': 0.6, 'gamma': 5, 'scale_pos_weight': 1}\n",
      "\n",
      "📊 每個類別在訓練與驗證集的 player 數：\n",
      "🔹 訓練集：{0: 27, 1: 6}\n",
      "🔹 驗證集：{0: 7, 1: 2}\n",
      "👤 驗證集 player_id：[42, 7, 37, 11, 15, 27, 8, 25, 21]\n",
      "  ➤ Fold 1 ROC AUC: 0.8882\n",
      "\n",
      "📊 每個類別在訓練與驗證集的 player 數：\n",
      "🔹 訓練集：{0: 27, 1: 6}\n",
      "🔹 驗證集：{1: 2, 0: 7}\n",
      "👤 驗證集 player_id：[25, 34, 22, 17, 5, 18, 1, 40, 26]\n",
      "  ➤ Fold 2 ROC AUC: 0.8974\n",
      "\n",
      "📊 每個類別在訓練與驗證集的 player 數：\n",
      "🔹 訓練集：{0: 27, 1: 6}\n",
      "🔹 驗證集：{1: 2, 0: 7}\n",
      "👤 驗證集 player_id：[29, 41, 36, 11, 1, 21, 42, 16, 4]\n",
      "  ➤ Fold 3 ROC AUC: 0.5248\n",
      "\n",
      "📊 每個類別在訓練與驗證集的 player 數：\n",
      "🔹 訓練集：{0: 27, 1: 6}\n",
      "🔹 驗證集：{0: 7, 1: 2}\n",
      "👤 驗證集 player_id：[12, 40, 1, 28, 22, 39, 4, 26, 37]\n",
      "  ➤ Fold 4 ROC AUC: 0.8679\n",
      "\n",
      "📊 每個類別在訓練與驗證集的 player 數：\n",
      "🔹 訓練集：{0: 27, 1: 6}\n",
      "🔹 驗證集：{0: 7, 1: 2}\n",
      "👤 驗證集 player_id：[37, 29, 35, 24, 12, 19, 38, 6, 20]\n",
      "  ➤ Fold 5 ROC AUC: 0.7310\n",
      "✅ 平均 ROC AUC: 0.7819\n",
      "\n",
      "🧪 測試第 18/30 組參數：{'n_estimators': 100, 'max_depth': 3, 'learning_rate': 0.1, 'subsample': 0.6, 'colsample_bytree': 1.0, 'gamma': 1, 'scale_pos_weight': 1}\n",
      "\n",
      "📊 每個類別在訓練與驗證集的 player 數：\n",
      "🔹 訓練集：{0: 27, 1: 6}\n",
      "🔹 驗證集：{0: 7, 1: 2}\n",
      "👤 驗證集 player_id：[42, 7, 37, 11, 15, 27, 8, 25, 21]\n",
      "  ➤ Fold 1 ROC AUC: 0.8701\n",
      "\n",
      "📊 每個類別在訓練與驗證集的 player 數：\n",
      "🔹 訓練集：{0: 27, 1: 6}\n",
      "🔹 驗證集：{1: 2, 0: 7}\n",
      "👤 驗證集 player_id：[25, 34, 22, 17, 5, 18, 1, 40, 26]\n",
      "  ➤ Fold 2 ROC AUC: 0.8987\n",
      "\n",
      "📊 每個類別在訓練與驗證集的 player 數：\n",
      "🔹 訓練集：{0: 27, 1: 6}\n",
      "🔹 驗證集：{1: 2, 0: 7}\n",
      "👤 驗證集 player_id：[29, 41, 36, 11, 1, 21, 42, 16, 4]\n",
      "  ➤ Fold 3 ROC AUC: 0.5247\n",
      "\n",
      "📊 每個類別在訓練與驗證集的 player 數：\n",
      "🔹 訓練集：{0: 27, 1: 6}\n",
      "🔹 驗證集：{0: 7, 1: 2}\n",
      "👤 驗證集 player_id：[12, 40, 1, 28, 22, 39, 4, 26, 37]\n",
      "  ➤ Fold 4 ROC AUC: 0.8649\n",
      "\n",
      "📊 每個類別在訓練與驗證集的 player 數：\n",
      "🔹 訓練集：{0: 27, 1: 6}\n",
      "🔹 驗證集：{0: 7, 1: 2}\n",
      "👤 驗證集 player_id：[37, 29, 35, 24, 12, 19, 38, 6, 20]\n",
      "  ➤ Fold 5 ROC AUC: 0.7219\n",
      "✅ 平均 ROC AUC: 0.7761\n",
      "\n",
      "🧪 測試第 19/30 組參數：{'n_estimators': 100, 'max_depth': 5, 'learning_rate': 0.2, 'subsample': 0.6, 'colsample_bytree': 0.6, 'gamma': 5, 'scale_pos_weight': 20}\n",
      "\n",
      "📊 每個類別在訓練與驗證集的 player 數：\n",
      "🔹 訓練集：{0: 27, 1: 6}\n",
      "🔹 驗證集：{0: 7, 1: 2}\n",
      "👤 驗證集 player_id：[42, 7, 37, 11, 15, 27, 8, 25, 21]\n",
      "  ➤ Fold 1 ROC AUC: 0.8467\n",
      "\n",
      "📊 每個類別在訓練與驗證集的 player 數：\n",
      "🔹 訓練集：{0: 27, 1: 6}\n",
      "🔹 驗證集：{1: 2, 0: 7}\n",
      "👤 驗證集 player_id：[25, 34, 22, 17, 5, 18, 1, 40, 26]\n",
      "  ➤ Fold 2 ROC AUC: 0.8741\n",
      "\n",
      "📊 每個類別在訓練與驗證集的 player 數：\n",
      "🔹 訓練集：{0: 27, 1: 6}\n",
      "🔹 驗證集：{1: 2, 0: 7}\n",
      "👤 驗證集 player_id：[29, 41, 36, 11, 1, 21, 42, 16, 4]\n",
      "  ➤ Fold 3 ROC AUC: 0.5667\n",
      "\n",
      "📊 每個類別在訓練與驗證集的 player 數：\n",
      "🔹 訓練集：{0: 27, 1: 6}\n",
      "🔹 驗證集：{0: 7, 1: 2}\n",
      "👤 驗證集 player_id：[12, 40, 1, 28, 22, 39, 4, 26, 37]\n",
      "  ➤ Fold 4 ROC AUC: 0.8455\n",
      "\n",
      "📊 每個類別在訓練與驗證集的 player 數：\n",
      "🔹 訓練集：{0: 27, 1: 6}\n",
      "🔹 驗證集：{0: 7, 1: 2}\n",
      "👤 驗證集 player_id：[37, 29, 35, 24, 12, 19, 38, 6, 20]\n",
      "  ➤ Fold 5 ROC AUC: 0.8130\n",
      "✅ 平均 ROC AUC: 0.7892\n",
      "\n",
      "🧪 測試第 20/30 組參數：{'n_estimators': 200, 'max_depth': 3, 'learning_rate': 0.01, 'subsample': 0.8, 'colsample_bytree': 1.0, 'gamma': 0, 'scale_pos_weight': 20}\n",
      "\n",
      "📊 每個類別在訓練與驗證集的 player 數：\n",
      "🔹 訓練集：{0: 27, 1: 6}\n",
      "🔹 驗證集：{0: 7, 1: 2}\n",
      "👤 驗證集 player_id：[42, 7, 37, 11, 15, 27, 8, 25, 21]\n",
      "  ➤ Fold 1 ROC AUC: 0.8769\n",
      "\n",
      "📊 每個類別在訓練與驗證集的 player 數：\n",
      "🔹 訓練集：{0: 27, 1: 6}\n",
      "🔹 驗證集：{1: 2, 0: 7}\n",
      "👤 驗證集 player_id：[25, 34, 22, 17, 5, 18, 1, 40, 26]\n",
      "  ➤ Fold 2 ROC AUC: 0.7642\n",
      "\n",
      "📊 每個類別在訓練與驗證集的 player 數：\n",
      "🔹 訓練集：{0: 27, 1: 6}\n",
      "🔹 驗證集：{1: 2, 0: 7}\n",
      "👤 驗證集 player_id：[29, 41, 36, 11, 1, 21, 42, 16, 4]\n",
      "  ➤ Fold 3 ROC AUC: 0.5033\n",
      "\n",
      "📊 每個類別在訓練與驗證集的 player 數：\n",
      "🔹 訓練集：{0: 27, 1: 6}\n",
      "🔹 驗證集：{0: 7, 1: 2}\n",
      "👤 驗證集 player_id：[12, 40, 1, 28, 22, 39, 4, 26, 37]\n",
      "  ➤ Fold 4 ROC AUC: 0.5941\n",
      "\n",
      "📊 每個類別在訓練與驗證集的 player 數：\n",
      "🔹 訓練集：{0: 27, 1: 6}\n",
      "🔹 驗證集：{0: 7, 1: 2}\n",
      "👤 驗證集 player_id：[37, 29, 35, 24, 12, 19, 38, 6, 20]\n",
      "  ➤ Fold 5 ROC AUC: 0.6499\n",
      "✅ 平均 ROC AUC: 0.6777\n",
      "\n",
      "🧪 測試第 21/30 組參數：{'n_estimators': 200, 'max_depth': 3, 'learning_rate': 0.05, 'subsample': 0.8, 'colsample_bytree': 1.0, 'gamma': 5, 'scale_pos_weight': 5}\n",
      "\n",
      "📊 每個類別在訓練與驗證集的 player 數：\n",
      "🔹 訓練集：{0: 27, 1: 6}\n",
      "🔹 驗證集：{0: 7, 1: 2}\n",
      "👤 驗證集 player_id：[42, 7, 37, 11, 15, 27, 8, 25, 21]\n",
      "  ➤ Fold 1 ROC AUC: 0.8532\n",
      "\n",
      "📊 每個類別在訓練與驗證集的 player 數：\n",
      "🔹 訓練集：{0: 27, 1: 6}\n",
      "🔹 驗證集：{1: 2, 0: 7}\n",
      "👤 驗證集 player_id：[25, 34, 22, 17, 5, 18, 1, 40, 26]\n",
      "  ➤ Fold 2 ROC AUC: 0.8865\n",
      "\n",
      "📊 每個類別在訓練與驗證集的 player 數：\n",
      "🔹 訓練集：{0: 27, 1: 6}\n",
      "🔹 驗證集：{1: 2, 0: 7}\n",
      "👤 驗證集 player_id：[29, 41, 36, 11, 1, 21, 42, 16, 4]\n",
      "  ➤ Fold 3 ROC AUC: 0.5314\n",
      "\n",
      "📊 每個類別在訓練與驗證集的 player 數：\n",
      "🔹 訓練集：{0: 27, 1: 6}\n",
      "🔹 驗證集：{0: 7, 1: 2}\n",
      "👤 驗證集 player_id：[12, 40, 1, 28, 22, 39, 4, 26, 37]\n",
      "  ➤ Fold 4 ROC AUC: 0.8605\n",
      "\n",
      "📊 每個類別在訓練與驗證集的 player 數：\n",
      "🔹 訓練集：{0: 27, 1: 6}\n",
      "🔹 驗證集：{0: 7, 1: 2}\n",
      "👤 驗證集 player_id：[37, 29, 35, 24, 12, 19, 38, 6, 20]\n",
      "  ➤ Fold 5 ROC AUC: 0.7495\n",
      "✅ 平均 ROC AUC: 0.7762\n",
      "\n",
      "🧪 測試第 22/30 組參數：{'n_estimators': 300, 'max_depth': 5, 'learning_rate': 0.1, 'subsample': 0.6, 'colsample_bytree': 1.0, 'gamma': 5, 'scale_pos_weight': 20}\n",
      "\n",
      "📊 每個類別在訓練與驗證集的 player 數：\n",
      "🔹 訓練集：{0: 27, 1: 6}\n",
      "🔹 驗證集：{0: 7, 1: 2}\n",
      "👤 驗證集 player_id：[42, 7, 37, 11, 15, 27, 8, 25, 21]\n",
      "  ➤ Fold 1 ROC AUC: 0.8401\n",
      "\n",
      "📊 每個類別在訓練與驗證集的 player 數：\n",
      "🔹 訓練集：{0: 27, 1: 6}\n",
      "🔹 驗證集：{1: 2, 0: 7}\n",
      "👤 驗證集 player_id：[25, 34, 22, 17, 5, 18, 1, 40, 26]\n",
      "  ➤ Fold 2 ROC AUC: 0.8865\n",
      "\n",
      "📊 每個類別在訓練與驗證集的 player 數：\n",
      "🔹 訓練集：{0: 27, 1: 6}\n",
      "🔹 驗證集：{1: 2, 0: 7}\n",
      "👤 驗證集 player_id：[29, 41, 36, 11, 1, 21, 42, 16, 4]\n",
      "  ➤ Fold 3 ROC AUC: 0.5898\n",
      "\n",
      "📊 每個類別在訓練與驗證集的 player 數：\n",
      "🔹 訓練集：{0: 27, 1: 6}\n",
      "🔹 驗證集：{0: 7, 1: 2}\n",
      "👤 驗證集 player_id：[12, 40, 1, 28, 22, 39, 4, 26, 37]\n",
      "  ➤ Fold 4 ROC AUC: 0.8360\n",
      "\n",
      "📊 每個類別在訓練與驗證集的 player 數：\n",
      "🔹 訓練集：{0: 27, 1: 6}\n",
      "🔹 驗證集：{0: 7, 1: 2}\n",
      "👤 驗證集 player_id：[37, 29, 35, 24, 12, 19, 38, 6, 20]\n",
      "  ➤ Fold 5 ROC AUC: 0.8107\n",
      "✅ 平均 ROC AUC: 0.7926\n",
      "\n",
      "🧪 測試第 23/30 組參數：{'n_estimators': 300, 'max_depth': 9, 'learning_rate': 0.05, 'subsample': 0.8, 'colsample_bytree': 1.0, 'gamma': 5, 'scale_pos_weight': 20}\n",
      "\n",
      "📊 每個類別在訓練與驗證集的 player 數：\n",
      "🔹 訓練集：{0: 27, 1: 6}\n",
      "🔹 驗證集：{0: 7, 1: 2}\n",
      "👤 驗證集 player_id：[42, 7, 37, 11, 15, 27, 8, 25, 21]\n",
      "  ➤ Fold 1 ROC AUC: 0.8632\n",
      "\n",
      "📊 每個類別在訓練與驗證集的 player 數：\n",
      "🔹 訓練集：{0: 27, 1: 6}\n",
      "🔹 驗證集：{1: 2, 0: 7}\n",
      "👤 驗證集 player_id：[25, 34, 22, 17, 5, 18, 1, 40, 26]\n",
      "  ➤ Fold 2 ROC AUC: 0.8761\n",
      "\n",
      "📊 每個類別在訓練與驗證集的 player 數：\n",
      "🔹 訓練集：{0: 27, 1: 6}\n",
      "🔹 驗證集：{1: 2, 0: 7}\n",
      "👤 驗證集 player_id：[29, 41, 36, 11, 1, 21, 42, 16, 4]\n",
      "  ➤ Fold 3 ROC AUC: 0.5466\n",
      "\n",
      "📊 每個類別在訓練與驗證集的 player 數：\n",
      "🔹 訓練集：{0: 27, 1: 6}\n",
      "🔹 驗證集：{0: 7, 1: 2}\n",
      "👤 驗證集 player_id：[12, 40, 1, 28, 22, 39, 4, 26, 37]\n",
      "  ➤ Fold 4 ROC AUC: 0.8334\n",
      "\n",
      "📊 每個類別在訓練與驗證集的 player 數：\n",
      "🔹 訓練集：{0: 27, 1: 6}\n",
      "🔹 驗證集：{0: 7, 1: 2}\n",
      "👤 驗證集 player_id：[37, 29, 35, 24, 12, 19, 38, 6, 20]\n",
      "  ➤ Fold 5 ROC AUC: 0.8113\n",
      "✅ 平均 ROC AUC: 0.7861\n",
      "\n",
      "🧪 測試第 24/30 組參數：{'n_estimators': 100, 'max_depth': 3, 'learning_rate': 0.1, 'subsample': 0.6, 'colsample_bytree': 0.6, 'gamma': 0, 'scale_pos_weight': 5}\n",
      "\n",
      "📊 每個類別在訓練與驗證集的 player 數：\n",
      "🔹 訓練集：{0: 27, 1: 6}\n",
      "🔹 驗證集：{0: 7, 1: 2}\n",
      "👤 驗證集 player_id：[42, 7, 37, 11, 15, 27, 8, 25, 21]\n",
      "  ➤ Fold 1 ROC AUC: 0.8616\n",
      "\n",
      "📊 每個類別在訓練與驗證集的 player 數：\n",
      "🔹 訓練集：{0: 27, 1: 6}\n",
      "🔹 驗證集：{1: 2, 0: 7}\n",
      "👤 驗證集 player_id：[25, 34, 22, 17, 5, 18, 1, 40, 26]\n",
      "  ➤ Fold 2 ROC AUC: 0.8912\n",
      "\n",
      "📊 每個類別在訓練與驗證集的 player 數：\n",
      "🔹 訓練集：{0: 27, 1: 6}\n",
      "🔹 驗證集：{1: 2, 0: 7}\n",
      "👤 驗證集 player_id：[29, 41, 36, 11, 1, 21, 42, 16, 4]\n",
      "  ➤ Fold 3 ROC AUC: 0.5374\n",
      "\n",
      "📊 每個類別在訓練與驗證集的 player 數：\n",
      "🔹 訓練集：{0: 27, 1: 6}\n",
      "🔹 驗證集：{0: 7, 1: 2}\n",
      "👤 驗證集 player_id：[12, 40, 1, 28, 22, 39, 4, 26, 37]\n",
      "  ➤ Fold 4 ROC AUC: 0.8283\n",
      "\n",
      "📊 每個類別在訓練與驗證集的 player 數：\n",
      "🔹 訓練集：{0: 27, 1: 6}\n",
      "🔹 驗證集：{0: 7, 1: 2}\n",
      "👤 驗證集 player_id：[37, 29, 35, 24, 12, 19, 38, 6, 20]\n",
      "  ➤ Fold 5 ROC AUC: 0.7333\n",
      "✅ 平均 ROC AUC: 0.7704\n",
      "\n",
      "🧪 測試第 25/30 組參數：{'n_estimators': 300, 'max_depth': 7, 'learning_rate': 0.1, 'subsample': 0.8, 'colsample_bytree': 1.0, 'gamma': 0, 'scale_pos_weight': 5}\n",
      "\n",
      "📊 每個類別在訓練與驗證集的 player 數：\n",
      "🔹 訓練集：{0: 27, 1: 6}\n",
      "🔹 驗證集：{0: 7, 1: 2}\n",
      "👤 驗證集 player_id：[42, 7, 37, 11, 15, 27, 8, 25, 21]\n",
      "  ➤ Fold 1 ROC AUC: 0.8618\n",
      "\n",
      "📊 每個類別在訓練與驗證集的 player 數：\n",
      "🔹 訓練集：{0: 27, 1: 6}\n",
      "🔹 驗證集：{1: 2, 0: 7}\n",
      "👤 驗證集 player_id：[25, 34, 22, 17, 5, 18, 1, 40, 26]\n",
      "  ➤ Fold 2 ROC AUC: 0.8914\n",
      "\n",
      "📊 每個類別在訓練與驗證集的 player 數：\n",
      "🔹 訓練集：{0: 27, 1: 6}\n",
      "🔹 驗證集：{1: 2, 0: 7}\n",
      "👤 驗證集 player_id：[29, 41, 36, 11, 1, 21, 42, 16, 4]\n",
      "  ➤ Fold 3 ROC AUC: 0.5813\n",
      "\n",
      "📊 每個類別在訓練與驗證集的 player 數：\n",
      "🔹 訓練集：{0: 27, 1: 6}\n",
      "🔹 驗證集：{0: 7, 1: 2}\n",
      "👤 驗證集 player_id：[12, 40, 1, 28, 22, 39, 4, 26, 37]\n",
      "  ➤ Fold 4 ROC AUC: 0.8812\n",
      "\n",
      "📊 每個類別在訓練與驗證集的 player 數：\n",
      "🔹 訓練集：{0: 27, 1: 6}\n",
      "🔹 驗證集：{0: 7, 1: 2}\n",
      "👤 驗證集 player_id：[37, 29, 35, 24, 12, 19, 38, 6, 20]\n",
      "  ➤ Fold 5 ROC AUC: 0.8118\n",
      "✅ 平均 ROC AUC: 0.8055\n",
      "🎯 新最佳模型！已更新\n",
      "============================================================\n",
      "\n",
      "🧪 測試第 26/30 組參數：{'n_estimators': 100, 'max_depth': 9, 'learning_rate': 0.2, 'subsample': 0.6, 'colsample_bytree': 0.6, 'gamma': 5, 'scale_pos_weight': 1}\n",
      "\n",
      "📊 每個類別在訓練與驗證集的 player 數：\n",
      "🔹 訓練集：{0: 27, 1: 6}\n",
      "🔹 驗證集：{0: 7, 1: 2}\n",
      "👤 驗證集 player_id：[42, 7, 37, 11, 15, 27, 8, 25, 21]\n",
      "  ➤ Fold 1 ROC AUC: 0.8461\n",
      "\n",
      "📊 每個類別在訓練與驗證集的 player 數：\n",
      "🔹 訓練集：{0: 27, 1: 6}\n",
      "🔹 驗證集：{1: 2, 0: 7}\n",
      "👤 驗證集 player_id：[25, 34, 22, 17, 5, 18, 1, 40, 26]\n",
      "  ➤ Fold 2 ROC AUC: 0.8778\n",
      "\n",
      "📊 每個類別在訓練與驗證集的 player 數：\n",
      "🔹 訓練集：{0: 27, 1: 6}\n",
      "🔹 驗證集：{1: 2, 0: 7}\n",
      "👤 驗證集 player_id：[29, 41, 36, 11, 1, 21, 42, 16, 4]\n",
      "  ➤ Fold 3 ROC AUC: 0.5455\n",
      "\n",
      "📊 每個類別在訓練與驗證集的 player 數：\n",
      "🔹 訓練集：{0: 27, 1: 6}\n",
      "🔹 驗證集：{0: 7, 1: 2}\n",
      "👤 驗證集 player_id：[12, 40, 1, 28, 22, 39, 4, 26, 37]\n",
      "  ➤ Fold 4 ROC AUC: 0.8440\n",
      "\n",
      "📊 每個類別在訓練與驗證集的 player 數：\n",
      "🔹 訓練集：{0: 27, 1: 6}\n",
      "🔹 驗證集：{0: 7, 1: 2}\n",
      "👤 驗證集 player_id：[37, 29, 35, 24, 12, 19, 38, 6, 20]\n",
      "  ➤ Fold 5 ROC AUC: 0.7692\n",
      "✅ 平均 ROC AUC: 0.7765\n",
      "\n",
      "🧪 測試第 27/30 組參數：{'n_estimators': 500, 'max_depth': 5, 'learning_rate': 0.1, 'subsample': 0.6, 'colsample_bytree': 1.0, 'gamma': 5, 'scale_pos_weight': 5}\n",
      "\n",
      "📊 每個類別在訓練與驗證集的 player 數：\n",
      "🔹 訓練集：{0: 27, 1: 6}\n",
      "🔹 驗證集：{0: 7, 1: 2}\n",
      "👤 驗證集 player_id：[42, 7, 37, 11, 15, 27, 8, 25, 21]\n",
      "  ➤ Fold 1 ROC AUC: 0.8446\n",
      "\n",
      "📊 每個類別在訓練與驗證集的 player 數：\n",
      "🔹 訓練集：{0: 27, 1: 6}\n",
      "🔹 驗證集：{1: 2, 0: 7}\n",
      "👤 驗證集 player_id：[25, 34, 22, 17, 5, 18, 1, 40, 26]\n",
      "  ➤ Fold 2 ROC AUC: 0.9097\n",
      "\n",
      "📊 每個類別在訓練與驗證集的 player 數：\n",
      "🔹 訓練集：{0: 27, 1: 6}\n",
      "🔹 驗證集：{1: 2, 0: 7}\n",
      "👤 驗證集 player_id：[29, 41, 36, 11, 1, 21, 42, 16, 4]\n",
      "  ➤ Fold 3 ROC AUC: 0.5618\n",
      "\n",
      "📊 每個類別在訓練與驗證集的 player 數：\n",
      "🔹 訓練集：{0: 27, 1: 6}\n",
      "🔹 驗證集：{0: 7, 1: 2}\n",
      "👤 驗證集 player_id：[12, 40, 1, 28, 22, 39, 4, 26, 37]\n",
      "  ➤ Fold 4 ROC AUC: 0.8648\n",
      "\n",
      "📊 每個類別在訓練與驗證集的 player 數：\n",
      "🔹 訓練集：{0: 27, 1: 6}\n",
      "🔹 驗證集：{0: 7, 1: 2}\n",
      "👤 驗證集 player_id：[37, 29, 35, 24, 12, 19, 38, 6, 20]\n",
      "  ➤ Fold 5 ROC AUC: 0.8166\n",
      "✅ 平均 ROC AUC: 0.7995\n",
      "\n",
      "🧪 測試第 28/30 組參數：{'n_estimators': 500, 'max_depth': 3, 'learning_rate': 0.05, 'subsample': 0.6, 'colsample_bytree': 1.0, 'gamma': 1, 'scale_pos_weight': 20}\n",
      "\n",
      "📊 每個類別在訓練與驗證集的 player 數：\n",
      "🔹 訓練集：{0: 27, 1: 6}\n",
      "🔹 驗證集：{0: 7, 1: 2}\n",
      "👤 驗證集 player_id：[42, 7, 37, 11, 15, 27, 8, 25, 21]\n",
      "  ➤ Fold 1 ROC AUC: 0.8329\n",
      "\n",
      "📊 每個類別在訓練與驗證集的 player 數：\n",
      "🔹 訓練集：{0: 27, 1: 6}\n",
      "🔹 驗證集：{1: 2, 0: 7}\n",
      "👤 驗證集 player_id：[25, 34, 22, 17, 5, 18, 1, 40, 26]\n",
      "  ➤ Fold 2 ROC AUC: 0.8712\n",
      "\n",
      "📊 每個類別在訓練與驗證集的 player 數：\n",
      "🔹 訓練集：{0: 27, 1: 6}\n",
      "🔹 驗證集：{1: 2, 0: 7}\n",
      "👤 驗證集 player_id：[29, 41, 36, 11, 1, 21, 42, 16, 4]\n",
      "  ➤ Fold 3 ROC AUC: 0.5500\n",
      "\n",
      "📊 每個類別在訓練與驗證集的 player 數：\n",
      "🔹 訓練集：{0: 27, 1: 6}\n",
      "🔹 驗證集：{0: 7, 1: 2}\n",
      "👤 驗證集 player_id：[12, 40, 1, 28, 22, 39, 4, 26, 37]\n",
      "  ➤ Fold 4 ROC AUC: 0.8460\n",
      "\n",
      "📊 每個類別在訓練與驗證集的 player 數：\n",
      "🔹 訓練集：{0: 27, 1: 6}\n",
      "🔹 驗證集：{0: 7, 1: 2}\n",
      "👤 驗證集 player_id：[37, 29, 35, 24, 12, 19, 38, 6, 20]\n",
      "  ➤ Fold 5 ROC AUC: 0.7922\n",
      "✅ 平均 ROC AUC: 0.7784\n",
      "\n",
      "🧪 測試第 29/30 組參數：{'n_estimators': 500, 'max_depth': 5, 'learning_rate': 0.05, 'subsample': 0.6, 'colsample_bytree': 0.8, 'gamma': 5, 'scale_pos_weight': 5}\n",
      "\n",
      "📊 每個類別在訓練與驗證集的 player 數：\n",
      "🔹 訓練集：{0: 27, 1: 6}\n",
      "🔹 驗證集：{0: 7, 1: 2}\n",
      "👤 驗證集 player_id：[42, 7, 37, 11, 15, 27, 8, 25, 21]\n",
      "  ➤ Fold 1 ROC AUC: 0.8458\n",
      "\n",
      "📊 每個類別在訓練與驗證集的 player 數：\n",
      "🔹 訓練集：{0: 27, 1: 6}\n",
      "🔹 驗證集：{1: 2, 0: 7}\n",
      "👤 驗證集 player_id：[25, 34, 22, 17, 5, 18, 1, 40, 26]\n",
      "  ➤ Fold 2 ROC AUC: 0.8978\n",
      "\n",
      "📊 每個類別在訓練與驗證集的 player 數：\n",
      "🔹 訓練集：{0: 27, 1: 6}\n",
      "🔹 驗證集：{1: 2, 0: 7}\n",
      "👤 驗證集 player_id：[29, 41, 36, 11, 1, 21, 42, 16, 4]\n",
      "  ➤ Fold 3 ROC AUC: 0.5758\n",
      "\n",
      "📊 每個類別在訓練與驗證集的 player 數：\n",
      "🔹 訓練集：{0: 27, 1: 6}\n",
      "🔹 驗證集：{0: 7, 1: 2}\n",
      "👤 驗證集 player_id：[12, 40, 1, 28, 22, 39, 4, 26, 37]\n",
      "  ➤ Fold 4 ROC AUC: 0.8786\n",
      "\n",
      "📊 每個類別在訓練與驗證集的 player 數：\n",
      "🔹 訓練集：{0: 27, 1: 6}\n",
      "🔹 驗證集：{0: 7, 1: 2}\n",
      "👤 驗證集 player_id：[37, 29, 35, 24, 12, 19, 38, 6, 20]\n",
      "  ➤ Fold 5 ROC AUC: 0.8182\n",
      "✅ 平均 ROC AUC: 0.8032\n",
      "\n",
      "🧪 測試第 30/30 組參數：{'n_estimators': 300, 'max_depth': 7, 'learning_rate': 0.05, 'subsample': 0.8, 'colsample_bytree': 0.6, 'gamma': 0, 'scale_pos_weight': 1}\n",
      "\n",
      "📊 每個類別在訓練與驗證集的 player 數：\n",
      "🔹 訓練集：{0: 27, 1: 6}\n",
      "🔹 驗證集：{0: 7, 1: 2}\n",
      "👤 驗證集 player_id：[42, 7, 37, 11, 15, 27, 8, 25, 21]\n",
      "  ➤ Fold 1 ROC AUC: 0.8696\n",
      "\n",
      "📊 每個類別在訓練與驗證集的 player 數：\n",
      "🔹 訓練集：{0: 27, 1: 6}\n",
      "🔹 驗證集：{1: 2, 0: 7}\n",
      "👤 驗證集 player_id：[25, 34, 22, 17, 5, 18, 1, 40, 26]\n",
      "  ➤ Fold 2 ROC AUC: 0.9091\n",
      "\n",
      "📊 每個類別在訓練與驗證集的 player 數：\n",
      "🔹 訓練集：{0: 27, 1: 6}\n",
      "🔹 驗證集：{1: 2, 0: 7}\n",
      "👤 驗證集 player_id：[29, 41, 36, 11, 1, 21, 42, 16, 4]\n",
      "  ➤ Fold 3 ROC AUC: 0.5552\n",
      "\n",
      "📊 每個類別在訓練與驗證集的 player 數：\n",
      "🔹 訓練集：{0: 27, 1: 6}\n",
      "🔹 驗證集：{0: 7, 1: 2}\n",
      "👤 驗證集 player_id：[12, 40, 1, 28, 22, 39, 4, 26, 37]\n",
      "  ➤ Fold 4 ROC AUC: 0.8831\n",
      "\n",
      "📊 每個類別在訓練與驗證集的 player 數：\n",
      "🔹 訓練集：{0: 27, 1: 6}\n",
      "🔹 驗證集：{0: 7, 1: 2}\n",
      "👤 驗證集 player_id：[37, 29, 35, 24, 12, 19, 38, 6, 20]\n",
      "  ➤ Fold 5 ROC AUC: 0.8110\n",
      "✅ 平均 ROC AUC: 0.8056\n",
      "🎯 新最佳模型！已更新\n",
      "============================================================\n",
      "\n",
      "🏁 最佳 ROC AUC: 0.8056 對應參數：{'n_estimators': 300, 'max_depth': 7, 'learning_rate': 0.05, 'subsample': 0.8, 'colsample_bytree': 0.6, 'gamma': 0, 'scale_pos_weight': 1}\n",
      "\n",
      "🏆 最佳 ROC AUC: 0.8056\n",
      "🎯 使用最佳參數重新訓練完整模型並預測測試集\n",
      "============================================================\n"
     ]
    }
   ],
   "source": [
    "# === 性別預測（gender）===\n",
    "df_gender, model_gender, cols_gender = train_and_predict_xgb(\n",
    "    y_name='gender',\n",
    "    smote_ratio=1,\n",
    "    return_model=True,\n",
    "    cv_mode='manual_kfold',\n",
    "    fold_count=5,\n",
    "    n_iter=30\n",
    ")"
   ]
  },
  {
   "cell_type": "code",
   "execution_count": 54,
   "id": "62707e18",
   "metadata": {},
   "outputs": [
    {
     "name": "stdout",
     "output_type": "stream",
     "text": [
      "\n",
      "🚀 開始訓練任務：hold racket handed（cv_mode=manual_kfold）\n",
      "\n",
      "🔍 開始搜尋共 30 組參數，每組做 5-Fold 驗證\n",
      "------------------------------------------------------------\n",
      "\n",
      "🧪 測試第 1/30 組參數：{'n_estimators': 500, 'max_depth': 3, 'learning_rate': 0.01, 'subsample': 0.8, 'colsample_bytree': 0.8, 'gamma': 1, 'scale_pos_weight': 10}\n",
      "\n",
      "📊 每個類別在訓練與驗證集的 player 數：\n",
      "🔹 訓練集：{0: 27, 1: 6}\n",
      "🔹 驗證集：{0: 8, 1: 1}\n",
      "👤 驗證集 player_id：[10, 23, 18, 42, 11, 35, 25, 34, 31]\n",
      "  ➤ Fold 1 ROC AUC: 0.9992\n",
      "\n",
      "📊 每個類別在訓練與驗證集的 player 數：\n",
      "🔹 訓練集：{0: 27, 1: 6}\n",
      "🔹 驗證集：{0: 8, 1: 1}\n",
      "👤 驗證集 player_id：[24, 27, 36, 33, 26, 1, 3, 22, 21]\n",
      "  ➤ Fold 2 ROC AUC: 0.9919\n",
      "\n",
      "📊 每個類別在訓練與驗證集的 player 數：\n",
      "🔹 訓練集：{0: 27, 1: 6}\n",
      "🔹 驗證集：{0: 8, 1: 1}\n",
      "👤 驗證集 player_id：[25, 42, 39, 19, 8, 4, 14, 29, 30]\n",
      "  ➤ Fold 3 ROC AUC: 0.9983\n",
      "\n",
      "📊 每個類別在訓練與驗證集的 player 數：\n",
      "🔹 訓練集：{0: 28, 1: 5}\n",
      "🔹 驗證集：{0: 7, 1: 2}\n",
      "👤 驗證集 player_id：[36, 37, 26, 39, 27, 38, 4, 41, 8]\n",
      "  ➤ Fold 4 ROC AUC: 0.9988\n",
      "\n",
      "📊 每個類別在訓練與驗證集的 player 數：\n",
      "🔹 訓練集：{0: 28, 1: 5}\n",
      "🔹 驗證集：{0: 7, 1: 2}\n",
      "👤 驗證集 player_id：[35, 34, 15, 5, 9, 23, 36, 24, 33]\n",
      "  ➤ Fold 5 ROC AUC: 0.9958\n",
      "✅ 平均 ROC AUC: 0.9968\n",
      "🎯 新最佳模型！已更新\n",
      "============================================================\n",
      "\n",
      "🧪 測試第 2/30 組參數：{'n_estimators': 100, 'max_depth': 7, 'learning_rate': 0.01, 'subsample': 0.8, 'colsample_bytree': 0.8, 'gamma': 0, 'scale_pos_weight': 1}\n",
      "\n",
      "📊 每個類別在訓練與驗證集的 player 數：\n",
      "🔹 訓練集：{0: 27, 1: 6}\n",
      "🔹 驗證集：{0: 8, 1: 1}\n",
      "👤 驗證集 player_id：[10, 23, 18, 42, 11, 35, 25, 34, 31]\n",
      "  ➤ Fold 1 ROC AUC: 0.9996\n",
      "\n",
      "📊 每個類別在訓練與驗證集的 player 數：\n",
      "🔹 訓練集：{0: 27, 1: 6}\n",
      "🔹 驗證集：{0: 8, 1: 1}\n",
      "👤 驗證集 player_id：[24, 27, 36, 33, 26, 1, 3, 22, 21]\n",
      "  ➤ Fold 2 ROC AUC: 0.9951\n",
      "\n",
      "📊 每個類別在訓練與驗證集的 player 數：\n",
      "🔹 訓練集：{0: 27, 1: 6}\n",
      "🔹 驗證集：{0: 8, 1: 1}\n",
      "👤 驗證集 player_id：[25, 42, 39, 19, 8, 4, 14, 29, 30]\n",
      "  ➤ Fold 3 ROC AUC: 0.9977\n",
      "\n",
      "📊 每個類別在訓練與驗證集的 player 數：\n",
      "🔹 訓練集：{0: 28, 1: 5}\n",
      "🔹 驗證集：{0: 7, 1: 2}\n",
      "👤 驗證集 player_id：[36, 37, 26, 39, 27, 38, 4, 41, 8]\n",
      "  ➤ Fold 4 ROC AUC: 0.9986\n",
      "\n",
      "📊 每個類別在訓練與驗證集的 player 數：\n",
      "🔹 訓練集：{0: 28, 1: 5}\n",
      "🔹 驗證集：{0: 7, 1: 2}\n",
      "👤 驗證集 player_id：[35, 34, 15, 5, 9, 23, 36, 24, 33]\n",
      "  ➤ Fold 5 ROC AUC: 0.9971\n",
      "✅ 平均 ROC AUC: 0.9976\n",
      "🎯 新最佳模型！已更新\n",
      "============================================================\n",
      "\n",
      "🧪 測試第 3/30 組參數：{'n_estimators': 100, 'max_depth': 3, 'learning_rate': 0.05, 'subsample': 1.0, 'colsample_bytree': 1.0, 'gamma': 0, 'scale_pos_weight': 1}\n",
      "\n",
      "📊 每個類別在訓練與驗證集的 player 數：\n",
      "🔹 訓練集：{0: 27, 1: 6}\n",
      "🔹 驗證集：{0: 8, 1: 1}\n",
      "👤 驗證集 player_id：[10, 23, 18, 42, 11, 35, 25, 34, 31]\n",
      "  ➤ Fold 1 ROC AUC: 0.9992\n",
      "\n",
      "📊 每個類別在訓練與驗證集的 player 數：\n",
      "🔹 訓練集：{0: 27, 1: 6}\n",
      "🔹 驗證集：{0: 8, 1: 1}\n",
      "👤 驗證集 player_id：[24, 27, 36, 33, 26, 1, 3, 22, 21]\n",
      "  ➤ Fold 2 ROC AUC: 0.9947\n",
      "\n",
      "📊 每個類別在訓練與驗證集的 player 數：\n",
      "🔹 訓練集：{0: 27, 1: 6}\n",
      "🔹 驗證集：{0: 8, 1: 1}\n",
      "👤 驗證集 player_id：[25, 42, 39, 19, 8, 4, 14, 29, 30]\n",
      "  ➤ Fold 3 ROC AUC: 0.9984\n",
      "\n",
      "📊 每個類別在訓練與驗證集的 player 數：\n",
      "🔹 訓練集：{0: 28, 1: 5}\n",
      "🔹 驗證集：{0: 7, 1: 2}\n",
      "👤 驗證集 player_id：[36, 37, 26, 39, 27, 38, 4, 41, 8]\n",
      "  ➤ Fold 4 ROC AUC: 0.9987\n",
      "\n",
      "📊 每個類別在訓練與驗證集的 player 數：\n",
      "🔹 訓練集：{0: 28, 1: 5}\n",
      "🔹 驗證集：{0: 7, 1: 2}\n",
      "👤 驗證集 player_id：[35, 34, 15, 5, 9, 23, 36, 24, 33]\n",
      "  ➤ Fold 5 ROC AUC: 0.9964\n",
      "✅ 平均 ROC AUC: 0.9975\n",
      "\n",
      "🧪 測試第 4/30 組參數：{'n_estimators': 500, 'max_depth': 7, 'learning_rate': 0.01, 'subsample': 0.6, 'colsample_bytree': 1.0, 'gamma': 0, 'scale_pos_weight': 10}\n",
      "\n",
      "📊 每個類別在訓練與驗證集的 player 數：\n",
      "🔹 訓練集：{0: 27, 1: 6}\n",
      "🔹 驗證集：{0: 8, 1: 1}\n",
      "👤 驗證集 player_id：[10, 23, 18, 42, 11, 35, 25, 34, 31]\n",
      "  ➤ Fold 1 ROC AUC: 0.9998\n",
      "\n",
      "📊 每個類別在訓練與驗證集的 player 數：\n",
      "🔹 訓練集：{0: 27, 1: 6}\n",
      "🔹 驗證集：{0: 8, 1: 1}\n",
      "👤 驗證集 player_id：[24, 27, 36, 33, 26, 1, 3, 22, 21]\n",
      "  ➤ Fold 2 ROC AUC: 0.9956\n",
      "\n",
      "📊 每個類別在訓練與驗證集的 player 數：\n",
      "🔹 訓練集：{0: 27, 1: 6}\n",
      "🔹 驗證集：{0: 8, 1: 1}\n",
      "👤 驗證集 player_id：[25, 42, 39, 19, 8, 4, 14, 29, 30]\n",
      "  ➤ Fold 3 ROC AUC: 0.9990\n",
      "\n",
      "📊 每個類別在訓練與驗證集的 player 數：\n",
      "🔹 訓練集：{0: 28, 1: 5}\n",
      "🔹 驗證集：{0: 7, 1: 2}\n",
      "👤 驗證集 player_id：[36, 37, 26, 39, 27, 38, 4, 41, 8]\n",
      "  ➤ Fold 4 ROC AUC: 0.9988\n",
      "\n",
      "📊 每個類別在訓練與驗證集的 player 數：\n",
      "🔹 訓練集：{0: 28, 1: 5}\n",
      "🔹 驗證集：{0: 7, 1: 2}\n",
      "👤 驗證集 player_id：[35, 34, 15, 5, 9, 23, 36, 24, 33]\n",
      "  ➤ Fold 5 ROC AUC: 0.9969\n",
      "✅ 平均 ROC AUC: 0.9980\n",
      "🎯 新最佳模型！已更新\n",
      "============================================================\n",
      "\n",
      "🧪 測試第 5/30 組參數：{'n_estimators': 200, 'max_depth': 5, 'learning_rate': 0.01, 'subsample': 1.0, 'colsample_bytree': 0.8, 'gamma': 5, 'scale_pos_weight': 5}\n",
      "\n",
      "📊 每個類別在訓練與驗證集的 player 數：\n",
      "🔹 訓練集：{0: 27, 1: 6}\n",
      "🔹 驗證集：{0: 8, 1: 1}\n",
      "👤 驗證集 player_id：[10, 23, 18, 42, 11, 35, 25, 34, 31]\n",
      "  ➤ Fold 1 ROC AUC: 0.9995\n",
      "\n",
      "📊 每個類別在訓練與驗證集的 player 數：\n",
      "🔹 訓練集：{0: 27, 1: 6}\n",
      "🔹 驗證集：{0: 8, 1: 1}\n",
      "👤 驗證集 player_id：[24, 27, 36, 33, 26, 1, 3, 22, 21]\n",
      "  ➤ Fold 2 ROC AUC: 0.9944\n",
      "\n",
      "📊 每個類別在訓練與驗證集的 player 數：\n",
      "🔹 訓練集：{0: 27, 1: 6}\n",
      "🔹 驗證集：{0: 8, 1: 1}\n",
      "👤 驗證集 player_id：[25, 42, 39, 19, 8, 4, 14, 29, 30]\n",
      "  ➤ Fold 3 ROC AUC: 0.9976\n",
      "\n",
      "📊 每個類別在訓練與驗證集的 player 數：\n",
      "🔹 訓練集：{0: 28, 1: 5}\n",
      "🔹 驗證集：{0: 7, 1: 2}\n",
      "👤 驗證集 player_id：[36, 37, 26, 39, 27, 38, 4, 41, 8]\n",
      "  ➤ Fold 4 ROC AUC: 0.9979\n",
      "\n",
      "📊 每個類別在訓練與驗證集的 player 數：\n",
      "🔹 訓練集：{0: 28, 1: 5}\n",
      "🔹 驗證集：{0: 7, 1: 2}\n",
      "👤 驗證集 player_id：[35, 34, 15, 5, 9, 23, 36, 24, 33]\n",
      "  ➤ Fold 5 ROC AUC: 0.9967\n",
      "✅ 平均 ROC AUC: 0.9972\n",
      "\n",
      "🧪 測試第 6/30 組參數：{'n_estimators': 200, 'max_depth': 3, 'learning_rate': 0.1, 'subsample': 0.8, 'colsample_bytree': 1.0, 'gamma': 0, 'scale_pos_weight': 10}\n",
      "\n",
      "📊 每個類別在訓練與驗證集的 player 數：\n",
      "🔹 訓練集：{0: 27, 1: 6}\n",
      "🔹 驗證集：{0: 8, 1: 1}\n",
      "👤 驗證集 player_id：[10, 23, 18, 42, 11, 35, 25, 34, 31]\n",
      "  ➤ Fold 1 ROC AUC: 0.9998\n",
      "\n",
      "📊 每個類別在訓練與驗證集的 player 數：\n",
      "🔹 訓練集：{0: 27, 1: 6}\n",
      "🔹 驗證集：{0: 8, 1: 1}\n",
      "👤 驗證集 player_id：[24, 27, 36, 33, 26, 1, 3, 22, 21]\n",
      "  ➤ Fold 2 ROC AUC: 0.9979\n",
      "\n",
      "📊 每個類別在訓練與驗證集的 player 數：\n",
      "🔹 訓練集：{0: 27, 1: 6}\n",
      "🔹 驗證集：{0: 8, 1: 1}\n",
      "👤 驗證集 player_id：[25, 42, 39, 19, 8, 4, 14, 29, 30]\n",
      "  ➤ Fold 3 ROC AUC: 0.9997\n",
      "\n",
      "📊 每個類別在訓練與驗證集的 player 數：\n",
      "🔹 訓練集：{0: 28, 1: 5}\n",
      "🔹 驗證集：{0: 7, 1: 2}\n",
      "👤 驗證集 player_id：[36, 37, 26, 39, 27, 38, 4, 41, 8]\n",
      "  ➤ Fold 4 ROC AUC: 0.9993\n",
      "\n",
      "📊 每個類別在訓練與驗證集的 player 數：\n",
      "🔹 訓練集：{0: 28, 1: 5}\n",
      "🔹 驗證集：{0: 7, 1: 2}\n",
      "👤 驗證集 player_id：[35, 34, 15, 5, 9, 23, 36, 24, 33]\n",
      "  ➤ Fold 5 ROC AUC: 0.9986\n",
      "✅ 平均 ROC AUC: 0.9991\n",
      "🎯 新最佳模型！已更新\n",
      "============================================================\n",
      "\n",
      "🧪 測試第 7/30 組參數：{'n_estimators': 200, 'max_depth': 3, 'learning_rate': 0.01, 'subsample': 1.0, 'colsample_bytree': 1.0, 'gamma': 1, 'scale_pos_weight': 1}\n",
      "\n",
      "📊 每個類別在訓練與驗證集的 player 數：\n",
      "🔹 訓練集：{0: 27, 1: 6}\n",
      "🔹 驗證集：{0: 8, 1: 1}\n",
      "👤 驗證集 player_id：[10, 23, 18, 42, 11, 35, 25, 34, 31]\n",
      "  ➤ Fold 1 ROC AUC: 0.9978\n",
      "\n",
      "📊 每個類別在訓練與驗證集的 player 數：\n",
      "🔹 訓練集：{0: 27, 1: 6}\n",
      "🔹 驗證集：{0: 8, 1: 1}\n",
      "👤 驗證集 player_id：[24, 27, 36, 33, 26, 1, 3, 22, 21]\n",
      "  ➤ Fold 2 ROC AUC: 0.9819\n",
      "\n",
      "📊 每個類別在訓練與驗證集的 player 數：\n",
      "🔹 訓練集：{0: 27, 1: 6}\n",
      "🔹 驗證集：{0: 8, 1: 1}\n",
      "👤 驗證集 player_id：[25, 42, 39, 19, 8, 4, 14, 29, 30]\n",
      "  ➤ Fold 3 ROC AUC: 0.9928\n",
      "\n",
      "📊 每個類別在訓練與驗證集的 player 數：\n",
      "🔹 訓練集：{0: 28, 1: 5}\n",
      "🔹 驗證集：{0: 7, 1: 2}\n",
      "👤 驗證集 player_id：[36, 37, 26, 39, 27, 38, 4, 41, 8]\n",
      "  ➤ Fold 4 ROC AUC: 0.9940\n",
      "\n",
      "📊 每個類別在訓練與驗證集的 player 數：\n",
      "🔹 訓練集：{0: 28, 1: 5}\n",
      "🔹 驗證集：{0: 7, 1: 2}\n",
      "👤 驗證集 player_id：[35, 34, 15, 5, 9, 23, 36, 24, 33]\n",
      "  ➤ Fold 5 ROC AUC: 0.9923\n",
      "✅ 平均 ROC AUC: 0.9918\n",
      "\n",
      "🧪 測試第 8/30 組參數：{'n_estimators': 100, 'max_depth': 7, 'learning_rate': 0.1, 'subsample': 0.8, 'colsample_bytree': 1.0, 'gamma': 0, 'scale_pos_weight': 20}\n",
      "\n",
      "📊 每個類別在訓練與驗證集的 player 數：\n",
      "🔹 訓練集：{0: 27, 1: 6}\n",
      "🔹 驗證集：{0: 8, 1: 1}\n",
      "👤 驗證集 player_id：[10, 23, 18, 42, 11, 35, 25, 34, 31]\n",
      "  ➤ Fold 1 ROC AUC: 0.9999\n",
      "\n",
      "📊 每個類別在訓練與驗證集的 player 數：\n",
      "🔹 訓練集：{0: 27, 1: 6}\n",
      "🔹 驗證集：{0: 8, 1: 1}\n",
      "👤 驗證集 player_id：[24, 27, 36, 33, 26, 1, 3, 22, 21]\n",
      "  ➤ Fold 2 ROC AUC: 0.9977\n",
      "\n",
      "📊 每個類別在訓練與驗證集的 player 數：\n",
      "🔹 訓練集：{0: 27, 1: 6}\n",
      "🔹 驗證集：{0: 8, 1: 1}\n",
      "👤 驗證集 player_id：[25, 42, 39, 19, 8, 4, 14, 29, 30]\n",
      "  ➤ Fold 3 ROC AUC: 0.9997\n",
      "\n",
      "📊 每個類別在訓練與驗證集的 player 數：\n",
      "🔹 訓練集：{0: 28, 1: 5}\n",
      "🔹 驗證集：{0: 7, 1: 2}\n",
      "👤 驗證集 player_id：[36, 37, 26, 39, 27, 38, 4, 41, 8]\n",
      "  ➤ Fold 4 ROC AUC: 0.9997\n",
      "\n",
      "📊 每個類別在訓練與驗證集的 player 數：\n",
      "🔹 訓練集：{0: 28, 1: 5}\n",
      "🔹 驗證集：{0: 7, 1: 2}\n",
      "👤 驗證集 player_id：[35, 34, 15, 5, 9, 23, 36, 24, 33]\n",
      "  ➤ Fold 5 ROC AUC: 0.9988\n",
      "✅ 平均 ROC AUC: 0.9992\n",
      "🎯 新最佳模型！已更新\n",
      "============================================================\n",
      "\n",
      "🧪 測試第 9/30 組參數：{'n_estimators': 500, 'max_depth': 5, 'learning_rate': 0.2, 'subsample': 1.0, 'colsample_bytree': 0.8, 'gamma': 5, 'scale_pos_weight': 5}\n",
      "\n",
      "📊 每個類別在訓練與驗證集的 player 數：\n",
      "🔹 訓練集：{0: 27, 1: 6}\n",
      "🔹 驗證集：{0: 8, 1: 1}\n",
      "👤 驗證集 player_id：[10, 23, 18, 42, 11, 35, 25, 34, 31]\n",
      "  ➤ Fold 1 ROC AUC: 0.9999\n",
      "\n",
      "📊 每個類別在訓練與驗證集的 player 數：\n",
      "🔹 訓練集：{0: 27, 1: 6}\n",
      "🔹 驗證集：{0: 8, 1: 1}\n",
      "👤 驗證集 player_id：[24, 27, 36, 33, 26, 1, 3, 22, 21]\n",
      "  ➤ Fold 2 ROC AUC: 0.9978\n",
      "\n",
      "📊 每個類別在訓練與驗證集的 player 數：\n",
      "🔹 訓練集：{0: 27, 1: 6}\n",
      "🔹 驗證集：{0: 8, 1: 1}\n",
      "👤 驗證集 player_id：[25, 42, 39, 19, 8, 4, 14, 29, 30]\n",
      "  ➤ Fold 3 ROC AUC: 0.9997\n",
      "\n",
      "📊 每個類別在訓練與驗證集的 player 數：\n",
      "🔹 訓練集：{0: 28, 1: 5}\n",
      "🔹 驗證集：{0: 7, 1: 2}\n",
      "👤 驗證集 player_id：[36, 37, 26, 39, 27, 38, 4, 41, 8]\n",
      "  ➤ Fold 4 ROC AUC: 0.9996\n",
      "\n",
      "📊 每個類別在訓練與驗證集的 player 數：\n",
      "🔹 訓練集：{0: 28, 1: 5}\n",
      "🔹 驗證集：{0: 7, 1: 2}\n",
      "👤 驗證集 player_id：[35, 34, 15, 5, 9, 23, 36, 24, 33]\n",
      "  ➤ Fold 5 ROC AUC: 0.9983\n",
      "✅ 平均 ROC AUC: 0.9991\n",
      "\n",
      "🧪 測試第 10/30 組參數：{'n_estimators': 100, 'max_depth': 5, 'learning_rate': 0.2, 'subsample': 1.0, 'colsample_bytree': 0.6, 'gamma': 5, 'scale_pos_weight': 20}\n",
      "\n",
      "📊 每個類別在訓練與驗證集的 player 數：\n",
      "🔹 訓練集：{0: 27, 1: 6}\n",
      "🔹 驗證集：{0: 8, 1: 1}\n",
      "👤 驗證集 player_id：[10, 23, 18, 42, 11, 35, 25, 34, 31]\n",
      "  ➤ Fold 1 ROC AUC: 0.9999\n",
      "\n",
      "📊 每個類別在訓練與驗證集的 player 數：\n",
      "🔹 訓練集：{0: 27, 1: 6}\n",
      "🔹 驗證集：{0: 8, 1: 1}\n",
      "👤 驗證集 player_id：[24, 27, 36, 33, 26, 1, 3, 22, 21]\n",
      "  ➤ Fold 2 ROC AUC: 0.9984\n",
      "\n",
      "📊 每個類別在訓練與驗證集的 player 數：\n",
      "🔹 訓練集：{0: 27, 1: 6}\n",
      "🔹 驗證集：{0: 8, 1: 1}\n",
      "👤 驗證集 player_id：[25, 42, 39, 19, 8, 4, 14, 29, 30]\n",
      "  ➤ Fold 3 ROC AUC: 0.9998\n",
      "\n",
      "📊 每個類別在訓練與驗證集的 player 數：\n",
      "🔹 訓練集：{0: 28, 1: 5}\n",
      "🔹 驗證集：{0: 7, 1: 2}\n",
      "👤 驗證集 player_id：[36, 37, 26, 39, 27, 38, 4, 41, 8]\n",
      "  ➤ Fold 4 ROC AUC: 0.9994\n",
      "\n",
      "📊 每個類別在訓練與驗證集的 player 數：\n",
      "🔹 訓練集：{0: 28, 1: 5}\n",
      "🔹 驗證集：{0: 7, 1: 2}\n",
      "👤 驗證集 player_id：[35, 34, 15, 5, 9, 23, 36, 24, 33]\n",
      "  ➤ Fold 5 ROC AUC: 0.9990\n",
      "✅ 平均 ROC AUC: 0.9993\n",
      "🎯 新最佳模型！已更新\n",
      "============================================================\n",
      "\n",
      "🧪 測試第 11/30 組參數：{'n_estimators': 500, 'max_depth': 3, 'learning_rate': 0.2, 'subsample': 0.6, 'colsample_bytree': 1.0, 'gamma': 5, 'scale_pos_weight': 20}\n",
      "\n",
      "📊 每個類別在訓練與驗證集的 player 數：\n",
      "🔹 訓練集：{0: 27, 1: 6}\n",
      "🔹 驗證集：{0: 8, 1: 1}\n",
      "👤 驗證集 player_id：[10, 23, 18, 42, 11, 35, 25, 34, 31]\n",
      "  ➤ Fold 1 ROC AUC: 0.9998\n",
      "\n",
      "📊 每個類別在訓練與驗證集的 player 數：\n",
      "🔹 訓練集：{0: 27, 1: 6}\n",
      "🔹 驗證集：{0: 8, 1: 1}\n",
      "👤 驗證集 player_id：[24, 27, 36, 33, 26, 1, 3, 22, 21]\n",
      "  ➤ Fold 2 ROC AUC: 0.9973\n",
      "\n",
      "📊 每個類別在訓練與驗證集的 player 數：\n",
      "🔹 訓練集：{0: 27, 1: 6}\n",
      "🔹 驗證集：{0: 8, 1: 1}\n",
      "👤 驗證集 player_id：[25, 42, 39, 19, 8, 4, 14, 29, 30]\n",
      "  ➤ Fold 3 ROC AUC: 0.9996\n",
      "\n",
      "📊 每個類別在訓練與驗證集的 player 數：\n",
      "🔹 訓練集：{0: 28, 1: 5}\n",
      "🔹 驗證集：{0: 7, 1: 2}\n",
      "👤 驗證集 player_id：[36, 37, 26, 39, 27, 38, 4, 41, 8]\n",
      "  ➤ Fold 4 ROC AUC: 0.9991\n",
      "\n",
      "📊 每個類別在訓練與驗證集的 player 數：\n",
      "🔹 訓練集：{0: 28, 1: 5}\n",
      "🔹 驗證集：{0: 7, 1: 2}\n",
      "👤 驗證集 player_id：[35, 34, 15, 5, 9, 23, 36, 24, 33]\n",
      "  ➤ Fold 5 ROC AUC: 0.9979\n",
      "✅ 平均 ROC AUC: 0.9987\n",
      "\n",
      "🧪 測試第 12/30 組參數：{'n_estimators': 500, 'max_depth': 7, 'learning_rate': 0.01, 'subsample': 0.6, 'colsample_bytree': 0.8, 'gamma': 1, 'scale_pos_weight': 20}\n",
      "\n",
      "📊 每個類別在訓練與驗證集的 player 數：\n",
      "🔹 訓練集：{0: 27, 1: 6}\n",
      "🔹 驗證集：{0: 8, 1: 1}\n",
      "👤 驗證集 player_id：[10, 23, 18, 42, 11, 35, 25, 34, 31]\n",
      "  ➤ Fold 1 ROC AUC: 0.9998\n",
      "\n",
      "📊 每個類別在訓練與驗證集的 player 數：\n",
      "🔹 訓練集：{0: 27, 1: 6}\n",
      "🔹 驗證集：{0: 8, 1: 1}\n",
      "👤 驗證集 player_id：[24, 27, 36, 33, 26, 1, 3, 22, 21]\n",
      "  ➤ Fold 2 ROC AUC: 0.9965\n",
      "\n",
      "📊 每個類別在訓練與驗證集的 player 數：\n",
      "🔹 訓練集：{0: 27, 1: 6}\n",
      "🔹 驗證集：{0: 8, 1: 1}\n",
      "👤 驗證集 player_id：[25, 42, 39, 19, 8, 4, 14, 29, 30]\n",
      "  ➤ Fold 3 ROC AUC: 0.9991\n",
      "\n",
      "📊 每個類別在訓練與驗證集的 player 數：\n",
      "🔹 訓練集：{0: 28, 1: 5}\n",
      "🔹 驗證集：{0: 7, 1: 2}\n",
      "👤 驗證集 player_id：[36, 37, 26, 39, 27, 38, 4, 41, 8]\n",
      "  ➤ Fold 4 ROC AUC: 0.9990\n",
      "\n",
      "📊 每個類別在訓練與驗證集的 player 數：\n",
      "🔹 訓練集：{0: 28, 1: 5}\n",
      "🔹 驗證集：{0: 7, 1: 2}\n",
      "👤 驗證集 player_id：[35, 34, 15, 5, 9, 23, 36, 24, 33]\n",
      "  ➤ Fold 5 ROC AUC: 0.9979\n",
      "✅ 平均 ROC AUC: 0.9985\n",
      "\n",
      "🧪 測試第 13/30 組參數：{'n_estimators': 300, 'max_depth': 7, 'learning_rate': 0.05, 'subsample': 0.8, 'colsample_bytree': 0.6, 'gamma': 0, 'scale_pos_weight': 20}\n",
      "\n",
      "📊 每個類別在訓練與驗證集的 player 數：\n",
      "🔹 訓練集：{0: 27, 1: 6}\n",
      "🔹 驗證集：{0: 8, 1: 1}\n",
      "👤 驗證集 player_id：[10, 23, 18, 42, 11, 35, 25, 34, 31]\n",
      "  ➤ Fold 1 ROC AUC: 1.0000\n",
      "\n",
      "📊 每個類別在訓練與驗證集的 player 數：\n",
      "🔹 訓練集：{0: 27, 1: 6}\n",
      "🔹 驗證集：{0: 8, 1: 1}\n",
      "👤 驗證集 player_id：[24, 27, 36, 33, 26, 1, 3, 22, 21]\n",
      "  ➤ Fold 2 ROC AUC: 0.9986\n",
      "\n",
      "📊 每個類別在訓練與驗證集的 player 數：\n",
      "🔹 訓練集：{0: 27, 1: 6}\n",
      "🔹 驗證集：{0: 8, 1: 1}\n",
      "👤 驗證集 player_id：[25, 42, 39, 19, 8, 4, 14, 29, 30]\n",
      "  ➤ Fold 3 ROC AUC: 0.9999\n",
      "\n",
      "📊 每個類別在訓練與驗證集的 player 數：\n",
      "🔹 訓練集：{0: 28, 1: 5}\n",
      "🔹 驗證集：{0: 7, 1: 2}\n",
      "👤 驗證集 player_id：[36, 37, 26, 39, 27, 38, 4, 41, 8]\n",
      "  ➤ Fold 4 ROC AUC: 0.9998\n",
      "\n",
      "📊 每個類別在訓練與驗證集的 player 數：\n",
      "🔹 訓練集：{0: 28, 1: 5}\n",
      "🔹 驗證集：{0: 7, 1: 2}\n",
      "👤 驗證集 player_id：[35, 34, 15, 5, 9, 23, 36, 24, 33]\n",
      "  ➤ Fold 5 ROC AUC: 0.9993\n",
      "✅ 平均 ROC AUC: 0.9995\n",
      "🎯 新最佳模型！已更新\n",
      "============================================================\n",
      "\n",
      "🧪 測試第 14/30 組參數：{'n_estimators': 100, 'max_depth': 5, 'learning_rate': 0.1, 'subsample': 0.8, 'colsample_bytree': 1.0, 'gamma': 1, 'scale_pos_weight': 1}\n",
      "\n",
      "📊 每個類別在訓練與驗證集的 player 數：\n",
      "🔹 訓練集：{0: 27, 1: 6}\n",
      "🔹 驗證集：{0: 8, 1: 1}\n",
      "👤 驗證集 player_id：[10, 23, 18, 42, 11, 35, 25, 34, 31]\n",
      "  ➤ Fold 1 ROC AUC: 0.9999\n",
      "\n",
      "📊 每個類別在訓練與驗證集的 player 數：\n",
      "🔹 訓練集：{0: 27, 1: 6}\n",
      "🔹 驗證集：{0: 8, 1: 1}\n",
      "👤 驗證集 player_id：[24, 27, 36, 33, 26, 1, 3, 22, 21]\n",
      "  ➤ Fold 2 ROC AUC: 0.9979\n",
      "\n",
      "📊 每個類別在訓練與驗證集的 player 數：\n",
      "🔹 訓練集：{0: 27, 1: 6}\n",
      "🔹 驗證集：{0: 8, 1: 1}\n",
      "👤 驗證集 player_id：[25, 42, 39, 19, 8, 4, 14, 29, 30]\n",
      "  ➤ Fold 3 ROC AUC: 0.9997\n",
      "\n",
      "📊 每個類別在訓練與驗證集的 player 數：\n",
      "🔹 訓練集：{0: 28, 1: 5}\n",
      "🔹 驗證集：{0: 7, 1: 2}\n",
      "👤 驗證集 player_id：[36, 37, 26, 39, 27, 38, 4, 41, 8]\n",
      "  ➤ Fold 4 ROC AUC: 0.9998\n",
      "\n",
      "📊 每個類別在訓練與驗證集的 player 數：\n",
      "🔹 訓練集：{0: 28, 1: 5}\n",
      "🔹 驗證集：{0: 7, 1: 2}\n",
      "👤 驗證集 player_id：[35, 34, 15, 5, 9, 23, 36, 24, 33]\n",
      "  ➤ Fold 5 ROC AUC: 0.9987\n",
      "✅ 平均 ROC AUC: 0.9992\n",
      "\n",
      "🧪 測試第 15/30 組參數：{'n_estimators': 300, 'max_depth': 9, 'learning_rate': 0.01, 'subsample': 1.0, 'colsample_bytree': 0.8, 'gamma': 0, 'scale_pos_weight': 5}\n",
      "\n",
      "📊 每個類別在訓練與驗證集的 player 數：\n",
      "🔹 訓練集：{0: 27, 1: 6}\n",
      "🔹 驗證集：{0: 8, 1: 1}\n",
      "👤 驗證集 player_id：[10, 23, 18, 42, 11, 35, 25, 34, 31]\n",
      "  ➤ Fold 1 ROC AUC: 0.9998\n",
      "\n",
      "📊 每個類別在訓練與驗證集的 player 數：\n",
      "🔹 訓練集：{0: 27, 1: 6}\n",
      "🔹 驗證集：{0: 8, 1: 1}\n",
      "👤 驗證集 player_id：[24, 27, 36, 33, 26, 1, 3, 22, 21]\n",
      "  ➤ Fold 2 ROC AUC: 0.9965\n",
      "\n",
      "📊 每個類別在訓練與驗證集的 player 數：\n",
      "🔹 訓練集：{0: 27, 1: 6}\n",
      "🔹 驗證集：{0: 8, 1: 1}\n",
      "👤 驗證集 player_id：[25, 42, 39, 19, 8, 4, 14, 29, 30]\n",
      "  ➤ Fold 3 ROC AUC: 0.9988\n",
      "\n",
      "📊 每個類別在訓練與驗證集的 player 數：\n",
      "🔹 訓練集：{0: 28, 1: 5}\n",
      "🔹 驗證集：{0: 7, 1: 2}\n",
      "👤 驗證集 player_id：[36, 37, 26, 39, 27, 38, 4, 41, 8]\n",
      "  ➤ Fold 4 ROC AUC: 0.9986\n",
      "\n",
      "📊 每個類別在訓練與驗證集的 player 數：\n",
      "🔹 訓練集：{0: 28, 1: 5}\n",
      "🔹 驗證集：{0: 7, 1: 2}\n",
      "👤 驗證集 player_id：[35, 34, 15, 5, 9, 23, 36, 24, 33]\n",
      "  ➤ Fold 5 ROC AUC: 0.9980\n",
      "✅ 平均 ROC AUC: 0.9983\n",
      "\n",
      "🧪 測試第 16/30 組參數：{'n_estimators': 300, 'max_depth': 3, 'learning_rate': 0.01, 'subsample': 0.6, 'colsample_bytree': 0.6, 'gamma': 0, 'scale_pos_weight': 1}\n",
      "\n",
      "📊 每個類別在訓練與驗證集的 player 數：\n",
      "🔹 訓練集：{0: 27, 1: 6}\n",
      "🔹 驗證集：{0: 8, 1: 1}\n",
      "👤 驗證集 player_id：[10, 23, 18, 42, 11, 35, 25, 34, 31]\n",
      "  ➤ Fold 1 ROC AUC: 0.9991\n",
      "\n",
      "📊 每個類別在訓練與驗證集的 player 數：\n",
      "🔹 訓練集：{0: 27, 1: 6}\n",
      "🔹 驗證集：{0: 8, 1: 1}\n",
      "👤 驗證集 player_id：[24, 27, 36, 33, 26, 1, 3, 22, 21]\n",
      "  ➤ Fold 2 ROC AUC: 0.9931\n",
      "\n",
      "📊 每個類別在訓練與驗證集的 player 數：\n",
      "🔹 訓練集：{0: 27, 1: 6}\n",
      "🔹 驗證集：{0: 8, 1: 1}\n",
      "👤 驗證集 player_id：[25, 42, 39, 19, 8, 4, 14, 29, 30]\n",
      "  ➤ Fold 3 ROC AUC: 0.9975\n",
      "\n",
      "📊 每個類別在訓練與驗證集的 player 數：\n",
      "🔹 訓練集：{0: 28, 1: 5}\n",
      "🔹 驗證集：{0: 7, 1: 2}\n",
      "👤 驗證集 player_id：[36, 37, 26, 39, 27, 38, 4, 41, 8]\n",
      "  ➤ Fold 4 ROC AUC: 0.9977\n",
      "\n",
      "📊 每個類別在訓練與驗證集的 player 數：\n",
      "🔹 訓練集：{0: 28, 1: 5}\n",
      "🔹 驗證集：{0: 7, 1: 2}\n",
      "👤 驗證集 player_id：[35, 34, 15, 5, 9, 23, 36, 24, 33]\n",
      "  ➤ Fold 5 ROC AUC: 0.9964\n",
      "✅ 平均 ROC AUC: 0.9968\n",
      "\n",
      "🧪 測試第 17/30 組參數：{'n_estimators': 100, 'max_depth': 3, 'learning_rate': 0.1, 'subsample': 0.8, 'colsample_bytree': 0.6, 'gamma': 5, 'scale_pos_weight': 1}\n",
      "\n",
      "📊 每個類別在訓練與驗證集的 player 數：\n",
      "🔹 訓練集：{0: 27, 1: 6}\n",
      "🔹 驗證集：{0: 8, 1: 1}\n",
      "👤 驗證集 player_id：[10, 23, 18, 42, 11, 35, 25, 34, 31]\n",
      "  ➤ Fold 1 ROC AUC: 0.9998\n",
      "\n",
      "📊 每個類別在訓練與驗證集的 player 數：\n",
      "🔹 訓練集：{0: 27, 1: 6}\n",
      "🔹 驗證集：{0: 8, 1: 1}\n",
      "👤 驗證集 player_id：[24, 27, 36, 33, 26, 1, 3, 22, 21]\n",
      "  ➤ Fold 2 ROC AUC: 0.9981\n",
      "\n",
      "📊 每個類別在訓練與驗證集的 player 數：\n",
      "🔹 訓練集：{0: 27, 1: 6}\n",
      "🔹 驗證集：{0: 8, 1: 1}\n",
      "👤 驗證集 player_id：[25, 42, 39, 19, 8, 4, 14, 29, 30]\n",
      "  ➤ Fold 3 ROC AUC: 0.9997\n",
      "\n",
      "📊 每個類別在訓練與驗證集的 player 數：\n",
      "🔹 訓練集：{0: 28, 1: 5}\n",
      "🔹 驗證集：{0: 7, 1: 2}\n",
      "👤 驗證集 player_id：[36, 37, 26, 39, 27, 38, 4, 41, 8]\n",
      "  ➤ Fold 4 ROC AUC: 0.9995\n",
      "\n",
      "📊 每個類別在訓練與驗證集的 player 數：\n",
      "🔹 訓練集：{0: 28, 1: 5}\n",
      "🔹 驗證集：{0: 7, 1: 2}\n",
      "👤 驗證集 player_id：[35, 34, 15, 5, 9, 23, 36, 24, 33]\n",
      "  ➤ Fold 5 ROC AUC: 0.9986\n",
      "✅ 平均 ROC AUC: 0.9991\n",
      "\n",
      "🧪 測試第 18/30 組參數：{'n_estimators': 100, 'max_depth': 3, 'learning_rate': 0.1, 'subsample': 0.6, 'colsample_bytree': 1.0, 'gamma': 1, 'scale_pos_weight': 1}\n",
      "\n",
      "📊 每個類別在訓練與驗證集的 player 數：\n",
      "🔹 訓練集：{0: 27, 1: 6}\n",
      "🔹 驗證集：{0: 8, 1: 1}\n",
      "👤 驗證集 player_id：[10, 23, 18, 42, 11, 35, 25, 34, 31]\n",
      "  ➤ Fold 1 ROC AUC: 0.9996\n",
      "\n",
      "📊 每個類別在訓練與驗證集的 player 數：\n",
      "🔹 訓練集：{0: 27, 1: 6}\n",
      "🔹 驗證集：{0: 8, 1: 1}\n",
      "👤 驗證集 player_id：[24, 27, 36, 33, 26, 1, 3, 22, 21]\n",
      "  ➤ Fold 2 ROC AUC: 0.9978\n",
      "\n",
      "📊 每個類別在訓練與驗證集的 player 數：\n",
      "🔹 訓練集：{0: 27, 1: 6}\n",
      "🔹 驗證集：{0: 8, 1: 1}\n",
      "👤 驗證集 player_id：[25, 42, 39, 19, 8, 4, 14, 29, 30]\n",
      "  ➤ Fold 3 ROC AUC: 0.9994\n",
      "\n",
      "📊 每個類別在訓練與驗證集的 player 數：\n",
      "🔹 訓練集：{0: 28, 1: 5}\n",
      "🔹 驗證集：{0: 7, 1: 2}\n",
      "👤 驗證集 player_id：[36, 37, 26, 39, 27, 38, 4, 41, 8]\n",
      "  ➤ Fold 4 ROC AUC: 0.9994\n",
      "\n",
      "📊 每個類別在訓練與驗證集的 player 數：\n",
      "🔹 訓練集：{0: 28, 1: 5}\n",
      "🔹 驗證集：{0: 7, 1: 2}\n",
      "👤 驗證集 player_id：[35, 34, 15, 5, 9, 23, 36, 24, 33]\n",
      "  ➤ Fold 5 ROC AUC: 0.9982\n",
      "✅ 平均 ROC AUC: 0.9989\n",
      "\n",
      "🧪 測試第 19/30 組參數：{'n_estimators': 100, 'max_depth': 5, 'learning_rate': 0.2, 'subsample': 0.6, 'colsample_bytree': 0.6, 'gamma': 5, 'scale_pos_weight': 20}\n",
      "\n",
      "📊 每個類別在訓練與驗證集的 player 數：\n",
      "🔹 訓練集：{0: 27, 1: 6}\n",
      "🔹 驗證集：{0: 8, 1: 1}\n",
      "👤 驗證集 player_id：[10, 23, 18, 42, 11, 35, 25, 34, 31]\n",
      "  ➤ Fold 1 ROC AUC: 0.9999\n",
      "\n",
      "📊 每個類別在訓練與驗證集的 player 數：\n",
      "🔹 訓練集：{0: 27, 1: 6}\n",
      "🔹 驗證集：{0: 8, 1: 1}\n",
      "👤 驗證集 player_id：[24, 27, 36, 33, 26, 1, 3, 22, 21]\n",
      "  ➤ Fold 2 ROC AUC: 0.9979\n",
      "\n",
      "📊 每個類別在訓練與驗證集的 player 數：\n",
      "🔹 訓練集：{0: 27, 1: 6}\n",
      "🔹 驗證集：{0: 8, 1: 1}\n",
      "👤 驗證集 player_id：[25, 42, 39, 19, 8, 4, 14, 29, 30]\n",
      "  ➤ Fold 3 ROC AUC: 0.9997\n",
      "\n",
      "📊 每個類別在訓練與驗證集的 player 數：\n",
      "🔹 訓練集：{0: 28, 1: 5}\n",
      "🔹 驗證集：{0: 7, 1: 2}\n",
      "👤 驗證集 player_id：[36, 37, 26, 39, 27, 38, 4, 41, 8]\n",
      "  ➤ Fold 4 ROC AUC: 0.9995\n",
      "\n",
      "📊 每個類別在訓練與驗證集的 player 數：\n",
      "🔹 訓練集：{0: 28, 1: 5}\n",
      "🔹 驗證集：{0: 7, 1: 2}\n",
      "👤 驗證集 player_id：[35, 34, 15, 5, 9, 23, 36, 24, 33]\n",
      "  ➤ Fold 5 ROC AUC: 0.9994\n",
      "✅ 平均 ROC AUC: 0.9993\n",
      "\n",
      "🧪 測試第 20/30 組參數：{'n_estimators': 200, 'max_depth': 3, 'learning_rate': 0.01, 'subsample': 0.8, 'colsample_bytree': 1.0, 'gamma': 0, 'scale_pos_weight': 20}\n",
      "\n",
      "📊 每個類別在訓練與驗證集的 player 數：\n",
      "🔹 訓練集：{0: 27, 1: 6}\n",
      "🔹 驗證集：{0: 8, 1: 1}\n",
      "👤 驗證集 player_id：[10, 23, 18, 42, 11, 35, 25, 34, 31]\n",
      "  ➤ Fold 1 ROC AUC: 0.9980\n",
      "\n",
      "📊 每個類別在訓練與驗證集的 player 數：\n",
      "🔹 訓練集：{0: 27, 1: 6}\n",
      "🔹 驗證集：{0: 8, 1: 1}\n",
      "👤 驗證集 player_id：[24, 27, 36, 33, 26, 1, 3, 22, 21]\n",
      "  ➤ Fold 2 ROC AUC: 0.9678\n",
      "\n",
      "📊 每個類別在訓練與驗證集的 player 數：\n",
      "🔹 訓練集：{0: 27, 1: 6}\n",
      "🔹 驗證集：{0: 8, 1: 1}\n",
      "👤 驗證集 player_id：[25, 42, 39, 19, 8, 4, 14, 29, 30]\n",
      "  ➤ Fold 3 ROC AUC: 0.9875\n",
      "\n",
      "📊 每個類別在訓練與驗證集的 player 數：\n",
      "🔹 訓練集：{0: 28, 1: 5}\n",
      "🔹 驗證集：{0: 7, 1: 2}\n",
      "👤 驗證集 player_id：[36, 37, 26, 39, 27, 38, 4, 41, 8]\n",
      "  ➤ Fold 4 ROC AUC: 0.9953\n",
      "\n",
      "📊 每個類別在訓練與驗證集的 player 數：\n",
      "🔹 訓練集：{0: 28, 1: 5}\n",
      "🔹 驗證集：{0: 7, 1: 2}\n",
      "👤 驗證集 player_id：[35, 34, 15, 5, 9, 23, 36, 24, 33]\n",
      "  ➤ Fold 5 ROC AUC: 0.9913\n",
      "✅ 平均 ROC AUC: 0.9880\n",
      "\n",
      "🧪 測試第 21/30 組參數：{'n_estimators': 200, 'max_depth': 3, 'learning_rate': 0.05, 'subsample': 0.8, 'colsample_bytree': 1.0, 'gamma': 5, 'scale_pos_weight': 5}\n",
      "\n",
      "📊 每個類別在訓練與驗證集的 player 數：\n",
      "🔹 訓練集：{0: 27, 1: 6}\n",
      "🔹 驗證集：{0: 8, 1: 1}\n",
      "👤 驗證集 player_id：[10, 23, 18, 42, 11, 35, 25, 34, 31]\n",
      "  ➤ Fold 1 ROC AUC: 0.9996\n",
      "\n",
      "📊 每個類別在訓練與驗證集的 player 數：\n",
      "🔹 訓練集：{0: 27, 1: 6}\n",
      "🔹 驗證集：{0: 8, 1: 1}\n",
      "👤 驗證集 player_id：[24, 27, 36, 33, 26, 1, 3, 22, 21]\n",
      "  ➤ Fold 2 ROC AUC: 0.9972\n",
      "\n",
      "📊 每個類別在訓練與驗證集的 player 數：\n",
      "🔹 訓練集：{0: 27, 1: 6}\n",
      "🔹 驗證集：{0: 8, 1: 1}\n",
      "👤 驗證集 player_id：[25, 42, 39, 19, 8, 4, 14, 29, 30]\n",
      "  ➤ Fold 3 ROC AUC: 0.9995\n",
      "\n",
      "📊 每個類別在訓練與驗證集的 player 數：\n",
      "🔹 訓練集：{0: 28, 1: 5}\n",
      "🔹 驗證集：{0: 7, 1: 2}\n",
      "👤 驗證集 player_id：[36, 37, 26, 39, 27, 38, 4, 41, 8]\n",
      "  ➤ Fold 4 ROC AUC: 0.9994\n",
      "\n",
      "📊 每個類別在訓練與驗證集的 player 數：\n",
      "🔹 訓練集：{0: 28, 1: 5}\n",
      "🔹 驗證集：{0: 7, 1: 2}\n",
      "👤 驗證集 player_id：[35, 34, 15, 5, 9, 23, 36, 24, 33]\n",
      "  ➤ Fold 5 ROC AUC: 0.9979\n",
      "✅ 平均 ROC AUC: 0.9987\n",
      "\n",
      "🧪 測試第 22/30 組參數：{'n_estimators': 300, 'max_depth': 5, 'learning_rate': 0.1, 'subsample': 0.6, 'colsample_bytree': 1.0, 'gamma': 5, 'scale_pos_weight': 20}\n",
      "\n",
      "📊 每個類別在訓練與驗證集的 player 數：\n",
      "🔹 訓練集：{0: 27, 1: 6}\n",
      "🔹 驗證集：{0: 8, 1: 1}\n",
      "👤 驗證集 player_id：[10, 23, 18, 42, 11, 35, 25, 34, 31]\n",
      "  ➤ Fold 1 ROC AUC: 0.9999\n",
      "\n",
      "📊 每個類別在訓練與驗證集的 player 數：\n",
      "🔹 訓練集：{0: 27, 1: 6}\n",
      "🔹 驗證集：{0: 8, 1: 1}\n",
      "👤 驗證集 player_id：[24, 27, 36, 33, 26, 1, 3, 22, 21]\n",
      "  ➤ Fold 2 ROC AUC: 0.9977\n",
      "\n",
      "📊 每個類別在訓練與驗證集的 player 數：\n",
      "🔹 訓練集：{0: 27, 1: 6}\n",
      "🔹 驗證集：{0: 8, 1: 1}\n",
      "👤 驗證集 player_id：[25, 42, 39, 19, 8, 4, 14, 29, 30]\n",
      "  ➤ Fold 3 ROC AUC: 0.9997\n",
      "\n",
      "📊 每個類別在訓練與驗證集的 player 數：\n",
      "🔹 訓練集：{0: 28, 1: 5}\n",
      "🔹 驗證集：{0: 7, 1: 2}\n",
      "👤 驗證集 player_id：[36, 37, 26, 39, 27, 38, 4, 41, 8]\n",
      "  ➤ Fold 4 ROC AUC: 0.9995\n",
      "\n",
      "📊 每個類別在訓練與驗證集的 player 數：\n",
      "🔹 訓練集：{0: 28, 1: 5}\n",
      "🔹 驗證集：{0: 7, 1: 2}\n",
      "👤 驗證集 player_id：[35, 34, 15, 5, 9, 23, 36, 24, 33]\n",
      "  ➤ Fold 5 ROC AUC: 0.9987\n",
      "✅ 平均 ROC AUC: 0.9991\n",
      "\n",
      "🧪 測試第 23/30 組參數：{'n_estimators': 300, 'max_depth': 9, 'learning_rate': 0.05, 'subsample': 0.8, 'colsample_bytree': 1.0, 'gamma': 5, 'scale_pos_weight': 20}\n",
      "\n",
      "📊 每個類別在訓練與驗證集的 player 數：\n",
      "🔹 訓練集：{0: 27, 1: 6}\n",
      "🔹 驗證集：{0: 8, 1: 1}\n",
      "👤 驗證集 player_id：[10, 23, 18, 42, 11, 35, 25, 34, 31]\n",
      "  ➤ Fold 1 ROC AUC: 0.9998\n",
      "\n",
      "📊 每個類別在訓練與驗證集的 player 數：\n",
      "🔹 訓練集：{0: 27, 1: 6}\n",
      "🔹 驗證集：{0: 8, 1: 1}\n",
      "👤 驗證集 player_id：[24, 27, 36, 33, 26, 1, 3, 22, 21]\n",
      "  ➤ Fold 2 ROC AUC: 0.9975\n",
      "\n",
      "📊 每個類別在訓練與驗證集的 player 數：\n",
      "🔹 訓練集：{0: 27, 1: 6}\n",
      "🔹 驗證集：{0: 8, 1: 1}\n",
      "👤 驗證集 player_id：[25, 42, 39, 19, 8, 4, 14, 29, 30]\n",
      "  ➤ Fold 3 ROC AUC: 0.9997\n",
      "\n",
      "📊 每個類別在訓練與驗證集的 player 數：\n",
      "🔹 訓練集：{0: 28, 1: 5}\n",
      "🔹 驗證集：{0: 7, 1: 2}\n",
      "👤 驗證集 player_id：[36, 37, 26, 39, 27, 38, 4, 41, 8]\n",
      "  ➤ Fold 4 ROC AUC: 0.9995\n",
      "\n",
      "📊 每個類別在訓練與驗證集的 player 數：\n",
      "🔹 訓練集：{0: 28, 1: 5}\n",
      "🔹 驗證集：{0: 7, 1: 2}\n",
      "👤 驗證集 player_id：[35, 34, 15, 5, 9, 23, 36, 24, 33]\n",
      "  ➤ Fold 5 ROC AUC: 0.9985\n",
      "✅ 平均 ROC AUC: 0.9990\n",
      "\n",
      "🧪 測試第 24/30 組參數：{'n_estimators': 100, 'max_depth': 3, 'learning_rate': 0.1, 'subsample': 0.6, 'colsample_bytree': 0.6, 'gamma': 0, 'scale_pos_weight': 5}\n",
      "\n",
      "📊 每個類別在訓練與驗證集的 player 數：\n",
      "🔹 訓練集：{0: 27, 1: 6}\n",
      "🔹 驗證集：{0: 8, 1: 1}\n",
      "👤 驗證集 player_id：[10, 23, 18, 42, 11, 35, 25, 34, 31]\n",
      "  ➤ Fold 1 ROC AUC: 0.9997\n",
      "\n",
      "📊 每個類別在訓練與驗證集的 player 數：\n",
      "🔹 訓練集：{0: 27, 1: 6}\n",
      "🔹 驗證集：{0: 8, 1: 1}\n",
      "👤 驗證集 player_id：[24, 27, 36, 33, 26, 1, 3, 22, 21]\n",
      "  ➤ Fold 2 ROC AUC: 0.9981\n",
      "\n",
      "📊 每個類別在訓練與驗證集的 player 數：\n",
      "🔹 訓練集：{0: 27, 1: 6}\n",
      "🔹 驗證集：{0: 8, 1: 1}\n",
      "👤 驗證集 player_id：[25, 42, 39, 19, 8, 4, 14, 29, 30]\n",
      "  ➤ Fold 3 ROC AUC: 0.9994\n",
      "\n",
      "📊 每個類別在訓練與驗證集的 player 數：\n",
      "🔹 訓練集：{0: 28, 1: 5}\n",
      "🔹 驗證集：{0: 7, 1: 2}\n",
      "👤 驗證集 player_id：[36, 37, 26, 39, 27, 38, 4, 41, 8]\n",
      "  ➤ Fold 4 ROC AUC: 0.9996\n",
      "\n",
      "📊 每個類別在訓練與驗證集的 player 數：\n",
      "🔹 訓練集：{0: 28, 1: 5}\n",
      "🔹 驗證集：{0: 7, 1: 2}\n",
      "👤 驗證集 player_id：[35, 34, 15, 5, 9, 23, 36, 24, 33]\n",
      "  ➤ Fold 5 ROC AUC: 0.9987\n",
      "✅ 平均 ROC AUC: 0.9991\n",
      "\n",
      "🧪 測試第 25/30 組參數：{'n_estimators': 300, 'max_depth': 7, 'learning_rate': 0.1, 'subsample': 0.8, 'colsample_bytree': 1.0, 'gamma': 0, 'scale_pos_weight': 5}\n",
      "\n",
      "📊 每個類別在訓練與驗證集的 player 數：\n",
      "🔹 訓練集：{0: 27, 1: 6}\n",
      "🔹 驗證集：{0: 8, 1: 1}\n",
      "👤 驗證集 player_id：[10, 23, 18, 42, 11, 35, 25, 34, 31]\n",
      "  ➤ Fold 1 ROC AUC: 0.9999\n",
      "\n",
      "📊 每個類別在訓練與驗證集的 player 數：\n",
      "🔹 訓練集：{0: 27, 1: 6}\n",
      "🔹 驗證集：{0: 8, 1: 1}\n",
      "👤 驗證集 player_id：[24, 27, 36, 33, 26, 1, 3, 22, 21]\n",
      "  ➤ Fold 2 ROC AUC: 0.9981\n",
      "\n",
      "📊 每個類別在訓練與驗證集的 player 數：\n",
      "🔹 訓練集：{0: 27, 1: 6}\n",
      "🔹 驗證集：{0: 8, 1: 1}\n",
      "👤 驗證集 player_id：[25, 42, 39, 19, 8, 4, 14, 29, 30]\n",
      "  ➤ Fold 3 ROC AUC: 0.9998\n",
      "\n",
      "📊 每個類別在訓練與驗證集的 player 數：\n",
      "🔹 訓練集：{0: 28, 1: 5}\n",
      "🔹 驗證集：{0: 7, 1: 2}\n",
      "👤 驗證集 player_id：[36, 37, 26, 39, 27, 38, 4, 41, 8]\n",
      "  ➤ Fold 4 ROC AUC: 0.9997\n",
      "\n",
      "📊 每個類別在訓練與驗證集的 player 數：\n",
      "🔹 訓練集：{0: 28, 1: 5}\n",
      "🔹 驗證集：{0: 7, 1: 2}\n",
      "👤 驗證集 player_id：[35, 34, 15, 5, 9, 23, 36, 24, 33]\n",
      "  ➤ Fold 5 ROC AUC: 0.9988\n",
      "✅ 平均 ROC AUC: 0.9993\n",
      "\n",
      "🧪 測試第 26/30 組參數：{'n_estimators': 100, 'max_depth': 9, 'learning_rate': 0.2, 'subsample': 0.6, 'colsample_bytree': 0.6, 'gamma': 5, 'scale_pos_weight': 1}\n",
      "\n",
      "📊 每個類別在訓練與驗證集的 player 數：\n",
      "🔹 訓練集：{0: 27, 1: 6}\n",
      "🔹 驗證集：{0: 8, 1: 1}\n",
      "👤 驗證集 player_id：[10, 23, 18, 42, 11, 35, 25, 34, 31]\n",
      "  ➤ Fold 1 ROC AUC: 0.9998\n",
      "\n",
      "📊 每個類別在訓練與驗證集的 player 數：\n",
      "🔹 訓練集：{0: 27, 1: 6}\n",
      "🔹 驗證集：{0: 8, 1: 1}\n",
      "👤 驗證集 player_id：[24, 27, 36, 33, 26, 1, 3, 22, 21]\n",
      "  ➤ Fold 2 ROC AUC: 0.9982\n",
      "\n",
      "📊 每個類別在訓練與驗證集的 player 數：\n",
      "🔹 訓練集：{0: 27, 1: 6}\n",
      "🔹 驗證集：{0: 8, 1: 1}\n",
      "👤 驗證集 player_id：[25, 42, 39, 19, 8, 4, 14, 29, 30]\n",
      "  ➤ Fold 3 ROC AUC: 0.9997\n",
      "\n",
      "📊 每個類別在訓練與驗證集的 player 數：\n",
      "🔹 訓練集：{0: 28, 1: 5}\n",
      "🔹 驗證集：{0: 7, 1: 2}\n",
      "👤 驗證集 player_id：[36, 37, 26, 39, 27, 38, 4, 41, 8]\n",
      "  ➤ Fold 4 ROC AUC: 0.9996\n",
      "\n",
      "📊 每個類別在訓練與驗證集的 player 數：\n",
      "🔹 訓練集：{0: 28, 1: 5}\n",
      "🔹 驗證集：{0: 7, 1: 2}\n",
      "👤 驗證集 player_id：[35, 34, 15, 5, 9, 23, 36, 24, 33]\n",
      "  ➤ Fold 5 ROC AUC: 0.9986\n",
      "✅ 平均 ROC AUC: 0.9992\n",
      "\n",
      "🧪 測試第 27/30 組參數：{'n_estimators': 500, 'max_depth': 5, 'learning_rate': 0.1, 'subsample': 0.6, 'colsample_bytree': 1.0, 'gamma': 5, 'scale_pos_weight': 5}\n",
      "\n",
      "📊 每個類別在訓練與驗證集的 player 數：\n",
      "🔹 訓練集：{0: 27, 1: 6}\n",
      "🔹 驗證集：{0: 8, 1: 1}\n",
      "👤 驗證集 player_id：[10, 23, 18, 42, 11, 35, 25, 34, 31]\n",
      "  ➤ Fold 1 ROC AUC: 0.9999\n",
      "\n",
      "📊 每個類別在訓練與驗證集的 player 數：\n",
      "🔹 訓練集：{0: 27, 1: 6}\n",
      "🔹 驗證集：{0: 8, 1: 1}\n",
      "👤 驗證集 player_id：[24, 27, 36, 33, 26, 1, 3, 22, 21]\n",
      "  ➤ Fold 2 ROC AUC: 0.9975\n",
      "\n",
      "📊 每個類別在訓練與驗證集的 player 數：\n",
      "🔹 訓練集：{0: 27, 1: 6}\n",
      "🔹 驗證集：{0: 8, 1: 1}\n",
      "👤 驗證集 player_id：[25, 42, 39, 19, 8, 4, 14, 29, 30]\n",
      "  ➤ Fold 3 ROC AUC: 0.9997\n",
      "\n",
      "📊 每個類別在訓練與驗證集的 player 數：\n",
      "🔹 訓練集：{0: 28, 1: 5}\n",
      "🔹 驗證集：{0: 7, 1: 2}\n",
      "👤 驗證集 player_id：[36, 37, 26, 39, 27, 38, 4, 41, 8]\n",
      "  ➤ Fold 4 ROC AUC: 0.9996\n",
      "\n",
      "📊 每個類別在訓練與驗證集的 player 數：\n",
      "🔹 訓練集：{0: 28, 1: 5}\n",
      "🔹 驗證集：{0: 7, 1: 2}\n",
      "👤 驗證集 player_id：[35, 34, 15, 5, 9, 23, 36, 24, 33]\n",
      "  ➤ Fold 5 ROC AUC: 0.9984\n",
      "✅ 平均 ROC AUC: 0.9990\n",
      "\n",
      "🧪 測試第 28/30 組參數：{'n_estimators': 500, 'max_depth': 3, 'learning_rate': 0.05, 'subsample': 0.6, 'colsample_bytree': 1.0, 'gamma': 1, 'scale_pos_weight': 20}\n",
      "\n",
      "📊 每個類別在訓練與驗證集的 player 數：\n",
      "🔹 訓練集：{0: 27, 1: 6}\n",
      "🔹 驗證集：{0: 8, 1: 1}\n",
      "👤 驗證集 player_id：[10, 23, 18, 42, 11, 35, 25, 34, 31]\n",
      "  ➤ Fold 1 ROC AUC: 0.9998\n",
      "\n",
      "📊 每個類別在訓練與驗證集的 player 數：\n",
      "🔹 訓練集：{0: 27, 1: 6}\n",
      "🔹 驗證集：{0: 8, 1: 1}\n",
      "👤 驗證集 player_id：[24, 27, 36, 33, 26, 1, 3, 22, 21]\n",
      "  ➤ Fold 2 ROC AUC: 0.9981\n",
      "\n",
      "📊 每個類別在訓練與驗證集的 player 數：\n",
      "🔹 訓練集：{0: 27, 1: 6}\n",
      "🔹 驗證集：{0: 8, 1: 1}\n",
      "👤 驗證集 player_id：[25, 42, 39, 19, 8, 4, 14, 29, 30]\n",
      "  ➤ Fold 3 ROC AUC: 0.9998\n",
      "\n",
      "📊 每個類別在訓練與驗證集的 player 數：\n",
      "🔹 訓練集：{0: 28, 1: 5}\n",
      "🔹 驗證集：{0: 7, 1: 2}\n",
      "👤 驗證集 player_id：[36, 37, 26, 39, 27, 38, 4, 41, 8]\n",
      "  ➤ Fold 4 ROC AUC: 0.9992\n",
      "\n",
      "📊 每個類別在訓練與驗證集的 player 數：\n",
      "🔹 訓練集：{0: 28, 1: 5}\n",
      "🔹 驗證集：{0: 7, 1: 2}\n",
      "👤 驗證集 player_id：[35, 34, 15, 5, 9, 23, 36, 24, 33]\n",
      "  ➤ Fold 5 ROC AUC: 0.9989\n",
      "✅ 平均 ROC AUC: 0.9991\n",
      "\n",
      "🧪 測試第 29/30 組參數：{'n_estimators': 500, 'max_depth': 5, 'learning_rate': 0.05, 'subsample': 0.6, 'colsample_bytree': 0.8, 'gamma': 5, 'scale_pos_weight': 5}\n",
      "\n",
      "📊 每個類別在訓練與驗證集的 player 數：\n",
      "🔹 訓練集：{0: 27, 1: 6}\n",
      "🔹 驗證集：{0: 8, 1: 1}\n",
      "👤 驗證集 player_id：[10, 23, 18, 42, 11, 35, 25, 34, 31]\n",
      "  ➤ Fold 1 ROC AUC: 0.9999\n",
      "\n",
      "📊 每個類別在訓練與驗證集的 player 數：\n",
      "🔹 訓練集：{0: 27, 1: 6}\n",
      "🔹 驗證集：{0: 8, 1: 1}\n",
      "👤 驗證集 player_id：[24, 27, 36, 33, 26, 1, 3, 22, 21]\n",
      "  ➤ Fold 2 ROC AUC: 0.9980\n",
      "\n",
      "📊 每個類別在訓練與驗證集的 player 數：\n",
      "🔹 訓練集：{0: 27, 1: 6}\n",
      "🔹 驗證集：{0: 8, 1: 1}\n",
      "👤 驗證集 player_id：[25, 42, 39, 19, 8, 4, 14, 29, 30]\n",
      "  ➤ Fold 3 ROC AUC: 0.9998\n",
      "\n",
      "📊 每個類別在訓練與驗證集的 player 數：\n",
      "🔹 訓練集：{0: 28, 1: 5}\n",
      "🔹 驗證集：{0: 7, 1: 2}\n",
      "👤 驗證集 player_id：[36, 37, 26, 39, 27, 38, 4, 41, 8]\n",
      "  ➤ Fold 4 ROC AUC: 0.9997\n",
      "\n",
      "📊 每個類別在訓練與驗證集的 player 數：\n",
      "🔹 訓練集：{0: 28, 1: 5}\n",
      "🔹 驗證集：{0: 7, 1: 2}\n",
      "👤 驗證集 player_id：[35, 34, 15, 5, 9, 23, 36, 24, 33]\n",
      "  ➤ Fold 5 ROC AUC: 0.9988\n",
      "✅ 平均 ROC AUC: 0.9992\n",
      "\n",
      "🧪 測試第 30/30 組參數：{'n_estimators': 300, 'max_depth': 7, 'learning_rate': 0.05, 'subsample': 0.8, 'colsample_bytree': 0.6, 'gamma': 0, 'scale_pos_weight': 1}\n",
      "\n",
      "📊 每個類別在訓練與驗證集的 player 數：\n",
      "🔹 訓練集：{0: 27, 1: 6}\n",
      "🔹 驗證集：{0: 8, 1: 1}\n",
      "👤 驗證集 player_id：[10, 23, 18, 42, 11, 35, 25, 34, 31]\n",
      "  ➤ Fold 1 ROC AUC: 0.9999\n",
      "\n",
      "📊 每個類別在訓練與驗證集的 player 數：\n",
      "🔹 訓練集：{0: 27, 1: 6}\n",
      "🔹 驗證集：{0: 8, 1: 1}\n",
      "👤 驗證集 player_id：[24, 27, 36, 33, 26, 1, 3, 22, 21]\n",
      "  ➤ Fold 2 ROC AUC: 0.9987\n",
      "\n",
      "📊 每個類別在訓練與驗證集的 player 數：\n",
      "🔹 訓練集：{0: 27, 1: 6}\n",
      "🔹 驗證集：{0: 8, 1: 1}\n",
      "👤 驗證集 player_id：[25, 42, 39, 19, 8, 4, 14, 29, 30]\n",
      "  ➤ Fold 3 ROC AUC: 0.9998\n",
      "\n",
      "📊 每個類別在訓練與驗證集的 player 數：\n",
      "🔹 訓練集：{0: 28, 1: 5}\n",
      "🔹 驗證集：{0: 7, 1: 2}\n",
      "👤 驗證集 player_id：[36, 37, 26, 39, 27, 38, 4, 41, 8]\n",
      "  ➤ Fold 4 ROC AUC: 0.9998\n",
      "\n",
      "📊 每個類別在訓練與驗證集的 player 數：\n",
      "🔹 訓練集：{0: 28, 1: 5}\n",
      "🔹 驗證集：{0: 7, 1: 2}\n",
      "👤 驗證集 player_id：[35, 34, 15, 5, 9, 23, 36, 24, 33]\n",
      "  ➤ Fold 5 ROC AUC: 0.9992\n",
      "✅ 平均 ROC AUC: 0.9995\n",
      "\n",
      "🏁 最佳 ROC AUC: 0.9995 對應參數：{'n_estimators': 300, 'max_depth': 7, 'learning_rate': 0.05, 'subsample': 0.8, 'colsample_bytree': 0.6, 'gamma': 0, 'scale_pos_weight': 20}\n",
      "\n",
      "🏆 最佳 ROC AUC: 0.9995\n",
      "🎯 使用最佳參數重新訓練完整模型並預測測試集\n",
      "============================================================\n"
     ]
    }
   ],
   "source": [
    "# === 握拍手預測（hold racket handed）===\n",
    "df_hold, model_hold, cols_hold = train_and_predict_xgb(\n",
    "    y_name='hold racket handed',\n",
    "    smote_ratio=0.7,\n",
    "    return_model=True,\n",
    "    cv_mode='manual_kfold',\n",
    "    fold_count=5,\n",
    "    n_iter=30\n",
    ")"
   ]
  },
  {
   "cell_type": "code",
   "execution_count": 55,
   "id": "b9b666fe",
   "metadata": {},
   "outputs": [
    {
     "name": "stdout",
     "output_type": "stream",
     "text": [
      "\n",
      "🚀 開始訓練任務：play years（cv_mode=manual_kfold）\n",
      "\n",
      "🔍 開始搜尋共 30 組參數，每組做 5-Fold 驗證\n",
      "------------------------------------------------------------\n",
      "\n",
      "🧪 測試第 1/30 組參數：{'n_estimators': 500, 'max_depth': 3, 'learning_rate': 0.01, 'subsample': 0.8, 'colsample_bytree': 0.8, 'gamma': 1, 'scale_pos_weight': 1}\n",
      "\n",
      "📊 每個類別在訓練與驗證集的 player 數：\n",
      "🔹 訓練集：{1: 13, 0: 6, 2: 14}\n",
      "🔹 驗證集：{1: 4, 0: 2, 2: 3}\n",
      "👤 驗證集 player_id：[7, 12, 18, 42, 35, 24, 19, 26, 10]\n"
     ]
    },
    {
     "name": "stderr",
     "output_type": "stream",
     "text": [
      "/home/barry/.conda/envs/test/lib/python3.10/site-packages/xgboost/training.py:183: UserWarning: [20:41:43] WARNING: /workspace/src/learner.cc:738: \n",
      "Parameters: { \"scale_pos_weight\" } are not used.\n",
      "\n",
      "  bst.update(dtrain, iteration=i, fobj=obj)\n"
     ]
    },
    {
     "name": "stdout",
     "output_type": "stream",
     "text": [
      "  ➤ Fold 1 ROC AUC: 0.5964\n",
      "\n",
      "📊 每個類別在訓練與驗證集的 player 數：\n",
      "🔹 訓練集：{1: 13, 0: 6, 2: 14}\n",
      "🔹 驗證集：{2: 3, 1: 4, 0: 2}\n",
      "👤 驗證集 player_id：[13, 40, 4, 19, 18, 6, 17, 3, 41]\n"
     ]
    },
    {
     "name": "stderr",
     "output_type": "stream",
     "text": [
      "/home/barry/.conda/envs/test/lib/python3.10/site-packages/xgboost/training.py:183: UserWarning: [20:42:58] WARNING: /workspace/src/learner.cc:738: \n",
      "Parameters: { \"scale_pos_weight\" } are not used.\n",
      "\n",
      "  bst.update(dtrain, iteration=i, fobj=obj)\n"
     ]
    },
    {
     "name": "stdout",
     "output_type": "stream",
     "text": [
      "  ➤ Fold 2 ROC AUC: 0.6064\n",
      "\n",
      "📊 每個類別在訓練與驗證集的 player 數：\n",
      "🔹 訓練集：{0: 6, 2: 14, 1: 13}\n",
      "🔹 驗證集：{2: 3, 1: 4, 0: 2}\n",
      "👤 驗證集 player_id：[29, 23, 22, 6, 41, 21, 35, 10, 5]\n"
     ]
    },
    {
     "name": "stderr",
     "output_type": "stream",
     "text": [
      "/home/barry/.conda/envs/test/lib/python3.10/site-packages/xgboost/training.py:183: UserWarning: [20:44:17] WARNING: /workspace/src/learner.cc:738: \n",
      "Parameters: { \"scale_pos_weight\" } are not used.\n",
      "\n",
      "  bst.update(dtrain, iteration=i, fobj=obj)\n"
     ]
    },
    {
     "name": "stdout",
     "output_type": "stream",
     "text": [
      "  ➤ Fold 3 ROC AUC: 0.6054\n",
      "\n",
      "📊 每個類別在訓練與驗證集的 player 數：\n",
      "🔹 訓練集：{0: 6, 1: 14, 2: 13}\n",
      "🔹 驗證集：{1: 3, 2: 4, 0: 2}\n",
      "👤 驗證集 player_id：[32, 20, 27, 5, 33, 7, 17, 10, 14]\n"
     ]
    },
    {
     "name": "stderr",
     "output_type": "stream",
     "text": [
      "/home/barry/.conda/envs/test/lib/python3.10/site-packages/xgboost/training.py:183: UserWarning: [20:45:38] WARNING: /workspace/src/learner.cc:738: \n",
      "Parameters: { \"scale_pos_weight\" } are not used.\n",
      "\n",
      "  bst.update(dtrain, iteration=i, fobj=obj)\n"
     ]
    },
    {
     "name": "stdout",
     "output_type": "stream",
     "text": [
      "  ➤ Fold 4 ROC AUC: 0.6548\n",
      "\n",
      "📊 每個類別在訓練與驗證集的 player 數：\n",
      "🔹 訓練集：{1: 14, 2: 13, 0: 6}\n",
      "🔹 驗證集：{0: 2, 2: 4, 1: 3}\n",
      "👤 驗證集 player_id：[31, 26, 36, 15, 30, 42, 3, 17, 4]\n"
     ]
    },
    {
     "name": "stderr",
     "output_type": "stream",
     "text": [
      "/home/barry/.conda/envs/test/lib/python3.10/site-packages/xgboost/training.py:183: UserWarning: [20:47:02] WARNING: /workspace/src/learner.cc:738: \n",
      "Parameters: { \"scale_pos_weight\" } are not used.\n",
      "\n",
      "  bst.update(dtrain, iteration=i, fobj=obj)\n"
     ]
    },
    {
     "name": "stdout",
     "output_type": "stream",
     "text": [
      "  ➤ Fold 5 ROC AUC: 0.7036\n",
      "✅ 平均 ROC AUC: 0.6333\n",
      "🎯 新最佳模型！已更新\n",
      "============================================================\n",
      "\n",
      "🧪 測試第 2/30 組參數：{'n_estimators': 100, 'max_depth': 7, 'learning_rate': 0.01, 'subsample': 0.8, 'colsample_bytree': 0.8, 'gamma': 0, 'scale_pos_weight': 1}\n",
      "\n",
      "📊 每個類別在訓練與驗證集的 player 數：\n",
      "🔹 訓練集：{1: 13, 0: 6, 2: 14}\n",
      "🔹 驗證集：{1: 4, 0: 2, 2: 3}\n",
      "👤 驗證集 player_id：[7, 12, 18, 42, 35, 24, 19, 26, 10]\n"
     ]
    },
    {
     "name": "stderr",
     "output_type": "stream",
     "text": [
      "/home/barry/.conda/envs/test/lib/python3.10/site-packages/xgboost/training.py:183: UserWarning: [20:48:28] WARNING: /workspace/src/learner.cc:738: \n",
      "Parameters: { \"scale_pos_weight\" } are not used.\n",
      "\n",
      "  bst.update(dtrain, iteration=i, fobj=obj)\n"
     ]
    },
    {
     "name": "stdout",
     "output_type": "stream",
     "text": [
      "  ➤ Fold 1 ROC AUC: 0.6104\n",
      "\n",
      "📊 每個類別在訓練與驗證集的 player 數：\n",
      "🔹 訓練集：{1: 13, 0: 6, 2: 14}\n",
      "🔹 驗證集：{2: 3, 1: 4, 0: 2}\n",
      "👤 驗證集 player_id：[13, 40, 4, 19, 18, 6, 17, 3, 41]\n"
     ]
    },
    {
     "name": "stderr",
     "output_type": "stream",
     "text": [
      "/home/barry/.conda/envs/test/lib/python3.10/site-packages/xgboost/training.py:183: UserWarning: [20:49:20] WARNING: /workspace/src/learner.cc:738: \n",
      "Parameters: { \"scale_pos_weight\" } are not used.\n",
      "\n",
      "  bst.update(dtrain, iteration=i, fobj=obj)\n"
     ]
    },
    {
     "name": "stdout",
     "output_type": "stream",
     "text": [
      "  ➤ Fold 2 ROC AUC: 0.6590\n",
      "\n",
      "📊 每個類別在訓練與驗證集的 player 數：\n",
      "🔹 訓練集：{0: 6, 2: 14, 1: 13}\n",
      "🔹 驗證集：{2: 3, 1: 4, 0: 2}\n",
      "👤 驗證集 player_id：[29, 23, 22, 6, 41, 21, 35, 10, 5]\n"
     ]
    },
    {
     "name": "stderr",
     "output_type": "stream",
     "text": [
      "/home/barry/.conda/envs/test/lib/python3.10/site-packages/xgboost/training.py:183: UserWarning: [20:50:11] WARNING: /workspace/src/learner.cc:738: \n",
      "Parameters: { \"scale_pos_weight\" } are not used.\n",
      "\n",
      "  bst.update(dtrain, iteration=i, fobj=obj)\n"
     ]
    },
    {
     "name": "stdout",
     "output_type": "stream",
     "text": [
      "  ➤ Fold 3 ROC AUC: 0.6175\n",
      "\n",
      "📊 每個類別在訓練與驗證集的 player 數：\n",
      "🔹 訓練集：{0: 6, 1: 14, 2: 13}\n",
      "🔹 驗證集：{1: 3, 2: 4, 0: 2}\n",
      "👤 驗證集 player_id：[32, 20, 27, 5, 33, 7, 17, 10, 14]\n"
     ]
    },
    {
     "name": "stderr",
     "output_type": "stream",
     "text": [
      "/home/barry/.conda/envs/test/lib/python3.10/site-packages/xgboost/training.py:183: UserWarning: [20:51:02] WARNING: /workspace/src/learner.cc:738: \n",
      "Parameters: { \"scale_pos_weight\" } are not used.\n",
      "\n",
      "  bst.update(dtrain, iteration=i, fobj=obj)\n"
     ]
    },
    {
     "name": "stdout",
     "output_type": "stream",
     "text": [
      "  ➤ Fold 4 ROC AUC: 0.6266\n",
      "\n",
      "📊 每個類別在訓練與驗證集的 player 數：\n",
      "🔹 訓練集：{1: 14, 2: 13, 0: 6}\n",
      "🔹 驗證集：{0: 2, 2: 4, 1: 3}\n",
      "👤 驗證集 player_id：[31, 26, 36, 15, 30, 42, 3, 17, 4]\n"
     ]
    },
    {
     "name": "stderr",
     "output_type": "stream",
     "text": [
      "/home/barry/.conda/envs/test/lib/python3.10/site-packages/xgboost/training.py:183: UserWarning: [20:51:56] WARNING: /workspace/src/learner.cc:738: \n",
      "Parameters: { \"scale_pos_weight\" } are not used.\n",
      "\n",
      "  bst.update(dtrain, iteration=i, fobj=obj)\n"
     ]
    },
    {
     "name": "stdout",
     "output_type": "stream",
     "text": [
      "  ➤ Fold 5 ROC AUC: 0.7245\n",
      "✅ 平均 ROC AUC: 0.6476\n",
      "🎯 新最佳模型！已更新\n",
      "============================================================\n",
      "\n",
      "🧪 測試第 3/30 組參數：{'n_estimators': 100, 'max_depth': 3, 'learning_rate': 0.05, 'subsample': 1.0, 'colsample_bytree': 1.0, 'gamma': 0, 'scale_pos_weight': 1}\n",
      "\n",
      "📊 每個類別在訓練與驗證集的 player 數：\n",
      "🔹 訓練集：{1: 13, 0: 6, 2: 14}\n",
      "🔹 驗證集：{1: 4, 0: 2, 2: 3}\n",
      "👤 驗證集 player_id：[7, 12, 18, 42, 35, 24, 19, 26, 10]\n"
     ]
    },
    {
     "name": "stderr",
     "output_type": "stream",
     "text": [
      "/home/barry/.conda/envs/test/lib/python3.10/site-packages/xgboost/training.py:183: UserWarning: [20:52:49] WARNING: /workspace/src/learner.cc:738: \n",
      "Parameters: { \"scale_pos_weight\" } are not used.\n",
      "\n",
      "  bst.update(dtrain, iteration=i, fobj=obj)\n"
     ]
    },
    {
     "name": "stdout",
     "output_type": "stream",
     "text": [
      "  ➤ Fold 1 ROC AUC: 0.6023\n",
      "\n",
      "📊 每個類別在訓練與驗證集的 player 數：\n",
      "🔹 訓練集：{1: 13, 0: 6, 2: 14}\n",
      "🔹 驗證集：{2: 3, 1: 4, 0: 2}\n",
      "👤 驗證集 player_id：[13, 40, 4, 19, 18, 6, 17, 3, 41]\n"
     ]
    },
    {
     "name": "stderr",
     "output_type": "stream",
     "text": [
      "/home/barry/.conda/envs/test/lib/python3.10/site-packages/xgboost/training.py:183: UserWarning: [20:53:04] WARNING: /workspace/src/learner.cc:738: \n",
      "Parameters: { \"scale_pos_weight\" } are not used.\n",
      "\n",
      "  bst.update(dtrain, iteration=i, fobj=obj)\n"
     ]
    },
    {
     "name": "stdout",
     "output_type": "stream",
     "text": [
      "  ➤ Fold 2 ROC AUC: 0.6059\n",
      "\n",
      "📊 每個類別在訓練與驗證集的 player 數：\n",
      "🔹 訓練集：{0: 6, 2: 14, 1: 13}\n",
      "🔹 驗證集：{2: 3, 1: 4, 0: 2}\n",
      "👤 驗證集 player_id：[29, 23, 22, 6, 41, 21, 35, 10, 5]\n"
     ]
    },
    {
     "name": "stderr",
     "output_type": "stream",
     "text": [
      "/home/barry/.conda/envs/test/lib/python3.10/site-packages/xgboost/training.py:183: UserWarning: [20:53:21] WARNING: /workspace/src/learner.cc:738: \n",
      "Parameters: { \"scale_pos_weight\" } are not used.\n",
      "\n",
      "  bst.update(dtrain, iteration=i, fobj=obj)\n"
     ]
    },
    {
     "name": "stdout",
     "output_type": "stream",
     "text": [
      "  ➤ Fold 3 ROC AUC: 0.6026\n",
      "\n",
      "📊 每個類別在訓練與驗證集的 player 數：\n",
      "🔹 訓練集：{0: 6, 1: 14, 2: 13}\n",
      "🔹 驗證集：{1: 3, 2: 4, 0: 2}\n",
      "👤 驗證集 player_id：[32, 20, 27, 5, 33, 7, 17, 10, 14]\n"
     ]
    },
    {
     "name": "stderr",
     "output_type": "stream",
     "text": [
      "/home/barry/.conda/envs/test/lib/python3.10/site-packages/xgboost/training.py:183: UserWarning: [20:53:38] WARNING: /workspace/src/learner.cc:738: \n",
      "Parameters: { \"scale_pos_weight\" } are not used.\n",
      "\n",
      "  bst.update(dtrain, iteration=i, fobj=obj)\n"
     ]
    },
    {
     "name": "stdout",
     "output_type": "stream",
     "text": [
      "  ➤ Fold 4 ROC AUC: 0.6553\n",
      "\n",
      "📊 每個類別在訓練與驗證集的 player 數：\n",
      "🔹 訓練集：{1: 14, 2: 13, 0: 6}\n",
      "🔹 驗證集：{0: 2, 2: 4, 1: 3}\n",
      "👤 驗證集 player_id：[31, 26, 36, 15, 30, 42, 3, 17, 4]\n"
     ]
    },
    {
     "name": "stderr",
     "output_type": "stream",
     "text": [
      "/home/barry/.conda/envs/test/lib/python3.10/site-packages/xgboost/training.py:183: UserWarning: [20:53:54] WARNING: /workspace/src/learner.cc:738: \n",
      "Parameters: { \"scale_pos_weight\" } are not used.\n",
      "\n",
      "  bst.update(dtrain, iteration=i, fobj=obj)\n"
     ]
    },
    {
     "name": "stdout",
     "output_type": "stream",
     "text": [
      "  ➤ Fold 5 ROC AUC: 0.7022\n",
      "✅ 平均 ROC AUC: 0.6337\n",
      "\n",
      "🧪 測試第 4/30 組參數：{'n_estimators': 500, 'max_depth': 7, 'learning_rate': 0.01, 'subsample': 0.6, 'colsample_bytree': 1.0, 'gamma': 0, 'scale_pos_weight': 1}\n",
      "\n",
      "📊 每個類別在訓練與驗證集的 player 數：\n",
      "🔹 訓練集：{1: 13, 0: 6, 2: 14}\n",
      "🔹 驗證集：{1: 4, 0: 2, 2: 3}\n",
      "👤 驗證集 player_id：[7, 12, 18, 42, 35, 24, 19, 26, 10]\n"
     ]
    },
    {
     "name": "stderr",
     "output_type": "stream",
     "text": [
      "/home/barry/.conda/envs/test/lib/python3.10/site-packages/xgboost/training.py:183: UserWarning: [20:54:12] WARNING: /workspace/src/learner.cc:738: \n",
      "Parameters: { \"scale_pos_weight\" } are not used.\n",
      "\n",
      "  bst.update(dtrain, iteration=i, fobj=obj)\n"
     ]
    },
    {
     "name": "stdout",
     "output_type": "stream",
     "text": [
      "  ➤ Fold 1 ROC AUC: 0.6031\n",
      "\n",
      "📊 每個類別在訓練與驗證集的 player 數：\n",
      "🔹 訓練集：{1: 13, 0: 6, 2: 14}\n",
      "🔹 驗證集：{2: 3, 1: 4, 0: 2}\n",
      "👤 驗證集 player_id：[13, 40, 4, 19, 18, 6, 17, 3, 41]\n"
     ]
    },
    {
     "name": "stderr",
     "output_type": "stream",
     "text": [
      "/home/barry/.conda/envs/test/lib/python3.10/site-packages/xgboost/training.py:183: UserWarning: [20:58:23] WARNING: /workspace/src/learner.cc:738: \n",
      "Parameters: { \"scale_pos_weight\" } are not used.\n",
      "\n",
      "  bst.update(dtrain, iteration=i, fobj=obj)\n"
     ]
    },
    {
     "name": "stdout",
     "output_type": "stream",
     "text": [
      "  ➤ Fold 2 ROC AUC: 0.6385\n",
      "\n",
      "📊 每個類別在訓練與驗證集的 player 數：\n",
      "🔹 訓練集：{0: 6, 2: 14, 1: 13}\n",
      "🔹 驗證集：{2: 3, 1: 4, 0: 2}\n",
      "👤 驗證集 player_id：[29, 23, 22, 6, 41, 21, 35, 10, 5]\n"
     ]
    },
    {
     "name": "stderr",
     "output_type": "stream",
     "text": [
      "/home/barry/.conda/envs/test/lib/python3.10/site-packages/xgboost/training.py:183: UserWarning: [21:02:34] WARNING: /workspace/src/learner.cc:738: \n",
      "Parameters: { \"scale_pos_weight\" } are not used.\n",
      "\n",
      "  bst.update(dtrain, iteration=i, fobj=obj)\n"
     ]
    },
    {
     "name": "stdout",
     "output_type": "stream",
     "text": [
      "  ➤ Fold 3 ROC AUC: 0.6234\n",
      "\n",
      "📊 每個類別在訓練與驗證集的 player 數：\n",
      "🔹 訓練集：{0: 6, 1: 14, 2: 13}\n",
      "🔹 驗證集：{1: 3, 2: 4, 0: 2}\n",
      "👤 驗證集 player_id：[32, 20, 27, 5, 33, 7, 17, 10, 14]\n"
     ]
    },
    {
     "name": "stderr",
     "output_type": "stream",
     "text": [
      "/home/barry/.conda/envs/test/lib/python3.10/site-packages/xgboost/training.py:183: UserWarning: [21:06:48] WARNING: /workspace/src/learner.cc:738: \n",
      "Parameters: { \"scale_pos_weight\" } are not used.\n",
      "\n",
      "  bst.update(dtrain, iteration=i, fobj=obj)\n"
     ]
    },
    {
     "name": "stdout",
     "output_type": "stream",
     "text": [
      "  ➤ Fold 4 ROC AUC: 0.6277\n",
      "\n",
      "📊 每個類別在訓練與驗證集的 player 數：\n",
      "🔹 訓練集：{1: 14, 2: 13, 0: 6}\n",
      "🔹 驗證集：{0: 2, 2: 4, 1: 3}\n",
      "👤 驗證集 player_id：[31, 26, 36, 15, 30, 42, 3, 17, 4]\n"
     ]
    },
    {
     "name": "stderr",
     "output_type": "stream",
     "text": [
      "/home/barry/.conda/envs/test/lib/python3.10/site-packages/xgboost/training.py:183: UserWarning: [21:11:03] WARNING: /workspace/src/learner.cc:738: \n",
      "Parameters: { \"scale_pos_weight\" } are not used.\n",
      "\n",
      "  bst.update(dtrain, iteration=i, fobj=obj)\n"
     ]
    },
    {
     "name": "stdout",
     "output_type": "stream",
     "text": [
      "  ➤ Fold 5 ROC AUC: 0.7131\n",
      "✅ 平均 ROC AUC: 0.6412\n",
      "\n",
      "🧪 測試第 5/30 組參數：{'n_estimators': 200, 'max_depth': 5, 'learning_rate': 0.01, 'subsample': 1.0, 'colsample_bytree': 0.8, 'gamma': 5, 'scale_pos_weight': 1}\n",
      "\n",
      "📊 每個類別在訓練與驗證集的 player 數：\n",
      "🔹 訓練集：{1: 13, 0: 6, 2: 14}\n",
      "🔹 驗證集：{1: 4, 0: 2, 2: 3}\n",
      "👤 驗證集 player_id：[7, 12, 18, 42, 35, 24, 19, 26, 10]\n"
     ]
    },
    {
     "name": "stderr",
     "output_type": "stream",
     "text": [
      "/home/barry/.conda/envs/test/lib/python3.10/site-packages/xgboost/training.py:183: UserWarning: [21:15:19] WARNING: /workspace/src/learner.cc:738: \n",
      "Parameters: { \"scale_pos_weight\" } are not used.\n",
      "\n",
      "  bst.update(dtrain, iteration=i, fobj=obj)\n"
     ]
    },
    {
     "name": "stdout",
     "output_type": "stream",
     "text": [
      "  ➤ Fold 1 ROC AUC: 0.5827\n",
      "\n",
      "📊 每個類別在訓練與驗證集的 player 數：\n",
      "🔹 訓練集：{1: 13, 0: 6, 2: 14}\n",
      "🔹 驗證集：{2: 3, 1: 4, 0: 2}\n",
      "👤 驗證集 player_id：[13, 40, 4, 19, 18, 6, 17, 3, 41]\n"
     ]
    },
    {
     "name": "stderr",
     "output_type": "stream",
     "text": [
      "/home/barry/.conda/envs/test/lib/python3.10/site-packages/xgboost/training.py:183: UserWarning: [21:16:13] WARNING: /workspace/src/learner.cc:738: \n",
      "Parameters: { \"scale_pos_weight\" } are not used.\n",
      "\n",
      "  bst.update(dtrain, iteration=i, fobj=obj)\n"
     ]
    },
    {
     "name": "stdout",
     "output_type": "stream",
     "text": [
      "  ➤ Fold 2 ROC AUC: 0.6544\n",
      "\n",
      "📊 每個類別在訓練與驗證集的 player 數：\n",
      "🔹 訓練集：{0: 6, 2: 14, 1: 13}\n",
      "🔹 驗證集：{2: 3, 1: 4, 0: 2}\n",
      "👤 驗證集 player_id：[29, 23, 22, 6, 41, 21, 35, 10, 5]\n"
     ]
    },
    {
     "name": "stderr",
     "output_type": "stream",
     "text": [
      "/home/barry/.conda/envs/test/lib/python3.10/site-packages/xgboost/training.py:183: UserWarning: [21:17:08] WARNING: /workspace/src/learner.cc:738: \n",
      "Parameters: { \"scale_pos_weight\" } are not used.\n",
      "\n",
      "  bst.update(dtrain, iteration=i, fobj=obj)\n"
     ]
    },
    {
     "name": "stdout",
     "output_type": "stream",
     "text": [
      "  ➤ Fold 3 ROC AUC: 0.6132\n",
      "\n",
      "📊 每個類別在訓練與驗證集的 player 數：\n",
      "🔹 訓練集：{0: 6, 1: 14, 2: 13}\n",
      "🔹 驗證集：{1: 3, 2: 4, 0: 2}\n",
      "👤 驗證集 player_id：[32, 20, 27, 5, 33, 7, 17, 10, 14]\n"
     ]
    },
    {
     "name": "stderr",
     "output_type": "stream",
     "text": [
      "/home/barry/.conda/envs/test/lib/python3.10/site-packages/xgboost/training.py:183: UserWarning: [21:18:04] WARNING: /workspace/src/learner.cc:738: \n",
      "Parameters: { \"scale_pos_weight\" } are not used.\n",
      "\n",
      "  bst.update(dtrain, iteration=i, fobj=obj)\n"
     ]
    },
    {
     "name": "stdout",
     "output_type": "stream",
     "text": [
      "  ➤ Fold 4 ROC AUC: 0.6548\n",
      "\n",
      "📊 每個類別在訓練與驗證集的 player 數：\n",
      "🔹 訓練集：{1: 14, 2: 13, 0: 6}\n",
      "🔹 驗證集：{0: 2, 2: 4, 1: 3}\n",
      "👤 驗證集 player_id：[31, 26, 36, 15, 30, 42, 3, 17, 4]\n"
     ]
    },
    {
     "name": "stderr",
     "output_type": "stream",
     "text": [
      "/home/barry/.conda/envs/test/lib/python3.10/site-packages/xgboost/training.py:183: UserWarning: [21:19:00] WARNING: /workspace/src/learner.cc:738: \n",
      "Parameters: { \"scale_pos_weight\" } are not used.\n",
      "\n",
      "  bst.update(dtrain, iteration=i, fobj=obj)\n"
     ]
    },
    {
     "name": "stdout",
     "output_type": "stream",
     "text": [
      "  ➤ Fold 5 ROC AUC: 0.7086\n",
      "✅ 平均 ROC AUC: 0.6427\n",
      "\n",
      "🧪 測試第 6/30 組參數：{'n_estimators': 200, 'max_depth': 3, 'learning_rate': 0.1, 'subsample': 0.8, 'colsample_bytree': 1.0, 'gamma': 0, 'scale_pos_weight': 1}\n",
      "\n",
      "📊 每個類別在訓練與驗證集的 player 數：\n",
      "🔹 訓練集：{1: 13, 0: 6, 2: 14}\n",
      "🔹 驗證集：{1: 4, 0: 2, 2: 3}\n",
      "👤 驗證集 player_id：[7, 12, 18, 42, 35, 24, 19, 26, 10]\n"
     ]
    },
    {
     "name": "stderr",
     "output_type": "stream",
     "text": [
      "/home/barry/.conda/envs/test/lib/python3.10/site-packages/xgboost/training.py:183: UserWarning: [21:19:58] WARNING: /workspace/src/learner.cc:738: \n",
      "Parameters: { \"scale_pos_weight\" } are not used.\n",
      "\n",
      "  bst.update(dtrain, iteration=i, fobj=obj)\n"
     ]
    },
    {
     "name": "stdout",
     "output_type": "stream",
     "text": [
      "  ➤ Fold 1 ROC AUC: 0.6190\n",
      "\n",
      "📊 每個類別在訓練與驗證集的 player 數：\n",
      "🔹 訓練集：{1: 13, 0: 6, 2: 14}\n",
      "🔹 驗證集：{2: 3, 1: 4, 0: 2}\n",
      "👤 驗證集 player_id：[13, 40, 4, 19, 18, 6, 17, 3, 41]\n"
     ]
    },
    {
     "name": "stderr",
     "output_type": "stream",
     "text": [
      "/home/barry/.conda/envs/test/lib/python3.10/site-packages/xgboost/training.py:183: UserWarning: [21:20:26] WARNING: /workspace/src/learner.cc:738: \n",
      "Parameters: { \"scale_pos_weight\" } are not used.\n",
      "\n",
      "  bst.update(dtrain, iteration=i, fobj=obj)\n"
     ]
    },
    {
     "name": "stdout",
     "output_type": "stream",
     "text": [
      "  ➤ Fold 2 ROC AUC: 0.6185\n",
      "\n",
      "📊 每個類別在訓練與驗證集的 player 數：\n",
      "🔹 訓練集：{0: 6, 2: 14, 1: 13}\n",
      "🔹 驗證集：{2: 3, 1: 4, 0: 2}\n",
      "👤 驗證集 player_id：[29, 23, 22, 6, 41, 21, 35, 10, 5]\n"
     ]
    },
    {
     "name": "stderr",
     "output_type": "stream",
     "text": [
      "/home/barry/.conda/envs/test/lib/python3.10/site-packages/xgboost/training.py:183: UserWarning: [21:20:56] WARNING: /workspace/src/learner.cc:738: \n",
      "Parameters: { \"scale_pos_weight\" } are not used.\n",
      "\n",
      "  bst.update(dtrain, iteration=i, fobj=obj)\n"
     ]
    },
    {
     "name": "stdout",
     "output_type": "stream",
     "text": [
      "  ➤ Fold 3 ROC AUC: 0.6003\n",
      "\n",
      "📊 每個類別在訓練與驗證集的 player 數：\n",
      "🔹 訓練集：{0: 6, 1: 14, 2: 13}\n",
      "🔹 驗證集：{1: 3, 2: 4, 0: 2}\n",
      "👤 驗證集 player_id：[32, 20, 27, 5, 33, 7, 17, 10, 14]\n"
     ]
    },
    {
     "name": "stderr",
     "output_type": "stream",
     "text": [
      "/home/barry/.conda/envs/test/lib/python3.10/site-packages/xgboost/training.py:183: UserWarning: [21:21:24] WARNING: /workspace/src/learner.cc:738: \n",
      "Parameters: { \"scale_pos_weight\" } are not used.\n",
      "\n",
      "  bst.update(dtrain, iteration=i, fobj=obj)\n"
     ]
    },
    {
     "name": "stdout",
     "output_type": "stream",
     "text": [
      "  ➤ Fold 4 ROC AUC: 0.6033\n",
      "\n",
      "📊 每個類別在訓練與驗證集的 player 數：\n",
      "🔹 訓練集：{1: 14, 2: 13, 0: 6}\n",
      "🔹 驗證集：{0: 2, 2: 4, 1: 3}\n",
      "👤 驗證集 player_id：[31, 26, 36, 15, 30, 42, 3, 17, 4]\n"
     ]
    },
    {
     "name": "stderr",
     "output_type": "stream",
     "text": [
      "/home/barry/.conda/envs/test/lib/python3.10/site-packages/xgboost/training.py:183: UserWarning: [21:21:54] WARNING: /workspace/src/learner.cc:738: \n",
      "Parameters: { \"scale_pos_weight\" } are not used.\n",
      "\n",
      "  bst.update(dtrain, iteration=i, fobj=obj)\n"
     ]
    },
    {
     "name": "stdout",
     "output_type": "stream",
     "text": [
      "  ➤ Fold 5 ROC AUC: 0.7261\n",
      "✅ 平均 ROC AUC: 0.6334\n",
      "\n",
      "🧪 測試第 7/30 組參數：{'n_estimators': 200, 'max_depth': 3, 'learning_rate': 0.01, 'subsample': 1.0, 'colsample_bytree': 1.0, 'gamma': 1, 'scale_pos_weight': 1}\n",
      "\n",
      "📊 每個類別在訓練與驗證集的 player 數：\n",
      "🔹 訓練集：{1: 13, 0: 6, 2: 14}\n",
      "🔹 驗證集：{1: 4, 0: 2, 2: 3}\n",
      "👤 驗證集 player_id：[7, 12, 18, 42, 35, 24, 19, 26, 10]\n"
     ]
    },
    {
     "name": "stderr",
     "output_type": "stream",
     "text": [
      "/home/barry/.conda/envs/test/lib/python3.10/site-packages/xgboost/training.py:183: UserWarning: [21:22:25] WARNING: /workspace/src/learner.cc:738: \n",
      "Parameters: { \"scale_pos_weight\" } are not used.\n",
      "\n",
      "  bst.update(dtrain, iteration=i, fobj=obj)\n"
     ]
    },
    {
     "name": "stdout",
     "output_type": "stream",
     "text": [
      "  ➤ Fold 1 ROC AUC: 0.5848\n",
      "\n",
      "📊 每個類別在訓練與驗證集的 player 數：\n",
      "🔹 訓練集：{1: 13, 0: 6, 2: 14}\n",
      "🔹 驗證集：{2: 3, 1: 4, 0: 2}\n",
      "👤 驗證集 player_id：[13, 40, 4, 19, 18, 6, 17, 3, 41]\n"
     ]
    },
    {
     "name": "stderr",
     "output_type": "stream",
     "text": [
      "/home/barry/.conda/envs/test/lib/python3.10/site-packages/xgboost/training.py:183: UserWarning: [21:22:55] WARNING: /workspace/src/learner.cc:738: \n",
      "Parameters: { \"scale_pos_weight\" } are not used.\n",
      "\n",
      "  bst.update(dtrain, iteration=i, fobj=obj)\n"
     ]
    },
    {
     "name": "stdout",
     "output_type": "stream",
     "text": [
      "  ➤ Fold 2 ROC AUC: 0.6259\n",
      "\n",
      "📊 每個類別在訓練與驗證集的 player 數：\n",
      "🔹 訓練集：{0: 6, 2: 14, 1: 13}\n",
      "🔹 驗證集：{2: 3, 1: 4, 0: 2}\n",
      "👤 驗證集 player_id：[29, 23, 22, 6, 41, 21, 35, 10, 5]\n"
     ]
    },
    {
     "name": "stderr",
     "output_type": "stream",
     "text": [
      "/home/barry/.conda/envs/test/lib/python3.10/site-packages/xgboost/training.py:183: UserWarning: [21:23:28] WARNING: /workspace/src/learner.cc:738: \n",
      "Parameters: { \"scale_pos_weight\" } are not used.\n",
      "\n",
      "  bst.update(dtrain, iteration=i, fobj=obj)\n"
     ]
    },
    {
     "name": "stdout",
     "output_type": "stream",
     "text": [
      "  ➤ Fold 3 ROC AUC: 0.6021\n",
      "\n",
      "📊 每個類別在訓練與驗證集的 player 數：\n",
      "🔹 訓練集：{0: 6, 1: 14, 2: 13}\n",
      "🔹 驗證集：{1: 3, 2: 4, 0: 2}\n",
      "👤 驗證集 player_id：[32, 20, 27, 5, 33, 7, 17, 10, 14]\n"
     ]
    },
    {
     "name": "stderr",
     "output_type": "stream",
     "text": [
      "/home/barry/.conda/envs/test/lib/python3.10/site-packages/xgboost/training.py:183: UserWarning: [21:24:01] WARNING: /workspace/src/learner.cc:738: \n",
      "Parameters: { \"scale_pos_weight\" } are not used.\n",
      "\n",
      "  bst.update(dtrain, iteration=i, fobj=obj)\n"
     ]
    },
    {
     "name": "stdout",
     "output_type": "stream",
     "text": [
      "  ➤ Fold 4 ROC AUC: 0.6924\n",
      "\n",
      "📊 每個類別在訓練與驗證集的 player 數：\n",
      "🔹 訓練集：{1: 14, 2: 13, 0: 6}\n",
      "🔹 驗證集：{0: 2, 2: 4, 1: 3}\n",
      "👤 驗證集 player_id：[31, 26, 36, 15, 30, 42, 3, 17, 4]\n"
     ]
    },
    {
     "name": "stderr",
     "output_type": "stream",
     "text": [
      "/home/barry/.conda/envs/test/lib/python3.10/site-packages/xgboost/training.py:183: UserWarning: [21:24:35] WARNING: /workspace/src/learner.cc:738: \n",
      "Parameters: { \"scale_pos_weight\" } are not used.\n",
      "\n",
      "  bst.update(dtrain, iteration=i, fobj=obj)\n"
     ]
    },
    {
     "name": "stdout",
     "output_type": "stream",
     "text": [
      "  ➤ Fold 5 ROC AUC: 0.6804\n",
      "✅ 平均 ROC AUC: 0.6371\n",
      "\n",
      "🧪 測試第 8/30 組參數：{'n_estimators': 100, 'max_depth': 7, 'learning_rate': 0.1, 'subsample': 0.8, 'colsample_bytree': 1.0, 'gamma': 0, 'scale_pos_weight': 1}\n",
      "\n",
      "📊 每個類別在訓練與驗證集的 player 數：\n",
      "🔹 訓練集：{1: 13, 0: 6, 2: 14}\n",
      "🔹 驗證集：{1: 4, 0: 2, 2: 3}\n",
      "👤 驗證集 player_id：[7, 12, 18, 42, 35, 24, 19, 26, 10]\n"
     ]
    },
    {
     "name": "stderr",
     "output_type": "stream",
     "text": [
      "/home/barry/.conda/envs/test/lib/python3.10/site-packages/xgboost/training.py:183: UserWarning: [21:25:09] WARNING: /workspace/src/learner.cc:738: \n",
      "Parameters: { \"scale_pos_weight\" } are not used.\n",
      "\n",
      "  bst.update(dtrain, iteration=i, fobj=obj)\n"
     ]
    },
    {
     "name": "stdout",
     "output_type": "stream",
     "text": [
      "  ➤ Fold 1 ROC AUC: 0.5990\n",
      "\n",
      "📊 每個類別在訓練與驗證集的 player 數：\n",
      "🔹 訓練集：{1: 13, 0: 6, 2: 14}\n",
      "🔹 驗證集：{2: 3, 1: 4, 0: 2}\n",
      "👤 驗證集 player_id：[13, 40, 4, 19, 18, 6, 17, 3, 41]\n"
     ]
    },
    {
     "name": "stderr",
     "output_type": "stream",
     "text": [
      "/home/barry/.conda/envs/test/lib/python3.10/site-packages/xgboost/training.py:183: UserWarning: [21:25:59] WARNING: /workspace/src/learner.cc:738: \n",
      "Parameters: { \"scale_pos_weight\" } are not used.\n",
      "\n",
      "  bst.update(dtrain, iteration=i, fobj=obj)\n"
     ]
    },
    {
     "name": "stdout",
     "output_type": "stream",
     "text": [
      "  ➤ Fold 2 ROC AUC: 0.6364\n",
      "\n",
      "📊 每個類別在訓練與驗證集的 player 數：\n",
      "🔹 訓練集：{0: 6, 2: 14, 1: 13}\n",
      "🔹 驗證集：{2: 3, 1: 4, 0: 2}\n",
      "👤 驗證集 player_id：[29, 23, 22, 6, 41, 21, 35, 10, 5]\n"
     ]
    },
    {
     "name": "stderr",
     "output_type": "stream",
     "text": [
      "/home/barry/.conda/envs/test/lib/python3.10/site-packages/xgboost/training.py:183: UserWarning: [21:26:49] WARNING: /workspace/src/learner.cc:738: \n",
      "Parameters: { \"scale_pos_weight\" } are not used.\n",
      "\n",
      "  bst.update(dtrain, iteration=i, fobj=obj)\n"
     ]
    },
    {
     "name": "stdout",
     "output_type": "stream",
     "text": [
      "  ➤ Fold 3 ROC AUC: 0.6248\n",
      "\n",
      "📊 每個類別在訓練與驗證集的 player 數：\n",
      "🔹 訓練集：{0: 6, 1: 14, 2: 13}\n",
      "🔹 驗證集：{1: 3, 2: 4, 0: 2}\n",
      "👤 驗證集 player_id：[32, 20, 27, 5, 33, 7, 17, 10, 14]\n"
     ]
    },
    {
     "name": "stderr",
     "output_type": "stream",
     "text": [
      "/home/barry/.conda/envs/test/lib/python3.10/site-packages/xgboost/training.py:183: UserWarning: [21:27:39] WARNING: /workspace/src/learner.cc:738: \n",
      "Parameters: { \"scale_pos_weight\" } are not used.\n",
      "\n",
      "  bst.update(dtrain, iteration=i, fobj=obj)\n"
     ]
    },
    {
     "name": "stdout",
     "output_type": "stream",
     "text": [
      "  ➤ Fold 4 ROC AUC: 0.6109\n",
      "\n",
      "📊 每個類別在訓練與驗證集的 player 數：\n",
      "🔹 訓練集：{1: 14, 2: 13, 0: 6}\n",
      "🔹 驗證集：{0: 2, 2: 4, 1: 3}\n",
      "👤 驗證集 player_id：[31, 26, 36, 15, 30, 42, 3, 17, 4]\n"
     ]
    },
    {
     "name": "stderr",
     "output_type": "stream",
     "text": [
      "/home/barry/.conda/envs/test/lib/python3.10/site-packages/xgboost/training.py:183: UserWarning: [21:28:30] WARNING: /workspace/src/learner.cc:738: \n",
      "Parameters: { \"scale_pos_weight\" } are not used.\n",
      "\n",
      "  bst.update(dtrain, iteration=i, fobj=obj)\n"
     ]
    },
    {
     "name": "stdout",
     "output_type": "stream",
     "text": [
      "  ➤ Fold 5 ROC AUC: 0.7291\n",
      "✅ 平均 ROC AUC: 0.6400\n",
      "\n",
      "🧪 測試第 9/30 組參數：{'n_estimators': 500, 'max_depth': 5, 'learning_rate': 0.2, 'subsample': 1.0, 'colsample_bytree': 0.8, 'gamma': 5, 'scale_pos_weight': 1}\n",
      "\n",
      "📊 每個類別在訓練與驗證集的 player 數：\n",
      "🔹 訓練集：{1: 13, 0: 6, 2: 14}\n",
      "🔹 驗證集：{1: 4, 0: 2, 2: 3}\n",
      "👤 驗證集 player_id：[7, 12, 18, 42, 35, 24, 19, 26, 10]\n"
     ]
    },
    {
     "name": "stderr",
     "output_type": "stream",
     "text": [
      "/home/barry/.conda/envs/test/lib/python3.10/site-packages/xgboost/training.py:183: UserWarning: [21:29:21] WARNING: /workspace/src/learner.cc:738: \n",
      "Parameters: { \"scale_pos_weight\" } are not used.\n",
      "\n",
      "  bst.update(dtrain, iteration=i, fobj=obj)\n"
     ]
    },
    {
     "name": "stdout",
     "output_type": "stream",
     "text": [
      "  ➤ Fold 1 ROC AUC: 0.5937\n",
      "\n",
      "📊 每個類別在訓練與驗證集的 player 數：\n",
      "🔹 訓練集：{1: 13, 0: 6, 2: 14}\n",
      "🔹 驗證集：{2: 3, 1: 4, 0: 2}\n",
      "👤 驗證集 player_id：[13, 40, 4, 19, 18, 6, 17, 3, 41]\n"
     ]
    },
    {
     "name": "stderr",
     "output_type": "stream",
     "text": [
      "/home/barry/.conda/envs/test/lib/python3.10/site-packages/xgboost/training.py:183: UserWarning: [21:30:03] WARNING: /workspace/src/learner.cc:738: \n",
      "Parameters: { \"scale_pos_weight\" } are not used.\n",
      "\n",
      "  bst.update(dtrain, iteration=i, fobj=obj)\n"
     ]
    },
    {
     "name": "stdout",
     "output_type": "stream",
     "text": [
      "  ➤ Fold 2 ROC AUC: 0.6412\n",
      "\n",
      "📊 每個類別在訓練與驗證集的 player 數：\n",
      "🔹 訓練集：{0: 6, 2: 14, 1: 13}\n",
      "🔹 驗證集：{2: 3, 1: 4, 0: 2}\n",
      "👤 驗證集 player_id：[29, 23, 22, 6, 41, 21, 35, 10, 5]\n"
     ]
    },
    {
     "name": "stderr",
     "output_type": "stream",
     "text": [
      "/home/barry/.conda/envs/test/lib/python3.10/site-packages/xgboost/training.py:183: UserWarning: [21:30:48] WARNING: /workspace/src/learner.cc:738: \n",
      "Parameters: { \"scale_pos_weight\" } are not used.\n",
      "\n",
      "  bst.update(dtrain, iteration=i, fobj=obj)\n"
     ]
    },
    {
     "name": "stdout",
     "output_type": "stream",
     "text": [
      "  ➤ Fold 3 ROC AUC: 0.6163\n",
      "\n",
      "📊 每個類別在訓練與驗證集的 player 數：\n",
      "🔹 訓練集：{0: 6, 1: 14, 2: 13}\n",
      "🔹 驗證集：{1: 3, 2: 4, 0: 2}\n",
      "👤 驗證集 player_id：[32, 20, 27, 5, 33, 7, 17, 10, 14]\n"
     ]
    },
    {
     "name": "stderr",
     "output_type": "stream",
     "text": [
      "/home/barry/.conda/envs/test/lib/python3.10/site-packages/xgboost/training.py:183: UserWarning: [21:31:32] WARNING: /workspace/src/learner.cc:738: \n",
      "Parameters: { \"scale_pos_weight\" } are not used.\n",
      "\n",
      "  bst.update(dtrain, iteration=i, fobj=obj)\n"
     ]
    },
    {
     "name": "stdout",
     "output_type": "stream",
     "text": [
      "  ➤ Fold 4 ROC AUC: 0.6106\n",
      "\n",
      "📊 每個類別在訓練與驗證集的 player 數：\n",
      "🔹 訓練集：{1: 14, 2: 13, 0: 6}\n",
      "🔹 驗證集：{0: 2, 2: 4, 1: 3}\n",
      "👤 驗證集 player_id：[31, 26, 36, 15, 30, 42, 3, 17, 4]\n"
     ]
    },
    {
     "name": "stderr",
     "output_type": "stream",
     "text": [
      "/home/barry/.conda/envs/test/lib/python3.10/site-packages/xgboost/training.py:183: UserWarning: [21:32:18] WARNING: /workspace/src/learner.cc:738: \n",
      "Parameters: { \"scale_pos_weight\" } are not used.\n",
      "\n",
      "  bst.update(dtrain, iteration=i, fobj=obj)\n"
     ]
    },
    {
     "name": "stdout",
     "output_type": "stream",
     "text": [
      "  ➤ Fold 5 ROC AUC: 0.7344\n",
      "✅ 平均 ROC AUC: 0.6392\n",
      "\n",
      "🧪 測試第 10/30 組參數：{'n_estimators': 100, 'max_depth': 5, 'learning_rate': 0.2, 'subsample': 1.0, 'colsample_bytree': 0.6, 'gamma': 5, 'scale_pos_weight': 1}\n",
      "\n",
      "📊 每個類別在訓練與驗證集的 player 數：\n",
      "🔹 訓練集：{1: 13, 0: 6, 2: 14}\n",
      "🔹 驗證集：{1: 4, 0: 2, 2: 3}\n",
      "👤 驗證集 player_id：[7, 12, 18, 42, 35, 24, 19, 26, 10]\n"
     ]
    },
    {
     "name": "stderr",
     "output_type": "stream",
     "text": [
      "/home/barry/.conda/envs/test/lib/python3.10/site-packages/xgboost/training.py:183: UserWarning: [21:33:07] WARNING: /workspace/src/learner.cc:738: \n",
      "Parameters: { \"scale_pos_weight\" } are not used.\n",
      "\n",
      "  bst.update(dtrain, iteration=i, fobj=obj)\n"
     ]
    },
    {
     "name": "stdout",
     "output_type": "stream",
     "text": [
      "  ➤ Fold 1 ROC AUC: 0.5947\n",
      "\n",
      "📊 每個類別在訓練與驗證集的 player 數：\n",
      "🔹 訓練集：{1: 13, 0: 6, 2: 14}\n",
      "🔹 驗證集：{2: 3, 1: 4, 0: 2}\n",
      "👤 驗證集 player_id：[13, 40, 4, 19, 18, 6, 17, 3, 41]\n"
     ]
    },
    {
     "name": "stderr",
     "output_type": "stream",
     "text": [
      "/home/barry/.conda/envs/test/lib/python3.10/site-packages/xgboost/training.py:183: UserWarning: [21:33:27] WARNING: /workspace/src/learner.cc:738: \n",
      "Parameters: { \"scale_pos_weight\" } are not used.\n",
      "\n",
      "  bst.update(dtrain, iteration=i, fobj=obj)\n"
     ]
    },
    {
     "name": "stdout",
     "output_type": "stream",
     "text": [
      "  ➤ Fold 2 ROC AUC: 0.6216\n",
      "\n",
      "📊 每個類別在訓練與驗證集的 player 數：\n",
      "🔹 訓練集：{0: 6, 2: 14, 1: 13}\n",
      "🔹 驗證集：{2: 3, 1: 4, 0: 2}\n",
      "👤 驗證集 player_id：[29, 23, 22, 6, 41, 21, 35, 10, 5]\n"
     ]
    },
    {
     "name": "stderr",
     "output_type": "stream",
     "text": [
      "/home/barry/.conda/envs/test/lib/python3.10/site-packages/xgboost/training.py:183: UserWarning: [21:33:45] WARNING: /workspace/src/learner.cc:738: \n",
      "Parameters: { \"scale_pos_weight\" } are not used.\n",
      "\n",
      "  bst.update(dtrain, iteration=i, fobj=obj)\n"
     ]
    },
    {
     "name": "stdout",
     "output_type": "stream",
     "text": [
      "  ➤ Fold 3 ROC AUC: 0.6162\n",
      "\n",
      "📊 每個類別在訓練與驗證集的 player 數：\n",
      "🔹 訓練集：{0: 6, 1: 14, 2: 13}\n",
      "🔹 驗證集：{1: 3, 2: 4, 0: 2}\n",
      "👤 驗證集 player_id：[32, 20, 27, 5, 33, 7, 17, 10, 14]\n"
     ]
    },
    {
     "name": "stderr",
     "output_type": "stream",
     "text": [
      "/home/barry/.conda/envs/test/lib/python3.10/site-packages/xgboost/training.py:183: UserWarning: [21:34:04] WARNING: /workspace/src/learner.cc:738: \n",
      "Parameters: { \"scale_pos_weight\" } are not used.\n",
      "\n",
      "  bst.update(dtrain, iteration=i, fobj=obj)\n"
     ]
    },
    {
     "name": "stdout",
     "output_type": "stream",
     "text": [
      "  ➤ Fold 4 ROC AUC: 0.6009\n",
      "\n",
      "📊 每個類別在訓練與驗證集的 player 數：\n",
      "🔹 訓練集：{1: 14, 2: 13, 0: 6}\n",
      "🔹 驗證集：{0: 2, 2: 4, 1: 3}\n",
      "👤 驗證集 player_id：[31, 26, 36, 15, 30, 42, 3, 17, 4]\n"
     ]
    },
    {
     "name": "stderr",
     "output_type": "stream",
     "text": [
      "/home/barry/.conda/envs/test/lib/python3.10/site-packages/xgboost/training.py:183: UserWarning: [21:34:24] WARNING: /workspace/src/learner.cc:738: \n",
      "Parameters: { \"scale_pos_weight\" } are not used.\n",
      "\n",
      "  bst.update(dtrain, iteration=i, fobj=obj)\n"
     ]
    },
    {
     "name": "stdout",
     "output_type": "stream",
     "text": [
      "  ➤ Fold 5 ROC AUC: 0.7391\n",
      "✅ 平均 ROC AUC: 0.6345\n",
      "\n",
      "🧪 測試第 11/30 組參數：{'n_estimators': 500, 'max_depth': 3, 'learning_rate': 0.2, 'subsample': 0.6, 'colsample_bytree': 1.0, 'gamma': 5, 'scale_pos_weight': 1}\n",
      "\n",
      "📊 每個類別在訓練與驗證集的 player 數：\n",
      "🔹 訓練集：{1: 13, 0: 6, 2: 14}\n",
      "🔹 驗證集：{1: 4, 0: 2, 2: 3}\n",
      "👤 驗證集 player_id：[7, 12, 18, 42, 35, 24, 19, 26, 10]\n"
     ]
    },
    {
     "name": "stderr",
     "output_type": "stream",
     "text": [
      "/home/barry/.conda/envs/test/lib/python3.10/site-packages/xgboost/training.py:183: UserWarning: [21:34:45] WARNING: /workspace/src/learner.cc:738: \n",
      "Parameters: { \"scale_pos_weight\" } are not used.\n",
      "\n",
      "  bst.update(dtrain, iteration=i, fobj=obj)\n"
     ]
    },
    {
     "name": "stdout",
     "output_type": "stream",
     "text": [
      "  ➤ Fold 1 ROC AUC: 0.6090\n",
      "\n",
      "📊 每個類別在訓練與驗證集的 player 數：\n",
      "🔹 訓練集：{1: 13, 0: 6, 2: 14}\n",
      "🔹 驗證集：{2: 3, 1: 4, 0: 2}\n",
      "👤 驗證集 player_id：[13, 40, 4, 19, 18, 6, 17, 3, 41]\n"
     ]
    },
    {
     "name": "stderr",
     "output_type": "stream",
     "text": [
      "/home/barry/.conda/envs/test/lib/python3.10/site-packages/xgboost/training.py:183: UserWarning: [21:35:30] WARNING: /workspace/src/learner.cc:738: \n",
      "Parameters: { \"scale_pos_weight\" } are not used.\n",
      "\n",
      "  bst.update(dtrain, iteration=i, fobj=obj)\n"
     ]
    },
    {
     "name": "stdout",
     "output_type": "stream",
     "text": [
      "  ➤ Fold 2 ROC AUC: 0.6295\n",
      "\n",
      "📊 每個類別在訓練與驗證集的 player 數：\n",
      "🔹 訓練集：{0: 6, 2: 14, 1: 13}\n",
      "🔹 驗證集：{2: 3, 1: 4, 0: 2}\n",
      "👤 驗證集 player_id：[29, 23, 22, 6, 41, 21, 35, 10, 5]\n"
     ]
    },
    {
     "name": "stderr",
     "output_type": "stream",
     "text": [
      "/home/barry/.conda/envs/test/lib/python3.10/site-packages/xgboost/training.py:183: UserWarning: [21:36:16] WARNING: /workspace/src/learner.cc:738: \n",
      "Parameters: { \"scale_pos_weight\" } are not used.\n",
      "\n",
      "  bst.update(dtrain, iteration=i, fobj=obj)\n"
     ]
    },
    {
     "name": "stdout",
     "output_type": "stream",
     "text": [
      "  ➤ Fold 3 ROC AUC: 0.6032\n",
      "\n",
      "📊 每個類別在訓練與驗證集的 player 數：\n",
      "🔹 訓練集：{0: 6, 1: 14, 2: 13}\n",
      "🔹 驗證集：{1: 3, 2: 4, 0: 2}\n",
      "👤 驗證集 player_id：[32, 20, 27, 5, 33, 7, 17, 10, 14]\n"
     ]
    },
    {
     "name": "stderr",
     "output_type": "stream",
     "text": [
      "/home/barry/.conda/envs/test/lib/python3.10/site-packages/xgboost/training.py:183: UserWarning: [21:37:06] WARNING: /workspace/src/learner.cc:738: \n",
      "Parameters: { \"scale_pos_weight\" } are not used.\n",
      "\n",
      "  bst.update(dtrain, iteration=i, fobj=obj)\n"
     ]
    },
    {
     "name": "stdout",
     "output_type": "stream",
     "text": [
      "  ➤ Fold 4 ROC AUC: 0.5994\n",
      "\n",
      "📊 每個類別在訓練與驗證集的 player 數：\n",
      "🔹 訓練集：{1: 14, 2: 13, 0: 6}\n",
      "🔹 驗證集：{0: 2, 2: 4, 1: 3}\n",
      "👤 驗證集 player_id：[31, 26, 36, 15, 30, 42, 3, 17, 4]\n"
     ]
    },
    {
     "name": "stderr",
     "output_type": "stream",
     "text": [
      "/home/barry/.conda/envs/test/lib/python3.10/site-packages/xgboost/training.py:183: UserWarning: [21:37:54] WARNING: /workspace/src/learner.cc:738: \n",
      "Parameters: { \"scale_pos_weight\" } are not used.\n",
      "\n",
      "  bst.update(dtrain, iteration=i, fobj=obj)\n"
     ]
    },
    {
     "name": "stdout",
     "output_type": "stream",
     "text": [
      "  ➤ Fold 5 ROC AUC: 0.7404\n",
      "✅ 平均 ROC AUC: 0.6363\n",
      "\n",
      "🧪 測試第 12/30 組參數：{'n_estimators': 500, 'max_depth': 7, 'learning_rate': 0.01, 'subsample': 0.6, 'colsample_bytree': 0.8, 'gamma': 1, 'scale_pos_weight': 1}\n",
      "\n",
      "📊 每個類別在訓練與驗證集的 player 數：\n",
      "🔹 訓練集：{1: 13, 0: 6, 2: 14}\n",
      "🔹 驗證集：{1: 4, 0: 2, 2: 3}\n",
      "👤 驗證集 player_id：[7, 12, 18, 42, 35, 24, 19, 26, 10]\n"
     ]
    },
    {
     "name": "stderr",
     "output_type": "stream",
     "text": [
      "/home/barry/.conda/envs/test/lib/python3.10/site-packages/xgboost/training.py:183: UserWarning: [21:38:46] WARNING: /workspace/src/learner.cc:738: \n",
      "Parameters: { \"scale_pos_weight\" } are not used.\n",
      "\n",
      "  bst.update(dtrain, iteration=i, fobj=obj)\n"
     ]
    },
    {
     "name": "stdout",
     "output_type": "stream",
     "text": [
      "  ➤ Fold 1 ROC AUC: 0.6026\n",
      "\n",
      "📊 每個類別在訓練與驗證集的 player 數：\n",
      "🔹 訓練集：{1: 13, 0: 6, 2: 14}\n",
      "🔹 驗證集：{2: 3, 1: 4, 0: 2}\n",
      "👤 驗證集 player_id：[13, 40, 4, 19, 18, 6, 17, 3, 41]\n"
     ]
    },
    {
     "name": "stderr",
     "output_type": "stream",
     "text": [
      "/home/barry/.conda/envs/test/lib/python3.10/site-packages/xgboost/training.py:183: UserWarning: [21:42:52] WARNING: /workspace/src/learner.cc:738: \n",
      "Parameters: { \"scale_pos_weight\" } are not used.\n",
      "\n",
      "  bst.update(dtrain, iteration=i, fobj=obj)\n"
     ]
    },
    {
     "name": "stdout",
     "output_type": "stream",
     "text": [
      "  ➤ Fold 2 ROC AUC: 0.6388\n",
      "\n",
      "📊 每個類別在訓練與驗證集的 player 數：\n",
      "🔹 訓練集：{0: 6, 2: 14, 1: 13}\n",
      "🔹 驗證集：{2: 3, 1: 4, 0: 2}\n",
      "👤 驗證集 player_id：[29, 23, 22, 6, 41, 21, 35, 10, 5]\n"
     ]
    },
    {
     "name": "stderr",
     "output_type": "stream",
     "text": [
      "/home/barry/.conda/envs/test/lib/python3.10/site-packages/xgboost/training.py:183: UserWarning: [21:47:02] WARNING: /workspace/src/learner.cc:738: \n",
      "Parameters: { \"scale_pos_weight\" } are not used.\n",
      "\n",
      "  bst.update(dtrain, iteration=i, fobj=obj)\n"
     ]
    },
    {
     "name": "stdout",
     "output_type": "stream",
     "text": [
      "  ➤ Fold 3 ROC AUC: 0.6255\n",
      "\n",
      "📊 每個類別在訓練與驗證集的 player 數：\n",
      "🔹 訓練集：{0: 6, 1: 14, 2: 13}\n",
      "🔹 驗證集：{1: 3, 2: 4, 0: 2}\n",
      "👤 驗證集 player_id：[32, 20, 27, 5, 33, 7, 17, 10, 14]\n"
     ]
    },
    {
     "name": "stderr",
     "output_type": "stream",
     "text": [
      "/home/barry/.conda/envs/test/lib/python3.10/site-packages/xgboost/training.py:183: UserWarning: [21:51:09] WARNING: /workspace/src/learner.cc:738: \n",
      "Parameters: { \"scale_pos_weight\" } are not used.\n",
      "\n",
      "  bst.update(dtrain, iteration=i, fobj=obj)\n"
     ]
    },
    {
     "name": "stdout",
     "output_type": "stream",
     "text": [
      "  ➤ Fold 4 ROC AUC: 0.6240\n",
      "\n",
      "📊 每個類別在訓練與驗證集的 player 數：\n",
      "🔹 訓練集：{1: 14, 2: 13, 0: 6}\n",
      "🔹 驗證集：{0: 2, 2: 4, 1: 3}\n",
      "👤 驗證集 player_id：[31, 26, 36, 15, 30, 42, 3, 17, 4]\n"
     ]
    },
    {
     "name": "stderr",
     "output_type": "stream",
     "text": [
      "/home/barry/.conda/envs/test/lib/python3.10/site-packages/xgboost/training.py:183: UserWarning: [21:55:24] WARNING: /workspace/src/learner.cc:738: \n",
      "Parameters: { \"scale_pos_weight\" } are not used.\n",
      "\n",
      "  bst.update(dtrain, iteration=i, fobj=obj)\n"
     ]
    },
    {
     "name": "stdout",
     "output_type": "stream",
     "text": [
      "  ➤ Fold 5 ROC AUC: 0.7177\n",
      "✅ 平均 ROC AUC: 0.6417\n",
      "\n",
      "🧪 測試第 13/30 組參數：{'n_estimators': 300, 'max_depth': 7, 'learning_rate': 0.05, 'subsample': 0.8, 'colsample_bytree': 0.6, 'gamma': 0, 'scale_pos_weight': 1}\n",
      "\n",
      "📊 每個類別在訓練與驗證集的 player 數：\n",
      "🔹 訓練集：{1: 13, 0: 6, 2: 14}\n",
      "🔹 驗證集：{1: 4, 0: 2, 2: 3}\n",
      "👤 驗證集 player_id：[7, 12, 18, 42, 35, 24, 19, 26, 10]\n"
     ]
    },
    {
     "name": "stderr",
     "output_type": "stream",
     "text": [
      "/home/barry/.conda/envs/test/lib/python3.10/site-packages/xgboost/training.py:183: UserWarning: [21:59:32] WARNING: /workspace/src/learner.cc:738: \n",
      "Parameters: { \"scale_pos_weight\" } are not used.\n",
      "\n",
      "  bst.update(dtrain, iteration=i, fobj=obj)\n"
     ]
    },
    {
     "name": "stdout",
     "output_type": "stream",
     "text": [
      "  ➤ Fold 1 ROC AUC: 0.5954\n",
      "\n",
      "📊 每個類別在訓練與驗證集的 player 數：\n",
      "🔹 訓練集：{1: 13, 0: 6, 2: 14}\n",
      "🔹 驗證集：{2: 3, 1: 4, 0: 2}\n",
      "👤 驗證集 player_id：[13, 40, 4, 19, 18, 6, 17, 3, 41]\n"
     ]
    },
    {
     "name": "stderr",
     "output_type": "stream",
     "text": [
      "/home/barry/.conda/envs/test/lib/python3.10/site-packages/xgboost/training.py:183: UserWarning: [22:01:57] WARNING: /workspace/src/learner.cc:738: \n",
      "Parameters: { \"scale_pos_weight\" } are not used.\n",
      "\n",
      "  bst.update(dtrain, iteration=i, fobj=obj)\n"
     ]
    },
    {
     "name": "stdout",
     "output_type": "stream",
     "text": [
      "  ➤ Fold 2 ROC AUC: 0.6331\n",
      "\n",
      "📊 每個類別在訓練與驗證集的 player 數：\n",
      "🔹 訓練集：{0: 6, 2: 14, 1: 13}\n",
      "🔹 驗證集：{2: 3, 1: 4, 0: 2}\n",
      "👤 驗證集 player_id：[29, 23, 22, 6, 41, 21, 35, 10, 5]\n"
     ]
    },
    {
     "name": "stderr",
     "output_type": "stream",
     "text": [
      "/home/barry/.conda/envs/test/lib/python3.10/site-packages/xgboost/training.py:183: UserWarning: [22:04:23] WARNING: /workspace/src/learner.cc:738: \n",
      "Parameters: { \"scale_pos_weight\" } are not used.\n",
      "\n",
      "  bst.update(dtrain, iteration=i, fobj=obj)\n"
     ]
    },
    {
     "name": "stdout",
     "output_type": "stream",
     "text": [
      "  ➤ Fold 3 ROC AUC: 0.6340\n",
      "\n",
      "📊 每個類別在訓練與驗證集的 player 數：\n",
      "🔹 訓練集：{0: 6, 1: 14, 2: 13}\n",
      "🔹 驗證集：{1: 3, 2: 4, 0: 2}\n",
      "👤 驗證集 player_id：[32, 20, 27, 5, 33, 7, 17, 10, 14]\n"
     ]
    },
    {
     "name": "stderr",
     "output_type": "stream",
     "text": [
      "/home/barry/.conda/envs/test/lib/python3.10/site-packages/xgboost/training.py:183: UserWarning: [22:06:50] WARNING: /workspace/src/learner.cc:738: \n",
      "Parameters: { \"scale_pos_weight\" } are not used.\n",
      "\n",
      "  bst.update(dtrain, iteration=i, fobj=obj)\n"
     ]
    },
    {
     "name": "stdout",
     "output_type": "stream",
     "text": [
      "  ➤ Fold 4 ROC AUC: 0.6050\n",
      "\n",
      "📊 每個類別在訓練與驗證集的 player 數：\n",
      "🔹 訓練集：{1: 14, 2: 13, 0: 6}\n",
      "🔹 驗證集：{0: 2, 2: 4, 1: 3}\n",
      "👤 驗證集 player_id：[31, 26, 36, 15, 30, 42, 3, 17, 4]\n"
     ]
    },
    {
     "name": "stderr",
     "output_type": "stream",
     "text": [
      "/home/barry/.conda/envs/test/lib/python3.10/site-packages/xgboost/training.py:183: UserWarning: [22:09:18] WARNING: /workspace/src/learner.cc:738: \n",
      "Parameters: { \"scale_pos_weight\" } are not used.\n",
      "\n",
      "  bst.update(dtrain, iteration=i, fobj=obj)\n"
     ]
    },
    {
     "name": "stdout",
     "output_type": "stream",
     "text": [
      "  ➤ Fold 5 ROC AUC: 0.7431\n",
      "✅ 平均 ROC AUC: 0.6421\n",
      "\n",
      "🧪 測試第 14/30 組參數：{'n_estimators': 100, 'max_depth': 5, 'learning_rate': 0.1, 'subsample': 0.8, 'colsample_bytree': 1.0, 'gamma': 1, 'scale_pos_weight': 1}\n",
      "\n",
      "📊 每個類別在訓練與驗證集的 player 數：\n",
      "🔹 訓練集：{1: 13, 0: 6, 2: 14}\n",
      "🔹 驗證集：{1: 4, 0: 2, 2: 3}\n",
      "👤 驗證集 player_id：[7, 12, 18, 42, 35, 24, 19, 26, 10]\n"
     ]
    },
    {
     "name": "stderr",
     "output_type": "stream",
     "text": [
      "/home/barry/.conda/envs/test/lib/python3.10/site-packages/xgboost/training.py:183: UserWarning: [22:11:46] WARNING: /workspace/src/learner.cc:738: \n",
      "Parameters: { \"scale_pos_weight\" } are not used.\n",
      "\n",
      "  bst.update(dtrain, iteration=i, fobj=obj)\n"
     ]
    },
    {
     "name": "stdout",
     "output_type": "stream",
     "text": [
      "  ➤ Fold 1 ROC AUC: 0.6001\n",
      "\n",
      "📊 每個類別在訓練與驗證集的 player 數：\n",
      "🔹 訓練集：{1: 13, 0: 6, 2: 14}\n",
      "🔹 驗證集：{2: 3, 1: 4, 0: 2}\n",
      "👤 驗證集 player_id：[13, 40, 4, 19, 18, 6, 17, 3, 41]\n"
     ]
    },
    {
     "name": "stderr",
     "output_type": "stream",
     "text": [
      "/home/barry/.conda/envs/test/lib/python3.10/site-packages/xgboost/training.py:183: UserWarning: [22:12:12] WARNING: /workspace/src/learner.cc:738: \n",
      "Parameters: { \"scale_pos_weight\" } are not used.\n",
      "\n",
      "  bst.update(dtrain, iteration=i, fobj=obj)\n"
     ]
    },
    {
     "name": "stdout",
     "output_type": "stream",
     "text": [
      "  ➤ Fold 2 ROC AUC: 0.6382\n",
      "\n",
      "📊 每個類別在訓練與驗證集的 player 數：\n",
      "🔹 訓練集：{0: 6, 2: 14, 1: 13}\n",
      "🔹 驗證集：{2: 3, 1: 4, 0: 2}\n",
      "👤 驗證集 player_id：[29, 23, 22, 6, 41, 21, 35, 10, 5]\n"
     ]
    },
    {
     "name": "stderr",
     "output_type": "stream",
     "text": [
      "/home/barry/.conda/envs/test/lib/python3.10/site-packages/xgboost/training.py:183: UserWarning: [22:12:39] WARNING: /workspace/src/learner.cc:738: \n",
      "Parameters: { \"scale_pos_weight\" } are not used.\n",
      "\n",
      "  bst.update(dtrain, iteration=i, fobj=obj)\n"
     ]
    },
    {
     "name": "stdout",
     "output_type": "stream",
     "text": [
      "  ➤ Fold 3 ROC AUC: 0.6134\n",
      "\n",
      "📊 每個類別在訓練與驗證集的 player 數：\n",
      "🔹 訓練集：{0: 6, 1: 14, 2: 13}\n",
      "🔹 驗證集：{1: 3, 2: 4, 0: 2}\n",
      "👤 驗證集 player_id：[32, 20, 27, 5, 33, 7, 17, 10, 14]\n"
     ]
    },
    {
     "name": "stderr",
     "output_type": "stream",
     "text": [
      "/home/barry/.conda/envs/test/lib/python3.10/site-packages/xgboost/training.py:183: UserWarning: [22:13:05] WARNING: /workspace/src/learner.cc:738: \n",
      "Parameters: { \"scale_pos_weight\" } are not used.\n",
      "\n",
      "  bst.update(dtrain, iteration=i, fobj=obj)\n"
     ]
    },
    {
     "name": "stdout",
     "output_type": "stream",
     "text": [
      "  ➤ Fold 4 ROC AUC: 0.6035\n",
      "\n",
      "📊 每個類別在訓練與驗證集的 player 數：\n",
      "🔹 訓練集：{1: 14, 2: 13, 0: 6}\n",
      "🔹 驗證集：{0: 2, 2: 4, 1: 3}\n",
      "👤 驗證集 player_id：[31, 26, 36, 15, 30, 42, 3, 17, 4]\n"
     ]
    },
    {
     "name": "stderr",
     "output_type": "stream",
     "text": [
      "/home/barry/.conda/envs/test/lib/python3.10/site-packages/xgboost/training.py:183: UserWarning: [22:13:32] WARNING: /workspace/src/learner.cc:738: \n",
      "Parameters: { \"scale_pos_weight\" } are not used.\n",
      "\n",
      "  bst.update(dtrain, iteration=i, fobj=obj)\n"
     ]
    },
    {
     "name": "stdout",
     "output_type": "stream",
     "text": [
      "  ➤ Fold 5 ROC AUC: 0.7277\n",
      "✅ 平均 ROC AUC: 0.6366\n",
      "\n",
      "🧪 測試第 15/30 組參數：{'n_estimators': 300, 'max_depth': 9, 'learning_rate': 0.01, 'subsample': 1.0, 'colsample_bytree': 0.8, 'gamma': 0, 'scale_pos_weight': 1}\n",
      "\n",
      "📊 每個類別在訓練與驗證集的 player 數：\n",
      "🔹 訓練集：{1: 13, 0: 6, 2: 14}\n",
      "🔹 驗證集：{1: 4, 0: 2, 2: 3}\n",
      "👤 驗證集 player_id：[7, 12, 18, 42, 35, 24, 19, 26, 10]\n"
     ]
    },
    {
     "name": "stderr",
     "output_type": "stream",
     "text": [
      "/home/barry/.conda/envs/test/lib/python3.10/site-packages/xgboost/training.py:183: UserWarning: [22:13:59] WARNING: /workspace/src/learner.cc:738: \n",
      "Parameters: { \"scale_pos_weight\" } are not used.\n",
      "\n",
      "  bst.update(dtrain, iteration=i, fobj=obj)\n"
     ]
    },
    {
     "name": "stdout",
     "output_type": "stream",
     "text": [
      "  ➤ Fold 1 ROC AUC: 0.6032\n",
      "\n",
      "📊 每個類別在訓練與驗證集的 player 數：\n",
      "🔹 訓練集：{1: 13, 0: 6, 2: 14}\n",
      "🔹 驗證集：{2: 3, 1: 4, 0: 2}\n",
      "👤 驗證集 player_id：[13, 40, 4, 19, 18, 6, 17, 3, 41]\n"
     ]
    },
    {
     "name": "stderr",
     "output_type": "stream",
     "text": [
      "/home/barry/.conda/envs/test/lib/python3.10/site-packages/xgboost/training.py:183: UserWarning: [22:18:46] WARNING: /workspace/src/learner.cc:738: \n",
      "Parameters: { \"scale_pos_weight\" } are not used.\n",
      "\n",
      "  bst.update(dtrain, iteration=i, fobj=obj)\n"
     ]
    },
    {
     "name": "stdout",
     "output_type": "stream",
     "text": [
      "  ➤ Fold 2 ROC AUC: 0.6559\n",
      "\n",
      "📊 每個類別在訓練與驗證集的 player 數：\n",
      "🔹 訓練集：{0: 6, 2: 14, 1: 13}\n",
      "🔹 驗證集：{2: 3, 1: 4, 0: 2}\n",
      "👤 驗證集 player_id：[29, 23, 22, 6, 41, 21, 35, 10, 5]\n"
     ]
    },
    {
     "name": "stderr",
     "output_type": "stream",
     "text": [
      "/home/barry/.conda/envs/test/lib/python3.10/site-packages/xgboost/training.py:183: UserWarning: [22:23:43] WARNING: /workspace/src/learner.cc:738: \n",
      "Parameters: { \"scale_pos_weight\" } are not used.\n",
      "\n",
      "  bst.update(dtrain, iteration=i, fobj=obj)\n"
     ]
    },
    {
     "name": "stdout",
     "output_type": "stream",
     "text": [
      "  ➤ Fold 3 ROC AUC: 0.6276\n",
      "\n",
      "📊 每個類別在訓練與驗證集的 player 數：\n",
      "🔹 訓練集：{0: 6, 1: 14, 2: 13}\n",
      "🔹 驗證集：{1: 3, 2: 4, 0: 2}\n",
      "👤 驗證集 player_id：[32, 20, 27, 5, 33, 7, 17, 10, 14]\n"
     ]
    },
    {
     "name": "stderr",
     "output_type": "stream",
     "text": [
      "/home/barry/.conda/envs/test/lib/python3.10/site-packages/xgboost/training.py:183: UserWarning: [22:28:45] WARNING: /workspace/src/learner.cc:738: \n",
      "Parameters: { \"scale_pos_weight\" } are not used.\n",
      "\n",
      "  bst.update(dtrain, iteration=i, fobj=obj)\n"
     ]
    },
    {
     "name": "stdout",
     "output_type": "stream",
     "text": [
      "  ➤ Fold 4 ROC AUC: 0.6228\n",
      "\n",
      "📊 每個類別在訓練與驗證集的 player 數：\n",
      "🔹 訓練集：{1: 14, 2: 13, 0: 6}\n",
      "🔹 驗證集：{0: 2, 2: 4, 1: 3}\n",
      "👤 驗證集 player_id：[31, 26, 36, 15, 30, 42, 3, 17, 4]\n"
     ]
    },
    {
     "name": "stderr",
     "output_type": "stream",
     "text": [
      "/home/barry/.conda/envs/test/lib/python3.10/site-packages/xgboost/training.py:183: UserWarning: [22:33:46] WARNING: /workspace/src/learner.cc:738: \n",
      "Parameters: { \"scale_pos_weight\" } are not used.\n",
      "\n",
      "  bst.update(dtrain, iteration=i, fobj=obj)\n"
     ]
    },
    {
     "name": "stdout",
     "output_type": "stream",
     "text": [
      "  ➤ Fold 5 ROC AUC: 0.7200\n",
      "✅ 平均 ROC AUC: 0.6459\n",
      "\n",
      "🧪 測試第 16/30 組參數：{'n_estimators': 300, 'max_depth': 3, 'learning_rate': 0.01, 'subsample': 0.6, 'colsample_bytree': 0.6, 'gamma': 0, 'scale_pos_weight': 1}\n",
      "\n",
      "📊 每個類別在訓練與驗證集的 player 數：\n",
      "🔹 訓練集：{1: 13, 0: 6, 2: 14}\n",
      "🔹 驗證集：{1: 4, 0: 2, 2: 3}\n",
      "👤 驗證集 player_id：[7, 12, 18, 42, 35, 24, 19, 26, 10]\n"
     ]
    },
    {
     "name": "stderr",
     "output_type": "stream",
     "text": [
      "/home/barry/.conda/envs/test/lib/python3.10/site-packages/xgboost/training.py:183: UserWarning: [22:38:29] WARNING: /workspace/src/learner.cc:738: \n",
      "Parameters: { \"scale_pos_weight\" } are not used.\n",
      "\n",
      "  bst.update(dtrain, iteration=i, fobj=obj)\n"
     ]
    },
    {
     "name": "stdout",
     "output_type": "stream",
     "text": [
      "  ➤ Fold 1 ROC AUC: 0.5858\n",
      "\n",
      "📊 每個類別在訓練與驗證集的 player 數：\n",
      "🔹 訓練集：{1: 13, 0: 6, 2: 14}\n",
      "🔹 驗證集：{2: 3, 1: 4, 0: 2}\n",
      "👤 驗證集 player_id：[13, 40, 4, 19, 18, 6, 17, 3, 41]\n"
     ]
    },
    {
     "name": "stderr",
     "output_type": "stream",
     "text": [
      "/home/barry/.conda/envs/test/lib/python3.10/site-packages/xgboost/training.py:183: UserWarning: [22:39:15] WARNING: /workspace/src/learner.cc:738: \n",
      "Parameters: { \"scale_pos_weight\" } are not used.\n",
      "\n",
      "  bst.update(dtrain, iteration=i, fobj=obj)\n"
     ]
    },
    {
     "name": "stdout",
     "output_type": "stream",
     "text": [
      "  ➤ Fold 2 ROC AUC: 0.6112\n",
      "\n",
      "📊 每個類別在訓練與驗證集的 player 數：\n",
      "🔹 訓練集：{0: 6, 2: 14, 1: 13}\n",
      "🔹 驗證集：{2: 3, 1: 4, 0: 2}\n",
      "👤 驗證集 player_id：[29, 23, 22, 6, 41, 21, 35, 10, 5]\n"
     ]
    },
    {
     "name": "stderr",
     "output_type": "stream",
     "text": [
      "/home/barry/.conda/envs/test/lib/python3.10/site-packages/xgboost/training.py:183: UserWarning: [22:40:04] WARNING: /workspace/src/learner.cc:738: \n",
      "Parameters: { \"scale_pos_weight\" } are not used.\n",
      "\n",
      "  bst.update(dtrain, iteration=i, fobj=obj)\n"
     ]
    },
    {
     "name": "stdout",
     "output_type": "stream",
     "text": [
      "  ➤ Fold 3 ROC AUC: 0.6139\n",
      "\n",
      "📊 每個類別在訓練與驗證集的 player 數：\n",
      "🔹 訓練集：{0: 6, 1: 14, 2: 13}\n",
      "🔹 驗證集：{1: 3, 2: 4, 0: 2}\n",
      "👤 驗證集 player_id：[32, 20, 27, 5, 33, 7, 17, 10, 14]\n"
     ]
    },
    {
     "name": "stderr",
     "output_type": "stream",
     "text": [
      "/home/barry/.conda/envs/test/lib/python3.10/site-packages/xgboost/training.py:183: UserWarning: [22:40:55] WARNING: /workspace/src/learner.cc:738: \n",
      "Parameters: { \"scale_pos_weight\" } are not used.\n",
      "\n",
      "  bst.update(dtrain, iteration=i, fobj=obj)\n"
     ]
    },
    {
     "name": "stdout",
     "output_type": "stream",
     "text": [
      "  ➤ Fold 4 ROC AUC: 0.6818\n",
      "\n",
      "📊 每個類別在訓練與驗證集的 player 數：\n",
      "🔹 訓練集：{1: 14, 2: 13, 0: 6}\n",
      "🔹 驗證集：{0: 2, 2: 4, 1: 3}\n",
      "👤 驗證集 player_id：[31, 26, 36, 15, 30, 42, 3, 17, 4]\n"
     ]
    },
    {
     "name": "stderr",
     "output_type": "stream",
     "text": [
      "/home/barry/.conda/envs/test/lib/python3.10/site-packages/xgboost/training.py:183: UserWarning: [22:41:46] WARNING: /workspace/src/learner.cc:738: \n",
      "Parameters: { \"scale_pos_weight\" } are not used.\n",
      "\n",
      "  bst.update(dtrain, iteration=i, fobj=obj)\n"
     ]
    },
    {
     "name": "stdout",
     "output_type": "stream",
     "text": [
      "  ➤ Fold 5 ROC AUC: 0.6975\n",
      "✅ 平均 ROC AUC: 0.6380\n",
      "\n",
      "🧪 測試第 17/30 組參數：{'n_estimators': 100, 'max_depth': 3, 'learning_rate': 0.1, 'subsample': 0.8, 'colsample_bytree': 0.6, 'gamma': 5, 'scale_pos_weight': 1}\n",
      "\n",
      "📊 每個類別在訓練與驗證集的 player 數：\n",
      "🔹 訓練集：{1: 13, 0: 6, 2: 14}\n",
      "🔹 驗證集：{1: 4, 0: 2, 2: 3}\n",
      "👤 驗證集 player_id：[7, 12, 18, 42, 35, 24, 19, 26, 10]\n"
     ]
    },
    {
     "name": "stderr",
     "output_type": "stream",
     "text": [
      "/home/barry/.conda/envs/test/lib/python3.10/site-packages/xgboost/training.py:183: UserWarning: [22:42:37] WARNING: /workspace/src/learner.cc:738: \n",
      "Parameters: { \"scale_pos_weight\" } are not used.\n",
      "\n",
      "  bst.update(dtrain, iteration=i, fobj=obj)\n"
     ]
    },
    {
     "name": "stdout",
     "output_type": "stream",
     "text": [
      "  ➤ Fold 1 ROC AUC: 0.6046\n",
      "\n",
      "📊 每個類別在訓練與驗證集的 player 數：\n",
      "🔹 訓練集：{1: 13, 0: 6, 2: 14}\n",
      "🔹 驗證集：{2: 3, 1: 4, 0: 2}\n",
      "👤 驗證集 player_id：[13, 40, 4, 19, 18, 6, 17, 3, 41]\n"
     ]
    },
    {
     "name": "stderr",
     "output_type": "stream",
     "text": [
      "/home/barry/.conda/envs/test/lib/python3.10/site-packages/xgboost/training.py:183: UserWarning: [22:42:52] WARNING: /workspace/src/learner.cc:738: \n",
      "Parameters: { \"scale_pos_weight\" } are not used.\n",
      "\n",
      "  bst.update(dtrain, iteration=i, fobj=obj)\n"
     ]
    },
    {
     "name": "stdout",
     "output_type": "stream",
     "text": [
      "  ➤ Fold 2 ROC AUC: 0.6186\n",
      "\n",
      "📊 每個類別在訓練與驗證集的 player 數：\n",
      "🔹 訓練集：{0: 6, 2: 14, 1: 13}\n",
      "🔹 驗證集：{2: 3, 1: 4, 0: 2}\n",
      "👤 驗證集 player_id：[29, 23, 22, 6, 41, 21, 35, 10, 5]\n"
     ]
    },
    {
     "name": "stderr",
     "output_type": "stream",
     "text": [
      "/home/barry/.conda/envs/test/lib/python3.10/site-packages/xgboost/training.py:183: UserWarning: [22:43:08] WARNING: /workspace/src/learner.cc:738: \n",
      "Parameters: { \"scale_pos_weight\" } are not used.\n",
      "\n",
      "  bst.update(dtrain, iteration=i, fobj=obj)\n"
     ]
    },
    {
     "name": "stdout",
     "output_type": "stream",
     "text": [
      "  ➤ Fold 3 ROC AUC: 0.5958\n",
      "\n",
      "📊 每個類別在訓練與驗證集的 player 數：\n",
      "🔹 訓練集：{0: 6, 1: 14, 2: 13}\n",
      "🔹 驗證集：{1: 3, 2: 4, 0: 2}\n",
      "👤 驗證集 player_id：[32, 20, 27, 5, 33, 7, 17, 10, 14]\n"
     ]
    },
    {
     "name": "stderr",
     "output_type": "stream",
     "text": [
      "/home/barry/.conda/envs/test/lib/python3.10/site-packages/xgboost/training.py:183: UserWarning: [22:43:24] WARNING: /workspace/src/learner.cc:738: \n",
      "Parameters: { \"scale_pos_weight\" } are not used.\n",
      "\n",
      "  bst.update(dtrain, iteration=i, fobj=obj)\n"
     ]
    },
    {
     "name": "stdout",
     "output_type": "stream",
     "text": [
      "  ➤ Fold 4 ROC AUC: 0.6305\n",
      "\n",
      "📊 每個類別在訓練與驗證集的 player 數：\n",
      "🔹 訓練集：{1: 14, 2: 13, 0: 6}\n",
      "🔹 驗證集：{0: 2, 2: 4, 1: 3}\n",
      "👤 驗證集 player_id：[31, 26, 36, 15, 30, 42, 3, 17, 4]\n"
     ]
    },
    {
     "name": "stderr",
     "output_type": "stream",
     "text": [
      "/home/barry/.conda/envs/test/lib/python3.10/site-packages/xgboost/training.py:183: UserWarning: [22:43:40] WARNING: /workspace/src/learner.cc:738: \n",
      "Parameters: { \"scale_pos_weight\" } are not used.\n",
      "\n",
      "  bst.update(dtrain, iteration=i, fobj=obj)\n"
     ]
    },
    {
     "name": "stdout",
     "output_type": "stream",
     "text": [
      "  ➤ Fold 5 ROC AUC: 0.7225\n",
      "✅ 平均 ROC AUC: 0.6344\n",
      "\n",
      "🧪 測試第 18/30 組參數：{'n_estimators': 100, 'max_depth': 3, 'learning_rate': 0.1, 'subsample': 0.6, 'colsample_bytree': 1.0, 'gamma': 1, 'scale_pos_weight': 1}\n",
      "\n",
      "📊 每個類別在訓練與驗證集的 player 數：\n",
      "🔹 訓練集：{1: 13, 0: 6, 2: 14}\n",
      "🔹 驗證集：{1: 4, 0: 2, 2: 3}\n",
      "👤 驗證集 player_id：[7, 12, 18, 42, 35, 24, 19, 26, 10]\n"
     ]
    },
    {
     "name": "stderr",
     "output_type": "stream",
     "text": [
      "/home/barry/.conda/envs/test/lib/python3.10/site-packages/xgboost/training.py:183: UserWarning: [22:43:56] WARNING: /workspace/src/learner.cc:738: \n",
      "Parameters: { \"scale_pos_weight\" } are not used.\n",
      "\n",
      "  bst.update(dtrain, iteration=i, fobj=obj)\n"
     ]
    },
    {
     "name": "stdout",
     "output_type": "stream",
     "text": [
      "  ➤ Fold 1 ROC AUC: 0.6044\n",
      "\n",
      "📊 每個類別在訓練與驗證集的 player 數：\n",
      "🔹 訓練集：{1: 13, 0: 6, 2: 14}\n",
      "🔹 驗證集：{2: 3, 1: 4, 0: 2}\n",
      "👤 驗證集 player_id：[13, 40, 4, 19, 18, 6, 17, 3, 41]\n"
     ]
    },
    {
     "name": "stderr",
     "output_type": "stream",
     "text": [
      "/home/barry/.conda/envs/test/lib/python3.10/site-packages/xgboost/training.py:183: UserWarning: [22:44:10] WARNING: /workspace/src/learner.cc:738: \n",
      "Parameters: { \"scale_pos_weight\" } are not used.\n",
      "\n",
      "  bst.update(dtrain, iteration=i, fobj=obj)\n"
     ]
    },
    {
     "name": "stdout",
     "output_type": "stream",
     "text": [
      "  ➤ Fold 2 ROC AUC: 0.6112\n",
      "\n",
      "📊 每個類別在訓練與驗證集的 player 數：\n",
      "🔹 訓練集：{0: 6, 2: 14, 1: 13}\n",
      "🔹 驗證集：{2: 3, 1: 4, 0: 2}\n",
      "👤 驗證集 player_id：[29, 23, 22, 6, 41, 21, 35, 10, 5]\n"
     ]
    },
    {
     "name": "stderr",
     "output_type": "stream",
     "text": [
      "/home/barry/.conda/envs/test/lib/python3.10/site-packages/xgboost/training.py:183: UserWarning: [22:44:26] WARNING: /workspace/src/learner.cc:738: \n",
      "Parameters: { \"scale_pos_weight\" } are not used.\n",
      "\n",
      "  bst.update(dtrain, iteration=i, fobj=obj)\n"
     ]
    },
    {
     "name": "stdout",
     "output_type": "stream",
     "text": [
      "  ➤ Fold 3 ROC AUC: 0.6015\n",
      "\n",
      "📊 每個類別在訓練與驗證集的 player 數：\n",
      "🔹 訓練集：{0: 6, 1: 14, 2: 13}\n",
      "🔹 驗證集：{1: 3, 2: 4, 0: 2}\n",
      "👤 驗證集 player_id：[32, 20, 27, 5, 33, 7, 17, 10, 14]\n"
     ]
    },
    {
     "name": "stderr",
     "output_type": "stream",
     "text": [
      "/home/barry/.conda/envs/test/lib/python3.10/site-packages/xgboost/training.py:183: UserWarning: [22:44:42] WARNING: /workspace/src/learner.cc:738: \n",
      "Parameters: { \"scale_pos_weight\" } are not used.\n",
      "\n",
      "  bst.update(dtrain, iteration=i, fobj=obj)\n"
     ]
    },
    {
     "name": "stdout",
     "output_type": "stream",
     "text": [
      "  ➤ Fold 4 ROC AUC: 0.6242\n",
      "\n",
      "📊 每個類別在訓練與驗證集的 player 數：\n",
      "🔹 訓練集：{1: 14, 2: 13, 0: 6}\n",
      "🔹 驗證集：{0: 2, 2: 4, 1: 3}\n",
      "👤 驗證集 player_id：[31, 26, 36, 15, 30, 42, 3, 17, 4]\n"
     ]
    },
    {
     "name": "stderr",
     "output_type": "stream",
     "text": [
      "/home/barry/.conda/envs/test/lib/python3.10/site-packages/xgboost/training.py:183: UserWarning: [22:44:58] WARNING: /workspace/src/learner.cc:738: \n",
      "Parameters: { \"scale_pos_weight\" } are not used.\n",
      "\n",
      "  bst.update(dtrain, iteration=i, fobj=obj)\n"
     ]
    },
    {
     "name": "stdout",
     "output_type": "stream",
     "text": [
      "  ➤ Fold 5 ROC AUC: 0.7186\n",
      "✅ 平均 ROC AUC: 0.6320\n",
      "\n",
      "🧪 測試第 19/30 組參數：{'n_estimators': 100, 'max_depth': 5, 'learning_rate': 0.2, 'subsample': 0.6, 'colsample_bytree': 0.6, 'gamma': 5, 'scale_pos_weight': 1}\n",
      "\n",
      "📊 每個類別在訓練與驗證集的 player 數：\n",
      "🔹 訓練集：{1: 13, 0: 6, 2: 14}\n",
      "🔹 驗證集：{1: 4, 0: 2, 2: 3}\n",
      "👤 驗證集 player_id：[7, 12, 18, 42, 35, 24, 19, 26, 10]\n"
     ]
    },
    {
     "name": "stderr",
     "output_type": "stream",
     "text": [
      "/home/barry/.conda/envs/test/lib/python3.10/site-packages/xgboost/training.py:183: UserWarning: [22:45:15] WARNING: /workspace/src/learner.cc:738: \n",
      "Parameters: { \"scale_pos_weight\" } are not used.\n",
      "\n",
      "  bst.update(dtrain, iteration=i, fobj=obj)\n"
     ]
    },
    {
     "name": "stdout",
     "output_type": "stream",
     "text": [
      "  ➤ Fold 1 ROC AUC: 0.5917\n",
      "\n",
      "📊 每個類別在訓練與驗證集的 player 數：\n",
      "🔹 訓練集：{1: 13, 0: 6, 2: 14}\n",
      "🔹 驗證集：{2: 3, 1: 4, 0: 2}\n",
      "👤 驗證集 player_id：[13, 40, 4, 19, 18, 6, 17, 3, 41]\n"
     ]
    },
    {
     "name": "stderr",
     "output_type": "stream",
     "text": [
      "/home/barry/.conda/envs/test/lib/python3.10/site-packages/xgboost/training.py:183: UserWarning: [22:45:35] WARNING: /workspace/src/learner.cc:738: \n",
      "Parameters: { \"scale_pos_weight\" } are not used.\n",
      "\n",
      "  bst.update(dtrain, iteration=i, fobj=obj)\n"
     ]
    },
    {
     "name": "stdout",
     "output_type": "stream",
     "text": [
      "  ➤ Fold 2 ROC AUC: 0.6257\n",
      "\n",
      "📊 每個類別在訓練與驗證集的 player 數：\n",
      "🔹 訓練集：{0: 6, 2: 14, 1: 13}\n",
      "🔹 驗證集：{2: 3, 1: 4, 0: 2}\n",
      "👤 驗證集 player_id：[29, 23, 22, 6, 41, 21, 35, 10, 5]\n"
     ]
    },
    {
     "name": "stderr",
     "output_type": "stream",
     "text": [
      "/home/barry/.conda/envs/test/lib/python3.10/site-packages/xgboost/training.py:183: UserWarning: [22:45:55] WARNING: /workspace/src/learner.cc:738: \n",
      "Parameters: { \"scale_pos_weight\" } are not used.\n",
      "\n",
      "  bst.update(dtrain, iteration=i, fobj=obj)\n"
     ]
    },
    {
     "name": "stdout",
     "output_type": "stream",
     "text": [
      "  ➤ Fold 3 ROC AUC: 0.6159\n",
      "\n",
      "📊 每個類別在訓練與驗證集的 player 數：\n",
      "🔹 訓練集：{0: 6, 1: 14, 2: 13}\n",
      "🔹 驗證集：{1: 3, 2: 4, 0: 2}\n",
      "👤 驗證集 player_id：[32, 20, 27, 5, 33, 7, 17, 10, 14]\n"
     ]
    },
    {
     "name": "stderr",
     "output_type": "stream",
     "text": [
      "/home/barry/.conda/envs/test/lib/python3.10/site-packages/xgboost/training.py:183: UserWarning: [22:46:14] WARNING: /workspace/src/learner.cc:738: \n",
      "Parameters: { \"scale_pos_weight\" } are not used.\n",
      "\n",
      "  bst.update(dtrain, iteration=i, fobj=obj)\n"
     ]
    },
    {
     "name": "stdout",
     "output_type": "stream",
     "text": [
      "  ➤ Fold 4 ROC AUC: 0.6011\n",
      "\n",
      "📊 每個類別在訓練與驗證集的 player 數：\n",
      "🔹 訓練集：{1: 14, 2: 13, 0: 6}\n",
      "🔹 驗證集：{0: 2, 2: 4, 1: 3}\n",
      "👤 驗證集 player_id：[31, 26, 36, 15, 30, 42, 3, 17, 4]\n"
     ]
    },
    {
     "name": "stderr",
     "output_type": "stream",
     "text": [
      "/home/barry/.conda/envs/test/lib/python3.10/site-packages/xgboost/training.py:183: UserWarning: [22:46:36] WARNING: /workspace/src/learner.cc:738: \n",
      "Parameters: { \"scale_pos_weight\" } are not used.\n",
      "\n",
      "  bst.update(dtrain, iteration=i, fobj=obj)\n"
     ]
    },
    {
     "name": "stdout",
     "output_type": "stream",
     "text": [
      "  ➤ Fold 5 ROC AUC: 0.7324\n",
      "✅ 平均 ROC AUC: 0.6333\n",
      "\n",
      "🧪 測試第 20/30 組參數：{'n_estimators': 200, 'max_depth': 3, 'learning_rate': 0.01, 'subsample': 0.8, 'colsample_bytree': 1.0, 'gamma': 0, 'scale_pos_weight': 1}\n",
      "\n",
      "📊 每個類別在訓練與驗證集的 player 數：\n",
      "🔹 訓練集：{1: 13, 0: 6, 2: 14}\n",
      "🔹 驗證集：{1: 4, 0: 2, 2: 3}\n",
      "👤 驗證集 player_id：[7, 12, 18, 42, 35, 24, 19, 26, 10]\n"
     ]
    },
    {
     "name": "stderr",
     "output_type": "stream",
     "text": [
      "/home/barry/.conda/envs/test/lib/python3.10/site-packages/xgboost/training.py:183: UserWarning: [22:46:58] WARNING: /workspace/src/learner.cc:738: \n",
      "Parameters: { \"scale_pos_weight\" } are not used.\n",
      "\n",
      "  bst.update(dtrain, iteration=i, fobj=obj)\n"
     ]
    },
    {
     "name": "stdout",
     "output_type": "stream",
     "text": [
      "  ➤ Fold 1 ROC AUC: 0.5763\n",
      "\n",
      "📊 每個類別在訓練與驗證集的 player 數：\n",
      "🔹 訓練集：{1: 13, 0: 6, 2: 14}\n",
      "🔹 驗證集：{2: 3, 1: 4, 0: 2}\n",
      "👤 驗證集 player_id：[13, 40, 4, 19, 18, 6, 17, 3, 41]\n"
     ]
    },
    {
     "name": "stderr",
     "output_type": "stream",
     "text": [
      "/home/barry/.conda/envs/test/lib/python3.10/site-packages/xgboost/training.py:183: UserWarning: [22:47:29] WARNING: /workspace/src/learner.cc:738: \n",
      "Parameters: { \"scale_pos_weight\" } are not used.\n",
      "\n",
      "  bst.update(dtrain, iteration=i, fobj=obj)\n"
     ]
    },
    {
     "name": "stdout",
     "output_type": "stream",
     "text": [
      "  ➤ Fold 2 ROC AUC: 0.6296\n",
      "\n",
      "📊 每個類別在訓練與驗證集的 player 數：\n",
      "🔹 訓練集：{0: 6, 2: 14, 1: 13}\n",
      "🔹 驗證集：{2: 3, 1: 4, 0: 2}\n",
      "👤 驗證集 player_id：[29, 23, 22, 6, 41, 21, 35, 10, 5]\n"
     ]
    },
    {
     "name": "stderr",
     "output_type": "stream",
     "text": [
      "/home/barry/.conda/envs/test/lib/python3.10/site-packages/xgboost/training.py:183: UserWarning: [22:48:02] WARNING: /workspace/src/learner.cc:738: \n",
      "Parameters: { \"scale_pos_weight\" } are not used.\n",
      "\n",
      "  bst.update(dtrain, iteration=i, fobj=obj)\n"
     ]
    },
    {
     "name": "stdout",
     "output_type": "stream",
     "text": [
      "  ➤ Fold 3 ROC AUC: 0.6049\n",
      "\n",
      "📊 每個類別在訓練與驗證集的 player 數：\n",
      "🔹 訓練集：{0: 6, 1: 14, 2: 13}\n",
      "🔹 驗證集：{1: 3, 2: 4, 0: 2}\n",
      "👤 驗證集 player_id：[32, 20, 27, 5, 33, 7, 17, 10, 14]\n"
     ]
    },
    {
     "name": "stderr",
     "output_type": "stream",
     "text": [
      "/home/barry/.conda/envs/test/lib/python3.10/site-packages/xgboost/training.py:183: UserWarning: [22:48:37] WARNING: /workspace/src/learner.cc:738: \n",
      "Parameters: { \"scale_pos_weight\" } are not used.\n",
      "\n",
      "  bst.update(dtrain, iteration=i, fobj=obj)\n"
     ]
    },
    {
     "name": "stdout",
     "output_type": "stream",
     "text": [
      "  ➤ Fold 4 ROC AUC: 0.6987\n",
      "\n",
      "📊 每個類別在訓練與驗證集的 player 數：\n",
      "🔹 訓練集：{1: 14, 2: 13, 0: 6}\n",
      "🔹 驗證集：{0: 2, 2: 4, 1: 3}\n",
      "👤 驗證集 player_id：[31, 26, 36, 15, 30, 42, 3, 17, 4]\n"
     ]
    },
    {
     "name": "stderr",
     "output_type": "stream",
     "text": [
      "/home/barry/.conda/envs/test/lib/python3.10/site-packages/xgboost/training.py:183: UserWarning: [22:49:11] WARNING: /workspace/src/learner.cc:738: \n",
      "Parameters: { \"scale_pos_weight\" } are not used.\n",
      "\n",
      "  bst.update(dtrain, iteration=i, fobj=obj)\n"
     ]
    },
    {
     "name": "stdout",
     "output_type": "stream",
     "text": [
      "  ➤ Fold 5 ROC AUC: 0.6813\n",
      "✅ 平均 ROC AUC: 0.6382\n",
      "\n",
      "🧪 測試第 21/30 組參數：{'n_estimators': 200, 'max_depth': 3, 'learning_rate': 0.05, 'subsample': 0.8, 'colsample_bytree': 1.0, 'gamma': 5, 'scale_pos_weight': 1}\n",
      "\n",
      "📊 每個類別在訓練與驗證集的 player 數：\n",
      "🔹 訓練集：{1: 13, 0: 6, 2: 14}\n",
      "🔹 驗證集：{1: 4, 0: 2, 2: 3}\n",
      "👤 驗證集 player_id：[7, 12, 18, 42, 35, 24, 19, 26, 10]\n"
     ]
    },
    {
     "name": "stderr",
     "output_type": "stream",
     "text": [
      "/home/barry/.conda/envs/test/lib/python3.10/site-packages/xgboost/training.py:183: UserWarning: [22:49:44] WARNING: /workspace/src/learner.cc:738: \n",
      "Parameters: { \"scale_pos_weight\" } are not used.\n",
      "\n",
      "  bst.update(dtrain, iteration=i, fobj=obj)\n"
     ]
    },
    {
     "name": "stdout",
     "output_type": "stream",
     "text": [
      "  ➤ Fold 1 ROC AUC: 0.6095\n",
      "\n",
      "📊 每個類別在訓練與驗證集的 player 數：\n",
      "🔹 訓練集：{1: 13, 0: 6, 2: 14}\n",
      "🔹 驗證集：{2: 3, 1: 4, 0: 2}\n",
      "👤 驗證集 player_id：[13, 40, 4, 19, 18, 6, 17, 3, 41]\n"
     ]
    },
    {
     "name": "stderr",
     "output_type": "stream",
     "text": [
      "/home/barry/.conda/envs/test/lib/python3.10/site-packages/xgboost/training.py:183: UserWarning: [22:50:13] WARNING: /workspace/src/learner.cc:738: \n",
      "Parameters: { \"scale_pos_weight\" } are not used.\n",
      "\n",
      "  bst.update(dtrain, iteration=i, fobj=obj)\n"
     ]
    },
    {
     "name": "stdout",
     "output_type": "stream",
     "text": [
      "  ➤ Fold 2 ROC AUC: 0.6189\n",
      "\n",
      "📊 每個類別在訓練與驗證集的 player 數：\n",
      "🔹 訓練集：{0: 6, 2: 14, 1: 13}\n",
      "🔹 驗證集：{2: 3, 1: 4, 0: 2}\n",
      "👤 驗證集 player_id：[29, 23, 22, 6, 41, 21, 35, 10, 5]\n"
     ]
    },
    {
     "name": "stderr",
     "output_type": "stream",
     "text": [
      "/home/barry/.conda/envs/test/lib/python3.10/site-packages/xgboost/training.py:183: UserWarning: [22:50:45] WARNING: /workspace/src/learner.cc:738: \n",
      "Parameters: { \"scale_pos_weight\" } are not used.\n",
      "\n",
      "  bst.update(dtrain, iteration=i, fobj=obj)\n"
     ]
    },
    {
     "name": "stdout",
     "output_type": "stream",
     "text": [
      "  ➤ Fold 3 ROC AUC: 0.6026\n",
      "\n",
      "📊 每個類別在訓練與驗證集的 player 數：\n",
      "🔹 訓練集：{0: 6, 1: 14, 2: 13}\n",
      "🔹 驗證集：{1: 3, 2: 4, 0: 2}\n",
      "👤 驗證集 player_id：[32, 20, 27, 5, 33, 7, 17, 10, 14]\n"
     ]
    },
    {
     "name": "stderr",
     "output_type": "stream",
     "text": [
      "/home/barry/.conda/envs/test/lib/python3.10/site-packages/xgboost/training.py:183: UserWarning: [22:51:17] WARNING: /workspace/src/learner.cc:738: \n",
      "Parameters: { \"scale_pos_weight\" } are not used.\n",
      "\n",
      "  bst.update(dtrain, iteration=i, fobj=obj)\n"
     ]
    },
    {
     "name": "stdout",
     "output_type": "stream",
     "text": [
      "  ➤ Fold 4 ROC AUC: 0.6340\n",
      "\n",
      "📊 每個類別在訓練與驗證集的 player 數：\n",
      "🔹 訓練集：{1: 14, 2: 13, 0: 6}\n",
      "🔹 驗證集：{0: 2, 2: 4, 1: 3}\n",
      "👤 驗證集 player_id：[31, 26, 36, 15, 30, 42, 3, 17, 4]\n"
     ]
    },
    {
     "name": "stderr",
     "output_type": "stream",
     "text": [
      "/home/barry/.conda/envs/test/lib/python3.10/site-packages/xgboost/training.py:183: UserWarning: [22:51:49] WARNING: /workspace/src/learner.cc:738: \n",
      "Parameters: { \"scale_pos_weight\" } are not used.\n",
      "\n",
      "  bst.update(dtrain, iteration=i, fobj=obj)\n"
     ]
    },
    {
     "name": "stdout",
     "output_type": "stream",
     "text": [
      "  ➤ Fold 5 ROC AUC: 0.7165\n",
      "✅ 平均 ROC AUC: 0.6363\n",
      "\n",
      "🧪 測試第 22/30 組參數：{'n_estimators': 300, 'max_depth': 5, 'learning_rate': 0.1, 'subsample': 0.6, 'colsample_bytree': 1.0, 'gamma': 5, 'scale_pos_weight': 1}\n",
      "\n",
      "📊 每個類別在訓練與驗證集的 player 數：\n",
      "🔹 訓練集：{1: 13, 0: 6, 2: 14}\n",
      "🔹 驗證集：{1: 4, 0: 2, 2: 3}\n",
      "👤 驗證集 player_id：[7, 12, 18, 42, 35, 24, 19, 26, 10]\n"
     ]
    },
    {
     "name": "stderr",
     "output_type": "stream",
     "text": [
      "/home/barry/.conda/envs/test/lib/python3.10/site-packages/xgboost/training.py:183: UserWarning: [22:52:21] WARNING: /workspace/src/learner.cc:738: \n",
      "Parameters: { \"scale_pos_weight\" } are not used.\n",
      "\n",
      "  bst.update(dtrain, iteration=i, fobj=obj)\n"
     ]
    },
    {
     "name": "stdout",
     "output_type": "stream",
     "text": [
      "  ➤ Fold 1 ROC AUC: 0.5867\n",
      "\n",
      "📊 每個類別在訓練與驗證集的 player 數：\n",
      "🔹 訓練集：{1: 13, 0: 6, 2: 14}\n",
      "🔹 驗證集：{2: 3, 1: 4, 0: 2}\n",
      "👤 驗證集 player_id：[13, 40, 4, 19, 18, 6, 17, 3, 41]\n"
     ]
    },
    {
     "name": "stderr",
     "output_type": "stream",
     "text": [
      "/home/barry/.conda/envs/test/lib/python3.10/site-packages/xgboost/training.py:183: UserWarning: [22:53:06] WARNING: /workspace/src/learner.cc:738: \n",
      "Parameters: { \"scale_pos_weight\" } are not used.\n",
      "\n",
      "  bst.update(dtrain, iteration=i, fobj=obj)\n"
     ]
    },
    {
     "name": "stdout",
     "output_type": "stream",
     "text": [
      "  ➤ Fold 2 ROC AUC: 0.6363\n",
      "\n",
      "📊 每個類別在訓練與驗證集的 player 數：\n",
      "🔹 訓練集：{0: 6, 2: 14, 1: 13}\n",
      "🔹 驗證集：{2: 3, 1: 4, 0: 2}\n",
      "👤 驗證集 player_id：[29, 23, 22, 6, 41, 21, 35, 10, 5]\n"
     ]
    },
    {
     "name": "stderr",
     "output_type": "stream",
     "text": [
      "/home/barry/.conda/envs/test/lib/python3.10/site-packages/xgboost/training.py:183: UserWarning: [22:53:52] WARNING: /workspace/src/learner.cc:738: \n",
      "Parameters: { \"scale_pos_weight\" } are not used.\n",
      "\n",
      "  bst.update(dtrain, iteration=i, fobj=obj)\n"
     ]
    },
    {
     "name": "stdout",
     "output_type": "stream",
     "text": [
      "  ➤ Fold 3 ROC AUC: 0.6195\n",
      "\n",
      "📊 每個類別在訓練與驗證集的 player 數：\n",
      "🔹 訓練集：{0: 6, 1: 14, 2: 13}\n",
      "🔹 驗證集：{1: 3, 2: 4, 0: 2}\n",
      "👤 驗證集 player_id：[32, 20, 27, 5, 33, 7, 17, 10, 14]\n"
     ]
    },
    {
     "name": "stderr",
     "output_type": "stream",
     "text": [
      "/home/barry/.conda/envs/test/lib/python3.10/site-packages/xgboost/training.py:183: UserWarning: [22:54:37] WARNING: /workspace/src/learner.cc:738: \n",
      "Parameters: { \"scale_pos_weight\" } are not used.\n",
      "\n",
      "  bst.update(dtrain, iteration=i, fobj=obj)\n"
     ]
    },
    {
     "name": "stdout",
     "output_type": "stream",
     "text": [
      "  ➤ Fold 4 ROC AUC: 0.6117\n",
      "\n",
      "📊 每個類別在訓練與驗證集的 player 數：\n",
      "🔹 訓練集：{1: 14, 2: 13, 0: 6}\n",
      "🔹 驗證集：{0: 2, 2: 4, 1: 3}\n",
      "👤 驗證集 player_id：[31, 26, 36, 15, 30, 42, 3, 17, 4]\n"
     ]
    },
    {
     "name": "stderr",
     "output_type": "stream",
     "text": [
      "/home/barry/.conda/envs/test/lib/python3.10/site-packages/xgboost/training.py:183: UserWarning: [22:55:27] WARNING: /workspace/src/learner.cc:738: \n",
      "Parameters: { \"scale_pos_weight\" } are not used.\n",
      "\n",
      "  bst.update(dtrain, iteration=i, fobj=obj)\n"
     ]
    },
    {
     "name": "stdout",
     "output_type": "stream",
     "text": [
      "  ➤ Fold 5 ROC AUC: 0.7374\n",
      "✅ 平均 ROC AUC: 0.6383\n",
      "\n",
      "🧪 測試第 23/30 組參數：{'n_estimators': 300, 'max_depth': 9, 'learning_rate': 0.05, 'subsample': 0.8, 'colsample_bytree': 1.0, 'gamma': 5, 'scale_pos_weight': 1}\n",
      "\n",
      "📊 每個類別在訓練與驗證集的 player 數：\n",
      "🔹 訓練集：{1: 13, 0: 6, 2: 14}\n",
      "🔹 驗證集：{1: 4, 0: 2, 2: 3}\n",
      "👤 驗證集 player_id：[7, 12, 18, 42, 35, 24, 19, 26, 10]\n"
     ]
    },
    {
     "name": "stderr",
     "output_type": "stream",
     "text": [
      "/home/barry/.conda/envs/test/lib/python3.10/site-packages/xgboost/training.py:183: UserWarning: [22:56:18] WARNING: /workspace/src/learner.cc:738: \n",
      "Parameters: { \"scale_pos_weight\" } are not used.\n",
      "\n",
      "  bst.update(dtrain, iteration=i, fobj=obj)\n"
     ]
    },
    {
     "name": "stdout",
     "output_type": "stream",
     "text": [
      "  ➤ Fold 1 ROC AUC: 0.6031\n",
      "\n",
      "📊 每個類別在訓練與驗證集的 player 數：\n",
      "🔹 訓練集：{1: 13, 0: 6, 2: 14}\n",
      "🔹 驗證集：{2: 3, 1: 4, 0: 2}\n",
      "👤 驗證集 player_id：[13, 40, 4, 19, 18, 6, 17, 3, 41]\n"
     ]
    },
    {
     "name": "stderr",
     "output_type": "stream",
     "text": [
      "/home/barry/.conda/envs/test/lib/python3.10/site-packages/xgboost/training.py:183: UserWarning: [22:57:48] WARNING: /workspace/src/learner.cc:738: \n",
      "Parameters: { \"scale_pos_weight\" } are not used.\n",
      "\n",
      "  bst.update(dtrain, iteration=i, fobj=obj)\n"
     ]
    },
    {
     "name": "stdout",
     "output_type": "stream",
     "text": [
      "  ➤ Fold 2 ROC AUC: 0.6387\n",
      "\n",
      "📊 每個類別在訓練與驗證集的 player 數：\n",
      "🔹 訓練集：{0: 6, 2: 14, 1: 13}\n",
      "🔹 驗證集：{2: 3, 1: 4, 0: 2}\n",
      "👤 驗證集 player_id：[29, 23, 22, 6, 41, 21, 35, 10, 5]\n"
     ]
    },
    {
     "name": "stderr",
     "output_type": "stream",
     "text": [
      "/home/barry/.conda/envs/test/lib/python3.10/site-packages/xgboost/training.py:183: UserWarning: [22:59:13] WARNING: /workspace/src/learner.cc:738: \n",
      "Parameters: { \"scale_pos_weight\" } are not used.\n",
      "\n",
      "  bst.update(dtrain, iteration=i, fobj=obj)\n"
     ]
    },
    {
     "name": "stdout",
     "output_type": "stream",
     "text": [
      "  ➤ Fold 3 ROC AUC: 0.6202\n",
      "\n",
      "📊 每個類別在訓練與驗證集的 player 數：\n",
      "🔹 訓練集：{0: 6, 1: 14, 2: 13}\n",
      "🔹 驗證集：{1: 3, 2: 4, 0: 2}\n",
      "👤 驗證集 player_id：[32, 20, 27, 5, 33, 7, 17, 10, 14]\n"
     ]
    },
    {
     "name": "stderr",
     "output_type": "stream",
     "text": [
      "/home/barry/.conda/envs/test/lib/python3.10/site-packages/xgboost/training.py:183: UserWarning: [23:00:40] WARNING: /workspace/src/learner.cc:738: \n",
      "Parameters: { \"scale_pos_weight\" } are not used.\n",
      "\n",
      "  bst.update(dtrain, iteration=i, fobj=obj)\n"
     ]
    },
    {
     "name": "stdout",
     "output_type": "stream",
     "text": [
      "  ➤ Fold 4 ROC AUC: 0.6137\n",
      "\n",
      "📊 每個類別在訓練與驗證集的 player 數：\n",
      "🔹 訓練集：{1: 14, 2: 13, 0: 6}\n",
      "🔹 驗證集：{0: 2, 2: 4, 1: 3}\n",
      "👤 驗證集 player_id：[31, 26, 36, 15, 30, 42, 3, 17, 4]\n"
     ]
    },
    {
     "name": "stderr",
     "output_type": "stream",
     "text": [
      "/home/barry/.conda/envs/test/lib/python3.10/site-packages/xgboost/training.py:183: UserWarning: [23:02:17] WARNING: /workspace/src/learner.cc:738: \n",
      "Parameters: { \"scale_pos_weight\" } are not used.\n",
      "\n",
      "  bst.update(dtrain, iteration=i, fobj=obj)\n"
     ]
    },
    {
     "name": "stdout",
     "output_type": "stream",
     "text": [
      "  ➤ Fold 5 ROC AUC: 0.7256\n",
      "✅ 平均 ROC AUC: 0.6403\n",
      "\n",
      "🧪 測試第 24/30 組參數：{'n_estimators': 100, 'max_depth': 3, 'learning_rate': 0.1, 'subsample': 0.6, 'colsample_bytree': 0.6, 'gamma': 0, 'scale_pos_weight': 1}\n",
      "\n",
      "📊 每個類別在訓練與驗證集的 player 數：\n",
      "🔹 訓練集：{1: 13, 0: 6, 2: 14}\n",
      "🔹 驗證集：{1: 4, 0: 2, 2: 3}\n",
      "👤 驗證集 player_id：[7, 12, 18, 42, 35, 24, 19, 26, 10]\n"
     ]
    },
    {
     "name": "stderr",
     "output_type": "stream",
     "text": [
      "/home/barry/.conda/envs/test/lib/python3.10/site-packages/xgboost/training.py:183: UserWarning: [23:03:51] WARNING: /workspace/src/learner.cc:738: \n",
      "Parameters: { \"scale_pos_weight\" } are not used.\n",
      "\n",
      "  bst.update(dtrain, iteration=i, fobj=obj)\n"
     ]
    },
    {
     "name": "stdout",
     "output_type": "stream",
     "text": [
      "  ➤ Fold 1 ROC AUC: 0.6100\n",
      "\n",
      "📊 每個類別在訓練與驗證集的 player 數：\n",
      "🔹 訓練集：{1: 13, 0: 6, 2: 14}\n",
      "🔹 驗證集：{2: 3, 1: 4, 0: 2}\n",
      "👤 驗證集 player_id：[13, 40, 4, 19, 18, 6, 17, 3, 41]\n"
     ]
    },
    {
     "name": "stderr",
     "output_type": "stream",
     "text": [
      "/home/barry/.conda/envs/test/lib/python3.10/site-packages/xgboost/training.py:183: UserWarning: [23:04:06] WARNING: /workspace/src/learner.cc:738: \n",
      "Parameters: { \"scale_pos_weight\" } are not used.\n",
      "\n",
      "  bst.update(dtrain, iteration=i, fobj=obj)\n"
     ]
    },
    {
     "name": "stdout",
     "output_type": "stream",
     "text": [
      "  ➤ Fold 2 ROC AUC: 0.6149\n",
      "\n",
      "📊 每個類別在訓練與驗證集的 player 數：\n",
      "🔹 訓練集：{0: 6, 2: 14, 1: 13}\n",
      "🔹 驗證集：{2: 3, 1: 4, 0: 2}\n",
      "👤 驗證集 player_id：[29, 23, 22, 6, 41, 21, 35, 10, 5]\n"
     ]
    },
    {
     "name": "stderr",
     "output_type": "stream",
     "text": [
      "/home/barry/.conda/envs/test/lib/python3.10/site-packages/xgboost/training.py:183: UserWarning: [23:04:22] WARNING: /workspace/src/learner.cc:738: \n",
      "Parameters: { \"scale_pos_weight\" } are not used.\n",
      "\n",
      "  bst.update(dtrain, iteration=i, fobj=obj)\n"
     ]
    },
    {
     "name": "stdout",
     "output_type": "stream",
     "text": [
      "  ➤ Fold 3 ROC AUC: 0.6035\n",
      "\n",
      "📊 每個類別在訓練與驗證集的 player 數：\n",
      "🔹 訓練集：{0: 6, 1: 14, 2: 13}\n",
      "🔹 驗證集：{1: 3, 2: 4, 0: 2}\n",
      "👤 驗證集 player_id：[32, 20, 27, 5, 33, 7, 17, 10, 14]\n"
     ]
    },
    {
     "name": "stderr",
     "output_type": "stream",
     "text": [
      "/home/barry/.conda/envs/test/lib/python3.10/site-packages/xgboost/training.py:183: UserWarning: [23:04:39] WARNING: /workspace/src/learner.cc:738: \n",
      "Parameters: { \"scale_pos_weight\" } are not used.\n",
      "\n",
      "  bst.update(dtrain, iteration=i, fobj=obj)\n"
     ]
    },
    {
     "name": "stdout",
     "output_type": "stream",
     "text": [
      "  ➤ Fold 4 ROC AUC: 0.6184\n",
      "\n",
      "📊 每個類別在訓練與驗證集的 player 數：\n",
      "🔹 訓練集：{1: 14, 2: 13, 0: 6}\n",
      "🔹 驗證集：{0: 2, 2: 4, 1: 3}\n",
      "👤 驗證集 player_id：[31, 26, 36, 15, 30, 42, 3, 17, 4]\n"
     ]
    },
    {
     "name": "stderr",
     "output_type": "stream",
     "text": [
      "/home/barry/.conda/envs/test/lib/python3.10/site-packages/xgboost/training.py:183: UserWarning: [23:04:54] WARNING: /workspace/src/learner.cc:738: \n",
      "Parameters: { \"scale_pos_weight\" } are not used.\n",
      "\n",
      "  bst.update(dtrain, iteration=i, fobj=obj)\n"
     ]
    },
    {
     "name": "stdout",
     "output_type": "stream",
     "text": [
      "  ➤ Fold 5 ROC AUC: 0.7203\n",
      "✅ 平均 ROC AUC: 0.6334\n",
      "\n",
      "🧪 測試第 25/30 組參數：{'n_estimators': 300, 'max_depth': 7, 'learning_rate': 0.1, 'subsample': 0.8, 'colsample_bytree': 1.0, 'gamma': 0, 'scale_pos_weight': 1}\n",
      "\n",
      "📊 每個類別在訓練與驗證集的 player 數：\n",
      "🔹 訓練集：{1: 13, 0: 6, 2: 14}\n",
      "🔹 驗證集：{1: 4, 0: 2, 2: 3}\n",
      "👤 驗證集 player_id：[7, 12, 18, 42, 35, 24, 19, 26, 10]\n"
     ]
    },
    {
     "name": "stderr",
     "output_type": "stream",
     "text": [
      "/home/barry/.conda/envs/test/lib/python3.10/site-packages/xgboost/training.py:183: UserWarning: [23:05:10] WARNING: /workspace/src/learner.cc:738: \n",
      "Parameters: { \"scale_pos_weight\" } are not used.\n",
      "\n",
      "  bst.update(dtrain, iteration=i, fobj=obj)\n"
     ]
    },
    {
     "name": "stdout",
     "output_type": "stream",
     "text": [
      "  ➤ Fold 1 ROC AUC: 0.5907\n",
      "\n",
      "📊 每個類別在訓練與驗證集的 player 數：\n",
      "🔹 訓練集：{1: 13, 0: 6, 2: 14}\n",
      "🔹 驗證集：{2: 3, 1: 4, 0: 2}\n",
      "👤 驗證集 player_id：[13, 40, 4, 19, 18, 6, 17, 3, 41]\n"
     ]
    },
    {
     "name": "stderr",
     "output_type": "stream",
     "text": [
      "/home/barry/.conda/envs/test/lib/python3.10/site-packages/xgboost/training.py:183: UserWarning: [23:07:30] WARNING: /workspace/src/learner.cc:738: \n",
      "Parameters: { \"scale_pos_weight\" } are not used.\n",
      "\n",
      "  bst.update(dtrain, iteration=i, fobj=obj)\n"
     ]
    },
    {
     "name": "stdout",
     "output_type": "stream",
     "text": [
      "  ➤ Fold 2 ROC AUC: 0.6341\n",
      "\n",
      "📊 每個類別在訓練與驗證集的 player 數：\n",
      "🔹 訓練集：{0: 6, 2: 14, 1: 13}\n",
      "🔹 驗證集：{2: 3, 1: 4, 0: 2}\n",
      "👤 驗證集 player_id：[29, 23, 22, 6, 41, 21, 35, 10, 5]\n"
     ]
    },
    {
     "name": "stderr",
     "output_type": "stream",
     "text": [
      "/home/barry/.conda/envs/test/lib/python3.10/site-packages/xgboost/training.py:183: UserWarning: [23:09:49] WARNING: /workspace/src/learner.cc:738: \n",
      "Parameters: { \"scale_pos_weight\" } are not used.\n",
      "\n",
      "  bst.update(dtrain, iteration=i, fobj=obj)\n"
     ]
    },
    {
     "name": "stdout",
     "output_type": "stream",
     "text": [
      "  ➤ Fold 3 ROC AUC: 0.6284\n",
      "\n",
      "📊 每個類別在訓練與驗證集的 player 數：\n",
      "🔹 訓練集：{0: 6, 1: 14, 2: 13}\n",
      "🔹 驗證集：{1: 3, 2: 4, 0: 2}\n",
      "👤 驗證集 player_id：[32, 20, 27, 5, 33, 7, 17, 10, 14]\n"
     ]
    },
    {
     "name": "stderr",
     "output_type": "stream",
     "text": [
      "/home/barry/.conda/envs/test/lib/python3.10/site-packages/xgboost/training.py:183: UserWarning: [23:12:08] WARNING: /workspace/src/learner.cc:738: \n",
      "Parameters: { \"scale_pos_weight\" } are not used.\n",
      "\n",
      "  bst.update(dtrain, iteration=i, fobj=obj)\n"
     ]
    },
    {
     "name": "stdout",
     "output_type": "stream",
     "text": [
      "  ➤ Fold 4 ROC AUC: 0.6035\n",
      "\n",
      "📊 每個類別在訓練與驗證集的 player 數：\n",
      "🔹 訓練集：{1: 14, 2: 13, 0: 6}\n",
      "🔹 驗證集：{0: 2, 2: 4, 1: 3}\n",
      "👤 驗證集 player_id：[31, 26, 36, 15, 30, 42, 3, 17, 4]\n"
     ]
    },
    {
     "name": "stderr",
     "output_type": "stream",
     "text": [
      "/home/barry/.conda/envs/test/lib/python3.10/site-packages/xgboost/training.py:183: UserWarning: [23:14:31] WARNING: /workspace/src/learner.cc:738: \n",
      "Parameters: { \"scale_pos_weight\" } are not used.\n",
      "\n",
      "  bst.update(dtrain, iteration=i, fobj=obj)\n"
     ]
    },
    {
     "name": "stdout",
     "output_type": "stream",
     "text": [
      "  ➤ Fold 5 ROC AUC: 0.7456\n",
      "✅ 平均 ROC AUC: 0.6404\n",
      "\n",
      "🧪 測試第 26/30 組參數：{'n_estimators': 100, 'max_depth': 9, 'learning_rate': 0.2, 'subsample': 0.6, 'colsample_bytree': 0.6, 'gamma': 5, 'scale_pos_weight': 1}\n",
      "\n",
      "📊 每個類別在訓練與驗證集的 player 數：\n",
      "🔹 訓練集：{1: 13, 0: 6, 2: 14}\n",
      "🔹 驗證集：{1: 4, 0: 2, 2: 3}\n",
      "👤 驗證集 player_id：[7, 12, 18, 42, 35, 24, 19, 26, 10]\n"
     ]
    },
    {
     "name": "stderr",
     "output_type": "stream",
     "text": [
      "/home/barry/.conda/envs/test/lib/python3.10/site-packages/xgboost/training.py:183: UserWarning: [23:16:58] WARNING: /workspace/src/learner.cc:738: \n",
      "Parameters: { \"scale_pos_weight\" } are not used.\n",
      "\n",
      "  bst.update(dtrain, iteration=i, fobj=obj)\n"
     ]
    },
    {
     "name": "stdout",
     "output_type": "stream",
     "text": [
      "  ➤ Fold 1 ROC AUC: 0.5954\n",
      "\n",
      "📊 每個類別在訓練與驗證集的 player 數：\n",
      "🔹 訓練集：{1: 13, 0: 6, 2: 14}\n",
      "🔹 驗證集：{2: 3, 1: 4, 0: 2}\n",
      "👤 驗證集 player_id：[13, 40, 4, 19, 18, 6, 17, 3, 41]\n"
     ]
    },
    {
     "name": "stderr",
     "output_type": "stream",
     "text": [
      "/home/barry/.conda/envs/test/lib/python3.10/site-packages/xgboost/training.py:183: UserWarning: [23:17:22] WARNING: /workspace/src/learner.cc:738: \n",
      "Parameters: { \"scale_pos_weight\" } are not used.\n",
      "\n",
      "  bst.update(dtrain, iteration=i, fobj=obj)\n"
     ]
    },
    {
     "name": "stdout",
     "output_type": "stream",
     "text": [
      "  ➤ Fold 2 ROC AUC: 0.6281\n",
      "\n",
      "📊 每個類別在訓練與驗證集的 player 數：\n",
      "🔹 訓練集：{0: 6, 2: 14, 1: 13}\n",
      "🔹 驗證集：{2: 3, 1: 4, 0: 2}\n",
      "👤 驗證集 player_id：[29, 23, 22, 6, 41, 21, 35, 10, 5]\n"
     ]
    },
    {
     "name": "stderr",
     "output_type": "stream",
     "text": [
      "/home/barry/.conda/envs/test/lib/python3.10/site-packages/xgboost/training.py:183: UserWarning: [23:17:45] WARNING: /workspace/src/learner.cc:738: \n",
      "Parameters: { \"scale_pos_weight\" } are not used.\n",
      "\n",
      "  bst.update(dtrain, iteration=i, fobj=obj)\n"
     ]
    },
    {
     "name": "stdout",
     "output_type": "stream",
     "text": [
      "  ➤ Fold 3 ROC AUC: 0.6215\n",
      "\n",
      "📊 每個類別在訓練與驗證集的 player 數：\n",
      "🔹 訓練集：{0: 6, 1: 14, 2: 13}\n",
      "🔹 驗證集：{1: 3, 2: 4, 0: 2}\n",
      "👤 驗證集 player_id：[32, 20, 27, 5, 33, 7, 17, 10, 14]\n"
     ]
    },
    {
     "name": "stderr",
     "output_type": "stream",
     "text": [
      "/home/barry/.conda/envs/test/lib/python3.10/site-packages/xgboost/training.py:183: UserWarning: [23:18:09] WARNING: /workspace/src/learner.cc:738: \n",
      "Parameters: { \"scale_pos_weight\" } are not used.\n",
      "\n",
      "  bst.update(dtrain, iteration=i, fobj=obj)\n"
     ]
    },
    {
     "name": "stdout",
     "output_type": "stream",
     "text": [
      "  ➤ Fold 4 ROC AUC: 0.6080\n",
      "\n",
      "📊 每個類別在訓練與驗證集的 player 數：\n",
      "🔹 訓練集：{1: 14, 2: 13, 0: 6}\n",
      "🔹 驗證集：{0: 2, 2: 4, 1: 3}\n",
      "👤 驗證集 player_id：[31, 26, 36, 15, 30, 42, 3, 17, 4]\n"
     ]
    },
    {
     "name": "stderr",
     "output_type": "stream",
     "text": [
      "/home/barry/.conda/envs/test/lib/python3.10/site-packages/xgboost/training.py:183: UserWarning: [23:18:36] WARNING: /workspace/src/learner.cc:738: \n",
      "Parameters: { \"scale_pos_weight\" } are not used.\n",
      "\n",
      "  bst.update(dtrain, iteration=i, fobj=obj)\n"
     ]
    },
    {
     "name": "stdout",
     "output_type": "stream",
     "text": [
      "  ➤ Fold 5 ROC AUC: 0.7191\n",
      "✅ 平均 ROC AUC: 0.6344\n",
      "\n",
      "🧪 測試第 27/30 組參數：{'n_estimators': 500, 'max_depth': 5, 'learning_rate': 0.1, 'subsample': 0.6, 'colsample_bytree': 1.0, 'gamma': 5, 'scale_pos_weight': 1}\n",
      "\n",
      "📊 每個類別在訓練與驗證集的 player 數：\n",
      "🔹 訓練集：{1: 13, 0: 6, 2: 14}\n",
      "🔹 驗證集：{1: 4, 0: 2, 2: 3}\n",
      "👤 驗證集 player_id：[7, 12, 18, 42, 35, 24, 19, 26, 10]\n"
     ]
    },
    {
     "name": "stderr",
     "output_type": "stream",
     "text": [
      "/home/barry/.conda/envs/test/lib/python3.10/site-packages/xgboost/training.py:183: UserWarning: [23:19:02] WARNING: /workspace/src/learner.cc:738: \n",
      "Parameters: { \"scale_pos_weight\" } are not used.\n",
      "\n",
      "  bst.update(dtrain, iteration=i, fobj=obj)\n"
     ]
    },
    {
     "name": "stdout",
     "output_type": "stream",
     "text": [
      "  ➤ Fold 1 ROC AUC: 0.5858\n",
      "\n",
      "📊 每個類別在訓練與驗證集的 player 數：\n",
      "🔹 訓練集：{1: 13, 0: 6, 2: 14}\n",
      "🔹 驗證集：{2: 3, 1: 4, 0: 2}\n",
      "👤 驗證集 player_id：[13, 40, 4, 19, 18, 6, 17, 3, 41]\n"
     ]
    },
    {
     "name": "stderr",
     "output_type": "stream",
     "text": [
      "/home/barry/.conda/envs/test/lib/python3.10/site-packages/xgboost/training.py:183: UserWarning: [23:20:00] WARNING: /workspace/src/learner.cc:738: \n",
      "Parameters: { \"scale_pos_weight\" } are not used.\n",
      "\n",
      "  bst.update(dtrain, iteration=i, fobj=obj)\n"
     ]
    },
    {
     "name": "stdout",
     "output_type": "stream",
     "text": [
      "  ➤ Fold 2 ROC AUC: 0.6379\n",
      "\n",
      "📊 每個類別在訓練與驗證集的 player 數：\n",
      "🔹 訓練集：{0: 6, 2: 14, 1: 13}\n",
      "🔹 驗證集：{2: 3, 1: 4, 0: 2}\n",
      "👤 驗證集 player_id：[29, 23, 22, 6, 41, 21, 35, 10, 5]\n"
     ]
    },
    {
     "name": "stderr",
     "output_type": "stream",
     "text": [
      "/home/barry/.conda/envs/test/lib/python3.10/site-packages/xgboost/training.py:183: UserWarning: [23:20:59] WARNING: /workspace/src/learner.cc:738: \n",
      "Parameters: { \"scale_pos_weight\" } are not used.\n",
      "\n",
      "  bst.update(dtrain, iteration=i, fobj=obj)\n"
     ]
    },
    {
     "name": "stdout",
     "output_type": "stream",
     "text": [
      "  ➤ Fold 3 ROC AUC: 0.6185\n",
      "\n",
      "📊 每個類別在訓練與驗證集的 player 數：\n",
      "🔹 訓練集：{0: 6, 1: 14, 2: 13}\n",
      "🔹 驗證集：{1: 3, 2: 4, 0: 2}\n",
      "👤 驗證集 player_id：[32, 20, 27, 5, 33, 7, 17, 10, 14]\n"
     ]
    },
    {
     "name": "stderr",
     "output_type": "stream",
     "text": [
      "/home/barry/.conda/envs/test/lib/python3.10/site-packages/xgboost/training.py:183: UserWarning: [23:22:00] WARNING: /workspace/src/learner.cc:738: \n",
      "Parameters: { \"scale_pos_weight\" } are not used.\n",
      "\n",
      "  bst.update(dtrain, iteration=i, fobj=obj)\n"
     ]
    },
    {
     "name": "stdout",
     "output_type": "stream",
     "text": [
      "  ➤ Fold 4 ROC AUC: 0.6113\n",
      "\n",
      "📊 每個類別在訓練與驗證集的 player 數：\n",
      "🔹 訓練集：{1: 14, 2: 13, 0: 6}\n",
      "🔹 驗證集：{0: 2, 2: 4, 1: 3}\n",
      "👤 驗證集 player_id：[31, 26, 36, 15, 30, 42, 3, 17, 4]\n"
     ]
    },
    {
     "name": "stderr",
     "output_type": "stream",
     "text": [
      "/home/barry/.conda/envs/test/lib/python3.10/site-packages/xgboost/training.py:183: UserWarning: [23:23:04] WARNING: /workspace/src/learner.cc:738: \n",
      "Parameters: { \"scale_pos_weight\" } are not used.\n",
      "\n",
      "  bst.update(dtrain, iteration=i, fobj=obj)\n"
     ]
    },
    {
     "name": "stdout",
     "output_type": "stream",
     "text": [
      "  ➤ Fold 5 ROC AUC: 0.7382\n",
      "✅ 平均 ROC AUC: 0.6383\n",
      "\n",
      "🧪 測試第 28/30 組參數：{'n_estimators': 500, 'max_depth': 3, 'learning_rate': 0.05, 'subsample': 0.6, 'colsample_bytree': 1.0, 'gamma': 1, 'scale_pos_weight': 1}\n",
      "\n",
      "📊 每個類別在訓練與驗證集的 player 數：\n",
      "🔹 訓練集：{1: 13, 0: 6, 2: 14}\n",
      "🔹 驗證集：{1: 4, 0: 2, 2: 3}\n",
      "👤 驗證集 player_id：[7, 12, 18, 42, 35, 24, 19, 26, 10]\n"
     ]
    },
    {
     "name": "stderr",
     "output_type": "stream",
     "text": [
      "/home/barry/.conda/envs/test/lib/python3.10/site-packages/xgboost/training.py:183: UserWarning: [23:24:12] WARNING: /workspace/src/learner.cc:738: \n",
      "Parameters: { \"scale_pos_weight\" } are not used.\n",
      "\n",
      "  bst.update(dtrain, iteration=i, fobj=obj)\n"
     ]
    },
    {
     "name": "stdout",
     "output_type": "stream",
     "text": [
      "  ➤ Fold 1 ROC AUC: 0.6110\n",
      "\n",
      "📊 每個類別在訓練與驗證集的 player 數：\n",
      "🔹 訓練集：{1: 13, 0: 6, 2: 14}\n",
      "🔹 驗證集：{2: 3, 1: 4, 0: 2}\n",
      "👤 驗證集 player_id：[13, 40, 4, 19, 18, 6, 17, 3, 41]\n"
     ]
    },
    {
     "name": "stderr",
     "output_type": "stream",
     "text": [
      "/home/barry/.conda/envs/test/lib/python3.10/site-packages/xgboost/training.py:183: UserWarning: [23:25:22] WARNING: /workspace/src/learner.cc:738: \n",
      "Parameters: { \"scale_pos_weight\" } are not used.\n",
      "\n",
      "  bst.update(dtrain, iteration=i, fobj=obj)\n"
     ]
    },
    {
     "name": "stdout",
     "output_type": "stream",
     "text": [
      "  ➤ Fold 2 ROC AUC: 0.6231\n",
      "\n",
      "📊 每個類別在訓練與驗證集的 player 數：\n",
      "🔹 訓練集：{0: 6, 2: 14, 1: 13}\n",
      "🔹 驗證集：{2: 3, 1: 4, 0: 2}\n",
      "👤 驗證集 player_id：[29, 23, 22, 6, 41, 21, 35, 10, 5]\n"
     ]
    },
    {
     "name": "stderr",
     "output_type": "stream",
     "text": [
      "/home/barry/.conda/envs/test/lib/python3.10/site-packages/xgboost/training.py:183: UserWarning: [23:26:34] WARNING: /workspace/src/learner.cc:738: \n",
      "Parameters: { \"scale_pos_weight\" } are not used.\n",
      "\n",
      "  bst.update(dtrain, iteration=i, fobj=obj)\n"
     ]
    },
    {
     "name": "stdout",
     "output_type": "stream",
     "text": [
      "  ➤ Fold 3 ROC AUC: 0.6065\n",
      "\n",
      "📊 每個類別在訓練與驗證集的 player 數：\n",
      "🔹 訓練集：{0: 6, 1: 14, 2: 13}\n",
      "🔹 驗證集：{1: 3, 2: 4, 0: 2}\n",
      "👤 驗證集 player_id：[32, 20, 27, 5, 33, 7, 17, 10, 14]\n"
     ]
    },
    {
     "name": "stderr",
     "output_type": "stream",
     "text": [
      "/home/barry/.conda/envs/test/lib/python3.10/site-packages/xgboost/training.py:183: UserWarning: [23:27:46] WARNING: /workspace/src/learner.cc:738: \n",
      "Parameters: { \"scale_pos_weight\" } are not used.\n",
      "\n",
      "  bst.update(dtrain, iteration=i, fobj=obj)\n"
     ]
    },
    {
     "name": "stdout",
     "output_type": "stream",
     "text": [
      "  ➤ Fold 4 ROC AUC: 0.6015\n",
      "\n",
      "📊 每個類別在訓練與驗證集的 player 數：\n",
      "🔹 訓練集：{1: 14, 2: 13, 0: 6}\n",
      "🔹 驗證集：{0: 2, 2: 4, 1: 3}\n",
      "👤 驗證集 player_id：[31, 26, 36, 15, 30, 42, 3, 17, 4]\n"
     ]
    },
    {
     "name": "stderr",
     "output_type": "stream",
     "text": [
      "/home/barry/.conda/envs/test/lib/python3.10/site-packages/xgboost/training.py:183: UserWarning: [23:29:02] WARNING: /workspace/src/learner.cc:738: \n",
      "Parameters: { \"scale_pos_weight\" } are not used.\n",
      "\n",
      "  bst.update(dtrain, iteration=i, fobj=obj)\n"
     ]
    },
    {
     "name": "stdout",
     "output_type": "stream",
     "text": [
      "  ➤ Fold 5 ROC AUC: 0.7340\n",
      "✅ 平均 ROC AUC: 0.6352\n",
      "\n",
      "🧪 測試第 29/30 組參數：{'n_estimators': 500, 'max_depth': 5, 'learning_rate': 0.05, 'subsample': 0.6, 'colsample_bytree': 0.8, 'gamma': 5, 'scale_pos_weight': 1}\n",
      "\n",
      "📊 每個類別在訓練與驗證集的 player 數：\n",
      "🔹 訓練集：{1: 13, 0: 6, 2: 14}\n",
      "🔹 驗證集：{1: 4, 0: 2, 2: 3}\n",
      "👤 驗證集 player_id：[7, 12, 18, 42, 35, 24, 19, 26, 10]\n"
     ]
    },
    {
     "name": "stderr",
     "output_type": "stream",
     "text": [
      "/home/barry/.conda/envs/test/lib/python3.10/site-packages/xgboost/training.py:183: UserWarning: [23:30:20] WARNING: /workspace/src/learner.cc:738: \n",
      "Parameters: { \"scale_pos_weight\" } are not used.\n",
      "\n",
      "  bst.update(dtrain, iteration=i, fobj=obj)\n"
     ]
    },
    {
     "name": "stdout",
     "output_type": "stream",
     "text": [
      "  ➤ Fold 1 ROC AUC: 0.6031\n",
      "\n",
      "📊 每個類別在訓練與驗證集的 player 數：\n",
      "🔹 訓練集：{1: 13, 0: 6, 2: 14}\n",
      "🔹 驗證集：{2: 3, 1: 4, 0: 2}\n",
      "👤 驗證集 player_id：[13, 40, 4, 19, 18, 6, 17, 3, 41]\n"
     ]
    },
    {
     "name": "stderr",
     "output_type": "stream",
     "text": [
      "/home/barry/.conda/envs/test/lib/python3.10/site-packages/xgboost/training.py:183: UserWarning: [23:31:45] WARNING: /workspace/src/learner.cc:738: \n",
      "Parameters: { \"scale_pos_weight\" } are not used.\n",
      "\n",
      "  bst.update(dtrain, iteration=i, fobj=obj)\n"
     ]
    },
    {
     "name": "stdout",
     "output_type": "stream",
     "text": [
      "  ➤ Fold 2 ROC AUC: 0.6458\n",
      "\n",
      "📊 每個類別在訓練與驗證集的 player 數：\n",
      "🔹 訓練集：{0: 6, 2: 14, 1: 13}\n",
      "🔹 驗證集：{2: 3, 1: 4, 0: 2}\n",
      "👤 驗證集 player_id：[29, 23, 22, 6, 41, 21, 35, 10, 5]\n"
     ]
    },
    {
     "name": "stderr",
     "output_type": "stream",
     "text": [
      "/home/barry/.conda/envs/test/lib/python3.10/site-packages/xgboost/training.py:183: UserWarning: [23:33:06] WARNING: /workspace/src/learner.cc:738: \n",
      "Parameters: { \"scale_pos_weight\" } are not used.\n",
      "\n",
      "  bst.update(dtrain, iteration=i, fobj=obj)\n"
     ]
    },
    {
     "name": "stdout",
     "output_type": "stream",
     "text": [
      "  ➤ Fold 3 ROC AUC: 0.6198\n",
      "\n",
      "📊 每個類別在訓練與驗證集的 player 數：\n",
      "🔹 訓練集：{0: 6, 1: 14, 2: 13}\n",
      "🔹 驗證集：{1: 3, 2: 4, 0: 2}\n",
      "👤 驗證集 player_id：[32, 20, 27, 5, 33, 7, 17, 10, 14]\n"
     ]
    },
    {
     "name": "stderr",
     "output_type": "stream",
     "text": [
      "/home/barry/.conda/envs/test/lib/python3.10/site-packages/xgboost/training.py:183: UserWarning: [23:34:29] WARNING: /workspace/src/learner.cc:738: \n",
      "Parameters: { \"scale_pos_weight\" } are not used.\n",
      "\n",
      "  bst.update(dtrain, iteration=i, fobj=obj)\n"
     ]
    },
    {
     "name": "stdout",
     "output_type": "stream",
     "text": [
      "  ➤ Fold 4 ROC AUC: 0.6068\n",
      "\n",
      "📊 每個類別在訓練與驗證集的 player 數：\n",
      "🔹 訓練集：{1: 14, 2: 13, 0: 6}\n",
      "🔹 驗證集：{0: 2, 2: 4, 1: 3}\n",
      "👤 驗證集 player_id：[31, 26, 36, 15, 30, 42, 3, 17, 4]\n"
     ]
    },
    {
     "name": "stderr",
     "output_type": "stream",
     "text": [
      "/home/barry/.conda/envs/test/lib/python3.10/site-packages/xgboost/training.py:183: UserWarning: [23:36:01] WARNING: /workspace/src/learner.cc:738: \n",
      "Parameters: { \"scale_pos_weight\" } are not used.\n",
      "\n",
      "  bst.update(dtrain, iteration=i, fobj=obj)\n"
     ]
    },
    {
     "name": "stdout",
     "output_type": "stream",
     "text": [
      "  ➤ Fold 5 ROC AUC: 0.7325\n",
      "✅ 平均 ROC AUC: 0.6416\n",
      "\n",
      "🧪 測試第 30/30 組參數：{'n_estimators': 200, 'max_depth': 9, 'learning_rate': 0.2, 'subsample': 1.0, 'colsample_bytree': 0.8, 'gamma': 1, 'scale_pos_weight': 1}\n",
      "\n",
      "📊 每個類別在訓練與驗證集的 player 數：\n",
      "🔹 訓練集：{1: 13, 0: 6, 2: 14}\n",
      "🔹 驗證集：{1: 4, 0: 2, 2: 3}\n",
      "👤 驗證集 player_id：[7, 12, 18, 42, 35, 24, 19, 26, 10]\n"
     ]
    },
    {
     "name": "stderr",
     "output_type": "stream",
     "text": [
      "/home/barry/.conda/envs/test/lib/python3.10/site-packages/xgboost/training.py:183: UserWarning: [23:37:34] WARNING: /workspace/src/learner.cc:738: \n",
      "Parameters: { \"scale_pos_weight\" } are not used.\n",
      "\n",
      "  bst.update(dtrain, iteration=i, fobj=obj)\n"
     ]
    },
    {
     "name": "stdout",
     "output_type": "stream",
     "text": [
      "  ➤ Fold 1 ROC AUC: 0.5995\n",
      "\n",
      "📊 每個類別在訓練與驗證集的 player 數：\n",
      "🔹 訓練集：{1: 13, 0: 6, 2: 14}\n",
      "🔹 驗證集：{2: 3, 1: 4, 0: 2}\n",
      "👤 驗證集 player_id：[13, 40, 4, 19, 18, 6, 17, 3, 41]\n"
     ]
    },
    {
     "name": "stderr",
     "output_type": "stream",
     "text": [
      "/home/barry/.conda/envs/test/lib/python3.10/site-packages/xgboost/training.py:183: UserWarning: [23:38:19] WARNING: /workspace/src/learner.cc:738: \n",
      "Parameters: { \"scale_pos_weight\" } are not used.\n",
      "\n",
      "  bst.update(dtrain, iteration=i, fobj=obj)\n"
     ]
    },
    {
     "name": "stdout",
     "output_type": "stream",
     "text": [
      "  ➤ Fold 2 ROC AUC: 0.6331\n",
      "\n",
      "📊 每個類別在訓練與驗證集的 player 數：\n",
      "🔹 訓練集：{0: 6, 2: 14, 1: 13}\n",
      "🔹 驗證集：{2: 3, 1: 4, 0: 2}\n",
      "👤 驗證集 player_id：[29, 23, 22, 6, 41, 21, 35, 10, 5]\n"
     ]
    },
    {
     "name": "stderr",
     "output_type": "stream",
     "text": [
      "/home/barry/.conda/envs/test/lib/python3.10/site-packages/xgboost/training.py:183: UserWarning: [23:39:01] WARNING: /workspace/src/learner.cc:738: \n",
      "Parameters: { \"scale_pos_weight\" } are not used.\n",
      "\n",
      "  bst.update(dtrain, iteration=i, fobj=obj)\n"
     ]
    },
    {
     "name": "stdout",
     "output_type": "stream",
     "text": [
      "  ➤ Fold 3 ROC AUC: 0.6343\n",
      "\n",
      "📊 每個類別在訓練與驗證集的 player 數：\n",
      "🔹 訓練集：{0: 6, 1: 14, 2: 13}\n",
      "🔹 驗證集：{1: 3, 2: 4, 0: 2}\n",
      "👤 驗證集 player_id：[32, 20, 27, 5, 33, 7, 17, 10, 14]\n"
     ]
    },
    {
     "name": "stderr",
     "output_type": "stream",
     "text": [
      "/home/barry/.conda/envs/test/lib/python3.10/site-packages/xgboost/training.py:183: UserWarning: [23:39:45] WARNING: /workspace/src/learner.cc:738: \n",
      "Parameters: { \"scale_pos_weight\" } are not used.\n",
      "\n",
      "  bst.update(dtrain, iteration=i, fobj=obj)\n"
     ]
    },
    {
     "name": "stdout",
     "output_type": "stream",
     "text": [
      "  ➤ Fold 4 ROC AUC: 0.6207\n",
      "\n",
      "📊 每個類別在訓練與驗證集的 player 數：\n",
      "🔹 訓練集：{1: 14, 2: 13, 0: 6}\n",
      "🔹 驗證集：{0: 2, 2: 4, 1: 3}\n",
      "👤 驗證集 player_id：[31, 26, 36, 15, 30, 42, 3, 17, 4]\n"
     ]
    },
    {
     "name": "stderr",
     "output_type": "stream",
     "text": [
      "/home/barry/.conda/envs/test/lib/python3.10/site-packages/xgboost/training.py:183: UserWarning: [23:40:32] WARNING: /workspace/src/learner.cc:738: \n",
      "Parameters: { \"scale_pos_weight\" } are not used.\n",
      "\n",
      "  bst.update(dtrain, iteration=i, fobj=obj)\n"
     ]
    },
    {
     "name": "stdout",
     "output_type": "stream",
     "text": [
      "  ➤ Fold 5 ROC AUC: 0.7299\n",
      "✅ 平均 ROC AUC: 0.6435\n",
      "\n",
      "🏁 最佳 ROC AUC: 0.6476 對應參數：{'n_estimators': 100, 'max_depth': 7, 'learning_rate': 0.01, 'subsample': 0.8, 'colsample_bytree': 0.8, 'gamma': 0, 'scale_pos_weight': 1}\n",
      "\n",
      "🏆 最佳 ROC AUC: 0.6476\n",
      "🎯 使用最佳參數重新訓練完整模型並預測測試集\n",
      "============================================================\n"
     ]
    },
    {
     "name": "stderr",
     "output_type": "stream",
     "text": [
      "/home/barry/.conda/envs/test/lib/python3.10/site-packages/xgboost/training.py:183: UserWarning: [23:41:20] WARNING: /workspace/src/learner.cc:738: \n",
      "Parameters: { \"scale_pos_weight\" } are not used.\n",
      "\n",
      "  bst.update(dtrain, iteration=i, fobj=obj)\n"
     ]
    }
   ],
   "source": [
    "# === 球齡預測（play years）===\n",
    "df_play, model_play, cols_play = train_and_predict_xgb(\n",
    "    y_name='play years',\n",
    "    smote_ratio=0.7,\n",
    "    return_model=True,\n",
    "    cv_mode='manual_kfold',\n",
    "    fold_count=5,\n",
    "    n_iter=30\n",
    ")"
   ]
  },
  {
   "cell_type": "code",
   "execution_count": 56,
   "id": "e442b1e4",
   "metadata": {},
   "outputs": [
    {
     "name": "stdout",
     "output_type": "stream",
     "text": [
      "\n",
      "🚀 開始訓練任務：level（cv_mode=manual_kfold）\n",
      "\n",
      "🔍 開始搜尋共 30 組參數，每組做 5-Fold 驗證\n",
      "------------------------------------------------------------\n",
      "\n",
      "🧪 測試第 1/30 組參數：{'n_estimators': 500, 'max_depth': 3, 'learning_rate': 0.01, 'subsample': 0.8, 'colsample_bytree': 0.8, 'gamma': 1, 'scale_pos_weight': 1}\n",
      "\n",
      "📊 每個類別在訓練與驗證集的 player 數：\n",
      "🔹 訓練集：{3: 13, 1: 4, 0: 14, 2: 2}\n",
      "🔹 驗證集：{0: 4, 3: 3, 1: 1, 2: 1}\n",
      "👤 驗證集 player_id：[27, 20, 1, 35, 5, 7, 19, 38, 23]\n"
     ]
    },
    {
     "name": "stderr",
     "output_type": "stream",
     "text": [
      "/home/barry/.conda/envs/test/lib/python3.10/site-packages/xgboost/training.py:183: UserWarning: [23:42:14] WARNING: /workspace/src/learner.cc:738: \n",
      "Parameters: { \"scale_pos_weight\" } are not used.\n",
      "\n",
      "  bst.update(dtrain, iteration=i, fobj=obj)\n"
     ]
    },
    {
     "name": "stdout",
     "output_type": "stream",
     "text": [
      "  ➤ Fold 1 ROC AUC: 0.6849\n",
      "\n",
      "📊 每個類別在訓練與驗證集的 player 數：\n",
      "🔹 訓練集：{1: 4, 0: 14, 3: 13, 2: 2}\n",
      "🔹 驗證集：{3: 3, 0: 4, 2: 1, 1: 1}\n",
      "👤 驗證集 player_id：[4, 28, 13, 14, 8, 17, 9, 34, 6]\n"
     ]
    },
    {
     "name": "stderr",
     "output_type": "stream",
     "text": [
      "/home/barry/.conda/envs/test/lib/python3.10/site-packages/xgboost/training.py:183: UserWarning: [23:44:13] WARNING: /workspace/src/learner.cc:738: \n",
      "Parameters: { \"scale_pos_weight\" } are not used.\n",
      "\n",
      "  bst.update(dtrain, iteration=i, fobj=obj)\n"
     ]
    },
    {
     "name": "stdout",
     "output_type": "stream",
     "text": [
      "  ➤ Fold 2 ROC AUC: 0.6239\n",
      "\n",
      "📊 每個類別在訓練與驗證集的 player 數：\n",
      "🔹 訓練集：{0: 14, 3: 13, 1: 4, 2: 2}\n",
      "🔹 驗證集：{3: 3, 0: 4, 1: 1, 2: 1}\n",
      "👤 驗證集 player_id：[11, 26, 7, 30, 35, 40, 16, 24, 9]\n"
     ]
    },
    {
     "name": "stderr",
     "output_type": "stream",
     "text": [
      "/home/barry/.conda/envs/test/lib/python3.10/site-packages/xgboost/training.py:183: UserWarning: [23:46:03] WARNING: /workspace/src/learner.cc:738: \n",
      "Parameters: { \"scale_pos_weight\" } are not used.\n",
      "\n",
      "  bst.update(dtrain, iteration=i, fobj=obj)\n"
     ]
    },
    {
     "name": "stdout",
     "output_type": "stream",
     "text": [
      "  ➤ Fold 3 ROC AUC: 0.7545\n",
      "\n",
      "📊 每個類別在訓練與驗證集的 player 數：\n",
      "🔹 訓練集：{3: 13, 0: 14, 1: 4, 2: 2}\n",
      "🔹 驗證集：{3: 3, 0: 4, 2: 1, 1: 1}\n",
      "👤 驗證集 player_id：[39, 16, 2, 25, 24, 3, 13, 31, 10]\n"
     ]
    },
    {
     "name": "stderr",
     "output_type": "stream",
     "text": [
      "/home/barry/.conda/envs/test/lib/python3.10/site-packages/xgboost/training.py:183: UserWarning: [23:47:41] WARNING: /workspace/src/learner.cc:738: \n",
      "Parameters: { \"scale_pos_weight\" } are not used.\n",
      "\n",
      "  bst.update(dtrain, iteration=i, fobj=obj)\n"
     ]
    },
    {
     "name": "stdout",
     "output_type": "stream",
     "text": [
      "  ➤ Fold 4 ROC AUC: 0.7579\n",
      "\n",
      "📊 每個類別在訓練與驗證集的 player 數：\n",
      "🔹 訓練集：{1: 4, 0: 14, 3: 13, 2: 2}\n",
      "🔹 驗證集：{3: 3, 0: 4, 1: 1, 2: 1}\n",
      "👤 驗證集 player_id：[1, 18, 33, 39, 10, 3, 21, 23, 17]\n"
     ]
    },
    {
     "name": "stderr",
     "output_type": "stream",
     "text": [
      "/home/barry/.conda/envs/test/lib/python3.10/site-packages/xgboost/training.py:183: UserWarning: [23:49:28] WARNING: /workspace/src/learner.cc:738: \n",
      "Parameters: { \"scale_pos_weight\" } are not used.\n",
      "\n",
      "  bst.update(dtrain, iteration=i, fobj=obj)\n"
     ]
    },
    {
     "name": "stdout",
     "output_type": "stream",
     "text": [
      "  ➤ Fold 5 ROC AUC: 0.7759\n",
      "✅ 平均 ROC AUC: 0.7194\n",
      "🎯 新最佳模型！已更新\n",
      "============================================================\n",
      "\n",
      "🧪 測試第 2/30 組參數：{'n_estimators': 100, 'max_depth': 7, 'learning_rate': 0.01, 'subsample': 0.8, 'colsample_bytree': 0.8, 'gamma': 0, 'scale_pos_weight': 1}\n",
      "\n",
      "📊 每個類別在訓練與驗證集的 player 數：\n",
      "🔹 訓練集：{3: 13, 1: 4, 0: 14, 2: 2}\n",
      "🔹 驗證集：{0: 4, 3: 3, 1: 1, 2: 1}\n",
      "👤 驗證集 player_id：[27, 20, 1, 35, 5, 7, 19, 38, 23]\n"
     ]
    },
    {
     "name": "stderr",
     "output_type": "stream",
     "text": [
      "/home/barry/.conda/envs/test/lib/python3.10/site-packages/xgboost/training.py:183: UserWarning: [23:51:16] WARNING: /workspace/src/learner.cc:738: \n",
      "Parameters: { \"scale_pos_weight\" } are not used.\n",
      "\n",
      "  bst.update(dtrain, iteration=i, fobj=obj)\n"
     ]
    },
    {
     "name": "stdout",
     "output_type": "stream",
     "text": [
      "  ➤ Fold 1 ROC AUC: 0.6274\n",
      "\n",
      "📊 每個類別在訓練與驗證集的 player 數：\n",
      "🔹 訓練集：{1: 4, 0: 14, 3: 13, 2: 2}\n",
      "🔹 驗證集：{3: 3, 0: 4, 2: 1, 1: 1}\n",
      "👤 驗證集 player_id：[4, 28, 13, 14, 8, 17, 9, 34, 6]\n"
     ]
    },
    {
     "name": "stderr",
     "output_type": "stream",
     "text": [
      "/home/barry/.conda/envs/test/lib/python3.10/site-packages/xgboost/training.py:183: UserWarning: [23:52:23] WARNING: /workspace/src/learner.cc:738: \n",
      "Parameters: { \"scale_pos_weight\" } are not used.\n",
      "\n",
      "  bst.update(dtrain, iteration=i, fobj=obj)\n"
     ]
    },
    {
     "name": "stdout",
     "output_type": "stream",
     "text": [
      "  ➤ Fold 2 ROC AUC: 0.5660\n",
      "\n",
      "📊 每個類別在訓練與驗證集的 player 數：\n",
      "🔹 訓練集：{0: 14, 3: 13, 1: 4, 2: 2}\n",
      "🔹 驗證集：{3: 3, 0: 4, 1: 1, 2: 1}\n",
      "👤 驗證集 player_id：[11, 26, 7, 30, 35, 40, 16, 24, 9]\n"
     ]
    },
    {
     "name": "stderr",
     "output_type": "stream",
     "text": [
      "/home/barry/.conda/envs/test/lib/python3.10/site-packages/xgboost/training.py:183: UserWarning: [23:53:19] WARNING: /workspace/src/learner.cc:738: \n",
      "Parameters: { \"scale_pos_weight\" } are not used.\n",
      "\n",
      "  bst.update(dtrain, iteration=i, fobj=obj)\n"
     ]
    },
    {
     "name": "stdout",
     "output_type": "stream",
     "text": [
      "  ➤ Fold 3 ROC AUC: 0.6732\n",
      "\n",
      "📊 每個類別在訓練與驗證集的 player 數：\n",
      "🔹 訓練集：{3: 13, 0: 14, 1: 4, 2: 2}\n",
      "🔹 驗證集：{3: 3, 0: 4, 2: 1, 1: 1}\n",
      "👤 驗證集 player_id：[39, 16, 2, 25, 24, 3, 13, 31, 10]\n"
     ]
    },
    {
     "name": "stderr",
     "output_type": "stream",
     "text": [
      "/home/barry/.conda/envs/test/lib/python3.10/site-packages/xgboost/training.py:183: UserWarning: [23:54:15] WARNING: /workspace/src/learner.cc:738: \n",
      "Parameters: { \"scale_pos_weight\" } are not used.\n",
      "\n",
      "  bst.update(dtrain, iteration=i, fobj=obj)\n"
     ]
    },
    {
     "name": "stdout",
     "output_type": "stream",
     "text": [
      "  ➤ Fold 4 ROC AUC: 0.7486\n",
      "\n",
      "📊 每個類別在訓練與驗證集的 player 數：\n",
      "🔹 訓練集：{1: 4, 0: 14, 3: 13, 2: 2}\n",
      "🔹 驗證集：{3: 3, 0: 4, 1: 1, 2: 1}\n",
      "👤 驗證集 player_id：[1, 18, 33, 39, 10, 3, 21, 23, 17]\n"
     ]
    },
    {
     "name": "stderr",
     "output_type": "stream",
     "text": [
      "/home/barry/.conda/envs/test/lib/python3.10/site-packages/xgboost/training.py:183: UserWarning: [23:55:15] WARNING: /workspace/src/learner.cc:738: \n",
      "Parameters: { \"scale_pos_weight\" } are not used.\n",
      "\n",
      "  bst.update(dtrain, iteration=i, fobj=obj)\n"
     ]
    },
    {
     "name": "stdout",
     "output_type": "stream",
     "text": [
      "  ➤ Fold 5 ROC AUC: 0.7926\n",
      "✅ 平均 ROC AUC: 0.6815\n",
      "\n",
      "🧪 測試第 3/30 組參數：{'n_estimators': 100, 'max_depth': 3, 'learning_rate': 0.05, 'subsample': 1.0, 'colsample_bytree': 1.0, 'gamma': 0, 'scale_pos_weight': 1}\n",
      "\n",
      "📊 每個類別在訓練與驗證集的 player 數：\n",
      "🔹 訓練集：{3: 13, 1: 4, 0: 14, 2: 2}\n",
      "🔹 驗證集：{0: 4, 3: 3, 1: 1, 2: 1}\n",
      "👤 驗證集 player_id：[27, 20, 1, 35, 5, 7, 19, 38, 23]\n"
     ]
    },
    {
     "name": "stderr",
     "output_type": "stream",
     "text": [
      "/home/barry/.conda/envs/test/lib/python3.10/site-packages/xgboost/training.py:183: UserWarning: [23:56:16] WARNING: /workspace/src/learner.cc:738: \n",
      "Parameters: { \"scale_pos_weight\" } are not used.\n",
      "\n",
      "  bst.update(dtrain, iteration=i, fobj=obj)\n"
     ]
    },
    {
     "name": "stdout",
     "output_type": "stream",
     "text": [
      "  ➤ Fold 1 ROC AUC: 0.6887\n",
      "\n",
      "📊 每個類別在訓練與驗證集的 player 數：\n",
      "🔹 訓練集：{1: 4, 0: 14, 3: 13, 2: 2}\n",
      "🔹 驗證集：{3: 3, 0: 4, 2: 1, 1: 1}\n",
      "👤 驗證集 player_id：[4, 28, 13, 14, 8, 17, 9, 34, 6]\n"
     ]
    },
    {
     "name": "stderr",
     "output_type": "stream",
     "text": [
      "/home/barry/.conda/envs/test/lib/python3.10/site-packages/xgboost/training.py:183: UserWarning: [23:56:40] WARNING: /workspace/src/learner.cc:738: \n",
      "Parameters: { \"scale_pos_weight\" } are not used.\n",
      "\n",
      "  bst.update(dtrain, iteration=i, fobj=obj)\n"
     ]
    },
    {
     "name": "stdout",
     "output_type": "stream",
     "text": [
      "  ➤ Fold 2 ROC AUC: 0.6179\n",
      "\n",
      "📊 每個類別在訓練與驗證集的 player 數：\n",
      "🔹 訓練集：{0: 14, 3: 13, 1: 4, 2: 2}\n",
      "🔹 驗證集：{3: 3, 0: 4, 1: 1, 2: 1}\n",
      "👤 驗證集 player_id：[11, 26, 7, 30, 35, 40, 16, 24, 9]\n"
     ]
    },
    {
     "name": "stderr",
     "output_type": "stream",
     "text": [
      "/home/barry/.conda/envs/test/lib/python3.10/site-packages/xgboost/training.py:183: UserWarning: [23:57:04] WARNING: /workspace/src/learner.cc:738: \n",
      "Parameters: { \"scale_pos_weight\" } are not used.\n",
      "\n",
      "  bst.update(dtrain, iteration=i, fobj=obj)\n"
     ]
    },
    {
     "name": "stdout",
     "output_type": "stream",
     "text": [
      "  ➤ Fold 3 ROC AUC: 0.7561\n",
      "\n",
      "📊 每個類別在訓練與驗證集的 player 數：\n",
      "🔹 訓練集：{3: 13, 0: 14, 1: 4, 2: 2}\n",
      "🔹 驗證集：{3: 3, 0: 4, 2: 1, 1: 1}\n",
      "👤 驗證集 player_id：[39, 16, 2, 25, 24, 3, 13, 31, 10]\n"
     ]
    },
    {
     "name": "stderr",
     "output_type": "stream",
     "text": [
      "/home/barry/.conda/envs/test/lib/python3.10/site-packages/xgboost/training.py:183: UserWarning: [23:57:24] WARNING: /workspace/src/learner.cc:738: \n",
      "Parameters: { \"scale_pos_weight\" } are not used.\n",
      "\n",
      "  bst.update(dtrain, iteration=i, fobj=obj)\n"
     ]
    },
    {
     "name": "stdout",
     "output_type": "stream",
     "text": [
      "  ➤ Fold 4 ROC AUC: 0.7554\n",
      "\n",
      "📊 每個類別在訓練與驗證集的 player 數：\n",
      "🔹 訓練集：{1: 4, 0: 14, 3: 13, 2: 2}\n",
      "🔹 驗證集：{3: 3, 0: 4, 1: 1, 2: 1}\n",
      "👤 驗證集 player_id：[1, 18, 33, 39, 10, 3, 21, 23, 17]\n"
     ]
    },
    {
     "name": "stderr",
     "output_type": "stream",
     "text": [
      "/home/barry/.conda/envs/test/lib/python3.10/site-packages/xgboost/training.py:183: UserWarning: [23:57:47] WARNING: /workspace/src/learner.cc:738: \n",
      "Parameters: { \"scale_pos_weight\" } are not used.\n",
      "\n",
      "  bst.update(dtrain, iteration=i, fobj=obj)\n"
     ]
    },
    {
     "name": "stdout",
     "output_type": "stream",
     "text": [
      "  ➤ Fold 5 ROC AUC: 0.7779\n",
      "✅ 平均 ROC AUC: 0.7192\n",
      "\n",
      "🧪 測試第 4/30 組參數：{'n_estimators': 500, 'max_depth': 7, 'learning_rate': 0.01, 'subsample': 0.6, 'colsample_bytree': 1.0, 'gamma': 0, 'scale_pos_weight': 1}\n",
      "\n",
      "📊 每個類別在訓練與驗證集的 player 數：\n",
      "🔹 訓練集：{3: 13, 1: 4, 0: 14, 2: 2}\n",
      "🔹 驗證集：{0: 4, 3: 3, 1: 1, 2: 1}\n",
      "👤 驗證集 player_id：[27, 20, 1, 35, 5, 7, 19, 38, 23]\n"
     ]
    },
    {
     "name": "stderr",
     "output_type": "stream",
     "text": [
      "/home/barry/.conda/envs/test/lib/python3.10/site-packages/xgboost/training.py:183: UserWarning: [23:58:09] WARNING: /workspace/src/learner.cc:738: \n",
      "Parameters: { \"scale_pos_weight\" } are not used.\n",
      "\n",
      "  bst.update(dtrain, iteration=i, fobj=obj)\n"
     ]
    },
    {
     "name": "stdout",
     "output_type": "stream",
     "text": [
      "  ➤ Fold 1 ROC AUC: 0.6476\n",
      "\n",
      "📊 每個類別在訓練與驗證集的 player 數：\n",
      "🔹 訓練集：{1: 4, 0: 14, 3: 13, 2: 2}\n",
      "🔹 驗證集：{3: 3, 0: 4, 2: 1, 1: 1}\n",
      "👤 驗證集 player_id：[4, 28, 13, 14, 8, 17, 9, 34, 6]\n"
     ]
    },
    {
     "name": "stderr",
     "output_type": "stream",
     "text": [
      "/home/barry/.conda/envs/test/lib/python3.10/site-packages/xgboost/training.py:183: UserWarning: [00:03:28] WARNING: /workspace/src/learner.cc:738: \n",
      "Parameters: { \"scale_pos_weight\" } are not used.\n",
      "\n",
      "  bst.update(dtrain, iteration=i, fobj=obj)\n"
     ]
    },
    {
     "name": "stdout",
     "output_type": "stream",
     "text": [
      "  ➤ Fold 2 ROC AUC: 0.5864\n",
      "\n",
      "📊 每個類別在訓練與驗證集的 player 數：\n",
      "🔹 訓練集：{0: 14, 3: 13, 1: 4, 2: 2}\n",
      "🔹 驗證集：{3: 3, 0: 4, 1: 1, 2: 1}\n",
      "👤 驗證集 player_id：[11, 26, 7, 30, 35, 40, 16, 24, 9]\n"
     ]
    },
    {
     "name": "stderr",
     "output_type": "stream",
     "text": [
      "/home/barry/.conda/envs/test/lib/python3.10/site-packages/xgboost/training.py:183: UserWarning: [00:08:19] WARNING: /workspace/src/learner.cc:738: \n",
      "Parameters: { \"scale_pos_weight\" } are not used.\n",
      "\n",
      "  bst.update(dtrain, iteration=i, fobj=obj)\n"
     ]
    },
    {
     "name": "stdout",
     "output_type": "stream",
     "text": [
      "  ➤ Fold 3 ROC AUC: 0.7255\n",
      "\n",
      "📊 每個類別在訓練與驗證集的 player 數：\n",
      "🔹 訓練集：{3: 13, 0: 14, 1: 4, 2: 2}\n",
      "🔹 驗證集：{3: 3, 0: 4, 2: 1, 1: 1}\n",
      "👤 驗證集 player_id：[39, 16, 2, 25, 24, 3, 13, 31, 10]\n"
     ]
    },
    {
     "name": "stderr",
     "output_type": "stream",
     "text": [
      "/home/barry/.conda/envs/test/lib/python3.10/site-packages/xgboost/training.py:183: UserWarning: [00:13:01] WARNING: /workspace/src/learner.cc:738: \n",
      "Parameters: { \"scale_pos_weight\" } are not used.\n",
      "\n",
      "  bst.update(dtrain, iteration=i, fobj=obj)\n"
     ]
    },
    {
     "name": "stdout",
     "output_type": "stream",
     "text": [
      "  ➤ Fold 4 ROC AUC: 0.7767\n",
      "\n",
      "📊 每個類別在訓練與驗證集的 player 數：\n",
      "🔹 訓練集：{1: 4, 0: 14, 3: 13, 2: 2}\n",
      "🔹 驗證集：{3: 3, 0: 4, 1: 1, 2: 1}\n",
      "👤 驗證集 player_id：[1, 18, 33, 39, 10, 3, 21, 23, 17]\n"
     ]
    },
    {
     "name": "stderr",
     "output_type": "stream",
     "text": [
      "/home/barry/.conda/envs/test/lib/python3.10/site-packages/xgboost/training.py:183: UserWarning: [00:18:06] WARNING: /workspace/src/learner.cc:738: \n",
      "Parameters: { \"scale_pos_weight\" } are not used.\n",
      "\n",
      "  bst.update(dtrain, iteration=i, fobj=obj)\n"
     ]
    },
    {
     "name": "stdout",
     "output_type": "stream",
     "text": [
      "  ➤ Fold 5 ROC AUC: 0.7870\n",
      "✅ 平均 ROC AUC: 0.7046\n",
      "\n",
      "🧪 測試第 5/30 組參數：{'n_estimators': 200, 'max_depth': 5, 'learning_rate': 0.01, 'subsample': 1.0, 'colsample_bytree': 0.8, 'gamma': 5, 'scale_pos_weight': 1}\n",
      "\n",
      "📊 每個類別在訓練與驗證集的 player 數：\n",
      "🔹 訓練集：{3: 13, 1: 4, 0: 14, 2: 2}\n",
      "🔹 驗證集：{0: 4, 3: 3, 1: 1, 2: 1}\n",
      "👤 驗證集 player_id：[27, 20, 1, 35, 5, 7, 19, 38, 23]\n"
     ]
    },
    {
     "name": "stderr",
     "output_type": "stream",
     "text": [
      "/home/barry/.conda/envs/test/lib/python3.10/site-packages/xgboost/training.py:183: UserWarning: [00:23:03] WARNING: /workspace/src/learner.cc:738: \n",
      "Parameters: { \"scale_pos_weight\" } are not used.\n",
      "\n",
      "  bst.update(dtrain, iteration=i, fobj=obj)\n"
     ]
    },
    {
     "name": "stdout",
     "output_type": "stream",
     "text": [
      "  ➤ Fold 1 ROC AUC: 0.6604\n",
      "\n",
      "📊 每個類別在訓練與驗證集的 player 數：\n",
      "🔹 訓練集：{1: 4, 0: 14, 3: 13, 2: 2}\n",
      "🔹 驗證集：{3: 3, 0: 4, 2: 1, 1: 1}\n",
      "👤 驗證集 player_id：[4, 28, 13, 14, 8, 17, 9, 34, 6]\n"
     ]
    },
    {
     "name": "stderr",
     "output_type": "stream",
     "text": [
      "/home/barry/.conda/envs/test/lib/python3.10/site-packages/xgboost/training.py:183: UserWarning: [00:24:16] WARNING: /workspace/src/learner.cc:738: \n",
      "Parameters: { \"scale_pos_weight\" } are not used.\n",
      "\n",
      "  bst.update(dtrain, iteration=i, fobj=obj)\n"
     ]
    },
    {
     "name": "stdout",
     "output_type": "stream",
     "text": [
      "  ➤ Fold 2 ROC AUC: 0.5808\n",
      "\n",
      "📊 每個類別在訓練與驗證集的 player 數：\n",
      "🔹 訓練集：{0: 14, 3: 13, 1: 4, 2: 2}\n",
      "🔹 驗證集：{3: 3, 0: 4, 1: 1, 2: 1}\n",
      "👤 驗證集 player_id：[11, 26, 7, 30, 35, 40, 16, 24, 9]\n"
     ]
    },
    {
     "name": "stderr",
     "output_type": "stream",
     "text": [
      "/home/barry/.conda/envs/test/lib/python3.10/site-packages/xgboost/training.py:183: UserWarning: [00:25:20] WARNING: /workspace/src/learner.cc:738: \n",
      "Parameters: { \"scale_pos_weight\" } are not used.\n",
      "\n",
      "  bst.update(dtrain, iteration=i, fobj=obj)\n"
     ]
    },
    {
     "name": "stdout",
     "output_type": "stream",
     "text": [
      "  ➤ Fold 3 ROC AUC: 0.7006\n",
      "\n",
      "📊 每個類別在訓練與驗證集的 player 數：\n",
      "🔹 訓練集：{3: 13, 0: 14, 1: 4, 2: 2}\n",
      "🔹 驗證集：{3: 3, 0: 4, 2: 1, 1: 1}\n",
      "👤 驗證集 player_id：[39, 16, 2, 25, 24, 3, 13, 31, 10]\n"
     ]
    },
    {
     "name": "stderr",
     "output_type": "stream",
     "text": [
      "/home/barry/.conda/envs/test/lib/python3.10/site-packages/xgboost/training.py:183: UserWarning: [00:26:23] WARNING: /workspace/src/learner.cc:738: \n",
      "Parameters: { \"scale_pos_weight\" } are not used.\n",
      "\n",
      "  bst.update(dtrain, iteration=i, fobj=obj)\n"
     ]
    },
    {
     "name": "stdout",
     "output_type": "stream",
     "text": [
      "  ➤ Fold 4 ROC AUC: 0.7433\n",
      "\n",
      "📊 每個類別在訓練與驗證集的 player 數：\n",
      "🔹 訓練集：{1: 4, 0: 14, 3: 13, 2: 2}\n",
      "🔹 驗證集：{3: 3, 0: 4, 1: 1, 2: 1}\n",
      "👤 驗證集 player_id：[1, 18, 33, 39, 10, 3, 21, 23, 17]\n"
     ]
    },
    {
     "name": "stderr",
     "output_type": "stream",
     "text": [
      "/home/barry/.conda/envs/test/lib/python3.10/site-packages/xgboost/training.py:183: UserWarning: [00:27:28] WARNING: /workspace/src/learner.cc:738: \n",
      "Parameters: { \"scale_pos_weight\" } are not used.\n",
      "\n",
      "  bst.update(dtrain, iteration=i, fobj=obj)\n"
     ]
    },
    {
     "name": "stdout",
     "output_type": "stream",
     "text": [
      "  ➤ Fold 5 ROC AUC: 0.7824\n",
      "✅ 平均 ROC AUC: 0.6935\n",
      "\n",
      "🧪 測試第 6/30 組參數：{'n_estimators': 200, 'max_depth': 3, 'learning_rate': 0.1, 'subsample': 0.8, 'colsample_bytree': 1.0, 'gamma': 0, 'scale_pos_weight': 1}\n",
      "\n",
      "📊 每個類別在訓練與驗證集的 player 數：\n",
      "🔹 訓練集：{3: 13, 1: 4, 0: 14, 2: 2}\n",
      "🔹 驗證集：{0: 4, 3: 3, 1: 1, 2: 1}\n",
      "👤 驗證集 player_id：[27, 20, 1, 35, 5, 7, 19, 38, 23]\n"
     ]
    },
    {
     "name": "stderr",
     "output_type": "stream",
     "text": [
      "/home/barry/.conda/envs/test/lib/python3.10/site-packages/xgboost/training.py:183: UserWarning: [00:28:35] WARNING: /workspace/src/learner.cc:738: \n",
      "Parameters: { \"scale_pos_weight\" } are not used.\n",
      "\n",
      "  bst.update(dtrain, iteration=i, fobj=obj)\n"
     ]
    },
    {
     "name": "stdout",
     "output_type": "stream",
     "text": [
      "  ➤ Fold 1 ROC AUC: 0.6660\n",
      "\n",
      "📊 每個類別在訓練與驗證集的 player 數：\n",
      "🔹 訓練集：{1: 4, 0: 14, 3: 13, 2: 2}\n",
      "🔹 驗證集：{3: 3, 0: 4, 2: 1, 1: 1}\n",
      "👤 驗證集 player_id：[4, 28, 13, 14, 8, 17, 9, 34, 6]\n"
     ]
    },
    {
     "name": "stderr",
     "output_type": "stream",
     "text": [
      "/home/barry/.conda/envs/test/lib/python3.10/site-packages/xgboost/training.py:183: UserWarning: [00:29:17] WARNING: /workspace/src/learner.cc:738: \n",
      "Parameters: { \"scale_pos_weight\" } are not used.\n",
      "\n",
      "  bst.update(dtrain, iteration=i, fobj=obj)\n"
     ]
    },
    {
     "name": "stdout",
     "output_type": "stream",
     "text": [
      "  ➤ Fold 2 ROC AUC: 0.6937\n",
      "\n",
      "📊 每個類別在訓練與驗證集的 player 數：\n",
      "🔹 訓練集：{0: 14, 3: 13, 1: 4, 2: 2}\n",
      "🔹 驗證集：{3: 3, 0: 4, 1: 1, 2: 1}\n",
      "👤 驗證集 player_id：[11, 26, 7, 30, 35, 40, 16, 24, 9]\n"
     ]
    },
    {
     "name": "stderr",
     "output_type": "stream",
     "text": [
      "/home/barry/.conda/envs/test/lib/python3.10/site-packages/xgboost/training.py:183: UserWarning: [00:29:58] WARNING: /workspace/src/learner.cc:738: \n",
      "Parameters: { \"scale_pos_weight\" } are not used.\n",
      "\n",
      "  bst.update(dtrain, iteration=i, fobj=obj)\n"
     ]
    },
    {
     "name": "stdout",
     "output_type": "stream",
     "text": [
      "  ➤ Fold 3 ROC AUC: 0.7633\n",
      "\n",
      "📊 每個類別在訓練與驗證集的 player 數：\n",
      "🔹 訓練集：{3: 13, 0: 14, 1: 4, 2: 2}\n",
      "🔹 驗證集：{3: 3, 0: 4, 2: 1, 1: 1}\n",
      "👤 驗證集 player_id：[39, 16, 2, 25, 24, 3, 13, 31, 10]\n"
     ]
    },
    {
     "name": "stderr",
     "output_type": "stream",
     "text": [
      "/home/barry/.conda/envs/test/lib/python3.10/site-packages/xgboost/training.py:183: UserWarning: [00:30:35] WARNING: /workspace/src/learner.cc:738: \n",
      "Parameters: { \"scale_pos_weight\" } are not used.\n",
      "\n",
      "  bst.update(dtrain, iteration=i, fobj=obj)\n"
     ]
    },
    {
     "name": "stdout",
     "output_type": "stream",
     "text": [
      "  ➤ Fold 4 ROC AUC: 0.7870\n",
      "\n",
      "📊 每個類別在訓練與驗證集的 player 數：\n",
      "🔹 訓練集：{1: 4, 0: 14, 3: 13, 2: 2}\n",
      "🔹 驗證集：{3: 3, 0: 4, 1: 1, 2: 1}\n",
      "👤 驗證集 player_id：[1, 18, 33, 39, 10, 3, 21, 23, 17]\n"
     ]
    },
    {
     "name": "stderr",
     "output_type": "stream",
     "text": [
      "/home/barry/.conda/envs/test/lib/python3.10/site-packages/xgboost/training.py:183: UserWarning: [00:31:15] WARNING: /workspace/src/learner.cc:738: \n",
      "Parameters: { \"scale_pos_weight\" } are not used.\n",
      "\n",
      "  bst.update(dtrain, iteration=i, fobj=obj)\n"
     ]
    },
    {
     "name": "stdout",
     "output_type": "stream",
     "text": [
      "  ➤ Fold 5 ROC AUC: 0.7875\n",
      "✅ 平均 ROC AUC: 0.7395\n",
      "🎯 新最佳模型！已更新\n",
      "============================================================\n",
      "\n",
      "🧪 測試第 7/30 組參數：{'n_estimators': 200, 'max_depth': 3, 'learning_rate': 0.01, 'subsample': 1.0, 'colsample_bytree': 1.0, 'gamma': 1, 'scale_pos_weight': 1}\n",
      "\n",
      "📊 每個類別在訓練與驗證集的 player 數：\n",
      "🔹 訓練集：{3: 13, 1: 4, 0: 14, 2: 2}\n",
      "🔹 驗證集：{0: 4, 3: 3, 1: 1, 2: 1}\n",
      "👤 驗證集 player_id：[27, 20, 1, 35, 5, 7, 19, 38, 23]\n"
     ]
    },
    {
     "name": "stderr",
     "output_type": "stream",
     "text": [
      "/home/barry/.conda/envs/test/lib/python3.10/site-packages/xgboost/training.py:183: UserWarning: [00:31:55] WARNING: /workspace/src/learner.cc:738: \n",
      "Parameters: { \"scale_pos_weight\" } are not used.\n",
      "\n",
      "  bst.update(dtrain, iteration=i, fobj=obj)\n"
     ]
    },
    {
     "name": "stdout",
     "output_type": "stream",
     "text": [
      "  ➤ Fold 1 ROC AUC: 0.6611\n",
      "\n",
      "📊 每個類別在訓練與驗證集的 player 數：\n",
      "🔹 訓練集：{1: 4, 0: 14, 3: 13, 2: 2}\n",
      "🔹 驗證集：{3: 3, 0: 4, 2: 1, 1: 1}\n",
      "👤 驗證集 player_id：[4, 28, 13, 14, 8, 17, 9, 34, 6]\n"
     ]
    },
    {
     "name": "stderr",
     "output_type": "stream",
     "text": [
      "/home/barry/.conda/envs/test/lib/python3.10/site-packages/xgboost/training.py:183: UserWarning: [00:32:40] WARNING: /workspace/src/learner.cc:738: \n",
      "Parameters: { \"scale_pos_weight\" } are not used.\n",
      "\n",
      "  bst.update(dtrain, iteration=i, fobj=obj)\n"
     ]
    },
    {
     "name": "stdout",
     "output_type": "stream",
     "text": [
      "  ➤ Fold 2 ROC AUC: 0.5783\n",
      "\n",
      "📊 每個類別在訓練與驗證集的 player 數：\n",
      "🔹 訓練集：{0: 14, 3: 13, 1: 4, 2: 2}\n",
      "🔹 驗證集：{3: 3, 0: 4, 1: 1, 2: 1}\n",
      "👤 驗證集 player_id：[11, 26, 7, 30, 35, 40, 16, 24, 9]\n"
     ]
    },
    {
     "name": "stderr",
     "output_type": "stream",
     "text": [
      "/home/barry/.conda/envs/test/lib/python3.10/site-packages/xgboost/training.py:183: UserWarning: [00:33:23] WARNING: /workspace/src/learner.cc:738: \n",
      "Parameters: { \"scale_pos_weight\" } are not used.\n",
      "\n",
      "  bst.update(dtrain, iteration=i, fobj=obj)\n"
     ]
    },
    {
     "name": "stdout",
     "output_type": "stream",
     "text": [
      "  ➤ Fold 3 ROC AUC: 0.7412\n",
      "\n",
      "📊 每個類別在訓練與驗證集的 player 數：\n",
      "🔹 訓練集：{3: 13, 0: 14, 1: 4, 2: 2}\n",
      "🔹 驗證集：{3: 3, 0: 4, 2: 1, 1: 1}\n",
      "👤 驗證集 player_id：[39, 16, 2, 25, 24, 3, 13, 31, 10]\n"
     ]
    },
    {
     "name": "stderr",
     "output_type": "stream",
     "text": [
      "/home/barry/.conda/envs/test/lib/python3.10/site-packages/xgboost/training.py:183: UserWarning: [00:34:02] WARNING: /workspace/src/learner.cc:738: \n",
      "Parameters: { \"scale_pos_weight\" } are not used.\n",
      "\n",
      "  bst.update(dtrain, iteration=i, fobj=obj)\n"
     ]
    },
    {
     "name": "stdout",
     "output_type": "stream",
     "text": [
      "  ➤ Fold 4 ROC AUC: 0.7292\n",
      "\n",
      "📊 每個類別在訓練與驗證集的 player 數：\n",
      "🔹 訓練集：{1: 4, 0: 14, 3: 13, 2: 2}\n",
      "🔹 驗證集：{3: 3, 0: 4, 1: 1, 2: 1}\n",
      "👤 驗證集 player_id：[1, 18, 33, 39, 10, 3, 21, 23, 17]\n"
     ]
    },
    {
     "name": "stderr",
     "output_type": "stream",
     "text": [
      "/home/barry/.conda/envs/test/lib/python3.10/site-packages/xgboost/training.py:183: UserWarning: [00:34:45] WARNING: /workspace/src/learner.cc:738: \n",
      "Parameters: { \"scale_pos_weight\" } are not used.\n",
      "\n",
      "  bst.update(dtrain, iteration=i, fobj=obj)\n"
     ]
    },
    {
     "name": "stdout",
     "output_type": "stream",
     "text": [
      "  ➤ Fold 5 ROC AUC: 0.7732\n",
      "✅ 平均 ROC AUC: 0.6966\n",
      "\n",
      "🧪 測試第 8/30 組參數：{'n_estimators': 100, 'max_depth': 7, 'learning_rate': 0.1, 'subsample': 0.8, 'colsample_bytree': 1.0, 'gamma': 0, 'scale_pos_weight': 1}\n",
      "\n",
      "📊 每個類別在訓練與驗證集的 player 數：\n",
      "🔹 訓練集：{3: 13, 1: 4, 0: 14, 2: 2}\n",
      "🔹 驗證集：{0: 4, 3: 3, 1: 1, 2: 1}\n",
      "👤 驗證集 player_id：[27, 20, 1, 35, 5, 7, 19, 38, 23]\n"
     ]
    },
    {
     "name": "stderr",
     "output_type": "stream",
     "text": [
      "/home/barry/.conda/envs/test/lib/python3.10/site-packages/xgboost/training.py:183: UserWarning: [00:35:26] WARNING: /workspace/src/learner.cc:738: \n",
      "Parameters: { \"scale_pos_weight\" } are not used.\n",
      "\n",
      "  bst.update(dtrain, iteration=i, fobj=obj)\n"
     ]
    },
    {
     "name": "stdout",
     "output_type": "stream",
     "text": [
      "  ➤ Fold 1 ROC AUC: 0.6352\n",
      "\n",
      "📊 每個類別在訓練與驗證集的 player 數：\n",
      "🔹 訓練集：{1: 4, 0: 14, 3: 13, 2: 2}\n",
      "🔹 驗證集：{3: 3, 0: 4, 2: 1, 1: 1}\n",
      "👤 驗證集 player_id：[4, 28, 13, 14, 8, 17, 9, 34, 6]\n"
     ]
    },
    {
     "name": "stderr",
     "output_type": "stream",
     "text": [
      "/home/barry/.conda/envs/test/lib/python3.10/site-packages/xgboost/training.py:183: UserWarning: [00:36:28] WARNING: /workspace/src/learner.cc:738: \n",
      "Parameters: { \"scale_pos_weight\" } are not used.\n",
      "\n",
      "  bst.update(dtrain, iteration=i, fobj=obj)\n"
     ]
    },
    {
     "name": "stdout",
     "output_type": "stream",
     "text": [
      "  ➤ Fold 2 ROC AUC: 0.6064\n",
      "\n",
      "📊 每個類別在訓練與驗證集的 player 數：\n",
      "🔹 訓練集：{0: 14, 3: 13, 1: 4, 2: 2}\n",
      "🔹 驗證集：{3: 3, 0: 4, 1: 1, 2: 1}\n",
      "👤 驗證集 player_id：[11, 26, 7, 30, 35, 40, 16, 24, 9]\n"
     ]
    },
    {
     "name": "stderr",
     "output_type": "stream",
     "text": [
      "/home/barry/.conda/envs/test/lib/python3.10/site-packages/xgboost/training.py:183: UserWarning: [00:37:26] WARNING: /workspace/src/learner.cc:738: \n",
      "Parameters: { \"scale_pos_weight\" } are not used.\n",
      "\n",
      "  bst.update(dtrain, iteration=i, fobj=obj)\n"
     ]
    },
    {
     "name": "stdout",
     "output_type": "stream",
     "text": [
      "  ➤ Fold 3 ROC AUC: 0.7381\n",
      "\n",
      "📊 每個類別在訓練與驗證集的 player 數：\n",
      "🔹 訓練集：{3: 13, 0: 14, 1: 4, 2: 2}\n",
      "🔹 驗證集：{3: 3, 0: 4, 2: 1, 1: 1}\n",
      "👤 驗證集 player_id：[39, 16, 2, 25, 24, 3, 13, 31, 10]\n"
     ]
    },
    {
     "name": "stderr",
     "output_type": "stream",
     "text": [
      "/home/barry/.conda/envs/test/lib/python3.10/site-packages/xgboost/training.py:183: UserWarning: [00:38:24] WARNING: /workspace/src/learner.cc:738: \n",
      "Parameters: { \"scale_pos_weight\" } are not used.\n",
      "\n",
      "  bst.update(dtrain, iteration=i, fobj=obj)\n"
     ]
    },
    {
     "name": "stdout",
     "output_type": "stream",
     "text": [
      "  ➤ Fold 4 ROC AUC: 0.7782\n",
      "\n",
      "📊 每個類別在訓練與驗證集的 player 數：\n",
      "🔹 訓練集：{1: 4, 0: 14, 3: 13, 2: 2}\n",
      "🔹 驗證集：{3: 3, 0: 4, 1: 1, 2: 1}\n",
      "👤 驗證集 player_id：[1, 18, 33, 39, 10, 3, 21, 23, 17]\n"
     ]
    },
    {
     "name": "stderr",
     "output_type": "stream",
     "text": [
      "/home/barry/.conda/envs/test/lib/python3.10/site-packages/xgboost/training.py:183: UserWarning: [00:39:25] WARNING: /workspace/src/learner.cc:738: \n",
      "Parameters: { \"scale_pos_weight\" } are not used.\n",
      "\n",
      "  bst.update(dtrain, iteration=i, fobj=obj)\n"
     ]
    },
    {
     "name": "stdout",
     "output_type": "stream",
     "text": [
      "  ➤ Fold 5 ROC AUC: 0.7856\n",
      "✅ 平均 ROC AUC: 0.7087\n",
      "\n",
      "🧪 測試第 9/30 組參數：{'n_estimators': 500, 'max_depth': 5, 'learning_rate': 0.2, 'subsample': 1.0, 'colsample_bytree': 0.8, 'gamma': 5, 'scale_pos_weight': 1}\n",
      "\n",
      "📊 每個類別在訓練與驗證集的 player 數：\n",
      "🔹 訓練集：{3: 13, 1: 4, 0: 14, 2: 2}\n",
      "🔹 驗證集：{0: 4, 3: 3, 1: 1, 2: 1}\n",
      "👤 驗證集 player_id：[27, 20, 1, 35, 5, 7, 19, 38, 23]\n"
     ]
    },
    {
     "name": "stderr",
     "output_type": "stream",
     "text": [
      "/home/barry/.conda/envs/test/lib/python3.10/site-packages/xgboost/training.py:183: UserWarning: [00:40:27] WARNING: /workspace/src/learner.cc:738: \n",
      "Parameters: { \"scale_pos_weight\" } are not used.\n",
      "\n",
      "  bst.update(dtrain, iteration=i, fobj=obj)\n"
     ]
    },
    {
     "name": "stdout",
     "output_type": "stream",
     "text": [
      "  ➤ Fold 1 ROC AUC: 0.6643\n",
      "\n",
      "📊 每個類別在訓練與驗證集的 player 數：\n",
      "🔹 訓練集：{1: 4, 0: 14, 3: 13, 2: 2}\n",
      "🔹 驗證集：{3: 3, 0: 4, 2: 1, 1: 1}\n",
      "👤 驗證集 player_id：[4, 28, 13, 14, 8, 17, 9, 34, 6]\n"
     ]
    },
    {
     "name": "stderr",
     "output_type": "stream",
     "text": [
      "/home/barry/.conda/envs/test/lib/python3.10/site-packages/xgboost/training.py:183: UserWarning: [00:41:30] WARNING: /workspace/src/learner.cc:738: \n",
      "Parameters: { \"scale_pos_weight\" } are not used.\n",
      "\n",
      "  bst.update(dtrain, iteration=i, fobj=obj)\n"
     ]
    },
    {
     "name": "stdout",
     "output_type": "stream",
     "text": [
      "  ➤ Fold 2 ROC AUC: 0.6438\n",
      "\n",
      "📊 每個類別在訓練與驗證集的 player 數：\n",
      "🔹 訓練集：{0: 14, 3: 13, 1: 4, 2: 2}\n",
      "🔹 驗證集：{3: 3, 0: 4, 1: 1, 2: 1}\n",
      "👤 驗證集 player_id：[11, 26, 7, 30, 35, 40, 16, 24, 9]\n"
     ]
    },
    {
     "name": "stderr",
     "output_type": "stream",
     "text": [
      "/home/barry/.conda/envs/test/lib/python3.10/site-packages/xgboost/training.py:183: UserWarning: [00:42:26] WARNING: /workspace/src/learner.cc:738: \n",
      "Parameters: { \"scale_pos_weight\" } are not used.\n",
      "\n",
      "  bst.update(dtrain, iteration=i, fobj=obj)\n"
     ]
    },
    {
     "name": "stdout",
     "output_type": "stream",
     "text": [
      "  ➤ Fold 3 ROC AUC: 0.7466\n",
      "\n",
      "📊 每個類別在訓練與驗證集的 player 數：\n",
      "🔹 訓練集：{3: 13, 0: 14, 1: 4, 2: 2}\n",
      "🔹 驗證集：{3: 3, 0: 4, 2: 1, 1: 1}\n",
      "👤 驗證集 player_id：[39, 16, 2, 25, 24, 3, 13, 31, 10]\n"
     ]
    },
    {
     "name": "stderr",
     "output_type": "stream",
     "text": [
      "/home/barry/.conda/envs/test/lib/python3.10/site-packages/xgboost/training.py:183: UserWarning: [00:43:17] WARNING: /workspace/src/learner.cc:738: \n",
      "Parameters: { \"scale_pos_weight\" } are not used.\n",
      "\n",
      "  bst.update(dtrain, iteration=i, fobj=obj)\n"
     ]
    },
    {
     "name": "stdout",
     "output_type": "stream",
     "text": [
      "  ➤ Fold 4 ROC AUC: 0.7786\n",
      "\n",
      "📊 每個類別在訓練與驗證集的 player 數：\n",
      "🔹 訓練集：{1: 4, 0: 14, 3: 13, 2: 2}\n",
      "🔹 驗證集：{3: 3, 0: 4, 1: 1, 2: 1}\n",
      "👤 驗證集 player_id：[1, 18, 33, 39, 10, 3, 21, 23, 17]\n"
     ]
    },
    {
     "name": "stderr",
     "output_type": "stream",
     "text": [
      "/home/barry/.conda/envs/test/lib/python3.10/site-packages/xgboost/training.py:183: UserWarning: [00:44:10] WARNING: /workspace/src/learner.cc:738: \n",
      "Parameters: { \"scale_pos_weight\" } are not used.\n",
      "\n",
      "  bst.update(dtrain, iteration=i, fobj=obj)\n"
     ]
    },
    {
     "name": "stdout",
     "output_type": "stream",
     "text": [
      "  ➤ Fold 5 ROC AUC: 0.7778\n",
      "✅ 平均 ROC AUC: 0.7222\n",
      "\n",
      "🧪 測試第 10/30 組參數：{'n_estimators': 100, 'max_depth': 5, 'learning_rate': 0.2, 'subsample': 1.0, 'colsample_bytree': 0.6, 'gamma': 5, 'scale_pos_weight': 1}\n",
      "\n",
      "📊 每個類別在訓練與驗證集的 player 數：\n",
      "🔹 訓練集：{3: 13, 1: 4, 0: 14, 2: 2}\n",
      "🔹 驗證集：{0: 4, 3: 3, 1: 1, 2: 1}\n",
      "👤 驗證集 player_id：[27, 20, 1, 35, 5, 7, 19, 38, 23]\n"
     ]
    },
    {
     "name": "stderr",
     "output_type": "stream",
     "text": [
      "/home/barry/.conda/envs/test/lib/python3.10/site-packages/xgboost/training.py:183: UserWarning: [00:45:08] WARNING: /workspace/src/learner.cc:738: \n",
      "Parameters: { \"scale_pos_weight\" } are not used.\n",
      "\n",
      "  bst.update(dtrain, iteration=i, fobj=obj)\n"
     ]
    },
    {
     "name": "stdout",
     "output_type": "stream",
     "text": [
      "  ➤ Fold 1 ROC AUC: 0.6662\n",
      "\n",
      "📊 每個類別在訓練與驗證集的 player 數：\n",
      "🔹 訓練集：{1: 4, 0: 14, 3: 13, 2: 2}\n",
      "🔹 驗證集：{3: 3, 0: 4, 2: 1, 1: 1}\n",
      "👤 驗證集 player_id：[4, 28, 13, 14, 8, 17, 9, 34, 6]\n"
     ]
    },
    {
     "name": "stderr",
     "output_type": "stream",
     "text": [
      "/home/barry/.conda/envs/test/lib/python3.10/site-packages/xgboost/training.py:183: UserWarning: [00:45:34] WARNING: /workspace/src/learner.cc:738: \n",
      "Parameters: { \"scale_pos_weight\" } are not used.\n",
      "\n",
      "  bst.update(dtrain, iteration=i, fobj=obj)\n"
     ]
    },
    {
     "name": "stdout",
     "output_type": "stream",
     "text": [
      "  ➤ Fold 2 ROC AUC: 0.6305\n",
      "\n",
      "📊 每個類別在訓練與驗證集的 player 數：\n",
      "🔹 訓練集：{0: 14, 3: 13, 1: 4, 2: 2}\n",
      "🔹 驗證集：{3: 3, 0: 4, 1: 1, 2: 1}\n",
      "👤 驗證集 player_id：[11, 26, 7, 30, 35, 40, 16, 24, 9]\n"
     ]
    },
    {
     "name": "stderr",
     "output_type": "stream",
     "text": [
      "/home/barry/.conda/envs/test/lib/python3.10/site-packages/xgboost/training.py:183: UserWarning: [00:45:57] WARNING: /workspace/src/learner.cc:738: \n",
      "Parameters: { \"scale_pos_weight\" } are not used.\n",
      "\n",
      "  bst.update(dtrain, iteration=i, fobj=obj)\n"
     ]
    },
    {
     "name": "stdout",
     "output_type": "stream",
     "text": [
      "  ➤ Fold 3 ROC AUC: 0.7595\n",
      "\n",
      "📊 每個類別在訓練與驗證集的 player 數：\n",
      "🔹 訓練集：{3: 13, 0: 14, 1: 4, 2: 2}\n",
      "🔹 驗證集：{3: 3, 0: 4, 2: 1, 1: 1}\n",
      "👤 驗證集 player_id：[39, 16, 2, 25, 24, 3, 13, 31, 10]\n"
     ]
    },
    {
     "name": "stderr",
     "output_type": "stream",
     "text": [
      "/home/barry/.conda/envs/test/lib/python3.10/site-packages/xgboost/training.py:183: UserWarning: [00:46:20] WARNING: /workspace/src/learner.cc:738: \n",
      "Parameters: { \"scale_pos_weight\" } are not used.\n",
      "\n",
      "  bst.update(dtrain, iteration=i, fobj=obj)\n"
     ]
    },
    {
     "name": "stdout",
     "output_type": "stream",
     "text": [
      "  ➤ Fold 4 ROC AUC: 0.7816\n",
      "\n",
      "📊 每個類別在訓練與驗證集的 player 數：\n",
      "🔹 訓練集：{1: 4, 0: 14, 3: 13, 2: 2}\n",
      "🔹 驗證集：{3: 3, 0: 4, 1: 1, 2: 1}\n",
      "👤 驗證集 player_id：[1, 18, 33, 39, 10, 3, 21, 23, 17]\n"
     ]
    },
    {
     "name": "stderr",
     "output_type": "stream",
     "text": [
      "/home/barry/.conda/envs/test/lib/python3.10/site-packages/xgboost/training.py:183: UserWarning: [00:46:43] WARNING: /workspace/src/learner.cc:738: \n",
      "Parameters: { \"scale_pos_weight\" } are not used.\n",
      "\n",
      "  bst.update(dtrain, iteration=i, fobj=obj)\n"
     ]
    },
    {
     "name": "stdout",
     "output_type": "stream",
     "text": [
      "  ➤ Fold 5 ROC AUC: 0.7817\n",
      "✅ 平均 ROC AUC: 0.7239\n",
      "\n",
      "🧪 測試第 11/30 組參數：{'n_estimators': 500, 'max_depth': 3, 'learning_rate': 0.2, 'subsample': 0.6, 'colsample_bytree': 1.0, 'gamma': 5, 'scale_pos_weight': 1}\n",
      "\n",
      "📊 每個類別在訓練與驗證集的 player 數：\n",
      "🔹 訓練集：{3: 13, 1: 4, 0: 14, 2: 2}\n",
      "🔹 驗證集：{0: 4, 3: 3, 1: 1, 2: 1}\n",
      "👤 驗證集 player_id：[27, 20, 1, 35, 5, 7, 19, 38, 23]\n"
     ]
    },
    {
     "name": "stderr",
     "output_type": "stream",
     "text": [
      "/home/barry/.conda/envs/test/lib/python3.10/site-packages/xgboost/training.py:183: UserWarning: [00:47:08] WARNING: /workspace/src/learner.cc:738: \n",
      "Parameters: { \"scale_pos_weight\" } are not used.\n",
      "\n",
      "  bst.update(dtrain, iteration=i, fobj=obj)\n"
     ]
    },
    {
     "name": "stdout",
     "output_type": "stream",
     "text": [
      "  ➤ Fold 1 ROC AUC: 0.6643\n",
      "\n",
      "📊 每個類別在訓練與驗證集的 player 數：\n",
      "🔹 訓練集：{1: 4, 0: 14, 3: 13, 2: 2}\n",
      "🔹 驗證集：{3: 3, 0: 4, 2: 1, 1: 1}\n",
      "👤 驗證集 player_id：[4, 28, 13, 14, 8, 17, 9, 34, 6]\n"
     ]
    },
    {
     "name": "stderr",
     "output_type": "stream",
     "text": [
      "/home/barry/.conda/envs/test/lib/python3.10/site-packages/xgboost/training.py:183: UserWarning: [00:48:15] WARNING: /workspace/src/learner.cc:738: \n",
      "Parameters: { \"scale_pos_weight\" } are not used.\n",
      "\n",
      "  bst.update(dtrain, iteration=i, fobj=obj)\n"
     ]
    },
    {
     "name": "stdout",
     "output_type": "stream",
     "text": [
      "  ➤ Fold 2 ROC AUC: 0.6853\n",
      "\n",
      "📊 每個類別在訓練與驗證集的 player 數：\n",
      "🔹 訓練集：{0: 14, 3: 13, 1: 4, 2: 2}\n",
      "🔹 驗證集：{3: 3, 0: 4, 1: 1, 2: 1}\n",
      "👤 驗證集 player_id：[11, 26, 7, 30, 35, 40, 16, 24, 9]\n"
     ]
    },
    {
     "name": "stderr",
     "output_type": "stream",
     "text": [
      "/home/barry/.conda/envs/test/lib/python3.10/site-packages/xgboost/training.py:183: UserWarning: [00:49:14] WARNING: /workspace/src/learner.cc:738: \n",
      "Parameters: { \"scale_pos_weight\" } are not used.\n",
      "\n",
      "  bst.update(dtrain, iteration=i, fobj=obj)\n"
     ]
    },
    {
     "name": "stdout",
     "output_type": "stream",
     "text": [
      "  ➤ Fold 3 ROC AUC: 0.7605\n",
      "\n",
      "📊 每個類別在訓練與驗證集的 player 數：\n",
      "🔹 訓練集：{3: 13, 0: 14, 1: 4, 2: 2}\n",
      "🔹 驗證集：{3: 3, 0: 4, 2: 1, 1: 1}\n",
      "👤 驗證集 player_id：[39, 16, 2, 25, 24, 3, 13, 31, 10]\n"
     ]
    },
    {
     "name": "stderr",
     "output_type": "stream",
     "text": [
      "/home/barry/.conda/envs/test/lib/python3.10/site-packages/xgboost/training.py:183: UserWarning: [00:50:08] WARNING: /workspace/src/learner.cc:738: \n",
      "Parameters: { \"scale_pos_weight\" } are not used.\n",
      "\n",
      "  bst.update(dtrain, iteration=i, fobj=obj)\n"
     ]
    },
    {
     "name": "stdout",
     "output_type": "stream",
     "text": [
      "  ➤ Fold 4 ROC AUC: 0.7884\n",
      "\n",
      "📊 每個類別在訓練與驗證集的 player 數：\n",
      "🔹 訓練集：{1: 4, 0: 14, 3: 13, 2: 2}\n",
      "🔹 驗證集：{3: 3, 0: 4, 1: 1, 2: 1}\n",
      "👤 驗證集 player_id：[1, 18, 33, 39, 10, 3, 21, 23, 17]\n"
     ]
    },
    {
     "name": "stderr",
     "output_type": "stream",
     "text": [
      "/home/barry/.conda/envs/test/lib/python3.10/site-packages/xgboost/training.py:183: UserWarning: [00:51:03] WARNING: /workspace/src/learner.cc:738: \n",
      "Parameters: { \"scale_pos_weight\" } are not used.\n",
      "\n",
      "  bst.update(dtrain, iteration=i, fobj=obj)\n"
     ]
    },
    {
     "name": "stdout",
     "output_type": "stream",
     "text": [
      "  ➤ Fold 5 ROC AUC: 0.7866\n",
      "✅ 平均 ROC AUC: 0.7370\n",
      "\n",
      "🧪 測試第 12/30 組參數：{'n_estimators': 500, 'max_depth': 7, 'learning_rate': 0.01, 'subsample': 0.6, 'colsample_bytree': 0.8, 'gamma': 1, 'scale_pos_weight': 1}\n",
      "\n",
      "📊 每個類別在訓練與驗證集的 player 數：\n",
      "🔹 訓練集：{3: 13, 1: 4, 0: 14, 2: 2}\n",
      "🔹 驗證集：{0: 4, 3: 3, 1: 1, 2: 1}\n",
      "👤 驗證集 player_id：[27, 20, 1, 35, 5, 7, 19, 38, 23]\n"
     ]
    },
    {
     "name": "stderr",
     "output_type": "stream",
     "text": [
      "/home/barry/.conda/envs/test/lib/python3.10/site-packages/xgboost/training.py:183: UserWarning: [00:52:05] WARNING: /workspace/src/learner.cc:738: \n",
      "Parameters: { \"scale_pos_weight\" } are not used.\n",
      "\n",
      "  bst.update(dtrain, iteration=i, fobj=obj)\n"
     ]
    },
    {
     "name": "stdout",
     "output_type": "stream",
     "text": [
      "  ➤ Fold 1 ROC AUC: 0.6500\n",
      "\n",
      "📊 每個類別在訓練與驗證集的 player 數：\n",
      "🔹 訓練集：{1: 4, 0: 14, 3: 13, 2: 2}\n",
      "🔹 驗證集：{3: 3, 0: 4, 2: 1, 1: 1}\n",
      "👤 驗證集 player_id：[4, 28, 13, 14, 8, 17, 9, 34, 6]\n"
     ]
    },
    {
     "name": "stderr",
     "output_type": "stream",
     "text": [
      "/home/barry/.conda/envs/test/lib/python3.10/site-packages/xgboost/training.py:183: UserWarning: [00:57:13] WARNING: /workspace/src/learner.cc:738: \n",
      "Parameters: { \"scale_pos_weight\" } are not used.\n",
      "\n",
      "  bst.update(dtrain, iteration=i, fobj=obj)\n"
     ]
    },
    {
     "name": "stdout",
     "output_type": "stream",
     "text": [
      "  ➤ Fold 2 ROC AUC: 0.5880\n",
      "\n",
      "📊 每個類別在訓練與驗證集的 player 數：\n",
      "🔹 訓練集：{0: 14, 3: 13, 1: 4, 2: 2}\n",
      "🔹 驗證集：{3: 3, 0: 4, 1: 1, 2: 1}\n",
      "👤 驗證集 player_id：[11, 26, 7, 30, 35, 40, 16, 24, 9]\n"
     ]
    },
    {
     "name": "stderr",
     "output_type": "stream",
     "text": [
      "/home/barry/.conda/envs/test/lib/python3.10/site-packages/xgboost/training.py:183: UserWarning: [01:01:55] WARNING: /workspace/src/learner.cc:738: \n",
      "Parameters: { \"scale_pos_weight\" } are not used.\n",
      "\n",
      "  bst.update(dtrain, iteration=i, fobj=obj)\n"
     ]
    },
    {
     "name": "stdout",
     "output_type": "stream",
     "text": [
      "  ➤ Fold 3 ROC AUC: 0.7248\n",
      "\n",
      "📊 每個類別在訓練與驗證集的 player 數：\n",
      "🔹 訓練集：{3: 13, 0: 14, 1: 4, 2: 2}\n",
      "🔹 驗證集：{3: 3, 0: 4, 2: 1, 1: 1}\n",
      "👤 驗證集 player_id：[39, 16, 2, 25, 24, 3, 13, 31, 10]\n"
     ]
    },
    {
     "name": "stderr",
     "output_type": "stream",
     "text": [
      "/home/barry/.conda/envs/test/lib/python3.10/site-packages/xgboost/training.py:183: UserWarning: [01:06:25] WARNING: /workspace/src/learner.cc:738: \n",
      "Parameters: { \"scale_pos_weight\" } are not used.\n",
      "\n",
      "  bst.update(dtrain, iteration=i, fobj=obj)\n"
     ]
    },
    {
     "name": "stdout",
     "output_type": "stream",
     "text": [
      "  ➤ Fold 4 ROC AUC: 0.7778\n",
      "\n",
      "📊 每個類別在訓練與驗證集的 player 數：\n",
      "🔹 訓練集：{1: 4, 0: 14, 3: 13, 2: 2}\n",
      "🔹 驗證集：{3: 3, 0: 4, 1: 1, 2: 1}\n",
      "👤 驗證集 player_id：[1, 18, 33, 39, 10, 3, 21, 23, 17]\n"
     ]
    },
    {
     "name": "stderr",
     "output_type": "stream",
     "text": [
      "/home/barry/.conda/envs/test/lib/python3.10/site-packages/xgboost/training.py:183: UserWarning: [01:11:12] WARNING: /workspace/src/learner.cc:738: \n",
      "Parameters: { \"scale_pos_weight\" } are not used.\n",
      "\n",
      "  bst.update(dtrain, iteration=i, fobj=obj)\n"
     ]
    },
    {
     "name": "stdout",
     "output_type": "stream",
     "text": [
      "  ➤ Fold 5 ROC AUC: 0.7888\n",
      "✅ 平均 ROC AUC: 0.7059\n",
      "\n",
      "🧪 測試第 13/30 組參數：{'n_estimators': 300, 'max_depth': 7, 'learning_rate': 0.05, 'subsample': 0.8, 'colsample_bytree': 0.6, 'gamma': 0, 'scale_pos_weight': 1}\n",
      "\n",
      "📊 每個類別在訓練與驗證集的 player 數：\n",
      "🔹 訓練集：{3: 13, 1: 4, 0: 14, 2: 2}\n",
      "🔹 驗證集：{0: 4, 3: 3, 1: 1, 2: 1}\n",
      "👤 驗證集 player_id：[27, 20, 1, 35, 5, 7, 19, 38, 23]\n"
     ]
    },
    {
     "name": "stderr",
     "output_type": "stream",
     "text": [
      "/home/barry/.conda/envs/test/lib/python3.10/site-packages/xgboost/training.py:183: UserWarning: [01:16:06] WARNING: /workspace/src/learner.cc:738: \n",
      "Parameters: { \"scale_pos_weight\" } are not used.\n",
      "\n",
      "  bst.update(dtrain, iteration=i, fobj=obj)\n"
     ]
    },
    {
     "name": "stdout",
     "output_type": "stream",
     "text": [
      "  ➤ Fold 1 ROC AUC: 0.6385\n",
      "\n",
      "📊 每個類別在訓練與驗證集的 player 數：\n",
      "🔹 訓練集：{1: 4, 0: 14, 3: 13, 2: 2}\n",
      "🔹 驗證集：{3: 3, 0: 4, 2: 1, 1: 1}\n",
      "👤 驗證集 player_id：[4, 28, 13, 14, 8, 17, 9, 34, 6]\n"
     ]
    },
    {
     "name": "stderr",
     "output_type": "stream",
     "text": [
      "/home/barry/.conda/envs/test/lib/python3.10/site-packages/xgboost/training.py:183: UserWarning: [01:19:11] WARNING: /workspace/src/learner.cc:738: \n",
      "Parameters: { \"scale_pos_weight\" } are not used.\n",
      "\n",
      "  bst.update(dtrain, iteration=i, fobj=obj)\n"
     ]
    },
    {
     "name": "stdout",
     "output_type": "stream",
     "text": [
      "  ➤ Fold 2 ROC AUC: 0.6362\n",
      "\n",
      "📊 每個類別在訓練與驗證集的 player 數：\n",
      "🔹 訓練集：{0: 14, 3: 13, 1: 4, 2: 2}\n",
      "🔹 驗證集：{3: 3, 0: 4, 1: 1, 2: 1}\n",
      "👤 驗證集 player_id：[11, 26, 7, 30, 35, 40, 16, 24, 9]\n"
     ]
    },
    {
     "name": "stderr",
     "output_type": "stream",
     "text": [
      "/home/barry/.conda/envs/test/lib/python3.10/site-packages/xgboost/training.py:183: UserWarning: [01:22:06] WARNING: /workspace/src/learner.cc:738: \n",
      "Parameters: { \"scale_pos_weight\" } are not used.\n",
      "\n",
      "  bst.update(dtrain, iteration=i, fobj=obj)\n"
     ]
    },
    {
     "name": "stdout",
     "output_type": "stream",
     "text": [
      "  ➤ Fold 3 ROC AUC: 0.7480\n",
      "\n",
      "📊 每個類別在訓練與驗證集的 player 數：\n",
      "🔹 訓練集：{3: 13, 0: 14, 1: 4, 2: 2}\n",
      "🔹 驗證集：{3: 3, 0: 4, 2: 1, 1: 1}\n",
      "👤 驗證集 player_id：[39, 16, 2, 25, 24, 3, 13, 31, 10]\n"
     ]
    },
    {
     "name": "stderr",
     "output_type": "stream",
     "text": [
      "/home/barry/.conda/envs/test/lib/python3.10/site-packages/xgboost/training.py:183: UserWarning: [01:24:58] WARNING: /workspace/src/learner.cc:738: \n",
      "Parameters: { \"scale_pos_weight\" } are not used.\n",
      "\n",
      "  bst.update(dtrain, iteration=i, fobj=obj)\n"
     ]
    },
    {
     "name": "stdout",
     "output_type": "stream",
     "text": [
      "  ➤ Fold 4 ROC AUC: 0.7839\n",
      "\n",
      "📊 每個類別在訓練與驗證集的 player 數：\n",
      "🔹 訓練集：{1: 4, 0: 14, 3: 13, 2: 2}\n",
      "🔹 驗證集：{3: 3, 0: 4, 1: 1, 2: 1}\n",
      "👤 驗證集 player_id：[1, 18, 33, 39, 10, 3, 21, 23, 17]\n"
     ]
    },
    {
     "name": "stderr",
     "output_type": "stream",
     "text": [
      "/home/barry/.conda/envs/test/lib/python3.10/site-packages/xgboost/training.py:183: UserWarning: [01:27:58] WARNING: /workspace/src/learner.cc:738: \n",
      "Parameters: { \"scale_pos_weight\" } are not used.\n",
      "\n",
      "  bst.update(dtrain, iteration=i, fobj=obj)\n"
     ]
    },
    {
     "name": "stdout",
     "output_type": "stream",
     "text": [
      "  ➤ Fold 5 ROC AUC: 0.7897\n",
      "✅ 平均 ROC AUC: 0.7193\n",
      "\n",
      "🧪 測試第 14/30 組參數：{'n_estimators': 100, 'max_depth': 5, 'learning_rate': 0.1, 'subsample': 0.8, 'colsample_bytree': 1.0, 'gamma': 1, 'scale_pos_weight': 1}\n",
      "\n",
      "📊 每個類別在訓練與驗證集的 player 數：\n",
      "🔹 訓練集：{3: 13, 1: 4, 0: 14, 2: 2}\n",
      "🔹 驗證集：{0: 4, 3: 3, 1: 1, 2: 1}\n",
      "👤 驗證集 player_id：[27, 20, 1, 35, 5, 7, 19, 38, 23]\n"
     ]
    },
    {
     "name": "stderr",
     "output_type": "stream",
     "text": [
      "/home/barry/.conda/envs/test/lib/python3.10/site-packages/xgboost/training.py:183: UserWarning: [01:31:02] WARNING: /workspace/src/learner.cc:738: \n",
      "Parameters: { \"scale_pos_weight\" } are not used.\n",
      "\n",
      "  bst.update(dtrain, iteration=i, fobj=obj)\n"
     ]
    },
    {
     "name": "stdout",
     "output_type": "stream",
     "text": [
      "  ➤ Fold 1 ROC AUC: 0.6643\n",
      "\n",
      "📊 每個類別在訓練與驗證集的 player 數：\n",
      "🔹 訓練集：{1: 4, 0: 14, 3: 13, 2: 2}\n",
      "🔹 驗證集：{3: 3, 0: 4, 2: 1, 1: 1}\n",
      "👤 驗證集 player_id：[4, 28, 13, 14, 8, 17, 9, 34, 6]\n"
     ]
    },
    {
     "name": "stderr",
     "output_type": "stream",
     "text": [
      "/home/barry/.conda/envs/test/lib/python3.10/site-packages/xgboost/training.py:183: UserWarning: [01:31:40] WARNING: /workspace/src/learner.cc:738: \n",
      "Parameters: { \"scale_pos_weight\" } are not used.\n",
      "\n",
      "  bst.update(dtrain, iteration=i, fobj=obj)\n"
     ]
    },
    {
     "name": "stdout",
     "output_type": "stream",
     "text": [
      "  ➤ Fold 2 ROC AUC: 0.6232\n",
      "\n",
      "📊 每個類別在訓練與驗證集的 player 數：\n",
      "🔹 訓練集：{0: 14, 3: 13, 1: 4, 2: 2}\n",
      "🔹 驗證集：{3: 3, 0: 4, 1: 1, 2: 1}\n",
      "👤 驗證集 player_id：[11, 26, 7, 30, 35, 40, 16, 24, 9]\n"
     ]
    },
    {
     "name": "stderr",
     "output_type": "stream",
     "text": [
      "/home/barry/.conda/envs/test/lib/python3.10/site-packages/xgboost/training.py:183: UserWarning: [01:32:14] WARNING: /workspace/src/learner.cc:738: \n",
      "Parameters: { \"scale_pos_weight\" } are not used.\n",
      "\n",
      "  bst.update(dtrain, iteration=i, fobj=obj)\n"
     ]
    },
    {
     "name": "stdout",
     "output_type": "stream",
     "text": [
      "  ➤ Fold 3 ROC AUC: 0.7459\n",
      "\n",
      "📊 每個類別在訓練與驗證集的 player 數：\n",
      "🔹 訓練集：{3: 13, 0: 14, 1: 4, 2: 2}\n",
      "🔹 驗證集：{3: 3, 0: 4, 2: 1, 1: 1}\n",
      "👤 驗證集 player_id：[39, 16, 2, 25, 24, 3, 13, 31, 10]\n"
     ]
    },
    {
     "name": "stderr",
     "output_type": "stream",
     "text": [
      "/home/barry/.conda/envs/test/lib/python3.10/site-packages/xgboost/training.py:183: UserWarning: [01:32:46] WARNING: /workspace/src/learner.cc:738: \n",
      "Parameters: { \"scale_pos_weight\" } are not used.\n",
      "\n",
      "  bst.update(dtrain, iteration=i, fobj=obj)\n"
     ]
    },
    {
     "name": "stdout",
     "output_type": "stream",
     "text": [
      "  ➤ Fold 4 ROC AUC: 0.7804\n",
      "\n",
      "📊 每個類別在訓練與驗證集的 player 數：\n",
      "🔹 訓練集：{1: 4, 0: 14, 3: 13, 2: 2}\n",
      "🔹 驗證集：{3: 3, 0: 4, 1: 1, 2: 1}\n",
      "👤 驗證集 player_id：[1, 18, 33, 39, 10, 3, 21, 23, 17]\n"
     ]
    },
    {
     "name": "stderr",
     "output_type": "stream",
     "text": [
      "/home/barry/.conda/envs/test/lib/python3.10/site-packages/xgboost/training.py:183: UserWarning: [01:33:20] WARNING: /workspace/src/learner.cc:738: \n",
      "Parameters: { \"scale_pos_weight\" } are not used.\n",
      "\n",
      "  bst.update(dtrain, iteration=i, fobj=obj)\n"
     ]
    },
    {
     "name": "stdout",
     "output_type": "stream",
     "text": [
      "  ➤ Fold 5 ROC AUC: 0.7812\n",
      "✅ 平均 ROC AUC: 0.7190\n",
      "\n",
      "🧪 測試第 15/30 組參數：{'n_estimators': 300, 'max_depth': 9, 'learning_rate': 0.01, 'subsample': 1.0, 'colsample_bytree': 0.8, 'gamma': 0, 'scale_pos_weight': 1}\n",
      "\n",
      "📊 每個類別在訓練與驗證集的 player 數：\n",
      "🔹 訓練集：{3: 13, 1: 4, 0: 14, 2: 2}\n",
      "🔹 驗證集：{0: 4, 3: 3, 1: 1, 2: 1}\n",
      "👤 驗證集 player_id：[27, 20, 1, 35, 5, 7, 19, 38, 23]\n"
     ]
    },
    {
     "name": "stderr",
     "output_type": "stream",
     "text": [
      "/home/barry/.conda/envs/test/lib/python3.10/site-packages/xgboost/training.py:183: UserWarning: [01:33:56] WARNING: /workspace/src/learner.cc:738: \n",
      "Parameters: { \"scale_pos_weight\" } are not used.\n",
      "\n",
      "  bst.update(dtrain, iteration=i, fobj=obj)\n"
     ]
    },
    {
     "name": "stdout",
     "output_type": "stream",
     "text": [
      "  ➤ Fold 1 ROC AUC: 0.6422\n",
      "\n",
      "📊 每個類別在訓練與驗證集的 player 數：\n",
      "🔹 訓練集：{1: 4, 0: 14, 3: 13, 2: 2}\n",
      "🔹 驗證集：{3: 3, 0: 4, 2: 1, 1: 1}\n",
      "👤 驗證集 player_id：[4, 28, 13, 14, 8, 17, 9, 34, 6]\n"
     ]
    },
    {
     "name": "stderr",
     "output_type": "stream",
     "text": [
      "/home/barry/.conda/envs/test/lib/python3.10/site-packages/xgboost/training.py:183: UserWarning: [01:39:38] WARNING: /workspace/src/learner.cc:738: \n",
      "Parameters: { \"scale_pos_weight\" } are not used.\n",
      "\n",
      "  bst.update(dtrain, iteration=i, fobj=obj)\n"
     ]
    },
    {
     "name": "stdout",
     "output_type": "stream",
     "text": [
      "  ➤ Fold 2 ROC AUC: 0.5723\n",
      "\n",
      "📊 每個類別在訓練與驗證集的 player 數：\n",
      "🔹 訓練集：{0: 14, 3: 13, 1: 4, 2: 2}\n",
      "🔹 驗證集：{3: 3, 0: 4, 1: 1, 2: 1}\n",
      "👤 驗證集 player_id：[11, 26, 7, 30, 35, 40, 16, 24, 9]\n"
     ]
    },
    {
     "name": "stderr",
     "output_type": "stream",
     "text": [
      "/home/barry/.conda/envs/test/lib/python3.10/site-packages/xgboost/training.py:183: UserWarning: [01:44:42] WARNING: /workspace/src/learner.cc:738: \n",
      "Parameters: { \"scale_pos_weight\" } are not used.\n",
      "\n",
      "  bst.update(dtrain, iteration=i, fobj=obj)\n"
     ]
    },
    {
     "name": "stdout",
     "output_type": "stream",
     "text": [
      "  ➤ Fold 3 ROC AUC: 0.6868\n",
      "\n",
      "📊 每個類別在訓練與驗證集的 player 數：\n",
      "🔹 訓練集：{3: 13, 0: 14, 1: 4, 2: 2}\n",
      "🔹 驗證集：{3: 3, 0: 4, 2: 1, 1: 1}\n",
      "👤 驗證集 player_id：[39, 16, 2, 25, 24, 3, 13, 31, 10]\n"
     ]
    },
    {
     "name": "stderr",
     "output_type": "stream",
     "text": [
      "/home/barry/.conda/envs/test/lib/python3.10/site-packages/xgboost/training.py:183: UserWarning: [01:50:05] WARNING: /workspace/src/learner.cc:738: \n",
      "Parameters: { \"scale_pos_weight\" } are not used.\n",
      "\n",
      "  bst.update(dtrain, iteration=i, fobj=obj)\n"
     ]
    },
    {
     "name": "stdout",
     "output_type": "stream",
     "text": [
      "  ➤ Fold 4 ROC AUC: 0.7691\n",
      "\n",
      "📊 每個類別在訓練與驗證集的 player 數：\n",
      "🔹 訓練集：{1: 4, 0: 14, 3: 13, 2: 2}\n",
      "🔹 驗證集：{3: 3, 0: 4, 1: 1, 2: 1}\n",
      "👤 驗證集 player_id：[1, 18, 33, 39, 10, 3, 21, 23, 17]\n"
     ]
    },
    {
     "name": "stderr",
     "output_type": "stream",
     "text": [
      "/home/barry/.conda/envs/test/lib/python3.10/site-packages/xgboost/training.py:183: UserWarning: [01:55:44] WARNING: /workspace/src/learner.cc:738: \n",
      "Parameters: { \"scale_pos_weight\" } are not used.\n",
      "\n",
      "  bst.update(dtrain, iteration=i, fobj=obj)\n"
     ]
    },
    {
     "name": "stdout",
     "output_type": "stream",
     "text": [
      "  ➤ Fold 5 ROC AUC: 0.8000\n",
      "✅ 平均 ROC AUC: 0.6941\n",
      "\n",
      "🧪 測試第 16/30 組參數：{'n_estimators': 300, 'max_depth': 3, 'learning_rate': 0.01, 'subsample': 0.6, 'colsample_bytree': 0.6, 'gamma': 0, 'scale_pos_weight': 1}\n",
      "\n",
      "📊 每個類別在訓練與驗證集的 player 數：\n",
      "🔹 訓練集：{3: 13, 1: 4, 0: 14, 2: 2}\n",
      "🔹 驗證集：{0: 4, 3: 3, 1: 1, 2: 1}\n",
      "👤 驗證集 player_id：[27, 20, 1, 35, 5, 7, 19, 38, 23]\n"
     ]
    },
    {
     "name": "stderr",
     "output_type": "stream",
     "text": [
      "/home/barry/.conda/envs/test/lib/python3.10/site-packages/xgboost/training.py:183: UserWarning: [02:01:19] WARNING: /workspace/src/learner.cc:738: \n",
      "Parameters: { \"scale_pos_weight\" } are not used.\n",
      "\n",
      "  bst.update(dtrain, iteration=i, fobj=obj)\n"
     ]
    },
    {
     "name": "stdout",
     "output_type": "stream",
     "text": [
      "  ➤ Fold 1 ROC AUC: 0.6707\n",
      "\n",
      "📊 每個類別在訓練與驗證集的 player 數：\n",
      "🔹 訓練集：{1: 4, 0: 14, 3: 13, 2: 2}\n",
      "🔹 驗證集：{3: 3, 0: 4, 2: 1, 1: 1}\n",
      "👤 驗證集 player_id：[4, 28, 13, 14, 8, 17, 9, 34, 6]\n"
     ]
    },
    {
     "name": "stderr",
     "output_type": "stream",
     "text": [
      "/home/barry/.conda/envs/test/lib/python3.10/site-packages/xgboost/training.py:183: UserWarning: [02:02:30] WARNING: /workspace/src/learner.cc:738: \n",
      "Parameters: { \"scale_pos_weight\" } are not used.\n",
      "\n",
      "  bst.update(dtrain, iteration=i, fobj=obj)\n"
     ]
    },
    {
     "name": "stdout",
     "output_type": "stream",
     "text": [
      "  ➤ Fold 2 ROC AUC: 0.5975\n",
      "\n",
      "📊 每個類別在訓練與驗證集的 player 數：\n",
      "🔹 訓練集：{0: 14, 3: 13, 1: 4, 2: 2}\n",
      "🔹 驗證集：{3: 3, 0: 4, 1: 1, 2: 1}\n",
      "👤 驗證集 player_id：[11, 26, 7, 30, 35, 40, 16, 24, 9]\n"
     ]
    },
    {
     "name": "stderr",
     "output_type": "stream",
     "text": [
      "/home/barry/.conda/envs/test/lib/python3.10/site-packages/xgboost/training.py:183: UserWarning: [02:03:36] WARNING: /workspace/src/learner.cc:738: \n",
      "Parameters: { \"scale_pos_weight\" } are not used.\n",
      "\n",
      "  bst.update(dtrain, iteration=i, fobj=obj)\n"
     ]
    },
    {
     "name": "stdout",
     "output_type": "stream",
     "text": [
      "  ➤ Fold 3 ROC AUC: 0.7585\n",
      "\n",
      "📊 每個類別在訓練與驗證集的 player 數：\n",
      "🔹 訓練集：{3: 13, 0: 14, 1: 4, 2: 2}\n",
      "🔹 驗證集：{3: 3, 0: 4, 2: 1, 1: 1}\n",
      "👤 驗證集 player_id：[39, 16, 2, 25, 24, 3, 13, 31, 10]\n"
     ]
    },
    {
     "name": "stderr",
     "output_type": "stream",
     "text": [
      "/home/barry/.conda/envs/test/lib/python3.10/site-packages/xgboost/training.py:183: UserWarning: [02:04:36] WARNING: /workspace/src/learner.cc:738: \n",
      "Parameters: { \"scale_pos_weight\" } are not used.\n",
      "\n",
      "  bst.update(dtrain, iteration=i, fobj=obj)\n"
     ]
    },
    {
     "name": "stdout",
     "output_type": "stream",
     "text": [
      "  ➤ Fold 4 ROC AUC: 0.7473\n",
      "\n",
      "📊 每個類別在訓練與驗證集的 player 數：\n",
      "🔹 訓練集：{1: 4, 0: 14, 3: 13, 2: 2}\n",
      "🔹 驗證集：{3: 3, 0: 4, 1: 1, 2: 1}\n",
      "👤 驗證集 player_id：[1, 18, 33, 39, 10, 3, 21, 23, 17]\n"
     ]
    },
    {
     "name": "stderr",
     "output_type": "stream",
     "text": [
      "/home/barry/.conda/envs/test/lib/python3.10/site-packages/xgboost/training.py:183: UserWarning: [02:05:40] WARNING: /workspace/src/learner.cc:738: \n",
      "Parameters: { \"scale_pos_weight\" } are not used.\n",
      "\n",
      "  bst.update(dtrain, iteration=i, fobj=obj)\n"
     ]
    },
    {
     "name": "stdout",
     "output_type": "stream",
     "text": [
      "  ➤ Fold 5 ROC AUC: 0.7797\n",
      "✅ 平均 ROC AUC: 0.7107\n",
      "\n",
      "🧪 測試第 17/30 組參數：{'n_estimators': 100, 'max_depth': 3, 'learning_rate': 0.1, 'subsample': 0.8, 'colsample_bytree': 0.6, 'gamma': 5, 'scale_pos_weight': 1}\n",
      "\n",
      "📊 每個類別在訓練與驗證集的 player 數：\n",
      "🔹 訓練集：{3: 13, 1: 4, 0: 14, 2: 2}\n",
      "🔹 驗證集：{0: 4, 3: 3, 1: 1, 2: 1}\n",
      "👤 驗證集 player_id：[27, 20, 1, 35, 5, 7, 19, 38, 23]\n"
     ]
    },
    {
     "name": "stderr",
     "output_type": "stream",
     "text": [
      "/home/barry/.conda/envs/test/lib/python3.10/site-packages/xgboost/training.py:183: UserWarning: [02:06:42] WARNING: /workspace/src/learner.cc:738: \n",
      "Parameters: { \"scale_pos_weight\" } are not used.\n",
      "\n",
      "  bst.update(dtrain, iteration=i, fobj=obj)\n"
     ]
    },
    {
     "name": "stdout",
     "output_type": "stream",
     "text": [
      "  ➤ Fold 1 ROC AUC: 0.6728\n",
      "\n",
      "📊 每個類別在訓練與驗證集的 player 數：\n",
      "🔹 訓練集：{1: 4, 0: 14, 3: 13, 2: 2}\n",
      "🔹 驗證集：{3: 3, 0: 4, 2: 1, 1: 1}\n",
      "👤 驗證集 player_id：[4, 28, 13, 14, 8, 17, 9, 34, 6]\n"
     ]
    },
    {
     "name": "stderr",
     "output_type": "stream",
     "text": [
      "/home/barry/.conda/envs/test/lib/python3.10/site-packages/xgboost/training.py:183: UserWarning: [02:07:05] WARNING: /workspace/src/learner.cc:738: \n",
      "Parameters: { \"scale_pos_weight\" } are not used.\n",
      "\n",
      "  bst.update(dtrain, iteration=i, fobj=obj)\n"
     ]
    },
    {
     "name": "stdout",
     "output_type": "stream",
     "text": [
      "  ➤ Fold 2 ROC AUC: 0.6670\n",
      "\n",
      "📊 每個類別在訓練與驗證集的 player 數：\n",
      "🔹 訓練集：{0: 14, 3: 13, 1: 4, 2: 2}\n",
      "🔹 驗證集：{3: 3, 0: 4, 1: 1, 2: 1}\n",
      "👤 驗證集 player_id：[11, 26, 7, 30, 35, 40, 16, 24, 9]\n"
     ]
    },
    {
     "name": "stderr",
     "output_type": "stream",
     "text": [
      "/home/barry/.conda/envs/test/lib/python3.10/site-packages/xgboost/training.py:183: UserWarning: [02:07:28] WARNING: /workspace/src/learner.cc:738: \n",
      "Parameters: { \"scale_pos_weight\" } are not used.\n",
      "\n",
      "  bst.update(dtrain, iteration=i, fobj=obj)\n"
     ]
    },
    {
     "name": "stdout",
     "output_type": "stream",
     "text": [
      "  ➤ Fold 3 ROC AUC: 0.7590\n",
      "\n",
      "📊 每個類別在訓練與驗證集的 player 數：\n",
      "🔹 訓練集：{3: 13, 0: 14, 1: 4, 2: 2}\n",
      "🔹 驗證集：{3: 3, 0: 4, 2: 1, 1: 1}\n",
      "👤 驗證集 player_id：[39, 16, 2, 25, 24, 3, 13, 31, 10]\n"
     ]
    },
    {
     "name": "stderr",
     "output_type": "stream",
     "text": [
      "/home/barry/.conda/envs/test/lib/python3.10/site-packages/xgboost/training.py:183: UserWarning: [02:07:49] WARNING: /workspace/src/learner.cc:738: \n",
      "Parameters: { \"scale_pos_weight\" } are not used.\n",
      "\n",
      "  bst.update(dtrain, iteration=i, fobj=obj)\n"
     ]
    },
    {
     "name": "stdout",
     "output_type": "stream",
     "text": [
      "  ➤ Fold 4 ROC AUC: 0.7739\n",
      "\n",
      "📊 每個類別在訓練與驗證集的 player 數：\n",
      "🔹 訓練集：{1: 4, 0: 14, 3: 13, 2: 2}\n",
      "🔹 驗證集：{3: 3, 0: 4, 1: 1, 2: 1}\n",
      "👤 驗證集 player_id：[1, 18, 33, 39, 10, 3, 21, 23, 17]\n"
     ]
    },
    {
     "name": "stderr",
     "output_type": "stream",
     "text": [
      "/home/barry/.conda/envs/test/lib/python3.10/site-packages/xgboost/training.py:183: UserWarning: [02:08:12] WARNING: /workspace/src/learner.cc:738: \n",
      "Parameters: { \"scale_pos_weight\" } are not used.\n",
      "\n",
      "  bst.update(dtrain, iteration=i, fobj=obj)\n"
     ]
    },
    {
     "name": "stdout",
     "output_type": "stream",
     "text": [
      "  ➤ Fold 5 ROC AUC: 0.7875\n",
      "✅ 平均 ROC AUC: 0.7320\n",
      "\n",
      "🧪 測試第 18/30 組參數：{'n_estimators': 100, 'max_depth': 3, 'learning_rate': 0.1, 'subsample': 0.6, 'colsample_bytree': 1.0, 'gamma': 1, 'scale_pos_weight': 1}\n",
      "\n",
      "📊 每個類別在訓練與驗證集的 player 數：\n",
      "🔹 訓練集：{3: 13, 1: 4, 0: 14, 2: 2}\n",
      "🔹 驗證集：{0: 4, 3: 3, 1: 1, 2: 1}\n",
      "👤 驗證集 player_id：[27, 20, 1, 35, 5, 7, 19, 38, 23]\n"
     ]
    },
    {
     "name": "stderr",
     "output_type": "stream",
     "text": [
      "/home/barry/.conda/envs/test/lib/python3.10/site-packages/xgboost/training.py:183: UserWarning: [02:08:34] WARNING: /workspace/src/learner.cc:738: \n",
      "Parameters: { \"scale_pos_weight\" } are not used.\n",
      "\n",
      "  bst.update(dtrain, iteration=i, fobj=obj)\n"
     ]
    },
    {
     "name": "stdout",
     "output_type": "stream",
     "text": [
      "  ➤ Fold 1 ROC AUC: 0.6760\n",
      "\n",
      "📊 每個類別在訓練與驗證集的 player 數：\n",
      "🔹 訓練集：{1: 4, 0: 14, 3: 13, 2: 2}\n",
      "🔹 驗證集：{3: 3, 0: 4, 2: 1, 1: 1}\n",
      "👤 驗證集 player_id：[4, 28, 13, 14, 8, 17, 9, 34, 6]\n"
     ]
    },
    {
     "name": "stderr",
     "output_type": "stream",
     "text": [
      "/home/barry/.conda/envs/test/lib/python3.10/site-packages/xgboost/training.py:183: UserWarning: [02:08:57] WARNING: /workspace/src/learner.cc:738: \n",
      "Parameters: { \"scale_pos_weight\" } are not used.\n",
      "\n",
      "  bst.update(dtrain, iteration=i, fobj=obj)\n"
     ]
    },
    {
     "name": "stdout",
     "output_type": "stream",
     "text": [
      "  ➤ Fold 2 ROC AUC: 0.6708\n",
      "\n",
      "📊 每個類別在訓練與驗證集的 player 數：\n",
      "🔹 訓練集：{0: 14, 3: 13, 1: 4, 2: 2}\n",
      "🔹 驗證集：{3: 3, 0: 4, 1: 1, 2: 1}\n",
      "👤 驗證集 player_id：[11, 26, 7, 30, 35, 40, 16, 24, 9]\n"
     ]
    },
    {
     "name": "stderr",
     "output_type": "stream",
     "text": [
      "/home/barry/.conda/envs/test/lib/python3.10/site-packages/xgboost/training.py:183: UserWarning: [02:09:19] WARNING: /workspace/src/learner.cc:738: \n",
      "Parameters: { \"scale_pos_weight\" } are not used.\n",
      "\n",
      "  bst.update(dtrain, iteration=i, fobj=obj)\n"
     ]
    },
    {
     "name": "stdout",
     "output_type": "stream",
     "text": [
      "  ➤ Fold 3 ROC AUC: 0.7615\n",
      "\n",
      "📊 每個類別在訓練與驗證集的 player 數：\n",
      "🔹 訓練集：{3: 13, 0: 14, 1: 4, 2: 2}\n",
      "🔹 驗證集：{3: 3, 0: 4, 2: 1, 1: 1}\n",
      "👤 驗證集 player_id：[39, 16, 2, 25, 24, 3, 13, 31, 10]\n"
     ]
    },
    {
     "name": "stderr",
     "output_type": "stream",
     "text": [
      "/home/barry/.conda/envs/test/lib/python3.10/site-packages/xgboost/training.py:183: UserWarning: [02:09:39] WARNING: /workspace/src/learner.cc:738: \n",
      "Parameters: { \"scale_pos_weight\" } are not used.\n",
      "\n",
      "  bst.update(dtrain, iteration=i, fobj=obj)\n"
     ]
    },
    {
     "name": "stdout",
     "output_type": "stream",
     "text": [
      "  ➤ Fold 4 ROC AUC: 0.7750\n",
      "\n",
      "📊 每個類別在訓練與驗證集的 player 數：\n",
      "🔹 訓練集：{1: 4, 0: 14, 3: 13, 2: 2}\n",
      "🔹 驗證集：{3: 3, 0: 4, 1: 1, 2: 1}\n",
      "👤 驗證集 player_id：[1, 18, 33, 39, 10, 3, 21, 23, 17]\n"
     ]
    },
    {
     "name": "stderr",
     "output_type": "stream",
     "text": [
      "/home/barry/.conda/envs/test/lib/python3.10/site-packages/xgboost/training.py:183: UserWarning: [02:10:02] WARNING: /workspace/src/learner.cc:738: \n",
      "Parameters: { \"scale_pos_weight\" } are not used.\n",
      "\n",
      "  bst.update(dtrain, iteration=i, fobj=obj)\n"
     ]
    },
    {
     "name": "stdout",
     "output_type": "stream",
     "text": [
      "  ➤ Fold 5 ROC AUC: 0.7873\n",
      "✅ 平均 ROC AUC: 0.7341\n",
      "\n",
      "🧪 測試第 19/30 組參數：{'n_estimators': 100, 'max_depth': 5, 'learning_rate': 0.2, 'subsample': 0.6, 'colsample_bytree': 0.6, 'gamma': 5, 'scale_pos_weight': 1}\n",
      "\n",
      "📊 每個類別在訓練與驗證集的 player 數：\n",
      "🔹 訓練集：{3: 13, 1: 4, 0: 14, 2: 2}\n",
      "🔹 驗證集：{0: 4, 3: 3, 1: 1, 2: 1}\n",
      "👤 驗證集 player_id：[27, 20, 1, 35, 5, 7, 19, 38, 23]\n"
     ]
    },
    {
     "name": "stderr",
     "output_type": "stream",
     "text": [
      "/home/barry/.conda/envs/test/lib/python3.10/site-packages/xgboost/training.py:183: UserWarning: [02:10:24] WARNING: /workspace/src/learner.cc:738: \n",
      "Parameters: { \"scale_pos_weight\" } are not used.\n",
      "\n",
      "  bst.update(dtrain, iteration=i, fobj=obj)\n"
     ]
    },
    {
     "name": "stdout",
     "output_type": "stream",
     "text": [
      "  ➤ Fold 1 ROC AUC: 0.6710\n",
      "\n",
      "📊 每個類別在訓練與驗證集的 player 數：\n",
      "🔹 訓練集：{1: 4, 0: 14, 3: 13, 2: 2}\n",
      "🔹 驗證集：{3: 3, 0: 4, 2: 1, 1: 1}\n",
      "👤 驗證集 player_id：[4, 28, 13, 14, 8, 17, 9, 34, 6]\n"
     ]
    },
    {
     "name": "stderr",
     "output_type": "stream",
     "text": [
      "/home/barry/.conda/envs/test/lib/python3.10/site-packages/xgboost/training.py:183: UserWarning: [02:10:51] WARNING: /workspace/src/learner.cc:738: \n",
      "Parameters: { \"scale_pos_weight\" } are not used.\n",
      "\n",
      "  bst.update(dtrain, iteration=i, fobj=obj)\n"
     ]
    },
    {
     "name": "stdout",
     "output_type": "stream",
     "text": [
      "  ➤ Fold 2 ROC AUC: 0.6426\n",
      "\n",
      "📊 每個類別在訓練與驗證集的 player 數：\n",
      "🔹 訓練集：{0: 14, 3: 13, 1: 4, 2: 2}\n",
      "🔹 驗證集：{3: 3, 0: 4, 1: 1, 2: 1}\n",
      "👤 驗證集 player_id：[11, 26, 7, 30, 35, 40, 16, 24, 9]\n"
     ]
    },
    {
     "name": "stderr",
     "output_type": "stream",
     "text": [
      "/home/barry/.conda/envs/test/lib/python3.10/site-packages/xgboost/training.py:183: UserWarning: [02:11:15] WARNING: /workspace/src/learner.cc:738: \n",
      "Parameters: { \"scale_pos_weight\" } are not used.\n",
      "\n",
      "  bst.update(dtrain, iteration=i, fobj=obj)\n"
     ]
    },
    {
     "name": "stdout",
     "output_type": "stream",
     "text": [
      "  ➤ Fold 3 ROC AUC: 0.7563\n",
      "\n",
      "📊 每個類別在訓練與驗證集的 player 數：\n",
      "🔹 訓練集：{3: 13, 0: 14, 1: 4, 2: 2}\n",
      "🔹 驗證集：{3: 3, 0: 4, 2: 1, 1: 1}\n",
      "👤 驗證集 player_id：[39, 16, 2, 25, 24, 3, 13, 31, 10]\n"
     ]
    },
    {
     "name": "stderr",
     "output_type": "stream",
     "text": [
      "/home/barry/.conda/envs/test/lib/python3.10/site-packages/xgboost/training.py:183: UserWarning: [02:11:38] WARNING: /workspace/src/learner.cc:738: \n",
      "Parameters: { \"scale_pos_weight\" } are not used.\n",
      "\n",
      "  bst.update(dtrain, iteration=i, fobj=obj)\n"
     ]
    },
    {
     "name": "stdout",
     "output_type": "stream",
     "text": [
      "  ➤ Fold 4 ROC AUC: 0.7817\n",
      "\n",
      "📊 每個類別在訓練與驗證集的 player 數：\n",
      "🔹 訓練集：{1: 4, 0: 14, 3: 13, 2: 2}\n",
      "🔹 驗證集：{3: 3, 0: 4, 1: 1, 2: 1}\n",
      "👤 驗證集 player_id：[1, 18, 33, 39, 10, 3, 21, 23, 17]\n"
     ]
    },
    {
     "name": "stderr",
     "output_type": "stream",
     "text": [
      "/home/barry/.conda/envs/test/lib/python3.10/site-packages/xgboost/training.py:183: UserWarning: [02:12:02] WARNING: /workspace/src/learner.cc:738: \n",
      "Parameters: { \"scale_pos_weight\" } are not used.\n",
      "\n",
      "  bst.update(dtrain, iteration=i, fobj=obj)\n"
     ]
    },
    {
     "name": "stdout",
     "output_type": "stream",
     "text": [
      "  ➤ Fold 5 ROC AUC: 0.7876\n",
      "✅ 平均 ROC AUC: 0.7279\n",
      "\n",
      "🧪 測試第 20/30 組參數：{'n_estimators': 200, 'max_depth': 3, 'learning_rate': 0.01, 'subsample': 0.8, 'colsample_bytree': 1.0, 'gamma': 0, 'scale_pos_weight': 1}\n",
      "\n",
      "📊 每個類別在訓練與驗證集的 player 數：\n",
      "🔹 訓練集：{3: 13, 1: 4, 0: 14, 2: 2}\n",
      "🔹 驗證集：{0: 4, 3: 3, 1: 1, 2: 1}\n",
      "👤 驗證集 player_id：[27, 20, 1, 35, 5, 7, 19, 38, 23]\n"
     ]
    },
    {
     "name": "stderr",
     "output_type": "stream",
     "text": [
      "/home/barry/.conda/envs/test/lib/python3.10/site-packages/xgboost/training.py:183: UserWarning: [02:12:28] WARNING: /workspace/src/learner.cc:738: \n",
      "Parameters: { \"scale_pos_weight\" } are not used.\n",
      "\n",
      "  bst.update(dtrain, iteration=i, fobj=obj)\n"
     ]
    },
    {
     "name": "stdout",
     "output_type": "stream",
     "text": [
      "  ➤ Fold 1 ROC AUC: 0.6612\n",
      "\n",
      "📊 每個類別在訓練與驗證集的 player 數：\n",
      "🔹 訓練集：{1: 4, 0: 14, 3: 13, 2: 2}\n",
      "🔹 驗證集：{3: 3, 0: 4, 2: 1, 1: 1}\n",
      "👤 驗證集 player_id：[4, 28, 13, 14, 8, 17, 9, 34, 6]\n"
     ]
    },
    {
     "name": "stderr",
     "output_type": "stream",
     "text": [
      "/home/barry/.conda/envs/test/lib/python3.10/site-packages/xgboost/training.py:183: UserWarning: [02:13:15] WARNING: /workspace/src/learner.cc:738: \n",
      "Parameters: { \"scale_pos_weight\" } are not used.\n",
      "\n",
      "  bst.update(dtrain, iteration=i, fobj=obj)\n"
     ]
    },
    {
     "name": "stdout",
     "output_type": "stream",
     "text": [
      "  ➤ Fold 2 ROC AUC: 0.5814\n",
      "\n",
      "📊 每個類別在訓練與驗證集的 player 數：\n",
      "🔹 訓練集：{0: 14, 3: 13, 1: 4, 2: 2}\n",
      "🔹 驗證集：{3: 3, 0: 4, 1: 1, 2: 1}\n",
      "👤 驗證集 player_id：[11, 26, 7, 30, 35, 40, 16, 24, 9]\n"
     ]
    },
    {
     "name": "stderr",
     "output_type": "stream",
     "text": [
      "/home/barry/.conda/envs/test/lib/python3.10/site-packages/xgboost/training.py:183: UserWarning: [02:13:59] WARNING: /workspace/src/learner.cc:738: \n",
      "Parameters: { \"scale_pos_weight\" } are not used.\n",
      "\n",
      "  bst.update(dtrain, iteration=i, fobj=obj)\n"
     ]
    },
    {
     "name": "stdout",
     "output_type": "stream",
     "text": [
      "  ➤ Fold 3 ROC AUC: 0.7438\n",
      "\n",
      "📊 每個類別在訓練與驗證集的 player 數：\n",
      "🔹 訓練集：{3: 13, 0: 14, 1: 4, 2: 2}\n",
      "🔹 驗證集：{3: 3, 0: 4, 2: 1, 1: 1}\n",
      "👤 驗證集 player_id：[39, 16, 2, 25, 24, 3, 13, 31, 10]\n"
     ]
    },
    {
     "name": "stderr",
     "output_type": "stream",
     "text": [
      "/home/barry/.conda/envs/test/lib/python3.10/site-packages/xgboost/training.py:183: UserWarning: [02:14:39] WARNING: /workspace/src/learner.cc:738: \n",
      "Parameters: { \"scale_pos_weight\" } are not used.\n",
      "\n",
      "  bst.update(dtrain, iteration=i, fobj=obj)\n"
     ]
    },
    {
     "name": "stdout",
     "output_type": "stream",
     "text": [
      "  ➤ Fold 4 ROC AUC: 0.7305\n",
      "\n",
      "📊 每個類別在訓練與驗證集的 player 數：\n",
      "🔹 訓練集：{1: 4, 0: 14, 3: 13, 2: 2}\n",
      "🔹 驗證集：{3: 3, 0: 4, 1: 1, 2: 1}\n",
      "👤 驗證集 player_id：[1, 18, 33, 39, 10, 3, 21, 23, 17]\n"
     ]
    },
    {
     "name": "stderr",
     "output_type": "stream",
     "text": [
      "/home/barry/.conda/envs/test/lib/python3.10/site-packages/xgboost/training.py:183: UserWarning: [02:15:23] WARNING: /workspace/src/learner.cc:738: \n",
      "Parameters: { \"scale_pos_weight\" } are not used.\n",
      "\n",
      "  bst.update(dtrain, iteration=i, fobj=obj)\n"
     ]
    },
    {
     "name": "stdout",
     "output_type": "stream",
     "text": [
      "  ➤ Fold 5 ROC AUC: 0.7736\n",
      "✅ 平均 ROC AUC: 0.6981\n",
      "\n",
      "🧪 測試第 21/30 組參數：{'n_estimators': 200, 'max_depth': 3, 'learning_rate': 0.05, 'subsample': 0.8, 'colsample_bytree': 1.0, 'gamma': 5, 'scale_pos_weight': 1}\n",
      "\n",
      "📊 每個類別在訓練與驗證集的 player 數：\n",
      "🔹 訓練集：{3: 13, 1: 4, 0: 14, 2: 2}\n",
      "🔹 驗證集：{0: 4, 3: 3, 1: 1, 2: 1}\n",
      "👤 驗證集 player_id：[27, 20, 1, 35, 5, 7, 19, 38, 23]\n"
     ]
    },
    {
     "name": "stderr",
     "output_type": "stream",
     "text": [
      "/home/barry/.conda/envs/test/lib/python3.10/site-packages/xgboost/training.py:183: UserWarning: [02:16:05] WARNING: /workspace/src/learner.cc:738: \n",
      "Parameters: { \"scale_pos_weight\" } are not used.\n",
      "\n",
      "  bst.update(dtrain, iteration=i, fobj=obj)\n"
     ]
    },
    {
     "name": "stdout",
     "output_type": "stream",
     "text": [
      "  ➤ Fold 1 ROC AUC: 0.6821\n",
      "\n",
      "📊 每個類別在訓練與驗證集的 player 數：\n",
      "🔹 訓練集：{1: 4, 0: 14, 3: 13, 2: 2}\n",
      "🔹 驗證集：{3: 3, 0: 4, 2: 1, 1: 1}\n",
      "👤 驗證集 player_id：[4, 28, 13, 14, 8, 17, 9, 34, 6]\n"
     ]
    },
    {
     "name": "stderr",
     "output_type": "stream",
     "text": [
      "/home/barry/.conda/envs/test/lib/python3.10/site-packages/xgboost/training.py:183: UserWarning: [02:16:51] WARNING: /workspace/src/learner.cc:738: \n",
      "Parameters: { \"scale_pos_weight\" } are not used.\n",
      "\n",
      "  bst.update(dtrain, iteration=i, fobj=obj)\n"
     ]
    },
    {
     "name": "stdout",
     "output_type": "stream",
     "text": [
      "  ➤ Fold 2 ROC AUC: 0.6748\n",
      "\n",
      "📊 每個類別在訓練與驗證集的 player 數：\n",
      "🔹 訓練集：{0: 14, 3: 13, 1: 4, 2: 2}\n",
      "🔹 驗證集：{3: 3, 0: 4, 1: 1, 2: 1}\n",
      "👤 驗證集 player_id：[11, 26, 7, 30, 35, 40, 16, 24, 9]\n"
     ]
    },
    {
     "name": "stderr",
     "output_type": "stream",
     "text": [
      "/home/barry/.conda/envs/test/lib/python3.10/site-packages/xgboost/training.py:183: UserWarning: [02:17:35] WARNING: /workspace/src/learner.cc:738: \n",
      "Parameters: { \"scale_pos_weight\" } are not used.\n",
      "\n",
      "  bst.update(dtrain, iteration=i, fobj=obj)\n"
     ]
    },
    {
     "name": "stdout",
     "output_type": "stream",
     "text": [
      "  ➤ Fold 3 ROC AUC: 0.7566\n",
      "\n",
      "📊 每個類別在訓練與驗證集的 player 數：\n",
      "🔹 訓練集：{3: 13, 0: 14, 1: 4, 2: 2}\n",
      "🔹 驗證集：{3: 3, 0: 4, 2: 1, 1: 1}\n",
      "👤 驗證集 player_id：[39, 16, 2, 25, 24, 3, 13, 31, 10]\n"
     ]
    },
    {
     "name": "stderr",
     "output_type": "stream",
     "text": [
      "/home/barry/.conda/envs/test/lib/python3.10/site-packages/xgboost/training.py:183: UserWarning: [02:18:16] WARNING: /workspace/src/learner.cc:738: \n",
      "Parameters: { \"scale_pos_weight\" } are not used.\n",
      "\n",
      "  bst.update(dtrain, iteration=i, fobj=obj)\n"
     ]
    },
    {
     "name": "stdout",
     "output_type": "stream",
     "text": [
      "  ➤ Fold 4 ROC AUC: 0.7823\n",
      "\n",
      "📊 每個類別在訓練與驗證集的 player 數：\n",
      "🔹 訓練集：{1: 4, 0: 14, 3: 13, 2: 2}\n",
      "🔹 驗證集：{3: 3, 0: 4, 1: 1, 2: 1}\n",
      "👤 驗證集 player_id：[1, 18, 33, 39, 10, 3, 21, 23, 17]\n"
     ]
    },
    {
     "name": "stderr",
     "output_type": "stream",
     "text": [
      "/home/barry/.conda/envs/test/lib/python3.10/site-packages/xgboost/training.py:183: UserWarning: [02:19:01] WARNING: /workspace/src/learner.cc:738: \n",
      "Parameters: { \"scale_pos_weight\" } are not used.\n",
      "\n",
      "  bst.update(dtrain, iteration=i, fobj=obj)\n"
     ]
    },
    {
     "name": "stdout",
     "output_type": "stream",
     "text": [
      "  ➤ Fold 5 ROC AUC: 0.7901\n",
      "✅ 平均 ROC AUC: 0.7371\n",
      "\n",
      "🧪 測試第 22/30 組參數：{'n_estimators': 300, 'max_depth': 5, 'learning_rate': 0.1, 'subsample': 0.6, 'colsample_bytree': 1.0, 'gamma': 5, 'scale_pos_weight': 1}\n",
      "\n",
      "📊 每個類別在訓練與驗證集的 player 數：\n",
      "🔹 訓練集：{3: 13, 1: 4, 0: 14, 2: 2}\n",
      "🔹 驗證集：{0: 4, 3: 3, 1: 1, 2: 1}\n",
      "👤 驗證集 player_id：[27, 20, 1, 35, 5, 7, 19, 38, 23]\n"
     ]
    },
    {
     "name": "stderr",
     "output_type": "stream",
     "text": [
      "/home/barry/.conda/envs/test/lib/python3.10/site-packages/xgboost/training.py:183: UserWarning: [02:19:43] WARNING: /workspace/src/learner.cc:738: \n",
      "Parameters: { \"scale_pos_weight\" } are not used.\n",
      "\n",
      "  bst.update(dtrain, iteration=i, fobj=obj)\n"
     ]
    },
    {
     "name": "stdout",
     "output_type": "stream",
     "text": [
      "  ➤ Fold 1 ROC AUC: 0.6524\n",
      "\n",
      "📊 每個類別在訓練與驗證集的 player 數：\n",
      "🔹 訓練集：{1: 4, 0: 14, 3: 13, 2: 2}\n",
      "🔹 驗證集：{3: 3, 0: 4, 2: 1, 1: 1}\n",
      "👤 驗證集 player_id：[4, 28, 13, 14, 8, 17, 9, 34, 6]\n"
     ]
    },
    {
     "name": "stderr",
     "output_type": "stream",
     "text": [
      "/home/barry/.conda/envs/test/lib/python3.10/site-packages/xgboost/training.py:183: UserWarning: [02:20:47] WARNING: /workspace/src/learner.cc:738: \n",
      "Parameters: { \"scale_pos_weight\" } are not used.\n",
      "\n",
      "  bst.update(dtrain, iteration=i, fobj=obj)\n"
     ]
    },
    {
     "name": "stdout",
     "output_type": "stream",
     "text": [
      "  ➤ Fold 2 ROC AUC: 0.6379\n",
      "\n",
      "📊 每個類別在訓練與驗證集的 player 數：\n",
      "🔹 訓練集：{0: 14, 3: 13, 1: 4, 2: 2}\n",
      "🔹 驗證集：{3: 3, 0: 4, 1: 1, 2: 1}\n",
      "👤 驗證集 player_id：[11, 26, 7, 30, 35, 40, 16, 24, 9]\n"
     ]
    },
    {
     "name": "stderr",
     "output_type": "stream",
     "text": [
      "/home/barry/.conda/envs/test/lib/python3.10/site-packages/xgboost/training.py:183: UserWarning: [02:21:43] WARNING: /workspace/src/learner.cc:738: \n",
      "Parameters: { \"scale_pos_weight\" } are not used.\n",
      "\n",
      "  bst.update(dtrain, iteration=i, fobj=obj)\n"
     ]
    },
    {
     "name": "stdout",
     "output_type": "stream",
     "text": [
      "  ➤ Fold 3 ROC AUC: 0.7558\n",
      "\n",
      "📊 每個類別在訓練與驗證集的 player 數：\n",
      "🔹 訓練集：{3: 13, 0: 14, 1: 4, 2: 2}\n",
      "🔹 驗證集：{3: 3, 0: 4, 2: 1, 1: 1}\n",
      "👤 驗證集 player_id：[39, 16, 2, 25, 24, 3, 13, 31, 10]\n"
     ]
    },
    {
     "name": "stderr",
     "output_type": "stream",
     "text": [
      "/home/barry/.conda/envs/test/lib/python3.10/site-packages/xgboost/training.py:183: UserWarning: [02:22:39] WARNING: /workspace/src/learner.cc:738: \n",
      "Parameters: { \"scale_pos_weight\" } are not used.\n",
      "\n",
      "  bst.update(dtrain, iteration=i, fobj=obj)\n"
     ]
    },
    {
     "name": "stdout",
     "output_type": "stream",
     "text": [
      "  ➤ Fold 4 ROC AUC: 0.7793\n",
      "\n",
      "📊 每個類別在訓練與驗證集的 player 數：\n",
      "🔹 訓練集：{1: 4, 0: 14, 3: 13, 2: 2}\n",
      "🔹 驗證集：{3: 3, 0: 4, 1: 1, 2: 1}\n",
      "👤 驗證集 player_id：[1, 18, 33, 39, 10, 3, 21, 23, 17]\n"
     ]
    },
    {
     "name": "stderr",
     "output_type": "stream",
     "text": [
      "/home/barry/.conda/envs/test/lib/python3.10/site-packages/xgboost/training.py:183: UserWarning: [02:23:35] WARNING: /workspace/src/learner.cc:738: \n",
      "Parameters: { \"scale_pos_weight\" } are not used.\n",
      "\n",
      "  bst.update(dtrain, iteration=i, fobj=obj)\n"
     ]
    },
    {
     "name": "stdout",
     "output_type": "stream",
     "text": [
      "  ➤ Fold 5 ROC AUC: 0.7884\n",
      "✅ 平均 ROC AUC: 0.7228\n",
      "\n",
      "🧪 測試第 23/30 組參數：{'n_estimators': 300, 'max_depth': 9, 'learning_rate': 0.05, 'subsample': 0.8, 'colsample_bytree': 1.0, 'gamma': 5, 'scale_pos_weight': 1}\n",
      "\n",
      "📊 每個類別在訓練與驗證集的 player 數：\n",
      "🔹 訓練集：{3: 13, 1: 4, 0: 14, 2: 2}\n",
      "🔹 驗證集：{0: 4, 3: 3, 1: 1, 2: 1}\n",
      "👤 驗證集 player_id：[27, 20, 1, 35, 5, 7, 19, 38, 23]\n"
     ]
    },
    {
     "name": "stderr",
     "output_type": "stream",
     "text": [
      "/home/barry/.conda/envs/test/lib/python3.10/site-packages/xgboost/training.py:183: UserWarning: [02:24:37] WARNING: /workspace/src/learner.cc:738: \n",
      "Parameters: { \"scale_pos_weight\" } are not used.\n",
      "\n",
      "  bst.update(dtrain, iteration=i, fobj=obj)\n"
     ]
    },
    {
     "name": "stdout",
     "output_type": "stream",
     "text": [
      "  ➤ Fold 1 ROC AUC: 0.6392\n",
      "\n",
      "📊 每個類別在訓練與驗證集的 player 數：\n",
      "🔹 訓練集：{1: 4, 0: 14, 3: 13, 2: 2}\n",
      "🔹 驗證集：{3: 3, 0: 4, 2: 1, 1: 1}\n",
      "👤 驗證集 player_id：[4, 28, 13, 14, 8, 17, 9, 34, 6]\n"
     ]
    },
    {
     "name": "stderr",
     "output_type": "stream",
     "text": [
      "/home/barry/.conda/envs/test/lib/python3.10/site-packages/xgboost/training.py:183: UserWarning: [02:26:31] WARNING: /workspace/src/learner.cc:738: \n",
      "Parameters: { \"scale_pos_weight\" } are not used.\n",
      "\n",
      "  bst.update(dtrain, iteration=i, fobj=obj)\n"
     ]
    },
    {
     "name": "stdout",
     "output_type": "stream",
     "text": [
      "  ➤ Fold 2 ROC AUC: 0.6098\n",
      "\n",
      "📊 每個類別在訓練與驗證集的 player 數：\n",
      "🔹 訓練集：{0: 14, 3: 13, 1: 4, 2: 2}\n",
      "🔹 驗證集：{3: 3, 0: 4, 1: 1, 2: 1}\n",
      "👤 驗證集 player_id：[11, 26, 7, 30, 35, 40, 16, 24, 9]\n"
     ]
    },
    {
     "name": "stderr",
     "output_type": "stream",
     "text": [
      "/home/barry/.conda/envs/test/lib/python3.10/site-packages/xgboost/training.py:183: UserWarning: [02:28:10] WARNING: /workspace/src/learner.cc:738: \n",
      "Parameters: { \"scale_pos_weight\" } are not used.\n",
      "\n",
      "  bst.update(dtrain, iteration=i, fobj=obj)\n"
     ]
    },
    {
     "name": "stdout",
     "output_type": "stream",
     "text": [
      "  ➤ Fold 3 ROC AUC: 0.7448\n",
      "\n",
      "📊 每個類別在訓練與驗證集的 player 數：\n",
      "🔹 訓練集：{3: 13, 0: 14, 1: 4, 2: 2}\n",
      "🔹 驗證集：{3: 3, 0: 4, 2: 1, 1: 1}\n",
      "👤 驗證集 player_id：[39, 16, 2, 25, 24, 3, 13, 31, 10]\n"
     ]
    },
    {
     "name": "stderr",
     "output_type": "stream",
     "text": [
      "/home/barry/.conda/envs/test/lib/python3.10/site-packages/xgboost/training.py:183: UserWarning: [02:29:51] WARNING: /workspace/src/learner.cc:738: \n",
      "Parameters: { \"scale_pos_weight\" } are not used.\n",
      "\n",
      "  bst.update(dtrain, iteration=i, fobj=obj)\n"
     ]
    },
    {
     "name": "stdout",
     "output_type": "stream",
     "text": [
      "  ➤ Fold 4 ROC AUC: 0.7799\n",
      "\n",
      "📊 每個類別在訓練與驗證集的 player 數：\n",
      "🔹 訓練集：{1: 4, 0: 14, 3: 13, 2: 2}\n",
      "🔹 驗證集：{3: 3, 0: 4, 1: 1, 2: 1}\n",
      "👤 驗證集 player_id：[1, 18, 33, 39, 10, 3, 21, 23, 17]\n"
     ]
    },
    {
     "name": "stderr",
     "output_type": "stream",
     "text": [
      "/home/barry/.conda/envs/test/lib/python3.10/site-packages/xgboost/training.py:183: UserWarning: [02:31:36] WARNING: /workspace/src/learner.cc:738: \n",
      "Parameters: { \"scale_pos_weight\" } are not used.\n",
      "\n",
      "  bst.update(dtrain, iteration=i, fobj=obj)\n"
     ]
    },
    {
     "name": "stdout",
     "output_type": "stream",
     "text": [
      "  ➤ Fold 5 ROC AUC: 0.7937\n",
      "✅ 平均 ROC AUC: 0.7135\n",
      "\n",
      "🧪 測試第 24/30 組參數：{'n_estimators': 100, 'max_depth': 3, 'learning_rate': 0.1, 'subsample': 0.6, 'colsample_bytree': 0.6, 'gamma': 0, 'scale_pos_weight': 1}\n",
      "\n",
      "📊 每個類別在訓練與驗證集的 player 數：\n",
      "🔹 訓練集：{3: 13, 1: 4, 0: 14, 2: 2}\n",
      "🔹 驗證集：{0: 4, 3: 3, 1: 1, 2: 1}\n",
      "👤 驗證集 player_id：[27, 20, 1, 35, 5, 7, 19, 38, 23]\n"
     ]
    },
    {
     "name": "stderr",
     "output_type": "stream",
     "text": [
      "/home/barry/.conda/envs/test/lib/python3.10/site-packages/xgboost/training.py:183: UserWarning: [02:33:26] WARNING: /workspace/src/learner.cc:738: \n",
      "Parameters: { \"scale_pos_weight\" } are not used.\n",
      "\n",
      "  bst.update(dtrain, iteration=i, fobj=obj)\n"
     ]
    },
    {
     "name": "stdout",
     "output_type": "stream",
     "text": [
      "  ➤ Fold 1 ROC AUC: 0.6747\n",
      "\n",
      "📊 每個類別在訓練與驗證集的 player 數：\n",
      "🔹 訓練集：{1: 4, 0: 14, 3: 13, 2: 2}\n",
      "🔹 驗證集：{3: 3, 0: 4, 2: 1, 1: 1}\n",
      "👤 驗證集 player_id：[4, 28, 13, 14, 8, 17, 9, 34, 6]\n"
     ]
    },
    {
     "name": "stderr",
     "output_type": "stream",
     "text": [
      "/home/barry/.conda/envs/test/lib/python3.10/site-packages/xgboost/training.py:183: UserWarning: [02:33:49] WARNING: /workspace/src/learner.cc:738: \n",
      "Parameters: { \"scale_pos_weight\" } are not used.\n",
      "\n",
      "  bst.update(dtrain, iteration=i, fobj=obj)\n"
     ]
    },
    {
     "name": "stdout",
     "output_type": "stream",
     "text": [
      "  ➤ Fold 2 ROC AUC: 0.6640\n",
      "\n",
      "📊 每個類別在訓練與驗證集的 player 數：\n",
      "🔹 訓練集：{0: 14, 3: 13, 1: 4, 2: 2}\n",
      "🔹 驗證集：{3: 3, 0: 4, 1: 1, 2: 1}\n",
      "👤 驗證集 player_id：[11, 26, 7, 30, 35, 40, 16, 24, 9]\n"
     ]
    },
    {
     "name": "stderr",
     "output_type": "stream",
     "text": [
      "/home/barry/.conda/envs/test/lib/python3.10/site-packages/xgboost/training.py:183: UserWarning: [02:34:12] WARNING: /workspace/src/learner.cc:738: \n",
      "Parameters: { \"scale_pos_weight\" } are not used.\n",
      "\n",
      "  bst.update(dtrain, iteration=i, fobj=obj)\n"
     ]
    },
    {
     "name": "stdout",
     "output_type": "stream",
     "text": [
      "  ➤ Fold 3 ROC AUC: 0.7645\n",
      "\n",
      "📊 每個類別在訓練與驗證集的 player 數：\n",
      "🔹 訓練集：{3: 13, 0: 14, 1: 4, 2: 2}\n",
      "🔹 驗證集：{3: 3, 0: 4, 2: 1, 1: 1}\n",
      "👤 驗證集 player_id：[39, 16, 2, 25, 24, 3, 13, 31, 10]\n"
     ]
    },
    {
     "name": "stderr",
     "output_type": "stream",
     "text": [
      "/home/barry/.conda/envs/test/lib/python3.10/site-packages/xgboost/training.py:183: UserWarning: [02:34:33] WARNING: /workspace/src/learner.cc:738: \n",
      "Parameters: { \"scale_pos_weight\" } are not used.\n",
      "\n",
      "  bst.update(dtrain, iteration=i, fobj=obj)\n"
     ]
    },
    {
     "name": "stdout",
     "output_type": "stream",
     "text": [
      "  ➤ Fold 4 ROC AUC: 0.7803\n",
      "\n",
      "📊 每個類別在訓練與驗證集的 player 數：\n",
      "🔹 訓練集：{1: 4, 0: 14, 3: 13, 2: 2}\n",
      "🔹 驗證集：{3: 3, 0: 4, 1: 1, 2: 1}\n",
      "👤 驗證集 player_id：[1, 18, 33, 39, 10, 3, 21, 23, 17]\n"
     ]
    },
    {
     "name": "stderr",
     "output_type": "stream",
     "text": [
      "/home/barry/.conda/envs/test/lib/python3.10/site-packages/xgboost/training.py:183: UserWarning: [02:34:55] WARNING: /workspace/src/learner.cc:738: \n",
      "Parameters: { \"scale_pos_weight\" } are not used.\n",
      "\n",
      "  bst.update(dtrain, iteration=i, fobj=obj)\n"
     ]
    },
    {
     "name": "stdout",
     "output_type": "stream",
     "text": [
      "  ➤ Fold 5 ROC AUC: 0.7840\n",
      "✅ 平均 ROC AUC: 0.7335\n",
      "\n",
      "🧪 測試第 25/30 組參數：{'n_estimators': 300, 'max_depth': 7, 'learning_rate': 0.1, 'subsample': 0.8, 'colsample_bytree': 1.0, 'gamma': 0, 'scale_pos_weight': 1}\n",
      "\n",
      "📊 每個類別在訓練與驗證集的 player 數：\n",
      "🔹 訓練集：{3: 13, 1: 4, 0: 14, 2: 2}\n",
      "🔹 驗證集：{0: 4, 3: 3, 1: 1, 2: 1}\n",
      "👤 驗證集 player_id：[27, 20, 1, 35, 5, 7, 19, 38, 23]\n"
     ]
    },
    {
     "name": "stderr",
     "output_type": "stream",
     "text": [
      "/home/barry/.conda/envs/test/lib/python3.10/site-packages/xgboost/training.py:183: UserWarning: [02:35:20] WARNING: /workspace/src/learner.cc:738: \n",
      "Parameters: { \"scale_pos_weight\" } are not used.\n",
      "\n",
      "  bst.update(dtrain, iteration=i, fobj=obj)\n"
     ]
    },
    {
     "name": "stdout",
     "output_type": "stream",
     "text": [
      "  ➤ Fold 1 ROC AUC: 0.6373\n",
      "\n",
      "📊 每個類別在訓練與驗證集的 player 數：\n",
      "🔹 訓練集：{1: 4, 0: 14, 3: 13, 2: 2}\n",
      "🔹 驗證集：{3: 3, 0: 4, 2: 1, 1: 1}\n",
      "👤 驗證集 player_id：[4, 28, 13, 14, 8, 17, 9, 34, 6]\n"
     ]
    },
    {
     "name": "stderr",
     "output_type": "stream",
     "text": [
      "/home/barry/.conda/envs/test/lib/python3.10/site-packages/xgboost/training.py:183: UserWarning: [02:38:37] WARNING: /workspace/src/learner.cc:738: \n",
      "Parameters: { \"scale_pos_weight\" } are not used.\n",
      "\n",
      "  bst.update(dtrain, iteration=i, fobj=obj)\n"
     ]
    },
    {
     "name": "stdout",
     "output_type": "stream",
     "text": [
      "  ➤ Fold 2 ROC AUC: 0.6598\n",
      "\n",
      "📊 每個類別在訓練與驗證集的 player 數：\n",
      "🔹 訓練集：{0: 14, 3: 13, 1: 4, 2: 2}\n",
      "🔹 驗證集：{3: 3, 0: 4, 1: 1, 2: 1}\n",
      "👤 驗證集 player_id：[11, 26, 7, 30, 35, 40, 16, 24, 9]\n"
     ]
    },
    {
     "name": "stderr",
     "output_type": "stream",
     "text": [
      "/home/barry/.conda/envs/test/lib/python3.10/site-packages/xgboost/training.py:183: UserWarning: [02:41:52] WARNING: /workspace/src/learner.cc:738: \n",
      "Parameters: { \"scale_pos_weight\" } are not used.\n",
      "\n",
      "  bst.update(dtrain, iteration=i, fobj=obj)\n"
     ]
    },
    {
     "name": "stdout",
     "output_type": "stream",
     "text": [
      "  ➤ Fold 3 ROC AUC: 0.7539\n",
      "\n",
      "📊 每個類別在訓練與驗證集的 player 數：\n",
      "🔹 訓練集：{3: 13, 0: 14, 1: 4, 2: 2}\n",
      "🔹 驗證集：{3: 3, 0: 4, 2: 1, 1: 1}\n",
      "👤 驗證集 player_id：[39, 16, 2, 25, 24, 3, 13, 31, 10]\n"
     ]
    },
    {
     "name": "stderr",
     "output_type": "stream",
     "text": [
      "/home/barry/.conda/envs/test/lib/python3.10/site-packages/xgboost/training.py:183: UserWarning: [02:45:16] WARNING: /workspace/src/learner.cc:738: \n",
      "Parameters: { \"scale_pos_weight\" } are not used.\n",
      "\n",
      "  bst.update(dtrain, iteration=i, fobj=obj)\n"
     ]
    },
    {
     "name": "stdout",
     "output_type": "stream",
     "text": [
      "  ➤ Fold 4 ROC AUC: 0.7871\n",
      "\n",
      "📊 每個類別在訓練與驗證集的 player 數：\n",
      "🔹 訓練集：{1: 4, 0: 14, 3: 13, 2: 2}\n",
      "🔹 驗證集：{3: 3, 0: 4, 1: 1, 2: 1}\n",
      "👤 驗證集 player_id：[1, 18, 33, 39, 10, 3, 21, 23, 17]\n"
     ]
    },
    {
     "name": "stderr",
     "output_type": "stream",
     "text": [
      "/home/barry/.conda/envs/test/lib/python3.10/site-packages/xgboost/training.py:183: UserWarning: [02:48:20] WARNING: /workspace/src/learner.cc:738: \n",
      "Parameters: { \"scale_pos_weight\" } are not used.\n",
      "\n",
      "  bst.update(dtrain, iteration=i, fobj=obj)\n"
     ]
    },
    {
     "name": "stdout",
     "output_type": "stream",
     "text": [
      "  ➤ Fold 5 ROC AUC: 0.7914\n",
      "✅ 平均 ROC AUC: 0.7259\n",
      "\n",
      "🧪 測試第 26/30 組參數：{'n_estimators': 100, 'max_depth': 9, 'learning_rate': 0.2, 'subsample': 0.6, 'colsample_bytree': 0.6, 'gamma': 5, 'scale_pos_weight': 1}\n",
      "\n",
      "📊 每個類別在訓練與驗證集的 player 數：\n",
      "🔹 訓練集：{3: 13, 1: 4, 0: 14, 2: 2}\n",
      "🔹 驗證集：{0: 4, 3: 3, 1: 1, 2: 1}\n",
      "👤 驗證集 player_id：[27, 20, 1, 35, 5, 7, 19, 38, 23]\n"
     ]
    },
    {
     "name": "stderr",
     "output_type": "stream",
     "text": [
      "/home/barry/.conda/envs/test/lib/python3.10/site-packages/xgboost/training.py:183: UserWarning: [02:51:24] WARNING: /workspace/src/learner.cc:738: \n",
      "Parameters: { \"scale_pos_weight\" } are not used.\n",
      "\n",
      "  bst.update(dtrain, iteration=i, fobj=obj)\n"
     ]
    },
    {
     "name": "stdout",
     "output_type": "stream",
     "text": [
      "  ➤ Fold 1 ROC AUC: 0.6489\n",
      "\n",
      "📊 每個類別在訓練與驗證集的 player 數：\n",
      "🔹 訓練集：{1: 4, 0: 14, 3: 13, 2: 2}\n",
      "🔹 驗證集：{3: 3, 0: 4, 2: 1, 1: 1}\n",
      "👤 驗證集 player_id：[4, 28, 13, 14, 8, 17, 9, 34, 6]\n"
     ]
    },
    {
     "name": "stderr",
     "output_type": "stream",
     "text": [
      "/home/barry/.conda/envs/test/lib/python3.10/site-packages/xgboost/training.py:183: UserWarning: [02:51:56] WARNING: /workspace/src/learner.cc:738: \n",
      "Parameters: { \"scale_pos_weight\" } are not used.\n",
      "\n",
      "  bst.update(dtrain, iteration=i, fobj=obj)\n"
     ]
    },
    {
     "name": "stdout",
     "output_type": "stream",
     "text": [
      "  ➤ Fold 2 ROC AUC: 0.6159\n",
      "\n",
      "📊 每個類別在訓練與驗證集的 player 數：\n",
      "🔹 訓練集：{0: 14, 3: 13, 1: 4, 2: 2}\n",
      "🔹 驗證集：{3: 3, 0: 4, 1: 1, 2: 1}\n",
      "👤 驗證集 player_id：[11, 26, 7, 30, 35, 40, 16, 24, 9]\n"
     ]
    },
    {
     "name": "stderr",
     "output_type": "stream",
     "text": [
      "/home/barry/.conda/envs/test/lib/python3.10/site-packages/xgboost/training.py:183: UserWarning: [02:52:24] WARNING: /workspace/src/learner.cc:738: \n",
      "Parameters: { \"scale_pos_weight\" } are not used.\n",
      "\n",
      "  bst.update(dtrain, iteration=i, fobj=obj)\n"
     ]
    },
    {
     "name": "stdout",
     "output_type": "stream",
     "text": [
      "  ➤ Fold 3 ROC AUC: 0.7459\n",
      "\n",
      "📊 每個類別在訓練與驗證集的 player 數：\n",
      "🔹 訓練集：{3: 13, 0: 14, 1: 4, 2: 2}\n",
      "🔹 驗證集：{3: 3, 0: 4, 2: 1, 1: 1}\n",
      "👤 驗證集 player_id：[39, 16, 2, 25, 24, 3, 13, 31, 10]\n"
     ]
    },
    {
     "name": "stderr",
     "output_type": "stream",
     "text": [
      "/home/barry/.conda/envs/test/lib/python3.10/site-packages/xgboost/training.py:183: UserWarning: [02:52:53] WARNING: /workspace/src/learner.cc:738: \n",
      "Parameters: { \"scale_pos_weight\" } are not used.\n",
      "\n",
      "  bst.update(dtrain, iteration=i, fobj=obj)\n"
     ]
    },
    {
     "name": "stdout",
     "output_type": "stream",
     "text": [
      "  ➤ Fold 4 ROC AUC: 0.7800\n",
      "\n",
      "📊 每個類別在訓練與驗證集的 player 數：\n",
      "🔹 訓練集：{1: 4, 0: 14, 3: 13, 2: 2}\n",
      "🔹 驗證集：{3: 3, 0: 4, 1: 1, 2: 1}\n",
      "👤 驗證集 player_id：[1, 18, 33, 39, 10, 3, 21, 23, 17]\n"
     ]
    },
    {
     "name": "stderr",
     "output_type": "stream",
     "text": [
      "/home/barry/.conda/envs/test/lib/python3.10/site-packages/xgboost/training.py:183: UserWarning: [02:53:23] WARNING: /workspace/src/learner.cc:738: \n",
      "Parameters: { \"scale_pos_weight\" } are not used.\n",
      "\n",
      "  bst.update(dtrain, iteration=i, fobj=obj)\n"
     ]
    },
    {
     "name": "stdout",
     "output_type": "stream",
     "text": [
      "  ➤ Fold 5 ROC AUC: 0.7930\n",
      "✅ 平均 ROC AUC: 0.7167\n",
      "\n",
      "🧪 測試第 27/30 組參數：{'n_estimators': 500, 'max_depth': 5, 'learning_rate': 0.1, 'subsample': 0.6, 'colsample_bytree': 1.0, 'gamma': 5, 'scale_pos_weight': 1}\n",
      "\n",
      "📊 每個類別在訓練與驗證集的 player 數：\n",
      "🔹 訓練集：{3: 13, 1: 4, 0: 14, 2: 2}\n",
      "🔹 驗證集：{0: 4, 3: 3, 1: 1, 2: 1}\n",
      "👤 驗證集 player_id：[27, 20, 1, 35, 5, 7, 19, 38, 23]\n"
     ]
    },
    {
     "name": "stderr",
     "output_type": "stream",
     "text": [
      "/home/barry/.conda/envs/test/lib/python3.10/site-packages/xgboost/training.py:183: UserWarning: [02:53:54] WARNING: /workspace/src/learner.cc:738: \n",
      "Parameters: { \"scale_pos_weight\" } are not used.\n",
      "\n",
      "  bst.update(dtrain, iteration=i, fobj=obj)\n"
     ]
    },
    {
     "name": "stdout",
     "output_type": "stream",
     "text": [
      "  ➤ Fold 1 ROC AUC: 0.6533\n",
      "\n",
      "📊 每個類別在訓練與驗證集的 player 數：\n",
      "🔹 訓練集：{1: 4, 0: 14, 3: 13, 2: 2}\n",
      "🔹 驗證集：{3: 3, 0: 4, 2: 1, 1: 1}\n",
      "👤 驗證集 player_id：[4, 28, 13, 14, 8, 17, 9, 34, 6]\n"
     ]
    },
    {
     "name": "stderr",
     "output_type": "stream",
     "text": [
      "/home/barry/.conda/envs/test/lib/python3.10/site-packages/xgboost/training.py:183: UserWarning: [02:55:19] WARNING: /workspace/src/learner.cc:738: \n",
      "Parameters: { \"scale_pos_weight\" } are not used.\n",
      "\n",
      "  bst.update(dtrain, iteration=i, fobj=obj)\n"
     ]
    },
    {
     "name": "stdout",
     "output_type": "stream",
     "text": [
      "  ➤ Fold 2 ROC AUC: 0.6402\n",
      "\n",
      "📊 每個類別在訓練與驗證集的 player 數：\n",
      "🔹 訓練集：{0: 14, 3: 13, 1: 4, 2: 2}\n",
      "🔹 驗證集：{3: 3, 0: 4, 1: 1, 2: 1}\n",
      "👤 驗證集 player_id：[11, 26, 7, 30, 35, 40, 16, 24, 9]\n"
     ]
    },
    {
     "name": "stderr",
     "output_type": "stream",
     "text": [
      "/home/barry/.conda/envs/test/lib/python3.10/site-packages/xgboost/training.py:183: UserWarning: [02:56:37] WARNING: /workspace/src/learner.cc:738: \n",
      "Parameters: { \"scale_pos_weight\" } are not used.\n",
      "\n",
      "  bst.update(dtrain, iteration=i, fobj=obj)\n"
     ]
    },
    {
     "name": "stdout",
     "output_type": "stream",
     "text": [
      "  ➤ Fold 3 ROC AUC: 0.7576\n",
      "\n",
      "📊 每個類別在訓練與驗證集的 player 數：\n",
      "🔹 訓練集：{3: 13, 0: 14, 1: 4, 2: 2}\n",
      "🔹 驗證集：{3: 3, 0: 4, 2: 1, 1: 1}\n",
      "👤 驗證集 player_id：[39, 16, 2, 25, 24, 3, 13, 31, 10]\n"
     ]
    },
    {
     "name": "stderr",
     "output_type": "stream",
     "text": [
      "/home/barry/.conda/envs/test/lib/python3.10/site-packages/xgboost/training.py:183: UserWarning: [02:57:50] WARNING: /workspace/src/learner.cc:738: \n",
      "Parameters: { \"scale_pos_weight\" } are not used.\n",
      "\n",
      "  bst.update(dtrain, iteration=i, fobj=obj)\n"
     ]
    },
    {
     "name": "stdout",
     "output_type": "stream",
     "text": [
      "  ➤ Fold 4 ROC AUC: 0.7797\n",
      "\n",
      "📊 每個類別在訓練與驗證集的 player 數：\n",
      "🔹 訓練集：{1: 4, 0: 14, 3: 13, 2: 2}\n",
      "🔹 驗證集：{3: 3, 0: 4, 1: 1, 2: 1}\n",
      "👤 驗證集 player_id：[1, 18, 33, 39, 10, 3, 21, 23, 17]\n"
     ]
    },
    {
     "name": "stderr",
     "output_type": "stream",
     "text": [
      "/home/barry/.conda/envs/test/lib/python3.10/site-packages/xgboost/training.py:183: UserWarning: [02:59:06] WARNING: /workspace/src/learner.cc:738: \n",
      "Parameters: { \"scale_pos_weight\" } are not used.\n",
      "\n",
      "  bst.update(dtrain, iteration=i, fobj=obj)\n"
     ]
    },
    {
     "name": "stdout",
     "output_type": "stream",
     "text": [
      "  ➤ Fold 5 ROC AUC: 0.7885\n",
      "✅ 平均 ROC AUC: 0.7238\n",
      "\n",
      "🧪 測試第 28/30 組參數：{'n_estimators': 500, 'max_depth': 3, 'learning_rate': 0.05, 'subsample': 0.6, 'colsample_bytree': 1.0, 'gamma': 1, 'scale_pos_weight': 1}\n",
      "\n",
      "📊 每個類別在訓練與驗證集的 player 數：\n",
      "🔹 訓練集：{3: 13, 1: 4, 0: 14, 2: 2}\n",
      "🔹 驗證集：{0: 4, 3: 3, 1: 1, 2: 1}\n",
      "👤 驗證集 player_id：[27, 20, 1, 35, 5, 7, 19, 38, 23]\n"
     ]
    },
    {
     "name": "stderr",
     "output_type": "stream",
     "text": [
      "/home/barry/.conda/envs/test/lib/python3.10/site-packages/xgboost/training.py:183: UserWarning: [03:00:27] WARNING: /workspace/src/learner.cc:738: \n",
      "Parameters: { \"scale_pos_weight\" } are not used.\n",
      "\n",
      "  bst.update(dtrain, iteration=i, fobj=obj)\n"
     ]
    },
    {
     "name": "stdout",
     "output_type": "stream",
     "text": [
      "  ➤ Fold 1 ROC AUC: 0.6620\n",
      "\n",
      "📊 每個類別在訓練與驗證集的 player 數：\n",
      "🔹 訓練集：{1: 4, 0: 14, 3: 13, 2: 2}\n",
      "🔹 驗證集：{3: 3, 0: 4, 2: 1, 1: 1}\n",
      "👤 驗證集 player_id：[4, 28, 13, 14, 8, 17, 9, 34, 6]\n"
     ]
    },
    {
     "name": "stderr",
     "output_type": "stream",
     "text": [
      "/home/barry/.conda/envs/test/lib/python3.10/site-packages/xgboost/training.py:183: UserWarning: [03:02:19] WARNING: /workspace/src/learner.cc:738: \n",
      "Parameters: { \"scale_pos_weight\" } are not used.\n",
      "\n",
      "  bst.update(dtrain, iteration=i, fobj=obj)\n"
     ]
    },
    {
     "name": "stdout",
     "output_type": "stream",
     "text": [
      "  ➤ Fold 2 ROC AUC: 0.6927\n",
      "\n",
      "📊 每個類別在訓練與驗證集的 player 數：\n",
      "🔹 訓練集：{0: 14, 3: 13, 1: 4, 2: 2}\n",
      "🔹 驗證集：{3: 3, 0: 4, 1: 1, 2: 1}\n",
      "👤 驗證集 player_id：[11, 26, 7, 30, 35, 40, 16, 24, 9]\n"
     ]
    },
    {
     "name": "stderr",
     "output_type": "stream",
     "text": [
      "/home/barry/.conda/envs/test/lib/python3.10/site-packages/xgboost/training.py:183: UserWarning: [03:04:08] WARNING: /workspace/src/learner.cc:738: \n",
      "Parameters: { \"scale_pos_weight\" } are not used.\n",
      "\n",
      "  bst.update(dtrain, iteration=i, fobj=obj)\n"
     ]
    },
    {
     "name": "stdout",
     "output_type": "stream",
     "text": [
      "  ➤ Fold 3 ROC AUC: 0.7674\n",
      "\n",
      "📊 每個類別在訓練與驗證集的 player 數：\n",
      "🔹 訓練集：{3: 13, 0: 14, 1: 4, 2: 2}\n",
      "🔹 驗證集：{3: 3, 0: 4, 2: 1, 1: 1}\n",
      "👤 驗證集 player_id：[39, 16, 2, 25, 24, 3, 13, 31, 10]\n"
     ]
    },
    {
     "name": "stderr",
     "output_type": "stream",
     "text": [
      "/home/barry/.conda/envs/test/lib/python3.10/site-packages/xgboost/training.py:183: UserWarning: [03:06:01] WARNING: /workspace/src/learner.cc:738: \n",
      "Parameters: { \"scale_pos_weight\" } are not used.\n",
      "\n",
      "  bst.update(dtrain, iteration=i, fobj=obj)\n"
     ]
    },
    {
     "name": "stdout",
     "output_type": "stream",
     "text": [
      "  ➤ Fold 4 ROC AUC: 0.7899\n",
      "\n",
      "📊 每個類別在訓練與驗證集的 player 數：\n",
      "🔹 訓練集：{1: 4, 0: 14, 3: 13, 2: 2}\n",
      "🔹 驗證集：{3: 3, 0: 4, 1: 1, 2: 1}\n",
      "👤 驗證集 player_id：[1, 18, 33, 39, 10, 3, 21, 23, 17]\n"
     ]
    },
    {
     "name": "stderr",
     "output_type": "stream",
     "text": [
      "/home/barry/.conda/envs/test/lib/python3.10/site-packages/xgboost/training.py:183: UserWarning: [03:08:54] WARNING: /workspace/src/learner.cc:738: \n",
      "Parameters: { \"scale_pos_weight\" } are not used.\n",
      "\n",
      "  bst.update(dtrain, iteration=i, fobj=obj)\n"
     ]
    },
    {
     "name": "stdout",
     "output_type": "stream",
     "text": [
      "  ➤ Fold 5 ROC AUC: 0.7879\n",
      "✅ 平均 ROC AUC: 0.7400\n",
      "🎯 新最佳模型！已更新\n",
      "============================================================\n",
      "\n",
      "🧪 測試第 29/30 組參數：{'n_estimators': 500, 'max_depth': 5, 'learning_rate': 0.05, 'subsample': 0.6, 'colsample_bytree': 0.8, 'gamma': 5, 'scale_pos_weight': 1}\n",
      "\n",
      "📊 每個類別在訓練與驗證集的 player 數：\n",
      "🔹 訓練集：{3: 13, 1: 4, 0: 14, 2: 2}\n",
      "🔹 驗證集：{0: 4, 3: 3, 1: 1, 2: 1}\n",
      "👤 驗證集 player_id：[27, 20, 1, 35, 5, 7, 19, 38, 23]\n"
     ]
    },
    {
     "name": "stderr",
     "output_type": "stream",
     "text": [
      "/home/barry/.conda/envs/test/lib/python3.10/site-packages/xgboost/training.py:183: UserWarning: [03:10:50] WARNING: /workspace/src/learner.cc:738: \n",
      "Parameters: { \"scale_pos_weight\" } are not used.\n",
      "\n",
      "  bst.update(dtrain, iteration=i, fobj=obj)\n"
     ]
    },
    {
     "name": "stdout",
     "output_type": "stream",
     "text": [
      "  ➤ Fold 1 ROC AUC: 0.6519\n",
      "\n",
      "📊 每個類別在訓練與驗證集的 player 數：\n",
      "🔹 訓練集：{1: 4, 0: 14, 3: 13, 2: 2}\n",
      "🔹 驗證集：{3: 3, 0: 4, 2: 1, 1: 1}\n",
      "👤 驗證集 player_id：[4, 28, 13, 14, 8, 17, 9, 34, 6]\n"
     ]
    },
    {
     "name": "stderr",
     "output_type": "stream",
     "text": [
      "/home/barry/.conda/envs/test/lib/python3.10/site-packages/xgboost/training.py:183: UserWarning: [03:12:51] WARNING: /workspace/src/learner.cc:738: \n",
      "Parameters: { \"scale_pos_weight\" } are not used.\n",
      "\n",
      "  bst.update(dtrain, iteration=i, fobj=obj)\n"
     ]
    },
    {
     "name": "stdout",
     "output_type": "stream",
     "text": [
      "  ➤ Fold 2 ROC AUC: 0.6420\n",
      "\n",
      "📊 每個類別在訓練與驗證集的 player 數：\n",
      "🔹 訓練集：{0: 14, 3: 13, 1: 4, 2: 2}\n",
      "🔹 驗證集：{3: 3, 0: 4, 1: 1, 2: 1}\n",
      "👤 驗證集 player_id：[11, 26, 7, 30, 35, 40, 16, 24, 9]\n"
     ]
    },
    {
     "name": "stderr",
     "output_type": "stream",
     "text": [
      "/home/barry/.conda/envs/test/lib/python3.10/site-packages/xgboost/training.py:183: UserWarning: [03:14:40] WARNING: /workspace/src/learner.cc:738: \n",
      "Parameters: { \"scale_pos_weight\" } are not used.\n",
      "\n",
      "  bst.update(dtrain, iteration=i, fobj=obj)\n"
     ]
    },
    {
     "name": "stdout",
     "output_type": "stream",
     "text": [
      "  ➤ Fold 3 ROC AUC: 0.7533\n",
      "\n",
      "📊 每個類別在訓練與驗證集的 player 數：\n",
      "🔹 訓練集：{3: 13, 0: 14, 1: 4, 2: 2}\n",
      "🔹 驗證集：{3: 3, 0: 4, 2: 1, 1: 1}\n",
      "👤 驗證集 player_id：[39, 16, 2, 25, 24, 3, 13, 31, 10]\n"
     ]
    },
    {
     "name": "stderr",
     "output_type": "stream",
     "text": [
      "/home/barry/.conda/envs/test/lib/python3.10/site-packages/xgboost/training.py:183: UserWarning: [03:16:29] WARNING: /workspace/src/learner.cc:738: \n",
      "Parameters: { \"scale_pos_weight\" } are not used.\n",
      "\n",
      "  bst.update(dtrain, iteration=i, fobj=obj)\n"
     ]
    },
    {
     "name": "stdout",
     "output_type": "stream",
     "text": [
      "  ➤ Fold 4 ROC AUC: 0.7811\n",
      "\n",
      "📊 每個類別在訓練與驗證集的 player 數：\n",
      "🔹 訓練集：{1: 4, 0: 14, 3: 13, 2: 2}\n",
      "🔹 驗證集：{3: 3, 0: 4, 1: 1, 2: 1}\n",
      "👤 驗證集 player_id：[1, 18, 33, 39, 10, 3, 21, 23, 17]\n"
     ]
    },
    {
     "name": "stderr",
     "output_type": "stream",
     "text": [
      "/home/barry/.conda/envs/test/lib/python3.10/site-packages/xgboost/training.py:183: UserWarning: [03:18:17] WARNING: /workspace/src/learner.cc:738: \n",
      "Parameters: { \"scale_pos_weight\" } are not used.\n",
      "\n",
      "  bst.update(dtrain, iteration=i, fobj=obj)\n"
     ]
    },
    {
     "name": "stdout",
     "output_type": "stream",
     "text": [
      "  ➤ Fold 5 ROC AUC: 0.7832\n",
      "✅ 平均 ROC AUC: 0.7223\n",
      "\n",
      "🧪 測試第 30/30 組參數：{'n_estimators': 200, 'max_depth': 9, 'learning_rate': 0.2, 'subsample': 1.0, 'colsample_bytree': 0.8, 'gamma': 1, 'scale_pos_weight': 1}\n",
      "\n",
      "📊 每個類別在訓練與驗證集的 player 數：\n",
      "🔹 訓練集：{3: 13, 1: 4, 0: 14, 2: 2}\n",
      "🔹 驗證集：{0: 4, 3: 3, 1: 1, 2: 1}\n",
      "👤 驗證集 player_id：[27, 20, 1, 35, 5, 7, 19, 38, 23]\n"
     ]
    },
    {
     "name": "stderr",
     "output_type": "stream",
     "text": [
      "/home/barry/.conda/envs/test/lib/python3.10/site-packages/xgboost/training.py:183: UserWarning: [03:20:32] WARNING: /workspace/src/learner.cc:738: \n",
      "Parameters: { \"scale_pos_weight\" } are not used.\n",
      "\n",
      "  bst.update(dtrain, iteration=i, fobj=obj)\n"
     ]
    },
    {
     "name": "stdout",
     "output_type": "stream",
     "text": [
      "  ➤ Fold 1 ROC AUC: 0.6371\n",
      "\n",
      "📊 每個類別在訓練與驗證集的 player 數：\n",
      "🔹 訓練集：{1: 4, 0: 14, 3: 13, 2: 2}\n",
      "🔹 驗證集：{3: 3, 0: 4, 2: 1, 1: 1}\n",
      "👤 驗證集 player_id：[4, 28, 13, 14, 8, 17, 9, 34, 6]\n"
     ]
    },
    {
     "name": "stderr",
     "output_type": "stream",
     "text": [
      "/home/barry/.conda/envs/test/lib/python3.10/site-packages/xgboost/training.py:183: UserWarning: [03:21:33] WARNING: /workspace/src/learner.cc:738: \n",
      "Parameters: { \"scale_pos_weight\" } are not used.\n",
      "\n",
      "  bst.update(dtrain, iteration=i, fobj=obj)\n"
     ]
    },
    {
     "name": "stdout",
     "output_type": "stream",
     "text": [
      "  ➤ Fold 2 ROC AUC: 0.6049\n",
      "\n",
      "📊 每個類別在訓練與驗證集的 player 數：\n",
      "🔹 訓練集：{0: 14, 3: 13, 1: 4, 2: 2}\n",
      "🔹 驗證集：{3: 3, 0: 4, 1: 1, 2: 1}\n",
      "👤 驗證集 player_id：[11, 26, 7, 30, 35, 40, 16, 24, 9]\n"
     ]
    },
    {
     "name": "stderr",
     "output_type": "stream",
     "text": [
      "/home/barry/.conda/envs/test/lib/python3.10/site-packages/xgboost/training.py:183: UserWarning: [03:22:23] WARNING: /workspace/src/learner.cc:738: \n",
      "Parameters: { \"scale_pos_weight\" } are not used.\n",
      "\n",
      "  bst.update(dtrain, iteration=i, fobj=obj)\n"
     ]
    },
    {
     "name": "stdout",
     "output_type": "stream",
     "text": [
      "  ➤ Fold 3 ROC AUC: 0.7480\n",
      "\n",
      "📊 每個類別在訓練與驗證集的 player 數：\n",
      "🔹 訓練集：{3: 13, 0: 14, 1: 4, 2: 2}\n",
      "🔹 驗證集：{3: 3, 0: 4, 2: 1, 1: 1}\n",
      "👤 驗證集 player_id：[39, 16, 2, 25, 24, 3, 13, 31, 10]\n"
     ]
    },
    {
     "name": "stderr",
     "output_type": "stream",
     "text": [
      "/home/barry/.conda/envs/test/lib/python3.10/site-packages/xgboost/training.py:183: UserWarning: [03:23:15] WARNING: /workspace/src/learner.cc:738: \n",
      "Parameters: { \"scale_pos_weight\" } are not used.\n",
      "\n",
      "  bst.update(dtrain, iteration=i, fobj=obj)\n"
     ]
    },
    {
     "name": "stdout",
     "output_type": "stream",
     "text": [
      "  ➤ Fold 4 ROC AUC: 0.7808\n",
      "\n",
      "📊 每個類別在訓練與驗證集的 player 數：\n",
      "🔹 訓練集：{1: 4, 0: 14, 3: 13, 2: 2}\n",
      "🔹 驗證集：{3: 3, 0: 4, 1: 1, 2: 1}\n",
      "👤 驗證集 player_id：[1, 18, 33, 39, 10, 3, 21, 23, 17]\n"
     ]
    },
    {
     "name": "stderr",
     "output_type": "stream",
     "text": [
      "/home/barry/.conda/envs/test/lib/python3.10/site-packages/xgboost/training.py:183: UserWarning: [03:25:14] WARNING: /workspace/src/learner.cc:738: \n",
      "Parameters: { \"scale_pos_weight\" } are not used.\n",
      "\n",
      "  bst.update(dtrain, iteration=i, fobj=obj)\n"
     ]
    },
    {
     "name": "stdout",
     "output_type": "stream",
     "text": [
      "  ➤ Fold 5 ROC AUC: 0.7958\n",
      "✅ 平均 ROC AUC: 0.7133\n",
      "\n",
      "🏁 最佳 ROC AUC: 0.7400 對應參數：{'n_estimators': 500, 'max_depth': 3, 'learning_rate': 0.05, 'subsample': 0.6, 'colsample_bytree': 1.0, 'gamma': 1, 'scale_pos_weight': 1}\n",
      "\n",
      "🏆 最佳 ROC AUC: 0.7400\n",
      "🎯 使用最佳參數重新訓練完整模型並預測測試集\n",
      "============================================================\n"
     ]
    },
    {
     "name": "stderr",
     "output_type": "stream",
     "text": [
      "/home/barry/.conda/envs/test/lib/python3.10/site-packages/xgboost/training.py:183: UserWarning: [03:26:33] WARNING: /workspace/src/learner.cc:738: \n",
      "Parameters: { \"scale_pos_weight\" } are not used.\n",
      "\n",
      "  bst.update(dtrain, iteration=i, fobj=obj)\n"
     ]
    }
   ],
   "source": [
    "# === 等級預測（level）===\n",
    "df_level, model_level, cols_level = train_and_predict_xgb(\n",
    "    y_name='level',\n",
    "    smote_ratio=0.5,  # 類別分布若較平均，可用較小比例\n",
    "    return_model=True,\n",
    "    cv_mode='manual_kfold',\n",
    "    fold_count=5,\n",
    "    n_iter=30\n",
    ")"
   ]
  },
  {
   "cell_type": "code",
   "execution_count": 61,
   "id": "e04ea459",
   "metadata": {},
   "outputs": [],
   "source": [
    "# ==== 6. 合併所有預測結果 ====\n",
    "submission = pd.concat([unique_ids, df_gender, df_hold, df_play, df_level], axis=1)\n"
   ]
  },
  {
   "cell_type": "code",
   "execution_count": 76,
   "id": "d6009084",
   "metadata": {},
   "outputs": [
    {
     "data": {
      "text/html": [
       "<div>\n",
       "<style scoped>\n",
       "    .dataframe tbody tr th:only-of-type {\n",
       "        vertical-align: middle;\n",
       "    }\n",
       "\n",
       "    .dataframe tbody tr th {\n",
       "        vertical-align: top;\n",
       "    }\n",
       "\n",
       "    .dataframe thead th {\n",
       "        text-align: right;\n",
       "    }\n",
       "</style>\n",
       "<table border=\"1\" class=\"dataframe\">\n",
       "  <thead>\n",
       "    <tr style=\"text-align: right;\">\n",
       "      <th></th>\n",
       "      <th>unique_id</th>\n",
       "      <th>gender</th>\n",
       "      <th>hold racket handed</th>\n",
       "      <th>play years_0</th>\n",
       "      <th>play years_1</th>\n",
       "      <th>play years_2</th>\n",
       "      <th>level_0</th>\n",
       "      <th>level_1</th>\n",
       "      <th>level_2</th>\n",
       "      <th>level_3</th>\n",
       "    </tr>\n",
       "  </thead>\n",
       "  <tbody>\n",
       "    <tr>\n",
       "      <th>0</th>\n",
       "      <td>2096</td>\n",
       "      <td>0.996293</td>\n",
       "      <td>0.999230</td>\n",
       "      <td>0.408593</td>\n",
       "      <td>0.334860</td>\n",
       "      <td>0.256547</td>\n",
       "      <td>0.040960</td>\n",
       "      <td>0.013726</td>\n",
       "      <td>0.010653</td>\n",
       "      <td>0.934661</td>\n",
       "    </tr>\n",
       "    <tr>\n",
       "      <th>1</th>\n",
       "      <td>2096</td>\n",
       "      <td>0.998237</td>\n",
       "      <td>0.999961</td>\n",
       "      <td>0.544745</td>\n",
       "      <td>0.254326</td>\n",
       "      <td>0.200929</td>\n",
       "      <td>0.441949</td>\n",
       "      <td>0.422465</td>\n",
       "      <td>0.000911</td>\n",
       "      <td>0.134675</td>\n",
       "    </tr>\n",
       "    <tr>\n",
       "      <th>2</th>\n",
       "      <td>2096</td>\n",
       "      <td>0.999454</td>\n",
       "      <td>0.999978</td>\n",
       "      <td>0.436762</td>\n",
       "      <td>0.303865</td>\n",
       "      <td>0.259373</td>\n",
       "      <td>0.722389</td>\n",
       "      <td>0.070861</td>\n",
       "      <td>0.001725</td>\n",
       "      <td>0.205025</td>\n",
       "    </tr>\n",
       "    <tr>\n",
       "      <th>3</th>\n",
       "      <td>2096</td>\n",
       "      <td>0.999843</td>\n",
       "      <td>0.999970</td>\n",
       "      <td>0.467646</td>\n",
       "      <td>0.248203</td>\n",
       "      <td>0.284151</td>\n",
       "      <td>0.880449</td>\n",
       "      <td>0.093451</td>\n",
       "      <td>0.000837</td>\n",
       "      <td>0.025263</td>\n",
       "    </tr>\n",
       "    <tr>\n",
       "      <th>4</th>\n",
       "      <td>2096</td>\n",
       "      <td>0.999152</td>\n",
       "      <td>0.999957</td>\n",
       "      <td>0.534873</td>\n",
       "      <td>0.252426</td>\n",
       "      <td>0.212701</td>\n",
       "      <td>0.777577</td>\n",
       "      <td>0.137027</td>\n",
       "      <td>0.001675</td>\n",
       "      <td>0.083721</td>\n",
       "    </tr>\n",
       "    <tr>\n",
       "      <th>...</th>\n",
       "      <td>...</td>\n",
       "      <td>...</td>\n",
       "      <td>...</td>\n",
       "      <td>...</td>\n",
       "      <td>...</td>\n",
       "      <td>...</td>\n",
       "      <td>...</td>\n",
       "      <td>...</td>\n",
       "      <td>...</td>\n",
       "      <td>...</td>\n",
       "    </tr>\n",
       "    <tr>\n",
       "      <th>38009</th>\n",
       "      <td>3394</td>\n",
       "      <td>0.998616</td>\n",
       "      <td>0.126737</td>\n",
       "      <td>0.446652</td>\n",
       "      <td>0.319620</td>\n",
       "      <td>0.233728</td>\n",
       "      <td>0.150040</td>\n",
       "      <td>0.028127</td>\n",
       "      <td>0.009066</td>\n",
       "      <td>0.812767</td>\n",
       "    </tr>\n",
       "    <tr>\n",
       "      <th>38010</th>\n",
       "      <td>3394</td>\n",
       "      <td>0.997283</td>\n",
       "      <td>0.287645</td>\n",
       "      <td>0.429543</td>\n",
       "      <td>0.324214</td>\n",
       "      <td>0.246243</td>\n",
       "      <td>0.124291</td>\n",
       "      <td>0.009876</td>\n",
       "      <td>0.008252</td>\n",
       "      <td>0.857581</td>\n",
       "    </tr>\n",
       "    <tr>\n",
       "      <th>38011</th>\n",
       "      <td>3394</td>\n",
       "      <td>0.999673</td>\n",
       "      <td>0.160658</td>\n",
       "      <td>0.404595</td>\n",
       "      <td>0.347701</td>\n",
       "      <td>0.247704</td>\n",
       "      <td>0.125389</td>\n",
       "      <td>0.068996</td>\n",
       "      <td>0.005749</td>\n",
       "      <td>0.799866</td>\n",
       "    </tr>\n",
       "    <tr>\n",
       "      <th>38012</th>\n",
       "      <td>3394</td>\n",
       "      <td>0.998816</td>\n",
       "      <td>0.217383</td>\n",
       "      <td>0.491348</td>\n",
       "      <td>0.264207</td>\n",
       "      <td>0.244445</td>\n",
       "      <td>0.204451</td>\n",
       "      <td>0.020428</td>\n",
       "      <td>0.008709</td>\n",
       "      <td>0.766413</td>\n",
       "    </tr>\n",
       "    <tr>\n",
       "      <th>38013</th>\n",
       "      <td>3394</td>\n",
       "      <td>0.998444</td>\n",
       "      <td>0.163502</td>\n",
       "      <td>0.413614</td>\n",
       "      <td>0.299457</td>\n",
       "      <td>0.286929</td>\n",
       "      <td>0.169845</td>\n",
       "      <td>0.050659</td>\n",
       "      <td>0.017435</td>\n",
       "      <td>0.762062</td>\n",
       "    </tr>\n",
       "  </tbody>\n",
       "</table>\n",
       "<p>38014 rows × 10 columns</p>\n",
       "</div>"
      ],
      "text/plain": [
       "       unique_id    gender  hold racket handed  play years_0  play years_1  \\\n",
       "0           2096  0.996293            0.999230      0.408593      0.334860   \n",
       "1           2096  0.998237            0.999961      0.544745      0.254326   \n",
       "2           2096  0.999454            0.999978      0.436762      0.303865   \n",
       "3           2096  0.999843            0.999970      0.467646      0.248203   \n",
       "4           2096  0.999152            0.999957      0.534873      0.252426   \n",
       "...          ...       ...                 ...           ...           ...   \n",
       "38009       3394  0.998616            0.126737      0.446652      0.319620   \n",
       "38010       3394  0.997283            0.287645      0.429543      0.324214   \n",
       "38011       3394  0.999673            0.160658      0.404595      0.347701   \n",
       "38012       3394  0.998816            0.217383      0.491348      0.264207   \n",
       "38013       3394  0.998444            0.163502      0.413614      0.299457   \n",
       "\n",
       "       play years_2   level_0   level_1   level_2   level_3  \n",
       "0          0.256547  0.040960  0.013726  0.010653  0.934661  \n",
       "1          0.200929  0.441949  0.422465  0.000911  0.134675  \n",
       "2          0.259373  0.722389  0.070861  0.001725  0.205025  \n",
       "3          0.284151  0.880449  0.093451  0.000837  0.025263  \n",
       "4          0.212701  0.777577  0.137027  0.001675  0.083721  \n",
       "...             ...       ...       ...       ...       ...  \n",
       "38009      0.233728  0.150040  0.028127  0.009066  0.812767  \n",
       "38010      0.246243  0.124291  0.009876  0.008252  0.857581  \n",
       "38011      0.247704  0.125389  0.068996  0.005749  0.799866  \n",
       "38012      0.244445  0.204451  0.020428  0.008709  0.766413  \n",
       "38013      0.286929  0.169845  0.050659  0.017435  0.762062  \n",
       "\n",
       "[38014 rows x 10 columns]"
      ]
     },
     "execution_count": 76,
     "metadata": {},
     "output_type": "execute_result"
    }
   ],
   "source": [
    "submission"
   ]
  },
  {
   "cell_type": "markdown",
   "id": "bd1b1121",
   "metadata": {},
   "source": [
    "# 二元分類調整機率後處理"
   ]
  },
  {
   "cell_type": "code",
   "execution_count": 103,
   "id": "428b8762",
   "metadata": {},
   "outputs": [],
   "source": [
    "def aggregate_by_majority_vote_with_confidence(submission, thresholds=None):\n",
    "    df = submission.copy()\n",
    "\n",
    "    # === 1. 二分類欄位的 threshold 處理 ===\n",
    "    if thresholds is None:\n",
    "        thresholds = {\n",
    "            'gender': 0.8,\n",
    "            'hold racket handed': 0.5,\n",
    "        }\n",
    "\n",
    "    for col, th in thresholds.items():\n",
    "        df[col] = (df[col] > th).astype(int)\n",
    "\n",
    "    # === 2. 重命名多分類欄位 ===\n",
    "    level_rename_map = {\n",
    "        'level_0': 'level_2',\n",
    "        'level_1': 'level_3',\n",
    "        'level_2': 'level_4',\n",
    "        'level_3': 'level_5',\n",
    "    }\n",
    "\n",
    "    df.rename(columns=level_rename_map, inplace=True)\n",
    "\n",
    "    # === 3. groupby by unique_id 統計每個欄位平均（即票數平均） ===\n",
    "    group_cols = ['gender', 'hold racket handed',\n",
    "                  'play years_0', 'play years_1', 'play years_2',\n",
    "                  'level_2', 'level_3', 'level_4', 'level_5']\n",
    "\n",
    "    result = (\n",
    "        df[['unique_id'] + group_cols]\n",
    "        .groupby('unique_id')\n",
    "        .mean()\n",
    "        .reset_index()\n",
    "        .sort_values(by='unique_id')\n",
    "        .reset_index(drop=True)\n",
    "    )\n",
    "\n",
    "    result.to_csv(\"final_submission_grouped_with_fallback.csv\", index=False)\n",
    "    print(\"✅ 已輸出：final_submission_grouped_with_fallback.csv\")\n",
    "    return result\n"
   ]
  },
  {
   "cell_type": "code",
   "execution_count": 104,
   "id": "5d1268a5",
   "metadata": {},
   "outputs": [
    {
     "name": "stdout",
     "output_type": "stream",
     "text": [
      "✅ 已輸出：final_submission_grouped_with_fallback.csv\n"
     ]
    }
   ],
   "source": [
    "final_submission = aggregate_by_majority_vote_with_confidence(submission)"
   ]
  },
  {
   "cell_type": "code",
   "execution_count": 105,
   "id": "5a2e784c",
   "metadata": {},
   "outputs": [
    {
     "data": {
      "text/html": [
       "<div>\n",
       "<style scoped>\n",
       "    .dataframe tbody tr th:only-of-type {\n",
       "        vertical-align: middle;\n",
       "    }\n",
       "\n",
       "    .dataframe tbody tr th {\n",
       "        vertical-align: top;\n",
       "    }\n",
       "\n",
       "    .dataframe thead th {\n",
       "        text-align: right;\n",
       "    }\n",
       "</style>\n",
       "<table border=\"1\" class=\"dataframe\">\n",
       "  <thead>\n",
       "    <tr style=\"text-align: right;\">\n",
       "      <th></th>\n",
       "      <th>unique_id</th>\n",
       "      <th>gender</th>\n",
       "      <th>hold racket handed</th>\n",
       "      <th>play years_0</th>\n",
       "      <th>play years_1</th>\n",
       "      <th>play years_2</th>\n",
       "      <th>level_2</th>\n",
       "      <th>level_3</th>\n",
       "      <th>level_4</th>\n",
       "      <th>level_5</th>\n",
       "    </tr>\n",
       "  </thead>\n",
       "  <tbody>\n",
       "    <tr>\n",
       "      <th>0</th>\n",
       "      <td>1968</td>\n",
       "      <td>0.962963</td>\n",
       "      <td>1.0</td>\n",
       "      <td>0.286402</td>\n",
       "      <td>0.484965</td>\n",
       "      <td>0.228633</td>\n",
       "      <td>0.044376</td>\n",
       "      <td>0.760122</td>\n",
       "      <td>0.007270</td>\n",
       "      <td>0.188232</td>\n",
       "    </tr>\n",
       "    <tr>\n",
       "      <th>1</th>\n",
       "      <td>1969</td>\n",
       "      <td>1.000000</td>\n",
       "      <td>1.0</td>\n",
       "      <td>0.169251</td>\n",
       "      <td>0.662377</td>\n",
       "      <td>0.168372</td>\n",
       "      <td>0.001199</td>\n",
       "      <td>0.050972</td>\n",
       "      <td>0.000227</td>\n",
       "      <td>0.947602</td>\n",
       "    </tr>\n",
       "    <tr>\n",
       "      <th>2</th>\n",
       "      <td>1970</td>\n",
       "      <td>1.000000</td>\n",
       "      <td>1.0</td>\n",
       "      <td>0.190380</td>\n",
       "      <td>0.598732</td>\n",
       "      <td>0.210888</td>\n",
       "      <td>0.002188</td>\n",
       "      <td>0.102103</td>\n",
       "      <td>0.000912</td>\n",
       "      <td>0.894797</td>\n",
       "    </tr>\n",
       "    <tr>\n",
       "      <th>3</th>\n",
       "      <td>1971</td>\n",
       "      <td>1.000000</td>\n",
       "      <td>1.0</td>\n",
       "      <td>0.163758</td>\n",
       "      <td>0.668062</td>\n",
       "      <td>0.168180</td>\n",
       "      <td>0.001563</td>\n",
       "      <td>0.045646</td>\n",
       "      <td>0.000598</td>\n",
       "      <td>0.952193</td>\n",
       "    </tr>\n",
       "    <tr>\n",
       "      <th>4</th>\n",
       "      <td>1972</td>\n",
       "      <td>0.962963</td>\n",
       "      <td>1.0</td>\n",
       "      <td>0.207260</td>\n",
       "      <td>0.417121</td>\n",
       "      <td>0.375619</td>\n",
       "      <td>0.002605</td>\n",
       "      <td>0.505512</td>\n",
       "      <td>0.000920</td>\n",
       "      <td>0.490963</td>\n",
       "    </tr>\n",
       "    <tr>\n",
       "      <th>...</th>\n",
       "      <td>...</td>\n",
       "      <td>...</td>\n",
       "      <td>...</td>\n",
       "      <td>...</td>\n",
       "      <td>...</td>\n",
       "      <td>...</td>\n",
       "      <td>...</td>\n",
       "      <td>...</td>\n",
       "      <td>...</td>\n",
       "      <td>...</td>\n",
       "    </tr>\n",
       "    <tr>\n",
       "      <th>1425</th>\n",
       "      <td>3407</td>\n",
       "      <td>1.000000</td>\n",
       "      <td>1.0</td>\n",
       "      <td>0.183012</td>\n",
       "      <td>0.613738</td>\n",
       "      <td>0.203249</td>\n",
       "      <td>0.003057</td>\n",
       "      <td>0.081642</td>\n",
       "      <td>0.000577</td>\n",
       "      <td>0.914723</td>\n",
       "    </tr>\n",
       "    <tr>\n",
       "      <th>1426</th>\n",
       "      <td>3408</td>\n",
       "      <td>0.962963</td>\n",
       "      <td>1.0</td>\n",
       "      <td>0.203147</td>\n",
       "      <td>0.519260</td>\n",
       "      <td>0.277593</td>\n",
       "      <td>0.002017</td>\n",
       "      <td>0.317249</td>\n",
       "      <td>0.000377</td>\n",
       "      <td>0.680358</td>\n",
       "    </tr>\n",
       "    <tr>\n",
       "      <th>1427</th>\n",
       "      <td>3409</td>\n",
       "      <td>1.000000</td>\n",
       "      <td>1.0</td>\n",
       "      <td>0.350047</td>\n",
       "      <td>0.411956</td>\n",
       "      <td>0.237997</td>\n",
       "      <td>0.061824</td>\n",
       "      <td>0.841110</td>\n",
       "      <td>0.004760</td>\n",
       "      <td>0.092306</td>\n",
       "    </tr>\n",
       "    <tr>\n",
       "      <th>1428</th>\n",
       "      <td>3410</td>\n",
       "      <td>0.962963</td>\n",
       "      <td>1.0</td>\n",
       "      <td>0.175278</td>\n",
       "      <td>0.543667</td>\n",
       "      <td>0.281055</td>\n",
       "      <td>0.002617</td>\n",
       "      <td>0.772307</td>\n",
       "      <td>0.000331</td>\n",
       "      <td>0.224744</td>\n",
       "    </tr>\n",
       "    <tr>\n",
       "      <th>1429</th>\n",
       "      <td>3411</td>\n",
       "      <td>1.000000</td>\n",
       "      <td>1.0</td>\n",
       "      <td>0.176605</td>\n",
       "      <td>0.643623</td>\n",
       "      <td>0.179773</td>\n",
       "      <td>0.002437</td>\n",
       "      <td>0.543437</td>\n",
       "      <td>0.000786</td>\n",
       "      <td>0.453340</td>\n",
       "    </tr>\n",
       "  </tbody>\n",
       "</table>\n",
       "<p>1430 rows × 10 columns</p>\n",
       "</div>"
      ],
      "text/plain": [
       "      unique_id    gender  hold racket handed  play years_0  play years_1  \\\n",
       "0          1968  0.962963                 1.0      0.286402      0.484965   \n",
       "1          1969  1.000000                 1.0      0.169251      0.662377   \n",
       "2          1970  1.000000                 1.0      0.190380      0.598732   \n",
       "3          1971  1.000000                 1.0      0.163758      0.668062   \n",
       "4          1972  0.962963                 1.0      0.207260      0.417121   \n",
       "...         ...       ...                 ...           ...           ...   \n",
       "1425       3407  1.000000                 1.0      0.183012      0.613738   \n",
       "1426       3408  0.962963                 1.0      0.203147      0.519260   \n",
       "1427       3409  1.000000                 1.0      0.350047      0.411956   \n",
       "1428       3410  0.962963                 1.0      0.175278      0.543667   \n",
       "1429       3411  1.000000                 1.0      0.176605      0.643623   \n",
       "\n",
       "      play years_2   level_2   level_3   level_4   level_5  \n",
       "0         0.228633  0.044376  0.760122  0.007270  0.188232  \n",
       "1         0.168372  0.001199  0.050972  0.000227  0.947602  \n",
       "2         0.210888  0.002188  0.102103  0.000912  0.894797  \n",
       "3         0.168180  0.001563  0.045646  0.000598  0.952193  \n",
       "4         0.375619  0.002605  0.505512  0.000920  0.490963  \n",
       "...            ...       ...       ...       ...       ...  \n",
       "1425      0.203249  0.003057  0.081642  0.000577  0.914723  \n",
       "1426      0.277593  0.002017  0.317249  0.000377  0.680358  \n",
       "1427      0.237997  0.061824  0.841110  0.004760  0.092306  \n",
       "1428      0.281055  0.002617  0.772307  0.000331  0.224744  \n",
       "1429      0.179773  0.002437  0.543437  0.000786  0.453340  \n",
       "\n",
       "[1430 rows x 10 columns]"
      ]
     },
     "execution_count": 105,
     "metadata": {},
     "output_type": "execute_result"
    }
   ],
   "source": [
    "final_submission"
   ]
  },
  {
   "cell_type": "markdown",
   "id": "b0e0b5b4",
   "metadata": {},
   "source": [
    "# 查看預測分布並決定如何調整多分類預測結果"
   ]
  },
  {
   "cell_type": "code",
   "execution_count": 106,
   "id": "16352a39",
   "metadata": {},
   "outputs": [
    {
     "name": "stdout",
     "output_type": "stream",
     "text": [
      "📊 Gender 分類分布：\n",
      "gender\n",
      "男    1305\n",
      "女     125\n",
      "Name: count, dtype: int64\n",
      "\n",
      "📊 慣用手分類分布：\n",
      "hold racket handed\n",
      "右手    1215\n",
      "左手     215\n",
      "Name: count, dtype: int64\n",
      "\n",
      "📊 Play Years 分類分布（最大機率對應類別）：\n",
      "0\n",
      "年資_0      91\n",
      "年資_1    1182\n",
      "年資_2     157\n",
      "Name: count, dtype: int64\n",
      "\n",
      "📊 Level 分類分布（最大機率對應類別）：\n",
      "0\n",
      "等級_2    168\n",
      "等級_3    335\n",
      "等級_5    927\n",
      "Name: count, dtype: int64\n"
     ]
    }
   ],
   "source": [
    "print(\"📊 Gender 分類分布：\")\n",
    "print((final_submission['gender'] > 0.5).value_counts().rename({True: '男', False: '女'}))\n",
    "\n",
    "print(\"\\n📊 慣用手分類分布：\")\n",
    "print((final_submission['hold racket handed'] > 0.5).value_counts().rename({True: '右手', False: '左手'}))\n",
    "\n",
    "# === play years 分布（多分類）===\n",
    "print(\"\\n📊 Play Years 分類分布（最大機率對應類別）：\")\n",
    "play_cols = ['play years_0', 'play years_1', 'play years_2']\n",
    "play_pred_idx = final_submission[play_cols].idxmax(axis=1)  # 取最大機率對應欄位\n",
    "play_pred_label = play_pred_idx.str.extract(r'play years_(\\d)').astype(int)[0]\n",
    "play_counts = play_pred_label.value_counts().sort_index().rename(lambda x: f\"年資_{x}\")\n",
    "print(play_counts)\n",
    "\n",
    "# === level 分布（多分類）===\n",
    "print(\"\\n📊 Level 分類分布（最大機率對應類別）：\")\n",
    "level_cols = ['level_2', 'level_3', 'level_4', 'level_5']\n",
    "level_pred_idx = final_submission[level_cols].idxmax(axis=1)\n",
    "level_pred_label = level_pred_idx.str.extract(r'level_(\\d)').astype(int)[0]\n",
    "level_counts = level_pred_label.value_counts().sort_index().rename(lambda x: f\"等級_{x}\")\n",
    "print(level_counts)\n",
    "\n"
   ]
  },
  {
   "cell_type": "markdown",
   "id": "c025a5a5",
   "metadata": {},
   "source": [
    "272 629 512；515 143 86 657"
   ]
  },
  {
   "cell_type": "code",
   "execution_count": 107,
   "id": "41d15a36",
   "metadata": {},
   "outputs": [
    {
     "name": "stdout",
     "output_type": "stream",
     "text": [
      "📊 Gender 分布（1=男, 2=女）：\n",
      "gender\n",
      "1    0.832148\n",
      "2    0.167852\n",
      "Name: proportion, dtype: float64\n",
      "\n",
      "📊 慣用手分布（1=右手, 2=左手）：\n",
      "hold racket handed\n",
      "1    0.812353\n",
      "2    0.187647\n",
      "Name: proportion, dtype: float64\n",
      "\n",
      "📊 Play Years 分布（0=新手, 1=中等, 2=資深）：\n",
      "play years\n",
      "0    0.198410\n",
      "1    0.443371\n",
      "2    0.358219\n",
      "Name: proportion, dtype: float64\n",
      "\n",
      "📊 Level 分布（2~5）：\n",
      "level\n",
      "2    0.366053\n",
      "3    0.102115\n",
      "4    0.069826\n",
      "5    0.462007\n",
      "Name: proportion, dtype: float64\n"
     ]
    }
   ],
   "source": [
    "def print_train_y_distributions(train_df):\n",
    "    print(\"📊 Gender 分布（1=男, 2=女）：\")\n",
    "    print(train_df['gender'].value_counts(normalize=True).sort_index())\n",
    "    \n",
    "    print(\"\\n📊 慣用手分布（1=右手, 2=左手）：\")\n",
    "    print(train_df['hold racket handed'].value_counts(normalize=True).sort_index())\n",
    "\n",
    "    print(\"\\n📊 Play Years 分布（0=新手, 1=中等, 2=資深）：\")\n",
    "    print(train_df['play years'].value_counts(normalize=True).sort_index())\n",
    "\n",
    "    print(\"\\n📊 Level 分布（2~5）：\")\n",
    "    print(train_df['level'].value_counts(normalize=True).sort_index())\n",
    "print_train_y_distributions(train_df)\n"
   ]
  },
  {
   "cell_type": "markdown",
   "id": "31ff9506",
   "metadata": {},
   "source": [
    "# 儲存預測結果"
   ]
  },
  {
   "cell_type": "code",
   "execution_count": null,
   "id": "99dd7bae",
   "metadata": {},
   "outputs": [
    {
     "name": "stdout",
     "output_type": "stream",
     "text": [
      "✅ 輸出完成：submission_Su20250601_4.csv\n"
     ]
    }
   ],
   "source": [
    "# ==== 7. 輸出為 CSV ====\n",
    "file_name = 'model_1_pred.csv'\n",
    "final_submission.to_csv(file_name, index=False, encoding='utf-8')\n",
    "print(f\"✅ 輸出完成：{file_name}\")"
   ]
  },
  {
   "cell_type": "code",
   "execution_count": null,
   "id": "f2a9d81a",
   "metadata": {},
   "outputs": [],
   "source": []
  }
 ],
 "metadata": {
  "kernelspec": {
   "display_name": "Python 3",
   "language": "python",
   "name": "python3"
  },
  "language_info": {
   "codemirror_mode": {
    "name": "ipython",
    "version": 3
   },
   "file_extension": ".py",
   "mimetype": "text/x-python",
   "name": "python",
   "nbconvert_exporter": "python",
   "pygments_lexer": "ipython3",
   "version": "3.10.16"
  }
 },
 "nbformat": 4,
 "nbformat_minor": 5
}
