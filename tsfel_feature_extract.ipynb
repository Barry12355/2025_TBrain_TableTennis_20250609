{
 "cells": [
  {
   "cell_type": "code",
   "execution_count": 1,
   "id": "e5828966",
   "metadata": {},
   "outputs": [],
   "source": [
    "import tsfel\n",
    "import re\n",
    "import numpy as np\n",
    "import pandas as pd\n",
    "import time\n",
    "from tqdm import tqdm\n",
    "import os"
   ]
  },
  {
   "cell_type": "markdown",
   "id": "b04abf6a",
   "metadata": {},
   "source": [
    "# 解析 cut_point 欄位為整數列表"
   ]
  },
  {
   "cell_type": "code",
   "execution_count": 2,
   "id": "3e4f56f2",
   "metadata": {},
   "outputs": [],
   "source": [
    "def check_cut_point(interval):\n",
    "    # 修正區間長度 <= 12 (n_coeff)，\n",
    "    size = 12\n",
    "    lst = [interval[0]]\n",
    "\n",
    "    for i in range(1, len(interval)):\n",
    "        if interval[i]-lst[-1] > size:\n",
    "            lst.append(interval[i])\n",
    "\n",
    "    return lst\n",
    "\n",
    "\n",
    "# 解析 cut_point 欄位為整數列表\n",
    "def parse_cut_point_string(s):\n",
    "    if isinstance(s, str):\n",
    "        s = s.strip().replace('[', '').replace(']', '')\n",
    "        return [int(x) for x in re.split(r'\\s+', s.strip()) if x]\n",
    "    return []"
   ]
  },
  {
   "cell_type": "markdown",
   "id": "f3a948b4",
   "metadata": {},
   "source": [
    "# TSFEL抽取訓練集特徵"
   ]
  },
  {
   "cell_type": "code",
   "execution_count": null,
   "id": "670dfcc1",
   "metadata": {},
   "outputs": [
    {
     "name": "stderr",
     "output_type": "stream",
     "text": [
      "Process mode 1: 100%|██████████| 42/42 [00:29<00:00,  1.41it/s]\n"
     ]
    },
    {
     "name": "stdout",
     "output_type": "stream",
     "text": [
      "✅ mode1 已儲存至：train/df_tsfel_train_mode1.csv\n"
     ]
    },
    {
     "name": "stderr",
     "output_type": "stream",
     "text": [
      "Process mode 2: 100%|██████████| 42/42 [00:30<00:00,  1.38it/s]\n"
     ]
    },
    {
     "name": "stdout",
     "output_type": "stream",
     "text": [
      "✅ mode2 已儲存至：train/df_tsfel_train_mode2.csv\n"
     ]
    },
    {
     "name": "stderr",
     "output_type": "stream",
     "text": [
      "Process mode 3: 100%|██████████| 42/42 [00:30<00:00,  1.36it/s]\n"
     ]
    },
    {
     "name": "stdout",
     "output_type": "stream",
     "text": [
      "✅ mode3 已儲存至：train/df_tsfel_train_mode3.csv\n"
     ]
    },
    {
     "name": "stderr",
     "output_type": "stream",
     "text": [
      "Process mode 4: 100%|██████████| 42/42 [00:30<00:00,  1.36it/s]\n"
     ]
    },
    {
     "name": "stdout",
     "output_type": "stream",
     "text": [
      "✅ mode4 已儲存至：train/df_tsfel_train_mode4.csv\n"
     ]
    },
    {
     "name": "stderr",
     "output_type": "stream",
     "text": [
      "Process mode 5: 100%|██████████| 42/42 [00:30<00:00,  1.36it/s]\n"
     ]
    },
    {
     "name": "stdout",
     "output_type": "stream",
     "text": [
      "✅ mode5 已儲存至：train/df_tsfel_train_mode5.csv\n"
     ]
    },
    {
     "name": "stderr",
     "output_type": "stream",
     "text": [
      "Process mode 6: 100%|██████████| 42/42 [00:30<00:00,  1.36it/s]\n"
     ]
    },
    {
     "name": "stdout",
     "output_type": "stream",
     "text": [
      "✅ mode6 已儲存至：train/df_tsfel_train_mode6.csv\n"
     ]
    },
    {
     "name": "stderr",
     "output_type": "stream",
     "text": [
      "Process mode 7:  41%|████      | 18/44 [00:13<00:19,  1.37it/s]/home/alec/.conda/envs/tsfel/lib/python3.8/site-packages/tsfel/feature_extraction/features.py:535: RuntimeWarning: Precision loss occurred in moment calculation due to catastrophic cancellation. This occurs when the data are nearly identical. Results may be unreliable.\n",
      "  return scipy.stats.kurtosis(signal)\n",
      "/home/alec/.conda/envs/tsfel/lib/python3.8/site-packages/tsfel/feature_extraction/features.py:554: RuntimeWarning: Precision loss occurred in moment calculation due to catastrophic cancellation. This occurs when the data are nearly identical. Results may be unreliable.\n",
      "  return scipy.stats.skew(signal)\n",
      "Process mode 7: 100%|██████████| 44/44 [00:32<00:00,  1.36it/s]\n"
     ]
    },
    {
     "name": "stdout",
     "output_type": "stream",
     "text": [
      "✅ mode7 已儲存至：train/df_tsfel_train_mode7.csv\n"
     ]
    },
    {
     "name": "stderr",
     "output_type": "stream",
     "text": [
      "Process mode 8: 100%|██████████| 45/45 [00:32<00:00,  1.37it/s]\n"
     ]
    },
    {
     "name": "stdout",
     "output_type": "stream",
     "text": [
      "✅ mode8 已儲存至：train/df_tsfel_train_mode8.csv\n"
     ]
    },
    {
     "name": "stderr",
     "output_type": "stream",
     "text": [
      "Process mode 9:  14%|█▍        | 110/785 [01:22<08:38,  1.30it/s]/home/alec/.conda/envs/tsfel/lib/python3.8/site-packages/tsfel/feature_extraction/features.py:535: RuntimeWarning: Precision loss occurred in moment calculation due to catastrophic cancellation. This occurs when the data are nearly identical. Results may be unreliable.\n",
      "  return scipy.stats.kurtosis(signal)\n",
      "/home/alec/.conda/envs/tsfel/lib/python3.8/site-packages/tsfel/feature_extraction/features.py:554: RuntimeWarning: Precision loss occurred in moment calculation due to catastrophic cancellation. This occurs when the data are nearly identical. Results may be unreliable.\n",
      "  return scipy.stats.skew(signal)\n",
      "Process mode 9:  15%|█▍        | 116/785 [01:26<08:35,  1.30it/s]/home/alec/.conda/envs/tsfel/lib/python3.8/site-packages/tsfel/feature_extraction/features.py:535: RuntimeWarning: Precision loss occurred in moment calculation due to catastrophic cancellation. This occurs when the data are nearly identical. Results may be unreliable.\n",
      "  return scipy.stats.kurtosis(signal)\n",
      "/home/alec/.conda/envs/tsfel/lib/python3.8/site-packages/tsfel/feature_extraction/features.py:554: RuntimeWarning: Precision loss occurred in moment calculation due to catastrophic cancellation. This occurs when the data are nearly identical. Results may be unreliable.\n",
      "  return scipy.stats.skew(signal)\n",
      "Process mode 9:  21%|██▏       | 168/785 [02:07<08:11,  1.26it/s]/home/alec/.conda/envs/tsfel/lib/python3.8/site-packages/tsfel/feature_extraction/features.py:535: RuntimeWarning: Precision loss occurred in moment calculation due to catastrophic cancellation. This occurs when the data are nearly identical. Results may be unreliable.\n",
      "  return scipy.stats.kurtosis(signal)\n",
      "/home/alec/.conda/envs/tsfel/lib/python3.8/site-packages/tsfel/feature_extraction/features.py:554: RuntimeWarning: Precision loss occurred in moment calculation due to catastrophic cancellation. This occurs when the data are nearly identical. Results may be unreliable.\n",
      "  return scipy.stats.skew(signal)\n",
      "Process mode 9:  30%|██▉       | 234/785 [03:03<08:29,  1.08it/s]/home/alec/.conda/envs/tsfel/lib/python3.8/site-packages/tsfel/feature_extraction/features.py:535: RuntimeWarning: Precision loss occurred in moment calculation due to catastrophic cancellation. This occurs when the data are nearly identical. Results may be unreliable.\n",
      "  return scipy.stats.kurtosis(signal)\n",
      "/home/alec/.conda/envs/tsfel/lib/python3.8/site-packages/tsfel/feature_extraction/features.py:554: RuntimeWarning: Precision loss occurred in moment calculation due to catastrophic cancellation. This occurs when the data are nearly identical. Results may be unreliable.\n",
      "  return scipy.stats.skew(signal)\n",
      "Process mode 9:  35%|███▍      | 271/785 [03:38<08:05,  1.06it/s]/home/alec/.conda/envs/tsfel/lib/python3.8/site-packages/tsfel/feature_extraction/features.py:535: RuntimeWarning: Precision loss occurred in moment calculation due to catastrophic cancellation. This occurs when the data are nearly identical. Results may be unreliable.\n",
      "  return scipy.stats.kurtosis(signal)\n",
      "/home/alec/.conda/envs/tsfel/lib/python3.8/site-packages/tsfel/feature_extraction/features.py:554: RuntimeWarning: Precision loss occurred in moment calculation due to catastrophic cancellation. This occurs when the data are nearly identical. Results may be unreliable.\n",
      "  return scipy.stats.skew(signal)\n",
      "Process mode 9:  35%|███▍      | 272/785 [03:39<08:04,  1.06it/s]/home/alec/.conda/envs/tsfel/lib/python3.8/site-packages/tsfel/feature_extraction/features.py:535: RuntimeWarning: Precision loss occurred in moment calculation due to catastrophic cancellation. This occurs when the data are nearly identical. Results may be unreliable.\n",
      "  return scipy.stats.kurtosis(signal)\n",
      "/home/alec/.conda/envs/tsfel/lib/python3.8/site-packages/tsfel/feature_extraction/features.py:554: RuntimeWarning: Precision loss occurred in moment calculation due to catastrophic cancellation. This occurs when the data are nearly identical. Results may be unreliable.\n",
      "  return scipy.stats.skew(signal)\n",
      "Process mode 9:  35%|███▌      | 278/785 [03:45<08:00,  1.06it/s]/home/alec/.conda/envs/tsfel/lib/python3.8/site-packages/tsfel/feature_extraction/features.py:535: RuntimeWarning: Precision loss occurred in moment calculation due to catastrophic cancellation. This occurs when the data are nearly identical. Results may be unreliable.\n",
      "  return scipy.stats.kurtosis(signal)\n",
      "/home/alec/.conda/envs/tsfel/lib/python3.8/site-packages/tsfel/feature_extraction/features.py:554: RuntimeWarning: Precision loss occurred in moment calculation due to catastrophic cancellation. This occurs when the data are nearly identical. Results may be unreliable.\n",
      "  return scipy.stats.skew(signal)\n",
      "Process mode 9:  36%|███▌      | 280/785 [03:46<07:59,  1.05it/s]/home/alec/.conda/envs/tsfel/lib/python3.8/site-packages/tsfel/feature_extraction/features.py:535: RuntimeWarning: Precision loss occurred in moment calculation due to catastrophic cancellation. This occurs when the data are nearly identical. Results may be unreliable.\n",
      "  return scipy.stats.kurtosis(signal)\n",
      "/home/alec/.conda/envs/tsfel/lib/python3.8/site-packages/tsfel/feature_extraction/features.py:554: RuntimeWarning: Precision loss occurred in moment calculation due to catastrophic cancellation. This occurs when the data are nearly identical. Results may be unreliable.\n",
      "  return scipy.stats.skew(signal)\n",
      "Process mode 9:  36%|███▌      | 281/785 [03:47<07:58,  1.05it/s]/home/alec/.conda/envs/tsfel/lib/python3.8/site-packages/tsfel/feature_extraction/features.py:535: RuntimeWarning: Precision loss occurred in moment calculation due to catastrophic cancellation. This occurs when the data are nearly identical. Results may be unreliable.\n",
      "  return scipy.stats.kurtosis(signal)\n",
      "/home/alec/.conda/envs/tsfel/lib/python3.8/site-packages/tsfel/feature_extraction/features.py:554: RuntimeWarning: Precision loss occurred in moment calculation due to catastrophic cancellation. This occurs when the data are nearly identical. Results may be unreliable.\n",
      "  return scipy.stats.skew(signal)\n",
      "Process mode 9:  41%|████      | 321/785 [04:26<07:34,  1.02it/s]/home/alec/.conda/envs/tsfel/lib/python3.8/site-packages/tsfel/feature_extraction/features.py:535: RuntimeWarning: Precision loss occurred in moment calculation due to catastrophic cancellation. This occurs when the data are nearly identical. Results may be unreliable.\n",
      "  return scipy.stats.kurtosis(signal)\n",
      "/home/alec/.conda/envs/tsfel/lib/python3.8/site-packages/tsfel/feature_extraction/features.py:554: RuntimeWarning: Precision loss occurred in moment calculation due to catastrophic cancellation. This occurs when the data are nearly identical. Results may be unreliable.\n",
      "  return scipy.stats.skew(signal)\n",
      "Process mode 9:  42%|████▏     | 327/785 [04:32<07:29,  1.02it/s]/home/alec/.conda/envs/tsfel/lib/python3.8/site-packages/tsfel/feature_extraction/features.py:535: RuntimeWarning: Precision loss occurred in moment calculation due to catastrophic cancellation. This occurs when the data are nearly identical. Results may be unreliable.\n",
      "  return scipy.stats.kurtosis(signal)\n",
      "/home/alec/.conda/envs/tsfel/lib/python3.8/site-packages/tsfel/feature_extraction/features.py:554: RuntimeWarning: Precision loss occurred in moment calculation due to catastrophic cancellation. This occurs when the data are nearly identical. Results may be unreliable.\n",
      "  return scipy.stats.skew(signal)\n",
      "Process mode 9:  42%|████▏     | 332/785 [04:37<07:26,  1.02it/s]/home/alec/.conda/envs/tsfel/lib/python3.8/site-packages/tsfel/feature_extraction/features.py:535: RuntimeWarning: Precision loss occurred in moment calculation due to catastrophic cancellation. This occurs when the data are nearly identical. Results may be unreliable.\n",
      "  return scipy.stats.kurtosis(signal)\n",
      "/home/alec/.conda/envs/tsfel/lib/python3.8/site-packages/tsfel/feature_extraction/features.py:554: RuntimeWarning: Precision loss occurred in moment calculation due to catastrophic cancellation. This occurs when the data are nearly identical. Results may be unreliable.\n",
      "  return scipy.stats.skew(signal)\n",
      "Process mode 9:  43%|████▎     | 339/785 [04:44<07:21,  1.01it/s]/home/alec/.conda/envs/tsfel/lib/python3.8/site-packages/tsfel/feature_extraction/features.py:535: RuntimeWarning: Precision loss occurred in moment calculation due to catastrophic cancellation. This occurs when the data are nearly identical. Results may be unreliable.\n",
      "  return scipy.stats.kurtosis(signal)\n",
      "/home/alec/.conda/envs/tsfel/lib/python3.8/site-packages/tsfel/feature_extraction/features.py:554: RuntimeWarning: Precision loss occurred in moment calculation due to catastrophic cancellation. This occurs when the data are nearly identical. Results may be unreliable.\n",
      "  return scipy.stats.skew(signal)\n",
      "Process mode 9:  47%|████▋     | 371/785 [05:16<06:57,  1.01s/it]/home/alec/.conda/envs/tsfel/lib/python3.8/site-packages/tsfel/feature_extraction/features.py:535: RuntimeWarning: Precision loss occurred in moment calculation due to catastrophic cancellation. This occurs when the data are nearly identical. Results may be unreliable.\n",
      "  return scipy.stats.kurtosis(signal)\n",
      "/home/alec/.conda/envs/tsfel/lib/python3.8/site-packages/tsfel/feature_extraction/features.py:554: RuntimeWarning: Precision loss occurred in moment calculation due to catastrophic cancellation. This occurs when the data are nearly identical. Results may be unreliable.\n",
      "  return scipy.stats.skew(signal)\n",
      "Process mode 9:  69%|██████▉   | 543/785 [08:19<04:30,  1.12s/it]/home/alec/.conda/envs/tsfel/lib/python3.8/site-packages/tsfel/feature_extraction/features.py:535: RuntimeWarning: Precision loss occurred in moment calculation due to catastrophic cancellation. This occurs when the data are nearly identical. Results may be unreliable.\n",
      "  return scipy.stats.kurtosis(signal)\n",
      "/home/alec/.conda/envs/tsfel/lib/python3.8/site-packages/tsfel/feature_extraction/features.py:554: RuntimeWarning: Precision loss occurred in moment calculation due to catastrophic cancellation. This occurs when the data are nearly identical. Results may be unreliable.\n",
      "  return scipy.stats.skew(signal)\n",
      "Process mode 9:  87%|████████▋ | 683/785 [11:00<02:03,  1.21s/it]/home/alec/.conda/envs/tsfel/lib/python3.8/site-packages/tsfel/feature_extraction/features.py:535: RuntimeWarning: Precision loss occurred in moment calculation due to catastrophic cancellation. This occurs when the data are nearly identical. Results may be unreliable.\n",
      "  return scipy.stats.kurtosis(signal)\n",
      "/home/alec/.conda/envs/tsfel/lib/python3.8/site-packages/tsfel/feature_extraction/features.py:554: RuntimeWarning: Precision loss occurred in moment calculation due to catastrophic cancellation. This occurs when the data are nearly identical. Results may be unreliable.\n",
      "  return scipy.stats.skew(signal)\n",
      "Process mode 9: 100%|██████████| 785/785 [13:06<00:00,  1.00s/it]\n"
     ]
    },
    {
     "name": "stdout",
     "output_type": "stream",
     "text": [
      "✅ mode9 已儲存至：train/df_tsfel_train_mode9.csv\n"
     ]
    },
    {
     "name": "stderr",
     "output_type": "stream",
     "text": [
      "Process mode 10:  17%|█▋        | 137/829 [01:42<09:00,  1.28it/s]/home/alec/.conda/envs/tsfel/lib/python3.8/site-packages/tsfel/feature_extraction/features.py:535: RuntimeWarning: Precision loss occurred in moment calculation due to catastrophic cancellation. This occurs when the data are nearly identical. Results may be unreliable.\n",
      "  return scipy.stats.kurtosis(signal)\n",
      "/home/alec/.conda/envs/tsfel/lib/python3.8/site-packages/tsfel/feature_extraction/features.py:554: RuntimeWarning: Precision loss occurred in moment calculation due to catastrophic cancellation. This occurs when the data are nearly identical. Results may be unreliable.\n",
      "  return scipy.stats.skew(signal)\n",
      "Process mode 10:  17%|█▋        | 141/829 [01:46<08:58,  1.28it/s]/home/alec/.conda/envs/tsfel/lib/python3.8/site-packages/tsfel/feature_extraction/features.py:535: RuntimeWarning: Precision loss occurred in moment calculation due to catastrophic cancellation. This occurs when the data are nearly identical. Results may be unreliable.\n",
      "  return scipy.stats.kurtosis(signal)\n",
      "/home/alec/.conda/envs/tsfel/lib/python3.8/site-packages/tsfel/feature_extraction/features.py:554: RuntimeWarning: Precision loss occurred in moment calculation due to catastrophic cancellation. This occurs when the data are nearly identical. Results may be unreliable.\n",
      "  return scipy.stats.skew(signal)\n",
      "Process mode 10:  17%|█▋        | 143/829 [01:47<08:56,  1.28it/s]/home/alec/.conda/envs/tsfel/lib/python3.8/site-packages/tsfel/feature_extraction/features.py:535: RuntimeWarning: Precision loss occurred in moment calculation due to catastrophic cancellation. This occurs when the data are nearly identical. Results may be unreliable.\n",
      "  return scipy.stats.kurtosis(signal)\n",
      "/home/alec/.conda/envs/tsfel/lib/python3.8/site-packages/tsfel/feature_extraction/features.py:554: RuntimeWarning: Precision loss occurred in moment calculation due to catastrophic cancellation. This occurs when the data are nearly identical. Results may be unreliable.\n",
      "  return scipy.stats.skew(signal)\n",
      "Process mode 10:  25%|██▍       | 205/829 [02:37<08:30,  1.22it/s]/home/alec/.conda/envs/tsfel/lib/python3.8/site-packages/tsfel/feature_extraction/features.py:535: RuntimeWarning: Precision loss occurred in moment calculation due to catastrophic cancellation. This occurs when the data are nearly identical. Results may be unreliable.\n",
      "  return scipy.stats.kurtosis(signal)\n",
      "/home/alec/.conda/envs/tsfel/lib/python3.8/site-packages/tsfel/feature_extraction/features.py:554: RuntimeWarning: Precision loss occurred in moment calculation due to catastrophic cancellation. This occurs when the data are nearly identical. Results may be unreliable.\n",
      "  return scipy.stats.skew(signal)\n",
      "Process mode 10:  25%|██▌       | 208/829 [02:39<08:27,  1.22it/s]/home/alec/.conda/envs/tsfel/lib/python3.8/site-packages/tsfel/feature_extraction/features.py:535: RuntimeWarning: Precision loss occurred in moment calculation due to catastrophic cancellation. This occurs when the data are nearly identical. Results may be unreliable.\n",
      "  return scipy.stats.kurtosis(signal)\n",
      "/home/alec/.conda/envs/tsfel/lib/python3.8/site-packages/tsfel/feature_extraction/features.py:554: RuntimeWarning: Precision loss occurred in moment calculation due to catastrophic cancellation. This occurs when the data are nearly identical. Results may be unreliable.\n",
      "  return scipy.stats.skew(signal)\n",
      "Process mode 10:  35%|███▍      | 288/829 [03:54<08:41,  1.04it/s]/home/alec/.conda/envs/tsfel/lib/python3.8/site-packages/tsfel/feature_extraction/features.py:535: RuntimeWarning: Precision loss occurred in moment calculation due to catastrophic cancellation. This occurs when the data are nearly identical. Results may be unreliable.\n",
      "  return scipy.stats.kurtosis(signal)\n",
      "/home/alec/.conda/envs/tsfel/lib/python3.8/site-packages/tsfel/feature_extraction/features.py:554: RuntimeWarning: Precision loss occurred in moment calculation due to catastrophic cancellation. This occurs when the data are nearly identical. Results may be unreliable.\n",
      "  return scipy.stats.skew(signal)\n",
      "Process mode 10:  35%|███▌      | 292/829 [03:58<08:37,  1.04it/s]/home/alec/.conda/envs/tsfel/lib/python3.8/site-packages/tsfel/feature_extraction/features.py:535: RuntimeWarning: Precision loss occurred in moment calculation due to catastrophic cancellation. This occurs when the data are nearly identical. Results may be unreliable.\n",
      "  return scipy.stats.kurtosis(signal)\n",
      "/home/alec/.conda/envs/tsfel/lib/python3.8/site-packages/tsfel/feature_extraction/features.py:554: RuntimeWarning: Precision loss occurred in moment calculation due to catastrophic cancellation. This occurs when the data are nearly identical. Results may be unreliable.\n",
      "  return scipy.stats.skew(signal)\n",
      "Process mode 10:  35%|███▌      | 293/829 [03:59<08:36,  1.04it/s]/home/alec/.conda/envs/tsfel/lib/python3.8/site-packages/tsfel/feature_extraction/features.py:535: RuntimeWarning: Precision loss occurred in moment calculation due to catastrophic cancellation. This occurs when the data are nearly identical. Results may be unreliable.\n",
      "  return scipy.stats.kurtosis(signal)\n",
      "/home/alec/.conda/envs/tsfel/lib/python3.8/site-packages/tsfel/feature_extraction/features.py:554: RuntimeWarning: Precision loss occurred in moment calculation due to catastrophic cancellation. This occurs when the data are nearly identical. Results may be unreliable.\n",
      "  return scipy.stats.skew(signal)\n",
      "Process mode 10:  36%|███▌      | 295/829 [04:01<08:35,  1.04it/s]/home/alec/.conda/envs/tsfel/lib/python3.8/site-packages/tsfel/feature_extraction/features.py:535: RuntimeWarning: Precision loss occurred in moment calculation due to catastrophic cancellation. This occurs when the data are nearly identical. Results may be unreliable.\n",
      "  return scipy.stats.kurtosis(signal)\n",
      "/home/alec/.conda/envs/tsfel/lib/python3.8/site-packages/tsfel/feature_extraction/features.py:554: RuntimeWarning: Precision loss occurred in moment calculation due to catastrophic cancellation. This occurs when the data are nearly identical. Results may be unreliable.\n",
      "  return scipy.stats.skew(signal)\n",
      "/home/alec/.conda/envs/tsfel/lib/python3.8/site-packages/tsfel/feature_extraction/features.py:535: RuntimeWarning: Precision loss occurred in moment calculation due to catastrophic cancellation. This occurs when the data are nearly identical. Results may be unreliable.\n",
      "  return scipy.stats.kurtosis(signal)\n",
      "/home/alec/.conda/envs/tsfel/lib/python3.8/site-packages/tsfel/feature_extraction/features.py:554: RuntimeWarning: Precision loss occurred in moment calculation due to catastrophic cancellation. This occurs when the data are nearly identical. Results may be unreliable.\n",
      "  return scipy.stats.skew(signal)\n",
      "Process mode 10:  36%|███▌      | 297/829 [04:02<08:34,  1.03it/s]/home/alec/.conda/envs/tsfel/lib/python3.8/site-packages/tsfel/feature_extraction/features.py:535: RuntimeWarning: Precision loss occurred in moment calculation due to catastrophic cancellation. This occurs when the data are nearly identical. Results may be unreliable.\n",
      "  return scipy.stats.kurtosis(signal)\n",
      "/home/alec/.conda/envs/tsfel/lib/python3.8/site-packages/tsfel/feature_extraction/features.py:554: RuntimeWarning: Precision loss occurred in moment calculation due to catastrophic cancellation. This occurs when the data are nearly identical. Results may be unreliable.\n",
      "  return scipy.stats.skew(signal)\n",
      "/home/alec/.conda/envs/tsfel/lib/python3.8/site-packages/tsfel/feature_extraction/features.py:535: RuntimeWarning: Precision loss occurred in moment calculation due to catastrophic cancellation. This occurs when the data are nearly identical. Results may be unreliable.\n",
      "  return scipy.stats.kurtosis(signal)\n",
      "/home/alec/.conda/envs/tsfel/lib/python3.8/site-packages/tsfel/feature_extraction/features.py:554: RuntimeWarning: Precision loss occurred in moment calculation due to catastrophic cancellation. This occurs when the data are nearly identical. Results may be unreliable.\n",
      "  return scipy.stats.skew(signal)\n",
      "/home/alec/.conda/envs/tsfel/lib/python3.8/site-packages/tsfel/feature_extraction/features.py:535: RuntimeWarning: Precision loss occurred in moment calculation due to catastrophic cancellation. This occurs when the data are nearly identical. Results may be unreliable.\n",
      "  return scipy.stats.kurtosis(signal)\n",
      "/home/alec/.conda/envs/tsfel/lib/python3.8/site-packages/tsfel/feature_extraction/features.py:554: RuntimeWarning: Precision loss occurred in moment calculation due to catastrophic cancellation. This occurs when the data are nearly identical. Results may be unreliable.\n",
      "  return scipy.stats.skew(signal)\n",
      "/home/alec/.conda/envs/tsfel/lib/python3.8/site-packages/tsfel/feature_extraction/features.py:535: RuntimeWarning: Precision loss occurred in moment calculation due to catastrophic cancellation. This occurs when the data are nearly identical. Results may be unreliable.\n",
      "  return scipy.stats.kurtosis(signal)\n",
      "/home/alec/.conda/envs/tsfel/lib/python3.8/site-packages/tsfel/feature_extraction/features.py:554: RuntimeWarning: Precision loss occurred in moment calculation due to catastrophic cancellation. This occurs when the data are nearly identical. Results may be unreliable.\n",
      "  return scipy.stats.skew(signal)\n",
      "Process mode 10:  38%|███▊      | 318/829 [04:23<08:23,  1.01it/s]/home/alec/.conda/envs/tsfel/lib/python3.8/site-packages/tsfel/feature_extraction/features.py:535: RuntimeWarning: Precision loss occurred in moment calculation due to catastrophic cancellation. This occurs when the data are nearly identical. Results may be unreliable.\n",
      "  return scipy.stats.kurtosis(signal)\n",
      "/home/alec/.conda/envs/tsfel/lib/python3.8/site-packages/tsfel/feature_extraction/features.py:554: RuntimeWarning: Precision loss occurred in moment calculation due to catastrophic cancellation. This occurs when the data are nearly identical. Results may be unreliable.\n",
      "  return scipy.stats.skew(signal)\n",
      "Process mode 10:  63%|██████▎   | 521/829 [07:52<05:36,  1.09s/it]/home/alec/.conda/envs/tsfel/lib/python3.8/site-packages/tsfel/feature_extraction/features.py:535: RuntimeWarning: Precision loss occurred in moment calculation due to catastrophic cancellation. This occurs when the data are nearly identical. Results may be unreliable.\n",
      "  return scipy.stats.kurtosis(signal)\n",
      "/home/alec/.conda/envs/tsfel/lib/python3.8/site-packages/tsfel/feature_extraction/features.py:554: RuntimeWarning: Precision loss occurred in moment calculation due to catastrophic cancellation. This occurs when the data are nearly identical. Results may be unreliable.\n",
      "  return scipy.stats.skew(signal)\n",
      "Process mode 10:  81%|████████  | 673/829 [10:46<03:06,  1.19s/it]/home/alec/.conda/envs/tsfel/lib/python3.8/site-packages/tsfel/feature_extraction/features.py:535: RuntimeWarning: Precision loss occurred in moment calculation due to catastrophic cancellation. This occurs when the data are nearly identical. Results may be unreliable.\n",
      "  return scipy.stats.kurtosis(signal)\n",
      "/home/alec/.conda/envs/tsfel/lib/python3.8/site-packages/tsfel/feature_extraction/features.py:554: RuntimeWarning: Precision loss occurred in moment calculation due to catastrophic cancellation. This occurs when the data are nearly identical. Results may be unreliable.\n",
      "  return scipy.stats.skew(signal)\n",
      "Process mode 10:  82%|████████▏ | 676/829 [10:50<03:02,  1.19s/it]/home/alec/.conda/envs/tsfel/lib/python3.8/site-packages/tsfel/feature_extraction/features.py:535: RuntimeWarning: Precision loss occurred in moment calculation due to catastrophic cancellation. This occurs when the data are nearly identical. Results may be unreliable.\n",
      "  return scipy.stats.kurtosis(signal)\n",
      "/home/alec/.conda/envs/tsfel/lib/python3.8/site-packages/tsfel/feature_extraction/features.py:554: RuntimeWarning: Precision loss occurred in moment calculation due to catastrophic cancellation. This occurs when the data are nearly identical. Results may be unreliable.\n",
      "  return scipy.stats.skew(signal)\n",
      "Process mode 10:  82%|████████▏ | 681/829 [10:56<02:57,  1.20s/it]/home/alec/.conda/envs/tsfel/lib/python3.8/site-packages/tsfel/feature_extraction/features.py:535: RuntimeWarning: Precision loss occurred in moment calculation due to catastrophic cancellation. This occurs when the data are nearly identical. Results may be unreliable.\n",
      "  return scipy.stats.kurtosis(signal)\n",
      "/home/alec/.conda/envs/tsfel/lib/python3.8/site-packages/tsfel/feature_extraction/features.py:554: RuntimeWarning: Precision loss occurred in moment calculation due to catastrophic cancellation. This occurs when the data are nearly identical. Results may be unreliable.\n",
      "  return scipy.stats.skew(signal)\n",
      "Process mode 10:  83%|████████▎ | 687/829 [11:03<02:50,  1.20s/it]/home/alec/.conda/envs/tsfel/lib/python3.8/site-packages/tsfel/feature_extraction/features.py:535: RuntimeWarning: Precision loss occurred in moment calculation due to catastrophic cancellation. This occurs when the data are nearly identical. Results may be unreliable.\n",
      "  return scipy.stats.kurtosis(signal)\n",
      "/home/alec/.conda/envs/tsfel/lib/python3.8/site-packages/tsfel/feature_extraction/features.py:554: RuntimeWarning: Precision loss occurred in moment calculation due to catastrophic cancellation. This occurs when the data are nearly identical. Results may be unreliable.\n",
      "  return scipy.stats.skew(signal)\n",
      "Process mode 10:  83%|████████▎ | 688/829 [11:04<02:49,  1.20s/it]/home/alec/.conda/envs/tsfel/lib/python3.8/site-packages/tsfel/feature_extraction/features.py:535: RuntimeWarning: Precision loss occurred in moment calculation due to catastrophic cancellation. This occurs when the data are nearly identical. Results may be unreliable.\n",
      "  return scipy.stats.kurtosis(signal)\n",
      "/home/alec/.conda/envs/tsfel/lib/python3.8/site-packages/tsfel/feature_extraction/features.py:554: RuntimeWarning: Precision loss occurred in moment calculation due to catastrophic cancellation. This occurs when the data are nearly identical. Results may be unreliable.\n",
      "  return scipy.stats.skew(signal)\n",
      "Process mode 10: 100%|██████████| 829/829 [14:00<00:00,  1.01s/it]\n"
     ]
    },
    {
     "name": "stdout",
     "output_type": "stream",
     "text": [
      "✅ mode10 已儲存至：train/df_tsfel_train_mode10.csv\n",
      "總執行時間： 31.62 分鐘\n"
     ]
    }
   ],
   "source": [
    "\n",
    "# 避免抽取 spectrogram 特徵，減少欄位爆炸\n",
    "cfg_file = tsfel.get_features_by_domain()\n",
    "cfg_file = {k: {f: v for f, v in feats.items() if 'spectrogram' not in f.lower()} for k, feats in cfg_file.items()}\n",
    "\n",
    "fs = 85\n",
    "output_folder = \"TSFEL/train\"\n",
    "os.makedirs(output_folder, exist_ok=True)\n",
    "\n",
    "train_path = r\"data/39_Training_Dataset/train_data\"\n",
    "\n",
    "start_time = time.time()\n",
    "\n",
    "for mode in range(1, 11):\n",
    "    try:\n",
    "        del df_tsfel\n",
    "    except:\n",
    "        pass\n",
    "    \n",
    "    \n",
    "    train_file = rf\"new_cut_train_1/train_info_mode{mode}_updated.csv\"\n",
    "    df = pd.read_csv(train_file)\n",
    "\n",
    "    df_mode = df[df['mode'] == mode]\n",
    "\n",
    "    for i in tqdm(df_mode.index, desc=f\"Process mode {mode}\"):\n",
    "        file = os.path.join(train_path, str(df_mode.loc[i, 'unique_id']) + \".txt\")\n",
    "        if not os.path.exists(file):\n",
    "            print(f\"❌ File not found: {file}\")\n",
    "            continue\n",
    "\n",
    "        df_data = pd.read_csv(file, sep=' ', names=['Ax', 'Ay', 'Az', 'Gx', 'Gy', 'Gz'])\n",
    "        cut_points = parse_cut_point_string(df_mode.loc[i, 'cut_point'])\n",
    "        cut_points = check_cut_point(cut_points)  # ✅ 你原本有這個函數，這裡假設存在\n",
    "\n",
    "        df_row_data = df_mode.loc[[i], ['unique_id', 'player_id', 'mode', 'gender', \n",
    "                                        'hold racket handed', 'play years', 'level']].reset_index(drop=True)\n",
    "\n",
    "        try:\n",
    "            for idx in range(len(cut_points) - 1):\n",
    "                start_idx = cut_points[idx]\n",
    "                end_idx = cut_points[idx + 1]\n",
    "                segment = df_data.iloc[start_idx:end_idx, :]\n",
    "\n",
    "                df_fea = tsfel.time_series_features_extractor(cfg_file, segment, fs=fs, verbose=0)\n",
    "                df_fea['interval'] = end_idx - start_idx\n",
    "                df_fea['cut_point_start'] = start_idx\n",
    "                df_fea['cut_point_end'] = end_idx\n",
    "\n",
    "                # 加入中繼資料\n",
    "                df_fea = pd.concat([df_fea, df_row_data], axis=1)\n",
    "\n",
    "                try:\n",
    "                    df_tsfel = pd.concat([df_tsfel, df_fea], ignore_index=True)\n",
    "                except:\n",
    "                    df_tsfel = df_fea.copy()\n",
    "        except Exception as e:\n",
    "            print(f\"❗ Error in mode {mode}, file: {file}\")\n",
    "            print(e)\n",
    "    \n",
    "    output_path = os.path.join(output_folder, f\"df_tsfel_train_mode{mode}.csv\")\n",
    "    df_tsfel.to_csv(output_path, index=False)\n",
    "    print(f\"✅ mode{mode} 已儲存至：{output_path}\")\n",
    "\n",
    "\n",
    "end_time = time.time()\n",
    "print(\"總執行時間：\", round((end_time - start_time) / 60, 2), \"分鐘\")\n"
   ]
  },
  {
   "cell_type": "markdown",
   "id": "7fc42cbf",
   "metadata": {},
   "source": [
    "# TSFEL抽取測試集特徵"
   ]
  },
  {
   "cell_type": "code",
   "execution_count": null,
   "id": "634e55a0",
   "metadata": {},
   "outputs": [
    {
     "name": "stderr",
     "output_type": "stream",
     "text": [
      "Process mode 1:  97%|█████████▋| 31/32 [00:21<00:00,  1.45it/s]/home/alec/.conda/envs/tsfel/lib/python3.8/site-packages/tsfel/feature_extraction/features.py:535: RuntimeWarning: Precision loss occurred in moment calculation due to catastrophic cancellation. This occurs when the data are nearly identical. Results may be unreliable.\n",
      "  return scipy.stats.kurtosis(signal)\n",
      "/home/alec/.conda/envs/tsfel/lib/python3.8/site-packages/tsfel/feature_extraction/features.py:554: RuntimeWarning: Precision loss occurred in moment calculation due to catastrophic cancellation. This occurs when the data are nearly identical. Results may be unreliable.\n",
      "  return scipy.stats.skew(signal)\n",
      "Process mode 1: 100%|██████████| 32/32 [00:22<00:00,  1.45it/s]\n"
     ]
    },
    {
     "name": "stdout",
     "output_type": "stream",
     "text": [
      "✅ mode1 已儲存至：test/df_tsfel_test_mode1.csv\n"
     ]
    },
    {
     "name": "stderr",
     "output_type": "stream",
     "text": [
      "Process mode 2: 100%|██████████| 31/31 [00:22<00:00,  1.40it/s]\n"
     ]
    },
    {
     "name": "stdout",
     "output_type": "stream",
     "text": [
      "✅ mode2 已儲存至：test/df_tsfel_test_mode2.csv\n"
     ]
    },
    {
     "name": "stderr",
     "output_type": "stream",
     "text": [
      "Process mode 3: 100%|██████████| 31/31 [00:22<00:00,  1.37it/s]\n"
     ]
    },
    {
     "name": "stdout",
     "output_type": "stream",
     "text": [
      "✅ mode3 已儲存至：test/df_tsfel_test_mode3.csv\n"
     ]
    },
    {
     "name": "stderr",
     "output_type": "stream",
     "text": [
      "Process mode 4: 100%|██████████| 31/31 [00:22<00:00,  1.37it/s]\n"
     ]
    },
    {
     "name": "stdout",
     "output_type": "stream",
     "text": [
      "✅ mode4 已儲存至：test/df_tsfel_test_mode4.csv\n"
     ]
    },
    {
     "name": "stderr",
     "output_type": "stream",
     "text": [
      "Process mode 5: 100%|██████████| 31/31 [00:22<00:00,  1.36it/s]\n"
     ]
    },
    {
     "name": "stdout",
     "output_type": "stream",
     "text": [
      "✅ mode5 已儲存至：test/df_tsfel_test_mode5.csv\n"
     ]
    },
    {
     "name": "stderr",
     "output_type": "stream",
     "text": [
      "Process mode 6: 100%|██████████| 31/31 [00:22<00:00,  1.36it/s]\n"
     ]
    },
    {
     "name": "stdout",
     "output_type": "stream",
     "text": [
      "✅ mode6 已儲存至：test/df_tsfel_test_mode6.csv\n"
     ]
    },
    {
     "name": "stderr",
     "output_type": "stream",
     "text": [
      "Process mode 7:  90%|█████████ | 28/31 [00:20<00:02,  1.36it/s]/home/alec/.conda/envs/tsfel/lib/python3.8/site-packages/tsfel/feature_extraction/features.py:535: RuntimeWarning: Precision loss occurred in moment calculation due to catastrophic cancellation. This occurs when the data are nearly identical. Results may be unreliable.\n",
      "  return scipy.stats.kurtosis(signal)\n",
      "/home/alec/.conda/envs/tsfel/lib/python3.8/site-packages/tsfel/feature_extraction/features.py:554: RuntimeWarning: Precision loss occurred in moment calculation due to catastrophic cancellation. This occurs when the data are nearly identical. Results may be unreliable.\n",
      "  return scipy.stats.skew(signal)\n",
      "Process mode 7: 100%|██████████| 31/31 [00:22<00:00,  1.37it/s]\n"
     ]
    },
    {
     "name": "stdout",
     "output_type": "stream",
     "text": [
      "✅ mode7 已儲存至：test/df_tsfel_test_mode7.csv\n"
     ]
    },
    {
     "name": "stderr",
     "output_type": "stream",
     "text": [
      "Process mode 8: 100%|██████████| 31/31 [00:22<00:00,  1.36it/s]\n"
     ]
    },
    {
     "name": "stdout",
     "output_type": "stream",
     "text": [
      "✅ mode8 已儲存至：test/df_tsfel_test_mode8.csv\n"
     ]
    },
    {
     "name": "stderr",
     "output_type": "stream",
     "text": [
      "Process mode 9: 100%|██████████| 476/476 [06:52<00:00,  1.15it/s]\n"
     ]
    },
    {
     "name": "stdout",
     "output_type": "stream",
     "text": [
      "✅ mode9 已儲存至：test/df_tsfel_test_mode9.csv\n"
     ]
    },
    {
     "name": "stderr",
     "output_type": "stream",
     "text": [
      "Process mode 10:  19%|█▉        | 133/705 [01:35<07:22,  1.29it/s]/home/alec/.conda/envs/tsfel/lib/python3.8/site-packages/tsfel/feature_extraction/features.py:535: RuntimeWarning: Precision loss occurred in moment calculation due to catastrophic cancellation. This occurs when the data are nearly identical. Results may be unreliable.\n",
      "  return scipy.stats.kurtosis(signal)\n",
      "/home/alec/.conda/envs/tsfel/lib/python3.8/site-packages/tsfel/feature_extraction/features.py:554: RuntimeWarning: Precision loss occurred in moment calculation due to catastrophic cancellation. This occurs when the data are nearly identical. Results may be unreliable.\n",
      "  return scipy.stats.skew(signal)\n",
      "Process mode 10:  62%|██████▏   | 440/705 [06:16<04:38,  1.05s/it]/home/alec/.conda/envs/tsfel/lib/python3.8/site-packages/tsfel/feature_extraction/features.py:535: RuntimeWarning: Precision loss occurred in moment calculation due to catastrophic cancellation. This occurs when the data are nearly identical. Results may be unreliable.\n",
      "  return scipy.stats.kurtosis(signal)\n",
      "/home/alec/.conda/envs/tsfel/lib/python3.8/site-packages/tsfel/feature_extraction/features.py:554: RuntimeWarning: Precision loss occurred in moment calculation due to catastrophic cancellation. This occurs when the data are nearly identical. Results may be unreliable.\n",
      "  return scipy.stats.skew(signal)\n",
      "Process mode 10:  67%|██████▋   | 473/705 [06:51<04:06,  1.06s/it]/home/alec/.conda/envs/tsfel/lib/python3.8/site-packages/tsfel/feature_extraction/features.py:535: RuntimeWarning: Precision loss occurred in moment calculation due to catastrophic cancellation. This occurs when the data are nearly identical. Results may be unreliable.\n",
      "  return scipy.stats.kurtosis(signal)\n",
      "/home/alec/.conda/envs/tsfel/lib/python3.8/site-packages/tsfel/feature_extraction/features.py:554: RuntimeWarning: Precision loss occurred in moment calculation due to catastrophic cancellation. This occurs when the data are nearly identical. Results may be unreliable.\n",
      "  return scipy.stats.skew(signal)\n",
      "Process mode 10:  76%|███████▌  | 537/705 [07:56<02:40,  1.04it/s]/home/alec/.conda/envs/tsfel/lib/python3.8/site-packages/tsfel/feature_extraction/features.py:535: RuntimeWarning: Precision loss occurred in moment calculation due to catastrophic cancellation. This occurs when the data are nearly identical. Results may be unreliable.\n",
      "  return scipy.stats.kurtosis(signal)\n",
      "/home/alec/.conda/envs/tsfel/lib/python3.8/site-packages/tsfel/feature_extraction/features.py:554: RuntimeWarning: Precision loss occurred in moment calculation due to catastrophic cancellation. This occurs when the data are nearly identical. Results may be unreliable.\n",
      "  return scipy.stats.skew(signal)\n",
      "Process mode 10: 100%|██████████| 705/705 [11:07<00:00,  1.06it/s]\n"
     ]
    },
    {
     "name": "stdout",
     "output_type": "stream",
     "text": [
      "✅ mode10 已儲存至：test/df_tsfel_test_mode10.csv\n",
      "總執行時間： 21.28 分鐘\n"
     ]
    }
   ],
   "source": [
    "\n",
    "# 避免抽取 spectrogram 特徵，減少欄位爆炸\n",
    "cfg_file = tsfel.get_features_by_domain()\n",
    "cfg_file = {k: {f: v for f, v in feats.items() if 'spectrogram' not in f.lower()} for k, feats in cfg_file.items()}\n",
    "\n",
    "fs = 85\n",
    "output_folder = \"TSFEL/test\"\n",
    "os.makedirs(output_folder, exist_ok=True)\n",
    "\n",
    "test_path = r\"data/39_Test_Dataset/test_data\"\n",
    "\n",
    "start_time = time.time()\n",
    "\n",
    "for mode in range(1, 11):\n",
    "    try:\n",
    "        del df_tsfel\n",
    "    except:\n",
    "        pass\n",
    "    \n",
    "    \n",
    "    test_file = rf\"new_cut_test_1/test_info_mode{mode}_updated.csv\"\n",
    "    df = pd.read_csv(test_file)\n",
    "\n",
    "    df_mode = df[df['mode'] == mode]\n",
    "\n",
    "    for i in tqdm(df_mode.index, desc=f\"Process mode {mode}\"):\n",
    "        file = os.path.join(test_path, str(df_mode.loc[i, 'unique_id']) + \".txt\")\n",
    "        if not os.path.exists(file):\n",
    "            print(f\"❌ File not found: {file}\")\n",
    "            continue\n",
    "\n",
    "        df_data = pd.read_csv(file, sep=' ', names=['Ax', 'Ay', 'Az', 'Gx', 'Gy', 'Gz'])\n",
    "        cut_points = parse_cut_point_string(df_mode.loc[i, 'cut_point'])\n",
    "        cut_points = check_cut_point(cut_points)  # ✅ 你原本有這個函數，這裡假設存在\n",
    "\n",
    "        df_row_data = df_mode.loc[[i], ['unique_id', 'mode']].reset_index(drop=True)\n",
    "\n",
    "        try:\n",
    "            for idx in range(len(cut_points) - 1):\n",
    "                start_idx = cut_points[idx]\n",
    "                end_idx = cut_points[idx + 1]\n",
    "                segment = df_data.iloc[start_idx:end_idx, :]\n",
    "\n",
    "\n",
    "                df_fea = tsfel.time_series_features_extractor(cfg_file, segment, fs=fs, verbose=0)\n",
    "                df_fea['interval'] = end_idx - start_idx\n",
    "                df_fea['cut_point_start'] = start_idx\n",
    "                df_fea['cut_point_end'] = end_idx\n",
    "\n",
    "                # 加入中繼資料\n",
    "                df_fea = pd.concat([df_fea, df_row_data], axis=1)\n",
    "\n",
    "                try:\n",
    "                    df_tsfel = pd.concat([df_tsfel, df_fea], ignore_index=True)\n",
    "                except:\n",
    "                    df_tsfel = df_fea.copy()\n",
    "        except Exception as e:\n",
    "            print(f\"❗ Error in mode {mode}, file: {file}\")\n",
    "            print(e)\n",
    "    \n",
    "    output_path = os.path.join(output_folder, f\"df_tsfel_test_mode{mode}.csv\")\n",
    "    df_tsfel.to_csv(output_path, index=False)\n",
    "    print(f\"✅ mode{mode} 已儲存至：{output_path}\")\n",
    "\n",
    "\n",
    "end_time = time.time()\n",
    "print(\"總執行時間：\", round((end_time - start_time) / 60, 2), \"分鐘\")\n"
   ]
  }
 ],
 "metadata": {
  "kernelspec": {
   "display_name": "Python 3",
   "language": "python",
   "name": "python3"
  },
  "language_info": {
   "codemirror_mode": {
    "name": "ipython",
    "version": 3
   },
   "file_extension": ".py",
   "mimetype": "text/x-python",
   "name": "python",
   "nbconvert_exporter": "python",
   "pygments_lexer": "ipython3",
   "version": "3.8.20"
  }
 },
 "nbformat": 4,
 "nbformat_minor": 5
}
